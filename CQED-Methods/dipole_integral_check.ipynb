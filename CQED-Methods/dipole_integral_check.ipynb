{
 "cells": [
  {
   "cell_type": "code",
   "execution_count": 1,
   "metadata": {},
   "outputs": [],
   "source": [
    "from __future__ import print_function\n",
    "\"\"\"\n",
    "Tutorial: A reference implementation of non-hermitian cavity quantum electrodynamics \n",
    "configuration interactions singles.\n",
    "\"\"\"\n",
    "\n",
    "__authors__   = [\"Jon McTague\", \"Jonathan Foley\"]\n",
    "__credits__   = [\"Jon McTague\", \"Jonathan Foley\"]\n",
    "\n",
    "__copyright_amp__ = \"(c) 2014-2018, The Psi4NumPy Developers\"\n",
    "__license__   = \"BSD-3-Clause\"\n",
    "__date__      = \"2021-01-15\""
   ]
  },
  {
   "cell_type": "markdown",
   "metadata": {},
   "source": [
    "$\\langle \\mu \\rangle$ represents the dipole expectation value computed at the Hartree-Fock level.\n",
    "The dipole operator has the form (in first quantization):\n",
    "$$ \\hat{\\mu} = \\sum_{i}^{N_e} \\mu(x_i) + \\sum_{A}^{N_N} \\mu_{nuc}(x_A) $$\n",
    "where $\\mu(x_i)$ depends on electronic coordinates and $\\mu_{nuc}(x_A)$ depends on nuclear coordinates.\n",
    "\n",
    "We will check to make sure we can compute the RHF dipole expectation\n",
    "value using the dipole integrals below."
   ]
  },
  {
   "cell_type": "code",
   "execution_count": 2,
   "metadata": {},
   "outputs": [],
   "source": [
    "# ==> Import Psi4, NumPy, & SciPy <==\n",
    "import psi4\n",
    "import numpy as np\n",
    "import scipy.linalg as la\n",
    "\n",
    "# ==> Set Basic Psi4 Options <==\n",
    "\n",
    "# Memory specifications\n",
    "psi4.set_memory(int(2e9))\n",
    "numpy_memory = 2\n",
    "\n",
    "# Output options\n",
    "psi4.core.set_output_file('output.dat', False)"
   ]
  },
  {
   "cell_type": "markdown",
   "metadata": {},
   "source": [
    "Define the molecule!"
   ]
  },
  {
   "cell_type": "code",
   "execution_count": 3,
   "metadata": {},
   "outputs": [],
   "source": [
    "mol = psi4.geometry(\"\"\"\n",
    "0 1\n",
    "O\n",
    "H 1 1.1\n",
    "H 1 1.1 2 104\n",
    "symmetry c1\n",
    "\"\"\")\n",
    "\n",
    "psi4.set_options({'basis':        'sto-3g',\n",
    "                  'scf_type':     'pk',\n",
    "                  'reference':    'rhf',\n",
    "                  'mp2_type':     'conv',\n",
    "                  'save_jk': True,\n",
    "                  'e_convergence': 1e-8,\n",
    "                  'd_convergence': 1e-8})"
   ]
  },
  {
   "cell_type": "markdown",
   "metadata": {},
   "source": [
    "We use Psi4 to compute the RHF energy and wavefunction and store them in variables `scf_e` and `scf_wfn`. We also check the memory requirements for computation:"
   ]
  },
  {
   "cell_type": "code",
   "execution_count": 13,
   "metadata": {},
   "outputs": [
    {
     "name": "stdout",
     "output_type": "stream",
     "text": [
      "None\n"
     ]
    }
   ],
   "source": [
    "# Get the SCF wavefunction & energies\n",
    "scf_e, wfn = psi4.energy('scf', return_wfn=True)\n",
    "\n",
    "# ==> Nuclear Repulsion Energy <==\n",
    "E_nuc = mol.nuclear_repulsion_energy()\n",
    "nmo = wfn.nmo()\n",
    "\n",
    "#E, wfn = energy('hf', return_wfn=True)\n",
    "props = psi4.oeprop(wfn, 'DIPOLE', 'QUADRUPOLE')\n",
    "print(props)"
   ]
  },
  {
   "cell_type": "code",
   "execution_count": 14,
   "metadata": {},
   "outputs": [
    {
     "ename": "NameError",
     "evalue": "name 'prop' is not defined",
     "output_type": "error",
     "traceback": [
      "\u001b[0;31m---------------------------------------------------------------------------\u001b[0m",
      "\u001b[0;31mNameError\u001b[0m                                 Traceback (most recent call last)",
      "\u001b[0;32m<ipython-input-14-0be0229affa5>\u001b[0m in \u001b[0;36m<module>\u001b[0;34m\u001b[0m\n\u001b[0;32m----> 1\u001b[0;31m \u001b[0mE\u001b[0m\u001b[0;34m,\u001b[0m \u001b[0mwfn\u001b[0m \u001b[0;34m=\u001b[0m \u001b[0mprop\u001b[0m\u001b[0;34m(\u001b[0m\u001b[0;34m'scf'\u001b[0m\u001b[0;34m,\u001b[0m \u001b[0mproperties\u001b[0m\u001b[0;34m=\u001b[0m\u001b[0;34m[\u001b[0m\u001b[0;34m\"GRID_ESP\"\u001b[0m\u001b[0;34m,\u001b[0m \u001b[0;34m\"GRID_FIELD\"\u001b[0m\u001b[0;34m]\u001b[0m\u001b[0;34m,\u001b[0m \u001b[0mreturn_wfn\u001b[0m\u001b[0;34m=\u001b[0m\u001b[0;32mTrue\u001b[0m\u001b[0;34m)\u001b[0m\u001b[0;34m\u001b[0m\u001b[0;34m\u001b[0m\u001b[0m\n\u001b[0m\u001b[1;32m      2\u001b[0m \u001b[0mVvals\u001b[0m \u001b[0;34m=\u001b[0m \u001b[0mwfn\u001b[0m\u001b[0;34m.\u001b[0m\u001b[0moeprop\u001b[0m\u001b[0;34m.\u001b[0m\u001b[0mVvals\u001b[0m\u001b[0;34m(\u001b[0m\u001b[0;34m)\u001b[0m\u001b[0;34m\u001b[0m\u001b[0;34m\u001b[0m\u001b[0m\n\u001b[1;32m      3\u001b[0m \u001b[0mExvals\u001b[0m \u001b[0;34m=\u001b[0m \u001b[0mwfn\u001b[0m\u001b[0;34m.\u001b[0m\u001b[0moeprop\u001b[0m\u001b[0;34m.\u001b[0m\u001b[0mExvals\u001b[0m\u001b[0;34m(\u001b[0m\u001b[0;34m)\u001b[0m\u001b[0;34m\u001b[0m\u001b[0;34m\u001b[0m\u001b[0m\n\u001b[1;32m      4\u001b[0m \u001b[0mEyvals\u001b[0m \u001b[0;34m=\u001b[0m \u001b[0mwfn\u001b[0m\u001b[0;34m.\u001b[0m\u001b[0moeprop\u001b[0m\u001b[0;34m.\u001b[0m\u001b[0mEyvals\u001b[0m\u001b[0;34m(\u001b[0m\u001b[0;34m)\u001b[0m\u001b[0;34m\u001b[0m\u001b[0;34m\u001b[0m\u001b[0m\n\u001b[1;32m      5\u001b[0m \u001b[0mEzvals\u001b[0m \u001b[0;34m=\u001b[0m \u001b[0mwfn\u001b[0m\u001b[0;34m.\u001b[0m\u001b[0moeprop\u001b[0m\u001b[0;34m.\u001b[0m\u001b[0mEzvals\u001b[0m\u001b[0;34m(\u001b[0m\u001b[0;34m)\u001b[0m\u001b[0;34m\u001b[0m\u001b[0;34m\u001b[0m\u001b[0m\n",
      "\u001b[0;31mNameError\u001b[0m: name 'prop' is not defined"
     ]
    }
   ],
   "source": [
    "E, wfn = prop('scf', properties=[\"GRID_ESP\", \"GRID_FIELD\"], return_wfn=True)\n",
    "Vvals = wfn.oeprop.Vvals()\n",
    "Exvals = wfn.oeprop.Exvals()\n",
    "Eyvals = wfn.oeprop.Eyvals()\n",
    "Ezvals = wfn.oeprop.Ezvals()"
   ]
  },
  {
   "cell_type": "markdown",
   "metadata": {},
   "source": [
    "We first obtain orbital information from our wavefunction. We also create an instance of MintsHelper to help build our molecular integrals:"
   ]
  },
  {
   "cell_type": "code",
   "execution_count": 5,
   "metadata": {},
   "outputs": [],
   "source": [
    "# Create instance of MintsHelper class\n",
    "mints = psi4.core.MintsHelper(wfn.basisset())\n",
    "\n",
    "# Grab data from wavfunction\n",
    "\n",
    "# number of doubly occupied orbitals\n",
    "ndocc   = wfn.nalpha()\n",
    "\n",
    "# total number of orbitals\n",
    "nmo     = wfn.nmo()\n",
    "\n",
    "# number of virtual orbitals\n",
    "nvirt   = nmo - ndocc\n",
    "\n",
    "# orbital energies\n",
    "eps     = np.asarray(wfn.epsilon_a())\n",
    "\n",
    "# occupied orbitals:\n",
    "Co = wfn.Ca_subset(\"AO\", \"OCC\")\n",
    "\n",
    "# virtual orbitals:\n",
    "Cv = wfn.Ca_subset(\"AO\", \"VIR\")\n",
    "\n",
    "# grab all transformation vectors and store to a numpy array!\n",
    "C = np.asarray(wfn.Ca())"
   ]
  },
  {
   "cell_type": "markdown",
   "metadata": {},
   "source": [
    "We can transform the dipole integrals from the AO to the MO basis in the following way:\n",
    "\\begin{equation}\n",
    "{\\bf \\mu}^{\\xi} = {\\bf C}^T {\\bf \\mu}^{\\xi}_{ao} {\\bf C},\n",
    "\\end{equation}\n",
    "where ${\\bf \\mu}^{\\xi}_{ao}$ represents the $\\xi$ component of the dipole integrals in the AO basis and ${\\bf C}$\n",
    "represents the matrix of transformation vectors that go from AOs to MOs.  Note here \n",
    "$\\xi$ can be $x$, $y$, or $z$.  At first pass, we will consider only the $z$ component, which means that \n",
    "the molecule will only couple to photons polarized along the $z$ axis."
   ]
  },
  {
   "cell_type": "code",
   "execution_count": 6,
   "metadata": {},
   "outputs": [],
   "source": [
    "# ==> array of dipole integrals <==\n",
    "# start by assuming photon polarized along z so only\n",
    "# need z-component of molecular dipole integrals!\n",
    "mu_ao_z = np.asarray(mints.ao_dipole()[2])\n",
    "\n",
    "# transform to the MO basis\n",
    "mu_z = np.dot(C.T, mu_ao_z).dot(C)\n",
    "\n",
    "### if you want to see the arrays, uncomment here!\n",
    "#print(\"z-component of the AO dipole matrix\")\n",
    "#print(mu_ao_z)\n",
    "#print(\"z-component of the MO dipole matrix\")\n",
    "#print(mu_z)\n",
    "#print(len(mu_z))\n",
    "\n"
   ]
  },
  {
   "cell_type": "code",
   "execution_count": 7,
   "metadata": {},
   "outputs": [
    {
     "name": "stderr",
     "output_type": "stream",
     "text": [
      "<ipython-input-7-bb9be6127903>:4: FutureWarning: Using scalar QCVariable `SCF DIPOLE Z` [D] instead of array `SCF DIPOLE` [e a0] is deprecated, and in 1.5 it will stop working\n",
      "\n",
      "  muz_psi4_debye = psi4.core.variable('SCF DIPOLE Z')\n"
     ]
    },
    {
     "ename": "KeyError",
     "evalue": "'psi4.core.variable: Requested variable SCF QUADRUPOLE Z was not set!\\n'",
     "output_type": "error",
     "traceback": [
      "\u001b[0;31m---------------------------------------------------------------------------\u001b[0m",
      "\u001b[0;31mKeyError\u001b[0m                                  Traceback (most recent call last)",
      "\u001b[0;32m<ipython-input-7-bb9be6127903>\u001b[0m in \u001b[0;36m<module>\u001b[0;34m\u001b[0m\n\u001b[1;32m      3\u001b[0m \u001b[0;31m# au to match those computed from dipole integrals\u001b[0m\u001b[0;34m\u001b[0m\u001b[0;34m\u001b[0m\u001b[0;34m\u001b[0m\u001b[0m\n\u001b[1;32m      4\u001b[0m \u001b[0mmuz_psi4_debye\u001b[0m \u001b[0;34m=\u001b[0m \u001b[0mpsi4\u001b[0m\u001b[0;34m.\u001b[0m\u001b[0mcore\u001b[0m\u001b[0;34m.\u001b[0m\u001b[0mvariable\u001b[0m\u001b[0;34m(\u001b[0m\u001b[0;34m'SCF DIPOLE Z'\u001b[0m\u001b[0;34m)\u001b[0m\u001b[0;34m\u001b[0m\u001b[0;34m\u001b[0m\u001b[0m\n\u001b[0;32m----> 5\u001b[0;31m \u001b[0mqz_psi4_debye\u001b[0m \u001b[0;34m=\u001b[0m \u001b[0mpsi4\u001b[0m\u001b[0;34m.\u001b[0m\u001b[0mcore\u001b[0m\u001b[0;34m.\u001b[0m\u001b[0mvariable\u001b[0m\u001b[0;34m(\u001b[0m\u001b[0;34m'SCF QUADRUPOLE Z'\u001b[0m\u001b[0;34m)\u001b[0m\u001b[0;34m\u001b[0m\u001b[0;34m\u001b[0m\u001b[0m\n\u001b[0m\u001b[1;32m      6\u001b[0m \u001b[0mmuz_psi4_au\u001b[0m \u001b[0;34m=\u001b[0m \u001b[0mmuz_psi4_debye\u001b[0m\u001b[0;34m/\u001b[0m\u001b[0;36m2.54174623\u001b[0m\u001b[0;34m\u001b[0m\u001b[0;34m\u001b[0m\u001b[0m\n\u001b[1;32m      7\u001b[0m \u001b[0;34m\u001b[0m\u001b[0m\n",
      "\u001b[0;32m/opt/anaconda3/lib/python3.8/site-packages/psi4/driver/p4util/python_helpers.py\u001b[0m in \u001b[0;36m_core_variable\u001b[0;34m(key)\u001b[0m\n\u001b[1;32m    854\u001b[0m         \u001b[0;32mreturn\u001b[0m \u001b[0m_qcvar_reshape_get\u001b[0m\u001b[0;34m(\u001b[0m\u001b[0mkey\u001b[0m\u001b[0;34m,\u001b[0m \u001b[0mcore\u001b[0m\u001b[0;34m.\u001b[0m\u001b[0marray_variable\u001b[0m\u001b[0;34m(\u001b[0m\u001b[0mkey\u001b[0m\u001b[0;34m)\u001b[0m\u001b[0;34m)\u001b[0m\u001b[0;34m\u001b[0m\u001b[0;34m\u001b[0m\u001b[0m\n\u001b[1;32m    855\u001b[0m     \u001b[0;32melse\u001b[0m\u001b[0;34m:\u001b[0m\u001b[0;34m\u001b[0m\u001b[0;34m\u001b[0m\u001b[0m\n\u001b[0;32m--> 856\u001b[0;31m         \u001b[0;32mraise\u001b[0m \u001b[0mKeyError\u001b[0m\u001b[0;34m(\u001b[0m\u001b[0;34m\"psi4.core.variable: Requested variable \"\u001b[0m \u001b[0;34m+\u001b[0m \u001b[0mkey\u001b[0m \u001b[0;34m+\u001b[0m \u001b[0;34m\" was not set!\\n\"\u001b[0m\u001b[0;34m)\u001b[0m\u001b[0;34m\u001b[0m\u001b[0;34m\u001b[0m\u001b[0m\n\u001b[0m\u001b[1;32m    857\u001b[0m \u001b[0;34m\u001b[0m\u001b[0m\n\u001b[1;32m    858\u001b[0m \u001b[0;34m\u001b[0m\u001b[0m\n",
      "\u001b[0;31mKeyError\u001b[0m: 'psi4.core.variable: Requested variable SCF QUADRUPOLE Z was not set!\\n'"
     ]
    }
   ],
   "source": [
    "# Get the z-component of the RHF dipole moment from psi4.\n",
    "# this will be in debye, and we will want to convert it into\n",
    "# au to match those computed from dipole integrals\n",
    "muz_psi4_debye = psi4.core.variable('SCF DIPOLE Z')\n",
    "qz_psi4_debye = psi4.core.variable('SCF QUADRUPOLE Z')\n",
    "muz_psi4_au = muz_psi4_debye/2.54174623\n",
    "\n",
    "# Get the nuclear dipole moment from psi4\n",
    "nuc_dipole = mol.nuclear_dipole()\n",
    "\n",
    "# now try to compute the dipole expectation value from the \n",
    "# dipole integrals\n",
    "ed_z = 0.\n",
    "for i in range(0, ndocc):\n",
    "    ed_z += mu_z[i,i]\n",
    "\n",
    "muz_computed = 2 * ed_z + nuc_dipole[2]    \n",
    "print(\"Computed from integrals:\",muz_computed)\n",
    "print(\"Psi4:                   \",muz_psi4_au)\n",
    "print(\"These dipole moments are close:\",np.isclose(muz_computed,muz_psi4_au))\n",
    "\n"
   ]
  },
  {
   "cell_type": "code",
   "execution_count": null,
   "metadata": {},
   "outputs": [],
   "source": []
  }
 ],
 "metadata": {
  "kernelspec": {
   "display_name": "Python 3",
   "language": "python",
   "name": "python3"
  },
  "language_info": {
   "codemirror_mode": {
    "name": "ipython",
    "version": 3
   },
   "file_extension": ".py",
   "mimetype": "text/x-python",
   "name": "python",
   "nbconvert_exporter": "python",
   "pygments_lexer": "ipython3",
   "version": "3.8.5"
  }
 },
 "nbformat": 4,
 "nbformat_minor": 2
}
