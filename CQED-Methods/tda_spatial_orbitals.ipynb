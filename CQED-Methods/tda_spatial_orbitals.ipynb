{
 "cells": [
  {
   "cell_type": "markdown",
   "metadata": {},
   "source": [
    "### Configuration Interaction Singles \n",
    "This tutorial is adapted from Prof. A. E. DePrince's CIS programming project [here](https://www.chem.fsu.edu/~deprince/programming_projects/cis/)\n",
    "\n",
    "Note: we use atomic units throughout this tutorial.\n",
    "\n",
    "At the Hartree-Fock level of theory, the N-electron wave function is approximated as an antisymmetrized product of N one-electron functions called molecular orbitals (MOs) (a Slater determinant). The simplest representation of an excited-state wave function would be a single Slater determinant comprised of a different set of molecular orbitals, but we can obtain a slightly better description of the excited state by expressing it as a linear combination of Slater determinants that differ by the ground-state configuration by one electron. What we are describing here is a configuration interaction with single excitations (CIS) wave function; the CIS wave function for the $n^{th}$ excited state can be expressed as\n",
    "\\begin{equation}\n",
    "|\\Psi_n\\rangle = \\sum_{ia} c_{i,a}^n |\\phi_i^a\\rangle,\n",
    "\\end{equation}\n",
    "where $|\\phi_i^a\\rangle$ represents a Slater determinant that is singly esxcited relative to the Hartree-Fock reference determinant, and the indices $i$ and $a$ denote spin orbitals that are occupied and unoccoupied in the Hartree-Fock reference, respectively.  We can apply the Hamiltonian operator to this CIS wavefunction and project it onto a particular singly-excited determinant as follows:\n",
    "\\begin{equation}\n",
    "\\sum_{ia} \\langle \\phi_j^b | \\hat{H} |\\phi_i^a \\rangle c_{i,a}^n = E_n c_{i,a}^n.\n",
    "\\end{equation}\n",
    "We can form similar epressions for each excited state of the system, leading to an eigenvalue problem of the form:\n",
    "\\begin{equation}\n",
    "{\\bf H} {\\bf c}_n = E_n {\\bf c}_n,\n",
    "\\end{equation}\n",
    "where the elements of the Hamitonian matrix elements have the form\n",
    "\\begin{equation}\n",
    "H_{ia,jb} = \\left( \\epsilon_a - \\epsilon_j \\right) \\delta_{ij} \\delta_{ab} + \\langle aj || ib \\rangle,\n",
    "\\end{equation}\n",
    "where $\\epsilon_a$ represents the energy of Hartree-Fock orbital $a$, and $\\langle aj || ib \\rangle$ denotes the antisymmetrized 2-electron integral in physicist notation:\n",
    "\\begin{equation}\n",
    "\\langle aj || ib \\rangle = \\int d1 \\: d2 \\: \\phi_a^*(1) \\phi_j^*(2) \\frac{1}{r_{12}} \\phi_i(1) \\phi_b(2)\n",
    "- \\int d1 \\: d2 \\: \\phi_a^*(1) \\phi_j^*(2) \\frac{1}{r_{12}} \\phi_b(1) \\phi_i(2).\n",
    "\\end{equation}\n",
    "Diagonalization of this Hamiltonian yields both singlet and triplet excited-states, but the excited determinants can be spin adapted as singlets as follows:\n",
    "\\begin{equation}\n",
    "|\\phi_i^a\\rangle = \\frac{1}{\\sqrt{2}} \\left(|\\phi_{i \\alpha}^{a \\alpha} \\rangle +  |\\phi_{i \\beta}^{a \\beta} \\rangle\\right),\n",
    "\\end{equation}\n",
    "which yields the following matrix elements for the spin-adapated Hamiltonian:\n",
    "\\begin{equation}\n",
    "H_{ia,jb} = \\left( \\epsilon_a - \\epsilon_j \\right) \\delta_{ij} \\delta_{ab} + 2 \\langle aj | ib \\rangle - \\langle aj | bi \\rangle.\n",
    "\\end{equation}\n",
    "In chemist's notation, these elements are \n",
    "\\begin{equation}\n",
    "H_{ia,jb} = \\left( \\epsilon_a - \\epsilon_j \\right) \\delta_{ij} \\delta_{ab} + 2 \\left( ia | jb \\right) - \\left( ij |ab \\right),\n",
    "\\end{equation}\n",
    "where\n",
    "\\begin{equation}\n",
    "\\left( ia | jb \\right) = \\int d1 \\: d2 \\: \\phi_i^*(1) \\phi_a(1) \\frac{1}{r_{12}} \\phi_j^*(2) \\phi_i(2).\n",
    "\\end{equation}\n",
    "\n",
    "We will implement CIS in the spin-adapted basis below and compare to the results directly computed by `psi4`."
   ]
  },
  {
   "cell_type": "code",
   "execution_count": 1,
   "metadata": {},
   "outputs": [],
   "source": [
    "import psi4\n",
    "import numpy as np\n",
    "from psi4.driver.procrouting.response.scf_response import tdscf_excitations"
   ]
  },
  {
   "cell_type": "markdown",
   "metadata": {},
   "source": [
    "Setup molecule and options in `psi4`"
   ]
  },
  {
   "cell_type": "code",
   "execution_count": 2,
   "metadata": {},
   "outputs": [],
   "source": [
    "mol = psi4.geometry(\"\"\"\n",
    "0 1\n",
    "O\n",
    "H 1 1.0\n",
    "H 1 1.0 2 104.5\n",
    "symmetry c1\n",
    "\"\"\")\n",
    "\n",
    "psi4.set_options({'basis':        'sto-3g',\n",
    "                  'scf_type':     'pk',\n",
    "                  'reference':    'rhf',\n",
    "                  'mp2_type':     'conv',\n",
    "                  'save_jk': True,\n",
    "                  'e_convergence': 1e-8,\n",
    "                  'd_convergence': 1e-8})"
   ]
  },
  {
   "cell_type": "markdown",
   "metadata": {},
   "source": [
    "Run `psi4` and save wavefunction for further analysis.  Also run the method `tdscf_excitations` \n",
    "with `tda=True` to get the CIS excitation energies from `psi4` itself.  "
   ]
  },
  {
   "cell_type": "code",
   "execution_count": 8,
   "metadata": {},
   "outputs": [
    {
     "name": "stdout",
     "output_type": "stream",
     "text": [
      "right vecs\n",
      "[[-4.21046856e-17  7.85878059e-19]\n",
      " [-7.95461193e-17  7.59917550e-18]\n",
      " [-4.08261785e-16 -7.75165351e-18]\n",
      " [-1.39828646e-17  7.22209064e-17]\n",
      " [ 1.00000000e+00  9.91208675e-15]]\n",
      "left vecs\n",
      "[[-4.21046856e-17  7.85878059e-19]\n",
      " [-7.95461193e-17  7.59917550e-18]\n",
      " [-4.08261785e-16 -7.75165351e-18]\n",
      " [-1.39828646e-17  7.22209064e-17]\n",
      " [ 1.00000000e+00  9.91208675e-15]]\n",
      "dipole\n",
      "[[ 0.00000000e+00  0.00000000e+00  0.00000000e+00 -5.07919296e-02\n",
      "   0.00000000e+00  0.00000000e+00  0.00000000e+00]\n",
      " [ 0.00000000e+00  0.00000000e+00  0.00000000e+00 -6.41172844e-01\n",
      "   0.00000000e+00  0.00000000e+00  0.00000000e+00]\n",
      " [ 0.00000000e+00  0.00000000e+00  0.00000000e+00  9.08620836e-18\n",
      "   0.00000000e+00  0.00000000e+00  0.00000000e+00]\n",
      " [-5.07919296e-02 -6.41172844e-01  9.08620836e-18  0.00000000e+00\n",
      "   0.00000000e+00 -2.87550614e-01 -2.87550614e-01]\n",
      " [ 0.00000000e+00  0.00000000e+00  0.00000000e+00  0.00000000e+00\n",
      "   0.00000000e+00  0.00000000e+00  0.00000000e+00]\n",
      " [ 0.00000000e+00  0.00000000e+00  0.00000000e+00 -2.87550614e-01\n",
      "   0.00000000e+00  0.00000000e+00  0.00000000e+00]\n",
      " [ 0.00000000e+00  0.00000000e+00  0.00000000e+00 -2.87550614e-01\n",
      "   0.00000000e+00  0.00000000e+00  0.00000000e+00]]\n",
      "right vecs\n",
      "[[-1.98880227e-16  3.91731413e-17]\n",
      " [ 5.81555809e-15  1.10600941e-16]\n",
      " [ 5.99052189e-17  2.13147013e-14]\n",
      " [ 8.66629396e-14 -5.12298389e-16]\n",
      " [ 9.91208675e-15 -1.00000000e+00]]\n",
      "left vecs\n",
      "[[-1.98880227e-16  3.91731413e-17]\n",
      " [ 5.81555809e-15  1.10600941e-16]\n",
      " [ 5.99052189e-17  2.13147013e-14]\n",
      " [ 8.66629396e-14 -5.12298389e-16]\n",
      " [ 9.91208675e-15 -1.00000000e+00]]\n",
      "dipole\n",
      "[[ 0.00000000e+00  0.00000000e+00  0.00000000e+00 -5.07919296e-02\n",
      "   0.00000000e+00  0.00000000e+00  0.00000000e+00]\n",
      " [ 0.00000000e+00  0.00000000e+00  0.00000000e+00 -6.41172844e-01\n",
      "   0.00000000e+00  0.00000000e+00  0.00000000e+00]\n",
      " [ 0.00000000e+00  0.00000000e+00  0.00000000e+00  9.08620836e-18\n",
      "   0.00000000e+00  0.00000000e+00  0.00000000e+00]\n",
      " [-5.07919296e-02 -6.41172844e-01  9.08620836e-18  0.00000000e+00\n",
      "   0.00000000e+00 -2.87550614e-01 -2.87550614e-01]\n",
      " [ 0.00000000e+00  0.00000000e+00  0.00000000e+00  0.00000000e+00\n",
      "   0.00000000e+00  0.00000000e+00  0.00000000e+00]\n",
      " [ 0.00000000e+00  0.00000000e+00  0.00000000e+00 -2.87550614e-01\n",
      "   0.00000000e+00  0.00000000e+00  0.00000000e+00]\n",
      " [ 0.00000000e+00  0.00000000e+00  0.00000000e+00 -2.87550614e-01\n",
      "   0.00000000e+00  0.00000000e+00  0.00000000e+00]]\n",
      "right vecs\n",
      "[[-3.76332510e-04 -4.83257681e-17]\n",
      " [-6.34992808e-02  7.61887973e-17]\n",
      " [ 1.91864262e-15 -2.56482985e-01]\n",
      " [-9.64460563e-01 -7.86177682e-15]\n",
      " [-2.05410554e-17 -8.97042201e-14]]\n",
      "left vecs\n",
      "[[-3.76332510e-04 -4.83257681e-17]\n",
      " [-6.34992808e-02  7.61887973e-17]\n",
      " [ 1.91864262e-15 -2.56482985e-01]\n",
      " [-9.64460563e-01 -7.86177682e-15]\n",
      " [-2.05410554e-17 -8.97042201e-14]]\n",
      "dipole\n",
      "[[ 0.00000000e+00  0.00000000e+00  0.00000000e+00 -5.07919296e-02\n",
      "   0.00000000e+00  0.00000000e+00  0.00000000e+00]\n",
      " [ 0.00000000e+00  0.00000000e+00  0.00000000e+00 -6.41172844e-01\n",
      "   0.00000000e+00  0.00000000e+00  0.00000000e+00]\n",
      " [ 0.00000000e+00  0.00000000e+00  0.00000000e+00  9.08620836e-18\n",
      "   0.00000000e+00  0.00000000e+00  0.00000000e+00]\n",
      " [-5.07919296e-02 -6.41172844e-01  9.08620836e-18  0.00000000e+00\n",
      "   0.00000000e+00 -2.87550614e-01 -2.87550614e-01]\n",
      " [ 0.00000000e+00  0.00000000e+00  0.00000000e+00  0.00000000e+00\n",
      "   0.00000000e+00  0.00000000e+00  0.00000000e+00]\n",
      " [ 0.00000000e+00  0.00000000e+00  0.00000000e+00 -2.87550614e-01\n",
      "   0.00000000e+00  0.00000000e+00  0.00000000e+00]\n",
      " [ 0.00000000e+00  0.00000000e+00  0.00000000e+00 -2.87550614e-01\n",
      "   0.00000000e+00  0.00000000e+00  0.00000000e+00]]\n",
      "right vecs\n",
      "[[ 1.51567194e-16  1.22100292e-03]\n",
      " [ 6.07739155e-16 -5.29242482e-02]\n",
      " [ 4.62507001e-01 -7.15277469e-15]\n",
      " [-4.74277122e-15  8.85033789e-01]\n",
      " [ 1.25307213e-16 -5.50988717e-16]]\n",
      "left vecs\n",
      "[[ 1.51567194e-16  1.22100292e-03]\n",
      " [ 6.07739155e-16 -5.29242482e-02]\n",
      " [ 4.62507001e-01 -7.15277469e-15]\n",
      " [-4.74277122e-15  8.85033789e-01]\n",
      " [ 1.25307213e-16 -5.50988717e-16]]\n",
      "dipole\n",
      "[[ 0.00000000e+00  0.00000000e+00  0.00000000e+00 -5.07919296e-02\n",
      "   0.00000000e+00  0.00000000e+00  0.00000000e+00]\n",
      " [ 0.00000000e+00  0.00000000e+00  0.00000000e+00 -6.41172844e-01\n",
      "   0.00000000e+00  0.00000000e+00  0.00000000e+00]\n",
      " [ 0.00000000e+00  0.00000000e+00  0.00000000e+00  9.08620836e-18\n",
      "   0.00000000e+00  0.00000000e+00  0.00000000e+00]\n",
      " [-5.07919296e-02 -6.41172844e-01  9.08620836e-18  0.00000000e+00\n",
      "   0.00000000e+00 -2.87550614e-01 -2.87550614e-01]\n",
      " [ 0.00000000e+00  0.00000000e+00  0.00000000e+00  0.00000000e+00\n",
      "   0.00000000e+00  0.00000000e+00  0.00000000e+00]\n",
      " [ 0.00000000e+00  0.00000000e+00  0.00000000e+00 -2.87550614e-01\n",
      "   0.00000000e+00  0.00000000e+00  0.00000000e+00]\n",
      " [ 0.00000000e+00  0.00000000e+00  0.00000000e+00 -2.87550614e-01\n",
      "   0.00000000e+00  0.00000000e+00  0.00000000e+00]]\n",
      "[{'EXCITATION ENERGY': 0.38947627098264914, 'ELECTRIC DIPOLE TRANSITION MOMENT (LEN)': array([ 9.18459913e-02, -3.12379991e-16,  1.80362792e-16]), 'OSCILLATOR STRENGTH (LEN)': 0.002190333049158649, 'ELECTRIC DIPOLE TRANSITION MOMENT (VEL)': array([ 1.26887303e-01,  2.14527968e-16, -1.55354627e-16]), 'OSCILLATOR STRENGTH (VEL)': 0.027559038949444926, 'MAGNETIC DIPOLE TRANSITION MOMENT': array([ 9.02419252e-17, -2.72198592e-01, -4.90224472e-15]), 'ROTATORY STRENGTH (LEN)': 9.33177530808995e-17, 'ROTATORY STRENGTH (VEL)': 1.2053020952789327e-16, 'SYMMETRY': 'A', 'SPIN': 'singlet', 'RIGHT EIGENVECTOR ALPHA': <psi4.core.Matrix object at 0x7f81c032ae00>, 'LEFT EIGENVECTOR ALPHA': <psi4.core.Matrix object at 0x7f81c032ae00>, 'RIGHT EIGENVECTOR BETA': <psi4.core.Matrix object at 0x7f81c032ae00>, 'LEFT EIGENVECTOR BETA': <psi4.core.Matrix object at 0x7f81c032ae00>}, {'EXCITATION ENERGY': 0.46931084289204994, 'ELECTRIC DIPOLE TRANSITION MOMENT (LEN)': array([ 2.85441530e-16, -3.17682964e-16, -4.43997720e-14]), 'OSCILLATOR STRENGTH (LEN)': 6.168378143919931e-28, 'ELECTRIC DIPOLE TRANSITION MOMENT (VEL)': array([1.40412602e-15, 1.41536237e-16, 2.89758034e-14]), 'OSCILLATOR STRENGTH (VEL)': 1.1954959063113684e-27, 'MAGNETIC DIPOLE TRANSITION MOMENT': array([-3.46122603e-17, -2.87386805e-15,  3.43631621e-01]), 'ROTATORY STRENGTH (LEN)': -1.525716559083194e-14, 'ROTATORY STRENGTH (VEL)': -2.1216220429059596e-14, 'SYMMETRY': 'A', 'SPIN': 'singlet', 'RIGHT EIGENVECTOR ALPHA': <psi4.core.Matrix object at 0x7f81c032a360>, 'LEFT EIGENVECTOR ALPHA': <psi4.core.Matrix object at 0x7f81c032a360>, 'RIGHT EIGENVECTOR BETA': <psi4.core.Matrix object at 0x7f81c032a360>, 'LEFT EIGENVECTOR BETA': <psi4.core.Matrix object at 0x7f81c032a360>}, {'EXCITATION ENERGY': 0.5105262110691808, 'ELECTRIC DIPOLE TRANSITION MOMENT (LEN)': array([ 3.20991424e-17, -2.72301817e-15,  4.69029460e-01]), 'OSCILLATOR STRENGTH (LEN)': 0.07487330916703552, 'ELECTRIC DIPOLE TRANSITION MOMENT (VEL)': array([-4.81445514e-17,  4.64133378e-16, -3.06367495e-01]), 'OSCILLATOR STRENGTH (VEL)': 0.12256770903527932, 'MAGNETIC DIPOLE TRANSITION MOMENT': array([-4.40795546e-15, -4.36634968e-17,  3.07783707e-14]), 'ROTATORY STRENGTH (LEN)': 1.4435962554501157e-14, 'ROTATORY STRENGTH (VEL)': 1.847014339553864e-14, 'SYMMETRY': 'A', 'SPIN': 'singlet', 'RIGHT EIGENVECTOR ALPHA': <psi4.core.Matrix object at 0x7f81c032a7c0>, 'LEFT EIGENVECTOR ALPHA': <psi4.core.Matrix object at 0x7f81c032a7c0>, 'RIGHT EIGENVECTOR BETA': <psi4.core.Matrix object at 0x7f81c032a7c0>, 'LEFT EIGENVECTOR BETA': <psi4.core.Matrix object at 0x7f81c032a7c0>}, {'EXCITATION ENERGY': 0.6166896554504266, 'ELECTRIC DIPOLE TRANSITION MOMENT (LEN)': array([-6.82643697e-17,  3.33550077e-01,  1.03753936e-14]), 'OSCILLATOR STRENGTH (LEN)': 0.04574014048686297, 'ELECTRIC DIPOLE TRANSITION MOMENT (VEL)': array([-5.01855339e-18, -1.39202602e-01, -5.49718312e-15]), 'OSCILLATOR STRENGTH (VEL)': 0.02094772105811295, 'MAGNETIC DIPOLE TRANSITION MOMENT': array([3.60122764e-01, 1.91007585e-16, 1.05672544e-16]), 'ROTATORY STRENGTH (LEN)': 3.912704129463161e-17, 'ROTATORY STRENGTH (VEL)': 4.60459290885175e-17, 'SYMMETRY': 'A', 'SPIN': 'singlet', 'RIGHT EIGENVECTOR ALPHA': <psi4.core.Matrix object at 0x7f81c032ad60>, 'LEFT EIGENVECTOR ALPHA': <psi4.core.Matrix object at 0x7f81c032ad60>, 'RIGHT EIGENVECTOR BETA': <psi4.core.Matrix object at 0x7f81c032ad60>, 'LEFT EIGENVECTOR BETA': <psi4.core.Matrix object at 0x7f81c032ad60>}]\n"
     ]
    }
   ],
   "source": [
    "# compute the Hartree-Fock energy and wavefunction\n",
    "scf_e, wfn = psi4.energy('b3lyp', return_wfn=True)\n",
    "rpa = tdscf_excitations(wfn, states=4, tda=True)\n",
    "print(rpa)\n"
   ]
  },
  {
   "cell_type": "markdown",
   "metadata": {},
   "source": [
    "Get some basic information from the `wfn` object returned by `psi4`:"
   ]
  },
  {
   "cell_type": "code",
   "execution_count": 9,
   "metadata": {},
   "outputs": [],
   "source": [
    "# Grab data from wavfunction\n",
    "\n",
    "# number of doubly occupied orbitals\n",
    "ndocc   = wfn.nalpha()\n",
    "\n",
    "# total number of orbitals\n",
    "nmo     = wfn.nmo()\n",
    "\n",
    "# number of virtual orbitals\n",
    "nvirt   = nmo - ndocc\n",
    "\n",
    "# orbital energies\n",
    "eps     = np.asarray(wfn.epsilon_a())\n",
    "\n",
    "# occupied orbitals:\n",
    "Co = wfn.Ca_subset(\"AO\", \"OCC\")\n",
    "\n",
    "# virtual orbitals:\n",
    "Cv = wfn.Ca_subset(\"AO\", \"VIR\")\n",
    "\n",
    "C_L = wfn.Ca_subset(\"SO\", \"OCC\")\n",
    "C_R = wfn.Ca_subset(\"SO\", \"VIR\")\n"
   ]
  },
  {
   "cell_type": "markdown",
   "metadata": {},
   "source": [
    "Recall we need two types of electron repulsion integrals:\n",
    "$\\left( ia | jb \\right)$ comprise all (occupied-virtual, occupied-virtual) integrals and\n",
    "$\\left( ij | ab \\right)$ comprise all (occupied occupied, virtual virtual) integrals.\n",
    "We will use some of the Mints Helper functions to grab these specific integral blocks below.\n",
    "\n",
    "The MintsHelper class can construct tensors containing these specific classes of orbitals, provided we provide to it the corresponding definitions of the molecular orbitals (given by the `Co` and `Cv` matrices above):"
   ]
  },
  {
   "cell_type": "code",
   "execution_count": 10,
   "metadata": {},
   "outputs": [],
   "source": [
    "# use Psi4's MintsHelper to generate ERIs\n",
    "mints = psi4.core.MintsHelper(wfn.basisset())\n",
    "\n",
    "# build the (ov|ov) integrals:\n",
    "ovov = np.asarray(mints.mo_eri(Co, Cv, Co, Cv))\n",
    "\n",
    "# build the (oo|vv) integrals:\n",
    "oovv = np.asarray(mints.mo_eri(Co, Co, Cv, Cv))"
   ]
  },
  {
   "cell_type": "markdown",
   "metadata": {},
   "source": [
    "We also need the orbital energies which we obtained already using `wfn.epsilon_a()`.  We will now sort them\n",
    "into two different arrays: an array for the occupied orbital energies `eps_o` and an array for the virtual orbital energies `eps_v`."
   ]
  },
  {
   "cell_type": "code",
   "execution_count": 11,
   "metadata": {},
   "outputs": [],
   "source": [
    "# strip out occupied orbital energies, eps_o spans 0..ndocc-1\n",
    "eps_o = eps[:ndocc]\n",
    "\n",
    "# strip out virtual orbital energies, eps_v spans 0..nvirt-1\n",
    "eps_v = eps[ndocc:]\n",
    "### if you want to print these arrays, go ahead and uncomment!\n",
    "#print(oovv)\n",
    "#print(ovov)\n",
    "#print(eps_o)\n",
    "#print(eps_v)"
   ]
  },
  {
   "cell_type": "markdown",
   "metadata": {},
   "source": [
    "We will make an array for the spin-adapted CIS Hamiltonian, which is an $N \\times N$ matrix\n",
    "with $N = n_{occ} \\cdot n_{virt}$."
   ]
  },
  {
   "cell_type": "code",
   "execution_count": 12,
   "metadata": {},
   "outputs": [],
   "source": [
    "Ham = np.zeros((ndocc*nvirt,ndocc*nvirt))"
   ]
  },
  {
   "cell_type": "markdown",
   "metadata": {},
   "source": [
    "Given these tensors, you can access the element $(ij|ab)$ in Python as `oovv[i,j,a,b]`. Here, the indices $i$ and $j$ run from $0$ to $ndocc-1$, and the indices $a$ and $b$ run from $0$ to $nvirt-1$."
   ]
  },
  {
   "cell_type": "code",
   "execution_count": 13,
   "metadata": {},
   "outputs": [],
   "source": [
    "for i in range(0, ndocc):\n",
    "    for a in range(0, nvirt):\n",
    "        ia = i*nvirt + a\n",
    "        for j in range(0, ndocc):\n",
    "            for b in range(0, nvirt):\n",
    "                jb = j*nvirt + b\n",
    "                term1 = eps_v[a] - eps_o[i]\n",
    "                term2 = 2 * ovov[i, a, j, b] - oovv[i,j,a,b]\n",
    "                ### if you want to print all the elements, uncomment below!\n",
    "                #print(ia,jb, eps_v[a], eps_o[i], i, j, a, b, term1, term2)\n",
    "                if (i==j) and (a == b):\n",
    "                    Ham[ia, jb] = term1 + term2\n",
    "                else:\n",
    "                    Ham[ia, jb] = term2\n",
    "\n"
   ]
  },
  {
   "cell_type": "code",
   "execution_count": 63,
   "metadata": {},
   "outputs": [],
   "source": [
    "### uncomment to print the Hamiltonian matrix\n",
    "#print(Ham)"
   ]
  },
  {
   "cell_type": "code",
   "execution_count": 14,
   "metadata": {},
   "outputs": [],
   "source": [
    "# diagonalize Hamiltonian\n",
    "ECIS, CCIS = np.linalg.eig(Ham)"
   ]
  },
  {
   "cell_type": "markdown",
   "metadata": {},
   "source": [
    "Validating Transition Dipole Calculations:\n",
    "\n",
    "From the `psi4` calculations for sto-3g water with $r_{OH} = 1.0$ and $r_{HOH} = 104.5^{\\circ}$, the first 4 excitation energies and transition dipole moments are as follows:\n",
    "\n",
    "| State | Ham Root | Excitation Energy | $\\mu_x$ | $\\mu_y$ | $\\mu_z$ |\n",
    "| :-: | :-: | :-: | :-: | :-: | :-: |\n",
    "| 1   | 9  |    0.442203017  | 1.03986362e-01    |-1.16181470e-16    | -7.06077139e-17 \n",
    "| 2   |  10|      0.510607570  | 2.88048995e-15    |-5.85019003e-15    | 1.48674703e-14 \n",
    "| 3   |  2 |      0.580515287  | 5.65701382e-17    |-6.45693307e-14    | 4.41206645e-01 \n",
    "| 4   |  8 |      0.657427863  | 2.37113999e-17    |3.19146848e-01    | 2.66123640e-14 \n",
    "\n",
    "Note the Ham Root column labels the eigenvalues of the CIS Hamiltonian, so that if the eigenvalues are\n",
    "all stored in `ECIS`, then \n",
    "\n",
    "`ECIS[8] -> 0.442203017`\n",
    "\n",
    "\n"
   ]
  },
  {
   "cell_type": "code",
   "execution_count": 19,
   "metadata": {},
   "outputs": [
    {
     "name": "stdout",
     "output_type": "stream",
     "text": [
      "[ 1.84199395e+01  1.84511742e+01  8.58466706e-01  5.70925853e-01\n",
      "  1.17344795e-01  8.49511958e-01  3.38806754e-01  1.91061180e-01\n",
      " -5.36849321e-02 -8.88253097e-04]\n"
     ]
    }
   ],
   "source": [
    "0.38947627098264914\n",
    "0.46931084289204994\n",
    "print(ECIS)"
   ]
  },
  {
   "cell_type": "markdown",
   "metadata": {},
   "source": [
    "We can compute the transition dipole moments between the ground-state and a given excited state $n$ from\n",
    "the $n^{th}$ eigenvector of the CIS Hamiltonian and from the dipole integrals:\n",
    "\\begin{equation}\n",
    "{\\bf \\mu}_{g\\rightarrow n} = {\\rm Tr}\\left( {\\bf \\mu }^T \\cdot {\\bf c }_n \\right). \n",
    "\\end{equation}\n",
    "Because the elements of the ${\\bf c}_n$ vector only connect single excitations between \n",
    "occupied and virtual orbitals, we only need the dipole integrals between occupied and\n",
    "virtual MOs, ${\\bf \\mu}_{ia}$.  This can be accomplished by successive transformation of the dipole\n",
    "integrals from the AO basis to the MO basis using the occupied block and then the virtual block of the\n",
    "transformation vectors using Psi4's core function `psi4.core.triplet` as follows:\n",
    "\n",
    "`dipole = [psi4.core.triplet(Co, x, Cv, True, False, False) for x in mints.ao_dipole()]`"
   ]
  },
  {
   "cell_type": "code",
   "execution_count": 11,
   "metadata": {},
   "outputs": [
    {
     "name": "stdout",
     "output_type": "stream",
     "text": [
      "mu_x                    mu_y                    mu_z\n",
      "-8.547199589430183e-17 -2.3509567967268225e-14 -0.4412066451505032\n"
     ]
    }
   ],
   "source": [
    "# get the \\mu_ia integrals by successive transformation using the occupied and virtual tranformation vectors\n",
    "dipole = [psi4.core.triplet(Co, x, Cv, True, False, False) for x in mints.so_dipole()]\n",
    "\n",
    "### if you want to print the x-, y-, and z- components \n",
    "### of the \\mu_ia integrals, un-comment the following lines!\n",
    "# x-component of \\mu_ia\n",
    "#print(dipole[0].np) \n",
    "# y-component of \\mu_ia\n",
    "#print(dipole[1].np)\n",
    "# z-component of \\mu_ia\n",
    "#print(dipole[2].np)\n",
    "\n",
    "# define np array versions of the dipole integrals, one array for each component\n",
    "mu_x = dipole[0].np\n",
    "mu_y = dipole[1].np\n",
    "mu_z = dipole[2].np\n",
    "\n",
    "# select the CIS root you wich to compute the transition dipole moments for\n",
    "state = 1\n",
    "\n",
    "# re-shape the CIS eigenvector so that the rows ascend through the accupied indices and\n",
    "# the columns ascend through the virtual indices... e.g. if there are 2 occupied and 2 virtual orbitals,\n",
    "# the re-shaped CIS vector will look as follows\n",
    "#\n",
    "# R =  | c_1^3   c_1^4 |\n",
    "#      | c_2^3   c_2^4 |\n",
    "#    \n",
    "\n",
    "\n",
    "R = np.reshape(CCIS[:,state],(ndocc,nvirt))\n",
    "### if you want to view R, uncomment below!\n",
    "#print(R)\n",
    "\n",
    "\n",
    "edtm_x = np.sqrt(2) * np.trace(np.dot(mu_x.T, R))\n",
    "edtm_y = np.sqrt(2) * np.trace(np.dot(mu_y.T, R))\n",
    "edtm_z = np.sqrt(2) * np.trace(np.dot(mu_z.T, R))\n",
    "\n",
    "print(\"mu_x                    mu_y                    mu_z\")\n",
    "print(edtm_x, edtm_y, edtm_z)"
   ]
  },
  {
   "cell_type": "code",
   "execution_count": null,
   "metadata": {},
   "outputs": [],
   "source": []
  }
 ],
 "metadata": {
  "kernelspec": {
   "display_name": "Python 3",
   "language": "python",
   "name": "python3"
  },
  "language_info": {
   "codemirror_mode": {
    "name": "ipython",
    "version": 3
   },
   "file_extension": ".py",
   "mimetype": "text/x-python",
   "name": "python",
   "nbconvert_exporter": "python",
   "pygments_lexer": "ipython3",
   "version": "3.8.5"
  }
 },
 "nbformat": 4,
 "nbformat_minor": 4
}
