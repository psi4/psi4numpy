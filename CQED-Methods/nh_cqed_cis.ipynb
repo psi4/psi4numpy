{
 "cells": [
  {
   "cell_type": "code",
   "execution_count": 1,
   "metadata": {},
   "outputs": [],
   "source": [
    "from __future__ import print_function\n",
    "\"\"\"\n",
    "Tutorial: A reference implementation of non-hermitian cavity quantum electrodynamics \n",
    "configuration interactions singles.\n",
    "\"\"\"\n",
    "\n",
    "__authors__   = [\"Jon McTague\", \"Jonathan Foley\"]\n",
    "__credits__   = [\"Jon McTague\", \"Jonathan Foley]\n",
    "\n",
    "__copyright_amp__ = \"(c) 2014-2018, The Psi4NumPy Developers\"\n",
    "__license__   = \"BSD-3-Clause\"\n",
    "__date__      = \"2021-01-15\""
   ]
  },
  {
   "cell_type": "markdown",
   "metadata": {},
   "source": [
    "# Non-Hermitian Cavity Quantum Electrodynamics Configuration Interaction Singles (NH-CQED-CIS) "
   ]
  },
  {
   "cell_type": "markdown",
   "metadata": {},
   "source": [
    "## I. Theoretical Overview"
   ]
  },
  {
   "cell_type": "markdown",
   "metadata": {},
   "source": [
    "This tutorial builds from the Psi4Numpy tutorial on canonical CIS for molecular systems, that implements the configuration interaction singles method in a spin-adapted basis. The groundwork for working in the spin orbital notation has been laid out in \"Introduction to the Spin Orbital Formulation of Post-HF methods\" [tutorial](../CQED-Methods/cis_spatial_orbitals.ipynb). It is highly recommended to work through that introduction before starting this tutorial. \n",
    "\n",
    "We propose a novel formulation of ab initio CQED that couples an ab initio molecular Hamiltonian to a non-Hermitian photonic Hamiltonian to capture the finite lifetime and energy uncertainty of nanoconfined optical resonances.   As a first realization of this theory, will develop a configuration interaction singles approach for the energy eigenstates of this non-Hermitian polaritonic Hamiltonian, which will allow us to leverage tools of modern quantum chemistry, including analytic evaluation of forces and nonadiabatic couplings, to study polaritonic structure and reactivity.  This will pave the way for future developments of a hierarchy of CI-based approaches that can be systematically improved in terms of their accuracy, and are also interoperable with the powerful machinery of quantum chemistry codes.  In particular, we envision that Complete Active Space CI theory, which has been a particularly promising approach for simulating photochemistry, can be merged with NH-CQED to provide a powerful tool for simulating polaritonic chemistry.\n",
    "In the following presentation of NH-CQED-CIS theory, we will consider only a single photonic degree of freedom for notational simplicity, but generalizations to additional photonic modes is feasible.  The total polaritonic Hamiltonian operator may be written as\n",
    "\\begin{equation}\n",
    "    \\hat{H} = \\sum_{pq} h_{pq} \\hat{a}_p^{\\dagger} \\hat{a}_q + \n",
    "    \\sum_{pqrs} V_{pq}^{rs} \\hat{a}_p^{\\dagger} \\hat{a}_q^{\\dagger} \\hat{a}_s \\hat{a}_r\n",
    "    + \\hbar \\left( \\omega - i \\frac{\\gamma}{2} \\right)\\hat{b}^{\\dagger} \\hat{b} \n",
    "    + \\sum_{pq} \\hbar g_{pq} \\hat{a}_p^{\\dagger} \\hat{a}_q \\left(\\hat{b}^{\\dagger} + \\hat{b} \\right),\n",
    "\\end{equation}\n",
    "where $h_{pq}$ includes the molecular electronic kinetic energy and electron-nuclear potential\n",
    "integrals, $V_{pq}^{rs}$ denotes the molecular 2-electron repulsion integrals, \n",
    "$\\hat{a}_p^{\\dagger}$ and $\\hat{a}_q$ denotes the electronic creation and annihilation \n",
    "operators, $\\omega$ and $\\gamma$ denote the energy and lifetime of the photonic degree of \n",
    "freedom, $\\hat{b}^{\\dagger}$ and $\\hat{b}$ denote the photonic raising and lowering operators, and $g_{pq}$ denotes the coupling between the photonic and electronic degrees of freedom. \n"
   ]
  },
  {
   "cell_type": "code",
   "execution_count": 1,
   "metadata": {},
   "outputs": [],
   "source": [
    "# ==> Import Psi4, NumPy, & SciPy <==\n",
    "import psi4\n",
    "import numpy as np\n",
    "import scipy.linalg as la\n",
    "\n",
    "# ==> Set Basic Psi4 Options <==\n",
    "\n",
    "# Memory specifications\n",
    "psi4.set_memory(int(2e9))\n",
    "numpy_memory = 2\n",
    "\n",
    "# Output options\n",
    "psi4.core.set_output_file('output.dat', False)"
   ]
  },
  {
   "cell_type": "markdown",
   "metadata": {},
   "source": [
    "Define the molecule!"
   ]
  },
  {
   "cell_type": "code",
   "execution_count": 2,
   "metadata": {},
   "outputs": [],
   "source": [
    "mol = psi4.geometry(\"\"\"\n",
    "0 1\n",
    "O\n",
    "H 1 1.1\n",
    "H 1 1.1 2 104\n",
    "symmetry c1\n",
    "\"\"\")\n",
    "\n",
    "psi4.set_options({'basis':        'sto-3g',\n",
    "                  'scf_type':     'pk',\n",
    "                  'reference':    'rhf',\n",
    "                  'mp2_type':     'conv',\n",
    "                  'save_jk': True,\n",
    "                  'e_convergence': 1e-8,\n",
    "                  'd_convergence': 1e-8})"
   ]
  },
  {
   "cell_type": "markdown",
   "metadata": {},
   "source": [
    "We use Psi4 to compute the RHF energy and wavefunction and store them in variables `scf_e` and `scf_wfn`. We also check the memory requirements for computation:"
   ]
  },
  {
   "cell_type": "code",
   "execution_count": 3,
   "metadata": {},
   "outputs": [
    {
     "name": "stdout",
     "output_type": "stream",
     "text": [
      "\n",
      "Size of the ERI tensor will be 0.00 GB.\n",
      "\n"
     ]
    }
   ],
   "source": [
    "# Get the SCF wavefunction & energies\n",
    "scf_e, wfn = psi4.energy('scf', return_wfn=True)\n",
    "\n",
    "# ==> Nuclear Repulsion Energy <==\n",
    "E_nuc = mol.nuclear_repulsion_energy()\n",
    "\n",
    "# Check memory requirements\n",
    "nmo = wfn.nmo()\n",
    "I_size = (nmo**4) * 8e-9\n",
    "print('\\nSize of the ERI tensor will be %4.2f GB.\\n' % I_size)\n",
    "memory_footprint = I_size * 1.5\n",
    "if I_size > numpy_memory:\n",
    "    psi4.core.clean()\n",
    "    raise Exception(\"Estimated memory utilization (%4.2f GB) exceeds allotted \\\n",
    "                     memory limit of %4.2f GB.\" % (memory_footprint, numpy_memory))"
   ]
  },
  {
   "cell_type": "markdown",
   "metadata": {},
   "source": [
    "We first obtain orbital information from our wavefunction. We also create an instance of MintsHelper to help build our molecular integrals:"
   ]
  },
  {
   "cell_type": "code",
   "execution_count": 6,
   "metadata": {},
   "outputs": [
    {
     "name": "stdout",
     "output_type": "stream",
     "text": [
      "[[ 9.94434590e-01  2.39158855e-01  3.10144378e-15  9.36832397e-02\n",
      "  -1.00207956e-17  1.11639917e-01 -2.08134820e-15]\n",
      " [ 2.40970413e-02 -8.85735625e-01 -1.58812804e-14 -4.79585843e-01\n",
      "  -4.20179491e-17 -6.69578990e-01  1.26244160e-14]\n",
      " [ 3.16154851e-03 -8.58961837e-02  2.60123279e-14  7.47431392e-01\n",
      "   2.64341320e-16 -7.38488591e-01  1.47262736e-14]\n",
      " [ 1.16161167e-16  1.09714926e-16  1.14693814e-15 -2.60451346e-16\n",
      "   1.00000000e+00  1.08793317e-16 -4.64654018e-17]\n",
      " [ 8.50327039e-17 -2.11900024e-15  6.07284839e-01 -2.00514833e-14\n",
      "  -5.91543715e-16  1.85055877e-14  9.19234239e-01]\n",
      " [-4.59374285e-03 -1.44039545e-01 -4.52997745e-01  3.29471186e-01\n",
      "   7.67062335e-16  7.09849461e-01  7.32460618e-01]\n",
      " [-4.59374285e-03 -1.44039545e-01  4.52997745e-01  3.29471186e-01\n",
      "  -5.32877393e-16  7.09849461e-01 -7.32460618e-01]]\n"
     ]
    }
   ],
   "source": [
    "# Create instance of MintsHelper class\n",
    "mints = psi4.core.MintsHelper(wfn.basisset())\n",
    "\n",
    "# Grab data from wavfunction\n",
    "\n",
    "# number of doubly occupied orbitals\n",
    "ndocc   = wfn.nalpha()\n",
    "\n",
    "# total number of orbitals\n",
    "nmo     = wfn.nmo()\n",
    "\n",
    "# number of virtual orbitals\n",
    "nvirt   = nmo - ndocc\n",
    "\n",
    "# orbital energies\n",
    "eps     = np.asarray(wfn.epsilon_a())\n",
    "\n",
    "# occupied orbitals:\n",
    "Co = wfn.Ca_subset(\"AO\", \"OCC\")\n",
    "\n",
    "# virtual orbitals:\n",
    "Cv = wfn.Ca_subset(\"AO\", \"VIR\")\n",
    "\n",
    "# grab all transformation vectors and store to a numpy array!\n",
    "C = np.asarray(wfn.Ca())\n",
    "print(C)"
   ]
  },
  {
   "cell_type": "markdown",
   "metadata": {},
   "source": [
    "Let's first take care of the molecule-photon coupling terms.  A \n",
    "dipole-dipole coupling potential provides a reasonable approximation to this term:\n",
    "\\begin{equation}\n",
    "g_{pq} = \\frac{1}{r^3} \\mu_{pq} \\cdot \\mu_s - \\frac{3}{r^5}\\left(\\mu_{pq} \\cdot r \\right) \\left(\\mu_s \\cdot r \\right),\n",
    "\\end{equation}\n",
    "where $\\mu_{pq}$ are the the dipole integrals in the MO basis.\n",
    "\n",
    "We can transform the dipole integrals from the AO to the MO basis in the following way:\n",
    "\\begin{equation}\n",
    "{\\bf \\mu}^{\\xi} = {\\bf C}^T {\\bf \\mu}^{\\xi}_{ao} {\\bf C},\n",
    "\\end{equation}\n",
    "where ${\\bf \\mu}^{\\xi}_{ao}$ represents the $\\xi$ component of the dipole integrals in the AO basis and ${\\bf C}$\n",
    "represents the matrix of transformation vectors that go from AOs to MOs.  Note here \n",
    "$\\xi$ can be $x$, $y$, or $z$.  At first pass, we will consider only the $z$ component, which means that \n",
    "the molecule will only couple to photons polarized along the $z$ axis."
   ]
  },
  {
   "cell_type": "code",
   "execution_count": 10,
   "metadata": {},
   "outputs": [
    {
     "name": "stdout",
     "output_type": "stream",
     "text": [
      "z-component of the AO dipole matrix\n",
      "[[ 0.14322583  0.03390212 -0.05079193  0.          0.          0.00375868\n",
      "   0.00375868]\n",
      " [ 0.03390212  0.14322583 -0.64117284  0.          0.         -0.14997188\n",
      "  -0.14997188]\n",
      " [-0.05079193 -0.64117284  0.14322583  0.          0.         -0.33409068\n",
      "  -0.33409068]\n",
      " [ 0.          0.          0.          0.14322583  0.          0.\n",
      "   0.        ]\n",
      " [ 0.          0.          0.          0.          0.14322583  0.10895216\n",
      "  -0.10895216]\n",
      " [ 0.00375868 -0.14997188 -0.33409068  0.          0.10895216 -1.1365489\n",
      "  -0.20657896]\n",
      " [ 0.00375868 -0.14997188 -0.33409068  0.         -0.10895216 -0.20657896\n",
      "  -1.1365489 ]]\n",
      "z-component of the MO dipole matrix\n",
      "[[ 1.42888805e-01  5.72298702e-03 -1.71388639e-15 -4.73272362e-02\n",
      "  -1.60870876e-18  4.50652387e-02 -8.10778196e-16]\n",
      " [ 5.72298702e-03 -1.37544374e-01  2.37488130e-14  7.23171607e-01\n",
      "   2.68944606e-16  4.73964125e-02 -1.06362362e-15]\n",
      " [-1.71385300e-15  2.37624545e-14 -4.48742027e-01  1.76419171e-14\n",
      "   8.04852423e-16 -5.76798639e-15  7.03276352e-01]\n",
      " [-4.73272362e-02  7.23171607e-01  1.76432659e-14  3.82867982e-02\n",
      "  -1.04931288e-16 -5.93558733e-01 -1.12237688e-14]\n",
      " [-1.60870876e-18  2.68944606e-16  8.04852423e-16 -1.04931288e-16\n",
      "   1.43225827e-01 -1.75093566e-16 -9.34233609e-16]\n",
      " [ 4.50652387e-02  4.73964125e-02 -5.75533475e-15 -5.93558733e-01\n",
      "  -1.75093566e-16 -8.53381175e-01  6.46170453e-15]\n",
      " [-8.10983225e-16 -1.06858966e-15  7.03276352e-01 -1.12132525e-14\n",
      "  -9.34233609e-16  6.49480469e-15 -5.83399241e-01]]\n",
      "7\n"
     ]
    }
   ],
   "source": [
    "# ==> array of dipole integrals <==\n",
    "# start by assuming photon polarized along z so only\n",
    "# need z-component of molecular dipole integrals!\n",
    "mu_ao_z = np.asarray(mints.ao_dipole()[2])\n",
    "\n",
    "# transform to the MO basis\n",
    "mu_z = np.dot(C.T, mu_ao_z).dot(C)\n",
    "\n",
    "### if you want to see the arrays, uncomment here!\n",
    "print(\"z-component of the AO dipole matrix\")\n",
    "print(mu_ao_z)\n",
    "print(\"z-component of the MO dipole matrix\")\n",
    "print(mu_z)\n",
    "print(len(mu_z))\n",
    "\n"
   ]
  },
  {
   "cell_type": "markdown",
   "metadata": {},
   "source": [
    "Restricting the polarization of the photon to the z-direction means we need \n",
    "only worry about the scalar separation (along the z-axis) between the center-of-mass of\n",
    "the molecular transition dipoles and the photon transition dipole ($r_z$) and the \n",
    "$z$-component of the photon transition dipole $\\mu_{s,z}$.\n",
    "\\begin{equation}\n",
    "g_{pq} = \\frac{1}{r_z^3} \\mu_{z,pq} \\cdot \\mu_{z,s} - \\frac{3}{r_z^5}\\left(\\mu_{z,pq} \\cdot r_z \\right) \\left(\\mu_{s,z} \\cdot r_z \\right),\n",
    "\\end{equation}"
   ]
  },
  {
   "cell_type": "code",
   "execution_count": 29,
   "metadata": {},
   "outputs": [
    {
     "name": "stdout",
     "output_type": "stream",
     "text": [
      "printing g matrix\n",
      "[[-2.85777610e-02 -1.14459740e-03  3.42777277e-16  9.46544724e-03\n",
      "   3.21741752e-19 -9.01304775e-03  1.62155639e-16]\n",
      " [-1.14459740e-03  2.75088747e-02 -4.74976259e-15 -1.44634321e-01\n",
      "  -5.37889211e-17 -9.47928250e-03  2.12724724e-16]\n",
      " [ 3.42770600e-16 -4.75249091e-15  8.97484054e-02 -3.52838342e-15\n",
      "  -1.60970485e-16  1.15359728e-15 -1.40655270e-01]\n",
      " [ 9.46544724e-03 -1.44634321e-01 -3.52865317e-15 -7.65735964e-03\n",
      "   2.09862576e-17  1.18711747e-01  2.24475376e-15]\n",
      " [ 3.21741752e-19 -5.37889211e-17 -1.60970485e-16  2.09862576e-17\n",
      "  -2.86451654e-02  3.50187131e-17  1.86846722e-16]\n",
      " [-9.01304775e-03 -9.47928250e-03  1.15106695e-15  1.18711747e-01\n",
      "   3.50187131e-17  1.70676235e-01 -1.29234091e-15]\n",
      " [ 1.62196645e-16  2.13717932e-16 -1.40655270e-01  2.24265051e-15\n",
      "   1.86846722e-16 -1.29896094e-15  1.16679848e-01]]\n"
     ]
    }
   ],
   "source": [
    "def compute_coupling(mu_mol, mu_phot, r):\n",
    "    ''' write code to loop through all \n",
    "        elements of mu_mol and compute the coupling\n",
    "        to the (single) mu_phot '''\n",
    "    # dimension of mu_mol\n",
    "    dim = len(mu_mol)\n",
    "    # allocate g\n",
    "    g = np.zeros((dim,dim))\n",
    "    # take care of constant eleents first!\n",
    "    # 1 / r^3\n",
    "    oer3  = 1 / r ** 3\n",
    "    # 3 / r^5\n",
    "    toer5 = 3 / r ** 5\n",
    "    # mu_s * r\n",
    "    mu_s_dot_r = mu_phot * r\n",
    "    \n",
    "    # now loop through all the elements of mu and compute the first and second terms\n",
    "    for p in range(0, dim):\n",
    "        for q in range(0, dim):\n",
    "            term_1 = oer3 * mu_mol[p,q] * mu_phot\n",
    "            term_2 = toer5 * mu_mol[p,q] * r * mu_s_dot_r\n",
    "            g[p,q] = term_1 - term_2\n",
    "            \n",
    "    return g\n",
    "            \n",
    "### now actually compute g matrix\n",
    "# define r in atomic units... 1 atomic unit = 0.529 Angstomrs, so r = 20 a.u. is ~1 nm\n",
    "r = 10\n",
    "# define mu_phot in atomic units... plasmon resonance in a ~5 nm Ag particle on the order mu_phot = 100 a.u.\n",
    "mu_s = 100\n",
    "\n",
    "gpq = compute_coupling(mu_z, mu_s, r)\n",
    "\n",
    "print(\"printing g matrix\")\n",
    "print(gpq)\n",
    "\n",
    "    \n",
    "    "
   ]
  },
  {
   "cell_type": "markdown",
   "metadata": {},
   "source": [
    "## NH-CQED-CIS\n",
    "\n",
    "In CIS, only single excitations from the occupied (indices i,j,k...) to the virtual (indices a,b,c...) orbitals are included. As a result, CIS gives transition energies to an excited state. \n",
    "\n",
    "The polaritonic energy eigenfunctions for state $I$ in the\n",
    "CQED-CIS ansatz can be written as \n",
    "\\begin{equation}\n",
    "\\Psi_I = c_{0,0} |\\Phi_0\\rangle |0\\rangle + \n",
    "c_{0,1} |\\Phi_0\\rangle |1\\rangle +\n",
    "c^a_{i,0} |\\Phi_i^a\\rangle |0\\rangle +\n",
    "c^a_{i,1} |\\Phi_i^a\\rangle |1\\rangle \n",
    "\\end{equation}\n",
    "\n",
    "Assuming we are using the spin-adapted determinants based on canonical Hartree-Fock orbitals ($\\{\\mathrm{\\psi_p}\\}$) with orbital energies $\\{\\epsilon_p\\}$, we can build a shifted CIS Hamiltonian matrix:\n",
    "\n",
    "\\begin{equation}\n",
    "\\tilde{\\textbf{H}} = \\textbf{H} - E_0 \\textbf{I} = \n",
    "[\\langle s| \\langle \\Phi_P | \\hat{H} - E_0|\\Phi_Q \\rangle | t \\rangle ]\n",
    "\\end{equation}\n",
    "where\n",
    "\\begin{equation}\n",
    "\\Phi_P, \\Phi_Q \\in {\\Phi_i^a} \\; {\\rm and} \\; |s\\rangle, |t\\rangle \\in {|0\\rangle, |1\\rangle}\n",
    "\\end{equation}\n",
    "\n",
    "and where $E_0$ is the ground state Hartree-Fock state energy given by $\\langle \\Phi | \\hat{H}_e|\\Phi \\rangle$,\n",
    "where $\\hat{H}_e$ contains only the molecular electronic terms.\n",
    "\n",
    "The matrix elements of this shifted CIS Hamiltonian matrix contains three contributions:\n",
    "\n",
    "\\begin{equation}\n",
    "\\langle s | \\langle \\Phi_i^a | \\hat{H} - E_0|\\Phi_j^b \\rangle | t \\rangle = \n",
    "\\langle s | \\langle \\Phi_i^a | \\hat{H}_e - E_0|\\Phi_j^b \\rangle | t \\rangle\n",
    "+ \\langle s | \\langle \\Phi_i^a | \\hat{H}_p |\\Phi_j^b \\rangle | t \\rangle\n",
    "+ \\langle s | \\langle \\Phi_i^a | \\hat{H}_{ep}|\\Phi_j^b \\rangle | t \\rangle.\n",
    "\\end{equation}\n",
    "The first term is similar to the ordinary CIS matrix elements with the requirement that the photonic\n",
    "bra and ket states be identical:\n",
    "\\begin{equation}\n",
    "\\langle s | \\langle \\Phi_i^a | \\hat{H_e} - E_0|\\Phi_j^b \\rangle | t \\rangle = \\left((\\epsilon_a - \\epsilon_i)\\delta_{ij} \\delta_{ab}\n",
    "+ 2(ia|jb) - (ij|ab) \\right) \\delta_{st}.\n",
    "\\end{equation}\n",
    "The second term vanishes unless both the photonic and molecular bra and ket states are identical:\n",
    "\\begin{equation}\n",
    "\\langle s | \\langle \\Phi_i^a | \\hat{H}_p |\\Phi_j^b \\rangle | t \\rangle = \\delta_{st} \\delta_{ij} \\delta_{ab} \\left( \\hbar \\omega + i\\frac{\\gamma}{2}\\right)\\sqrt{s}.\n",
    "\\end{equation}\n",
    "The third term couples particular transitions between photonic and molecular bra and ket states:\n",
    "\\begin{equation}\n",
    "\\langle s | \\langle \\Phi_i^a | \\hat{H}_{ep}|\\Phi_j^b \\rangle | t \\rangle =\n",
    "\\left( 1 - \\delta_{st} \\right) \\left( g_{ab} \\delta_{ij} - g_{ij} \\delta_{ab} \\right)\n",
    "\\end{equation}\n",
    "\n",
    "This then becomes a standard eigenvalue equation from which we can solve for the excitation energies and the wavefunction expansion coefficients:\n",
    "\n",
    "\\begin{equation}\n",
    "\\tilde{\\textbf{H}} \\textbf{c}_K = \\Delta E_K\\textbf{c}_K, \\,\\Delta E_K = E_K - E_0\n",
    "\\end{equation}\n",
    "\n"
   ]
  },
  {
   "cell_type": "markdown",
   "metadata": {},
   "source": [
    "## II. Implementation"
   ]
  },
  {
   "cell_type": "markdown",
   "metadata": {},
   "source": [
    "We will prepare the ordinary CIS quantities as we did in [this tutorial](../CQED-Methods/cis_spatial_orbitals.ipynb):"
   ]
  },
  {
   "cell_type": "markdown",
   "metadata": {},
   "source": [
    "We now transform the 2-electron integral from the AO basis into the MO basis using the coefficients:\n"
   ]
  },
  {
   "cell_type": "code",
   "execution_count": 30,
   "metadata": {},
   "outputs": [],
   "source": [
    "# build the (ov|ov) integrals:\n",
    "ovov = np.asarray(mints.mo_eri(Co, Cv, Co, Cv))\n",
    "\n",
    "# build the (oo|vv) integrals:\n",
    "oovv = np.asarray(mints.mo_eri(Co, Co, Cv, Cv))\n",
    "\n",
    "# strip out occupied orbital energies, eps_o spans 0..ndocc-1\n",
    "eps_o = eps[:ndocc]\n",
    "\n",
    "# strip out virtual orbital energies, eps_v spans 0..nvirt-1\n",
    "eps_v = eps[ndocc:]\n",
    "### if you want to print these arrays, go ahead and uncomment!\n",
    "#print(oovv)\n",
    "#print(ovov)\n",
    "#print(eps_o)\n",
    "#print(eps_v)"
   ]
  },
  {
   "cell_type": "code",
   "execution_count": 31,
   "metadata": {},
   "outputs": [
    {
     "name": "stdout",
     "output_type": "stream",
     "text": [
      "[[0. 0. 0. 0. 0. 0. 0. 0. 0. 0. 0. 0. 0. 0. 0. 0. 0. 0. 0. 0.]\n",
      " [0. 0. 0. 0. 0. 0. 0. 0. 0. 0. 0. 0. 0. 0. 0. 0. 0. 0. 0. 0.]\n",
      " [0. 0. 0. 0. 0. 0. 0. 0. 0. 0. 0. 0. 0. 0. 0. 0. 0. 0. 0. 0.]\n",
      " [0. 0. 0. 0. 0. 0. 0. 0. 0. 0. 0. 0. 0. 0. 0. 0. 0. 0. 0. 0.]\n",
      " [0. 0. 0. 0. 0. 0. 0. 0. 0. 0. 0. 0. 0. 0. 0. 0. 0. 0. 0. 0.]\n",
      " [0. 0. 0. 0. 0. 0. 0. 0. 0. 0. 0. 0. 0. 0. 0. 0. 0. 0. 0. 0.]\n",
      " [0. 0. 0. 0. 0. 0. 0. 0. 0. 0. 0. 0. 0. 0. 0. 0. 0. 0. 0. 0.]\n",
      " [0. 0. 0. 0. 0. 0. 0. 0. 0. 0. 0. 0. 0. 0. 0. 0. 0. 0. 0. 0.]\n",
      " [0. 0. 0. 0. 0. 0. 0. 0. 0. 0. 0. 0. 0. 0. 0. 0. 0. 0. 0. 0.]\n",
      " [0. 0. 0. 0. 0. 0. 0. 0. 0. 0. 0. 0. 0. 0. 0. 0. 0. 0. 0. 0.]\n",
      " [0. 0. 0. 0. 0. 0. 0. 0. 0. 0. 0. 0. 0. 0. 0. 0. 0. 0. 0. 0.]\n",
      " [0. 0. 0. 0. 0. 0. 0. 0. 0. 0. 0. 0. 0. 0. 0. 0. 0. 0. 0. 0.]\n",
      " [0. 0. 0. 0. 0. 0. 0. 0. 0. 0. 0. 0. 0. 0. 0. 0. 0. 0. 0. 0.]\n",
      " [0. 0. 0. 0. 0. 0. 0. 0. 0. 0. 0. 0. 0. 0. 0. 0. 0. 0. 0. 0.]\n",
      " [0. 0. 0. 0. 0. 0. 0. 0. 0. 0. 0. 0. 0. 0. 0. 0. 0. 0. 0. 0.]\n",
      " [0. 0. 0. 0. 0. 0. 0. 0. 0. 0. 0. 0. 0. 0. 0. 0. 0. 0. 0. 0.]\n",
      " [0. 0. 0. 0. 0. 0. 0. 0. 0. 0. 0. 0. 0. 0. 0. 0. 0. 0. 0. 0.]\n",
      " [0. 0. 0. 0. 0. 0. 0. 0. 0. 0. 0. 0. 0. 0. 0. 0. 0. 0. 0. 0.]\n",
      " [0. 0. 0. 0. 0. 0. 0. 0. 0. 0. 0. 0. 0. 0. 0. 0. 0. 0. 0. 0.]\n",
      " [0. 0. 0. 0. 0. 0. 0. 0. 0. 0. 0. 0. 0. 0. 0. 0. 0. 0. 0. 0.]]\n"
     ]
    }
   ],
   "source": [
    "# Initialize CIS matrix.\n",
    "# The dimensions are the number of possible single excitations\n",
    "HCIS = np.zeros((ndocc * nvirt * 2, ndocc * nvirt * 2))\n",
    "print(HCIS)"
   ]
  },
  {
   "cell_type": "code",
   "execution_count": 32,
   "metadata": {},
   "outputs": [
    {
     "name": "stdout",
     "output_type": "stream",
     "text": [
      "0\n",
      "1\n",
      "2\n",
      "3\n",
      "4\n",
      "5\n",
      "6\n",
      "7\n",
      "8\n",
      "9\n",
      "10\n",
      "11\n",
      "12\n",
      "13\n",
      "14\n",
      "15\n",
      "16\n",
      "17\n",
      "18\n",
      "19\n"
     ]
    }
   ],
   "source": [
    "# photon frequency\n",
    "om = 0.58\n",
    "\n",
    "for i in range(0, ndocc):\n",
    "    for a in range(0, nvirt):\n",
    "        for s in range(0,2):\n",
    "            ias = 2*(i*nvirt + a) + s\n",
    "            print(ias)\n",
    "            #print(\"i,a,s,ias:\",i,a,s,ias)\n",
    "            \n",
    "            for j in range(0, ndocc):\n",
    "                for b in range(0, nvirt):\n",
    "                    for t in range(0,2):\n",
    "                        jbt = 2*(j*nvirt + b) + t\n",
    "                        #print(jbt)\n",
    "                        #print(\"j,b,t,jbt:\",j,b,t,jbt)\n",
    "                        # ordinary CIS term, contributes whenever s == t\n",
    "                        term1 = (2 * ovov[i, a, j, b] - oovv[i, j, a, b]) * (s == t)\n",
    "                        # ordinary CIS term for when i==j and a==b\n",
    "                        term2 = (eps_v[a] - eps_o[i]) * (s == t) * (i == j) * (a == b)\n",
    "                        # ordinary photonic term for when s == t and i == j and a == b\n",
    "                        term3 = np.sqrt(s) * om * (i == j) * (a == b) * (s == t)\n",
    "                        # coupling term between molecular and photonic states\n",
    "                        term4 = (1 - (s == t)) * (gpq[a, b] * (i == j) - gpq[i,j] * (a == b))\n",
    "                        HCIS[ias, jbt] = term1 + term2 + term3 + term4\n",
    "                    \n"
   ]
  },
  {
   "cell_type": "code",
   "execution_count": 33,
   "metadata": {},
   "outputs": [
    {
     "name": "stdout",
     "output_type": "stream",
     "text": [
      "No coupling\n",
      "[20.01097938 20.01097938 20.05053189 20.05053189  0.91012162  1.30078511\n",
      "  0.91012162  0.3564617   0.50562823  0.41607167  1.30078511  0.50562823\n",
      "  1.32576198  1.32576198  0.65531837  0.65531837  0.55519181  0.55519181\n",
      "  0.3564617   0.41607167]\n",
      "Yes coupling\n",
      "[20.01098195 20.0451573  20.63591681 20.5909862   1.90821182  1.92165263\n",
      "  1.50406019  1.3403502   1.41371434  0.49204137  0.63205925  0.53763171\n",
      "  1.23720223  0.89519646  1.03319796  1.07027635  0.35645946  0.41068277\n",
      "  1.00146052  0.93646399]\n"
     ]
    }
   ],
   "source": [
    "#print(HCIS)\n",
    "ECIS, CCIS = np.linalg.eig(HCIS)\n",
    "\n",
    "print(\"No coupling\")\n",
    "print(ECIS_NC)\n",
    "\n",
    "print(\"Yes coupling\")\n",
    "print(ECIS)"
   ]
  },
  {
   "cell_type": "markdown",
   "metadata": {
    "collapsed": true
   },
   "source": [
    "## References\n",
    "1. Background paper:\n",
    " >\"Toward a systematic molecular orbital theory for excited states\"\n",
    "[[Foresman:1992:96](http://pubs.acs.org/doi/abs/10.1021/j100180a030)] J. B. Foresman, M. Head-Gordon, J. A. Pople, M. J. Frisch, *J. Phys. Chem.* **96**, 135 (1992).\n",
    "\n",
    "\n",
    "2. Algorithms from: \n",
    "\t> [[CCQC:CIS](https://github.com/CCQC/summer-program/tree/master/7)] CCQC Summer Program, \"CIS\" accessed with https://github.com/CCQC/summer-program/tree/master/7.\n",
    "    "
   ]
  }
 ],
 "metadata": {
  "kernelspec": {
   "display_name": "Python 3",
   "language": "python",
   "name": "python3"
  },
  "language_info": {
   "codemirror_mode": {
    "name": "ipython",
    "version": 3
   },
   "file_extension": ".py",
   "mimetype": "text/x-python",
   "name": "python",
   "nbconvert_exporter": "python",
   "pygments_lexer": "ipython3",
   "version": "3.8.5"
  }
 },
 "nbformat": 4,
 "nbformat_minor": 2
}
