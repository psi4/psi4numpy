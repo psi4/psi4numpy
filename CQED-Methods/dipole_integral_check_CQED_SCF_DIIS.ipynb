{
 "cells": [
  {
   "cell_type": "code",
   "execution_count": 44,
   "metadata": {},
   "outputs": [],
   "source": [
    "from __future__ import print_function\n",
    "\n",
    "\"\"\"\n",
    "Tutorial: A reference implementation of non-hermitian cavity quantum electrodynamics \n",
    "configuration interactions singles.\n",
    "\"\"\"\n",
    "\n",
    "__authors__   = [\"Jon McTague\", \"Jonathan Foley\"]\n",
    "__credits__   = [\"Jon McTague\", \"Jonathan Foley\"]\n",
    "\n",
    "__copyright_amp__ = \"(c) 2014-2018, The Psi4NumPy Developers\"\n",
    "__license__   = \"BSD-3-Clause\"\n",
    "__date__      = \"2021-01-15\""
   ]
  },
  {
   "cell_type": "markdown",
   "metadata": {},
   "source": [
    "$\\langle \\mu \\rangle$ represents the dipole expectation value computed at the Hartree-Fock level.\n",
    "The dipole operator has the form (in first quantization):\n",
    "$$ \\hat{\\mu} = \\sum_{i}^{N_e} \\mu(x_i) + \\sum_{A}^{N_N} \\mu_{nuc}(x_A) $$\n",
    "where $\\mu(x_i)$ depends on electronic coordinates and $\\mu_{nuc}(x_A)$ depends on nuclear coordinates.\n",
    "\n",
    "We will check to make sure we can compute the RHF dipole expectation\n",
    "value using the dipole integrals below."
   ]
  },
  {
   "cell_type": "code",
   "execution_count": 61,
   "metadata": {},
   "outputs": [],
   "source": [
    "# ==> Import Psi4, NumPy, & SciPy <==\n",
    "import psi4\n",
    "import numpy as np\n",
    "import scipy.linalg as la\n",
    "import time\n",
    "\n",
    "# ==> Set Basic Psi4 Options <==\n",
    "\n",
    "# Memory specifications\n",
    "psi4.set_memory(int(2e9))\n",
    "numpy_memory = 2\n",
    "\n",
    "# Output options\n",
    "psi4.core.set_output_file('output.dat', False)"
   ]
  },
  {
   "cell_type": "markdown",
   "metadata": {},
   "source": [
    "Define the molecule!"
   ]
  },
  {
   "cell_type": "code",
   "execution_count": 62,
   "metadata": {},
   "outputs": [],
   "source": [
    "mol = psi4.geometry(\"\"\"\n",
    "0 1\n",
    "O\n",
    "H 1 1.1\n",
    "H 1 1.1 2 104\n",
    "symmetry c1\n",
    "\"\"\")\n",
    "\n",
    "psi4.set_options({'basis':        'sto-3g',\n",
    "                  'scf_type':     'pk',\n",
    "                  'reference':    'rhf',\n",
    "                  'mp2_type':     'conv',\n",
    "                  'save_jk': True,\n",
    "                  'e_convergence': 1e-8,\n",
    "                  'd_convergence': 1e-8})"
   ]
  },
  {
   "cell_type": "markdown",
   "metadata": {},
   "source": [
    "We use Psi4 to compute the RHF energy and wavefunction and store them in variables `scf_e` and `scf_wfn`. We also check the memory requirements for computation:"
   ]
  },
  {
   "cell_type": "code",
   "execution_count": 63,
   "metadata": {},
   "outputs": [],
   "source": [
    "# Get the SCF wavefunction & energies\n",
    "scf_e, wfn = psi4.energy('scf', return_wfn=True)\n",
    "\n",
    "# ==> Nuclear Repulsion Energy <==\n",
    "E_nuc = mol.nuclear_repulsion_energy()\n",
    "nmo = wfn.nmo()\n",
    "\n"
   ]
  },
  {
   "cell_type": "markdown",
   "metadata": {},
   "source": [
    "We first obtain orbital information from our wavefunction. We also create an instance of MintsHelper to help build our molecular integrals:"
   ]
  },
  {
   "cell_type": "code",
   "execution_count": 65,
   "metadata": {},
   "outputs": [
    {
     "name": "stdout",
     "output_type": "stream",
     "text": [
      "\n",
      "Number of occupied orbitals: 5\n",
      "Number of basis functions: 7\n",
      "\n",
      "Size of the ERI tensor will be 0.00 GB.\n",
      "V\n",
      "[[-6.15805953e+01 -7.41082186e+00 -1.44738338e-02  0.00000000e+00\n",
      "  -2.16840434e-18 -1.23168563e+00 -1.23168563e+00]\n",
      " [-7.41082186e+00 -1.00090712e+01 -1.76890224e-01  0.00000000e+00\n",
      "  -4.16333634e-17 -2.97722676e+00 -2.97722676e+00]\n",
      " [-1.44738338e-02 -1.76890224e-01 -9.94404288e+00  0.00000000e+00\n",
      "  -6.93889390e-18 -1.47178808e+00 -1.47178808e+00]\n",
      " [ 0.00000000e+00  0.00000000e+00  0.00000000e+00 -9.87587601e+00\n",
      "   0.00000000e+00  0.00000000e+00  0.00000000e+00]\n",
      " [-2.16840434e-18 -4.16333634e-17 -6.93889390e-18  0.00000000e+00\n",
      "  -9.98755043e+00  1.82224083e+00 -1.82224083e+00]\n",
      " [-1.23168563e+00 -2.97722676e+00 -1.47178808e+00  0.00000000e+00\n",
      "   1.82224083e+00 -5.30020268e+00 -1.06716576e+00]\n",
      " [-1.23168563e+00 -2.97722676e+00 -1.47178808e+00  0.00000000e+00\n",
      "  -1.82224083e+00 -1.06716576e+00 -5.30020268e+00]]\n"
     ]
    }
   ],
   "source": [
    "# Create instance of MintsHelper class\n",
    "mints = psi4.core.MintsHelper(wfn.basisset())\n",
    "\n",
    "# Grab data from wavfunction\n",
    "\n",
    "# number of doubly occupied orbitals\n",
    "ndocc   = wfn.nalpha()\n",
    "\n",
    "# total number of orbitals\n",
    "nmo     = wfn.nmo()\n",
    "\n",
    "# number of virtual orbitals\n",
    "nvirt   = nmo - ndocc\n",
    "\n",
    "# orbital energies\n",
    "eps     = np.asarray(wfn.epsilon_a())\n",
    "\n",
    "# occupied orbitals:\n",
    "Co = wfn.Ca_subset(\"AO\", \"OCC\")\n",
    "\n",
    "# virtual orbitals:\n",
    "Cv = wfn.Ca_subset(\"AO\", \"VIR\")\n",
    "\n",
    "# grab all transformation vectors and store to a numpy array!\n",
    "C = np.asarray(wfn.Ca())\n",
    "\n",
    "# ==> Nuclear Repulsion Energy <==\n",
    "E_nuc = mol.nuclear_repulsion_energy()\n",
    "\n",
    "S = np.asarray(mints.ao_overlap())\n",
    "\n",
    "# Get nbf and ndocc for closed shell molecules\n",
    "nbf = S.shape[0]\n",
    "ndocc = wfn.nalpha()\n",
    "\n",
    "print(\"\\nNumber of occupied orbitals: %d\" % ndocc)\n",
    "print(\"Number of basis functions: %d\" % nbf)\n",
    "\n",
    "# Run a quick check to make sure everything will fit into memory\n",
    "I_Size = (nbf ** 4) * 8.0e-9\n",
    "print(\"\\nSize of the ERI tensor will be %4.2f GB.\" % I_Size)\n",
    "\n",
    "# Estimate memory usage\n",
    "memory_footprint = I_Size * 1.5\n",
    "if I_Size > numpy_memory:\n",
    "    psi4.core.clean()\n",
    "    raise Exception(\n",
    "        \"Estimated memory utilization (%4.2f GB) exceeds numpy_memory \\\n",
    "                    limit of %4.2f GB.\"\n",
    "        % (memory_footprint, numpy_memory)\n",
    "    )\n",
    "\n",
    "# Compute required quantities for SCF\n",
    "print(\"V\")\n",
    "V = np.asarray(mints.ao_potential())\n",
    "print(V)\n",
    "T = np.asarray(mints.ao_kinetic())\n",
    "I = np.asarray(mints.ao_eri())\n"
   ]
  },
  {
   "cell_type": "markdown",
   "metadata": {},
   "source": [
    "We can transform the dipole integrals from the AO to the MO basis in the following way:\n",
    "\\begin{equation}\n",
    "{\\bf \\mu}^{\\xi} = {\\bf C}^T {\\bf \\mu}^{\\xi}_{ao} {\\bf C},\n",
    "\\end{equation}\n",
    "where ${\\bf \\mu}^{\\xi}_{ao}$ represents the $\\xi$ component of the dipole integrals in the AO basis and ${\\bf C}$\n",
    "represents the matrix of transformation vectors that go from AOs to MOs.  Note here \n",
    "$\\xi$ can be $x$, $y$, or $z$.  At first pass, we will consider only the $z$ component, which means that \n",
    "the molecule will only couple to photons polarized along the $z$ axis."
   ]
  },
  {
   "cell_type": "code",
   "execution_count": 66,
   "metadata": {},
   "outputs": [
    {
     "name": "stdout",
     "output_type": "stream",
     "text": [
      "1e-05\n"
     ]
    }
   ],
   "source": [
    "Ex = 0\n",
    "Ey = 1e-5\n",
    "Ez = 1e-3\n",
    "lam = np.array([Ex, Ey, Ez])\n",
    "print(lam[1])"
   ]
  },
  {
   "cell_type": "code",
   "execution_count": 67,
   "metadata": {},
   "outputs": [
    {
     "name": "stdout",
     "output_type": "stream",
     "text": [
      "[[ 0.00000000e+00  0.00000000e+00  0.00000000e+00 -5.07919296e-02\n",
      "   0.00000000e+00  0.00000000e+00  0.00000000e+00]\n",
      " [ 0.00000000e+00  0.00000000e+00  0.00000000e+00 -6.41172844e-01\n",
      "   0.00000000e+00  0.00000000e+00  0.00000000e+00]\n",
      " [ 0.00000000e+00  0.00000000e+00  0.00000000e+00  9.08620836e-18\n",
      "   0.00000000e+00  0.00000000e+00  0.00000000e+00]\n",
      " [-5.07919296e-02 -6.41172844e-01  9.08620836e-18  0.00000000e+00\n",
      "   0.00000000e+00 -2.48967926e-01 -2.48967926e-01]\n",
      " [ 0.00000000e+00  0.00000000e+00  0.00000000e+00  0.00000000e+00\n",
      "   0.00000000e+00  0.00000000e+00  0.00000000e+00]\n",
      " [ 0.00000000e+00  0.00000000e+00  0.00000000e+00 -2.48967926e-01\n",
      "   0.00000000e+00  0.00000000e+00  0.00000000e+00]\n",
      " [ 0.00000000e+00  0.00000000e+00  0.00000000e+00 -2.48967926e-01\n",
      "   0.00000000e+00  0.00000000e+00  0.00000000e+00]]\n"
     ]
    }
   ],
   "source": [
    "# number of doubly occupied orbitals\n",
    "ndocc = wfn.nalpha()\n",
    "\n",
    "# Extra terms for Pauli-Fierz Hamiltonian\n",
    "# nuclear dipole\n",
    "mu_nuc_x = mol.nuclear_dipole()[0]\n",
    "mu_nuc_y = mol.nuclear_dipole()[1]\n",
    "mu_nuc_z = mol.nuclear_dipole()[2]\n",
    "\n",
    "# dipole arrays in AO basis\n",
    "mu_x_ao = np.asarray(mints.ao_dipole()[0])\n",
    "mu_y_ao = np.asarray(mints.ao_dipole()[1])\n",
    "mu_z_ao = np.asarray(mints.ao_dipole()[2])\n",
    "\n",
    "print(mu_x_ao)\n",
    "# transform dipole array to MO basis from ordinary RHF (no photon)\n",
    "mu_x = np.dot(C.T, mu_x_ao).dot(C)\n",
    "mu_y = np.dot(C.T, mu_y_ao).dot(C)\n",
    "mu_z = np.dot(C.T, mu_z_ao).dot(C)\n",
    "\n",
    "# compute components of electronic dipole moment <mu> from ordinary RHF (no photon)\n",
    "mu_exp_x = 0.0\n",
    "mu_exp_y = 0.0\n",
    "mu_exp_z = 0.0\n",
    "for i in range(0, ndocc):\n",
    "    # double because this is only alpha terms!\n",
    "    mu_exp_x += 2 * mu_x[i, i]\n",
    "    mu_exp_y += 2 * mu_y[i, i]\n",
    "    mu_exp_z += 2 * mu_z[i, i]\n",
    "\n",
    "# We need to carry around the electric field dotted into the nuclear dipole moment\n",
    "# and the electric field dotted into the RHF electronic dipole expectation value...\n",
    "# so let's compute them here!\n",
    "\n",
    "# lambda . mu_nuc\n",
    "l_dot_mu_nuc = lam[0] * mu_nuc_x + lam[1] * mu_nuc_y + lam[2] * mu_nuc_z\n",
    "l_dot_mu_el = lam[0] * mu_exp_x + lam[1] * mu_exp_y + lam[2] * mu_exp_z\n",
    "l_dot_mu = l_dot_mu_nuc + l_dot_mu_el\n",
    "\n",
    "# dipole constants to add to E_RHF\n",
    "l_dot_mu_constant = l_dot_mu_nuc ** 2 + l_dot_mu_nuc * l_dot_mu + l_dot_mu ** 2\n",
    "\n",
    "# quadrupole arrays\n",
    "Q_xx = np.asarray(mints.ao_quadrupole()[0])\n",
    "Q_xy = np.asarray(mints.ao_quadrupole()[1])\n",
    "Q_xz = np.asarray(mints.ao_quadrupole()[2])\n",
    "Q_yy = np.asarray(mints.ao_quadrupole()[3])\n",
    "Q_yz = np.asarray(mints.ao_quadrupole()[4])\n",
    "Q_zz = np.asarray(mints.ao_quadrupole()[5])"
   ]
  },
  {
   "cell_type": "code",
   "execution_count": 69,
   "metadata": {},
   "outputs": [
    {
     "name": "stdout",
     "output_type": "stream",
     "text": [
      "\n",
      "Start SCF iterations:\n",
      "\n",
      "One-electron energy = -117.8397131756816520\n"
     ]
    }
   ],
   "source": [
    "# ordinary H_core\n",
    "H_0 = T + V\n",
    "\n",
    "# Pauli-Fierz 1-e quadrupole terms\n",
    "Q_PF = lam[0] * lam[0] * Q_xx\n",
    "Q_PF += lam[1] * lam[1] * Q_yy\n",
    "Q_PF += lam[2] * lam[2] * Q_zz\n",
    "Q_PF += 2 * lam[0] * lam[1] * Q_xy\n",
    "Q_PF += 2 * lam[0] * lam[2] * Q_xz\n",
    "Q_PF += 2 * lam[1] * lam[2] * Q_yz\n",
    "\n",
    "# Pauli-Fierz 1-e dipole terms scaled by l . <mu>\n",
    "d_PF = 2 * l_dot_mu * lam[0] * mu_x\n",
    "d_PF += 2 * l_dot_mu * lam[1] * mu_y\n",
    "d_PF += 2 * l_dot_mu * lam[2] * mu_z\n",
    "H = H_0 + Q_PF + d_PF\n",
    "\n",
    "# Orthogonalizer A = S^(-1/2) using Psi4's matrix power.\n",
    "A = mints.ao_overlap()\n",
    "A.power(-0.5, 1.0e-16)\n",
    "A = np.asarray(A)\n",
    "\n",
    "# Calculate initial core guess: [Szabo:1996] pp. 145\n",
    "Hp = A.dot(H).dot(A)  # Eqn. 3.177\n",
    "e, C2 = np.linalg.eigh(Hp)  # Solving Eqn. 1.178\n",
    "C = A.dot(C2)  # Back transform, Eqn. 3.174\n",
    "Cocc = C[:, :ndocc]\n",
    "\n",
    "D = np.einsum(\"pi,qi->pq\", Cocc, Cocc)  # [Szabo:1996] Eqn. 3.145, pp. 139\n",
    "\n",
    "#print(\"\\nTotal time taken for setup: %.3f seconds\" % (time.time() - t))\n",
    "\n",
    "print(\"\\nStart SCF iterations:\\n\")\n",
    "t = time.time()\n",
    "E = 0.0\n",
    "Enuc = mol.nuclear_repulsion_energy()\n",
    "Eold = 0.0\n",
    "Dold = np.zeros_like(D)\n",
    "\n",
    "E_1el = np.einsum(\"pq,pq->\", H + H, D) + Enuc + l_dot_mu_constant\n",
    "print(\"One-electron energy = %4.16f\" % E_1el)\n",
    "\n"
   ]
  },
  {
   "cell_type": "code",
   "execution_count": 72,
   "metadata": {},
   "outputs": [
    {
     "name": "stdout",
     "output_type": "stream",
     "text": [
      "SCF Iteration   1: Energy = -73.2858012392397313   dE = -7.32858E+01   dRMS = 1.20729E-01\n",
      "SCF Iteration   2: Energy = -74.8281308880580980   dE = -1.54233E+00   dRMS = 5.08294E-02\n",
      "SCF Iteration   3: Energy = -74.9354951333080805   dE = -1.07364E-01   dRMS = 1.32043E-02\n",
      "SCF Iteration   4: Energy = -74.9414850058865056   dE = -5.98987E-03   dRMS = 2.76691E-03\n",
      "SCF Iteration   5: Energy = -74.9419792725741729   dE = -4.94267E-04   dRMS = 1.16165E-03\n",
      "SCF Iteration   6: Energy = -74.9420633404597254   dE = -8.40679E-05   dRMS = 4.96538E-04\n",
      "SCF Iteration   7: Energy = -74.9420816988153717   dE = -1.83584E-05   dRMS = 2.41745E-04\n",
      "SCF Iteration   8: Energy = -74.9420859274760289   dE = -4.22866E-06   dRMS = 1.15543E-04\n",
      "SCF Iteration   9: Energy = -74.9420869100164566   dE = -9.82540E-07   dRMS = 5.58584E-05\n",
      "Total time for SCF iterations: 30.644 seconds \n",
      "\n",
      "Final SCF energy: -74.94208691 hartree\n",
      "    SCF Energy............................................................................FAILED\n"
     ]
    },
    {
     "ename": "TestComparisonError",
     "evalue": "\tSCF Energy: computed value (-74.94208691) does not match (-74.94207990) to atol=1e-06 by difference (-0.00000701).",
     "output_type": "error",
     "traceback": [
      "\u001b[0;31m---------------------------------------------------------------------------\u001b[0m",
      "\u001b[0;31mTestComparisonError\u001b[0m                       Traceback (most recent call last)",
      "\u001b[0;32m<ipython-input-72-3c66c0478a24>\u001b[0m in \u001b[0;36m<module>\u001b[0;34m\u001b[0m\n\u001b[1;32m     80\u001b[0m \u001b[0mprint\u001b[0m\u001b[0;34m(\u001b[0m\u001b[0;34m\"Final SCF energy: %.8f hartree\"\u001b[0m \u001b[0;34m%\u001b[0m \u001b[0mSCF_E\u001b[0m\u001b[0;34m)\u001b[0m\u001b[0;34m\u001b[0m\u001b[0;34m\u001b[0m\u001b[0m\n\u001b[1;32m     81\u001b[0m \u001b[0;34m\u001b[0m\u001b[0m\n\u001b[0;32m---> 82\u001b[0;31m \u001b[0mpsi4\u001b[0m\u001b[0;34m.\u001b[0m\u001b[0mcompare_values\u001b[0m\u001b[0;34m(\u001b[0m\u001b[0mscf_e\u001b[0m\u001b[0;34m,\u001b[0m \u001b[0mSCF_E\u001b[0m\u001b[0;34m,\u001b[0m \u001b[0;36m6\u001b[0m\u001b[0;34m,\u001b[0m \u001b[0;34m\"SCF Energy\"\u001b[0m\u001b[0;34m)\u001b[0m\u001b[0;34m\u001b[0m\u001b[0;34m\u001b[0m\u001b[0m\n\u001b[0m",
      "\u001b[0;32m/opt/anaconda3/lib/python3.8/site-packages/psi4/driver/qcdb/testing.py\u001b[0m in \u001b[0;36m_mergedapis_compare_values\u001b[0;34m(expected, computed, *args, **kwargs)\u001b[0m\n\u001b[1;32m    102\u001b[0m \u001b[0;34m\u001b[0m\u001b[0m\n\u001b[1;32m    103\u001b[0m     \u001b[0m_merge_psi4_qcel_apis\u001b[0m\u001b[0;34m(\u001b[0m\u001b[0margs\u001b[0m\u001b[0;34m,\u001b[0m \u001b[0mkwargs\u001b[0m\u001b[0;34m)\u001b[0m\u001b[0;34m\u001b[0m\u001b[0;34m\u001b[0m\u001b[0m\n\u001b[0;32m--> 104\u001b[0;31m     \u001b[0;32mreturn\u001b[0m \u001b[0mqcel\u001b[0m\u001b[0;34m.\u001b[0m\u001b[0mtesting\u001b[0m\u001b[0;34m.\u001b[0m\u001b[0mcompare_values\u001b[0m\u001b[0;34m(\u001b[0m\u001b[0mexpected\u001b[0m\u001b[0;34m,\u001b[0m \u001b[0mcomputed\u001b[0m\u001b[0;34m,\u001b[0m \u001b[0;34m**\u001b[0m\u001b[0mkwargs\u001b[0m\u001b[0;34m)\u001b[0m\u001b[0;34m\u001b[0m\u001b[0;34m\u001b[0m\u001b[0m\n\u001b[0m\u001b[1;32m    105\u001b[0m \u001b[0;34m\u001b[0m\u001b[0m\n\u001b[1;32m    106\u001b[0m \u001b[0;34m\u001b[0m\u001b[0m\n",
      "\u001b[0;32m/opt/anaconda3/lib/python3.8/site-packages/qcelemental/testing.py\u001b[0m in \u001b[0;36mcompare_values\u001b[0;34m(expected, computed, label, atol, rtol, equal_nan, equal_phase, passnone, quiet, return_message, return_handler)\u001b[0m\n\u001b[1;32m    171\u001b[0m             )\n\u001b[1;32m    172\u001b[0m \u001b[0;34m\u001b[0m\u001b[0m\n\u001b[0;32m--> 173\u001b[0;31m     \u001b[0;32mreturn\u001b[0m \u001b[0mreturn_handler\u001b[0m\u001b[0;34m(\u001b[0m\u001b[0mallclose\u001b[0m\u001b[0;34m,\u001b[0m \u001b[0mlabel\u001b[0m\u001b[0;34m,\u001b[0m \u001b[0mmessage\u001b[0m\u001b[0;34m,\u001b[0m \u001b[0mreturn_message\u001b[0m\u001b[0;34m,\u001b[0m \u001b[0mquiet\u001b[0m\u001b[0;34m)\u001b[0m\u001b[0;34m\u001b[0m\u001b[0;34m\u001b[0m\u001b[0m\n\u001b[0m\u001b[1;32m    174\u001b[0m \u001b[0;34m\u001b[0m\u001b[0m\n\u001b[1;32m    175\u001b[0m \u001b[0;34m\u001b[0m\u001b[0m\n",
      "\u001b[0;32m/opt/anaconda3/lib/python3.8/site-packages/psi4/driver/p4util/testing.py\u001b[0m in \u001b[0;36m_psi4_true_raise_handler\u001b[0;34m(passfail, label, message, return_message, quiet)\u001b[0m\n\u001b[1;32m    187\u001b[0m         \u001b[0mprint\u001b[0m\u001b[0;34m(\u001b[0m\u001b[0;34mf'    {label:.<{width}}FAILED'\u001b[0m\u001b[0;34m)\u001b[0m\u001b[0;34m\u001b[0m\u001b[0;34m\u001b[0m\u001b[0m\n\u001b[1;32m    188\u001b[0m         \u001b[0msys\u001b[0m\u001b[0;34m.\u001b[0m\u001b[0mstdout\u001b[0m\u001b[0;34m.\u001b[0m\u001b[0mflush\u001b[0m\u001b[0;34m(\u001b[0m\u001b[0;34m)\u001b[0m\u001b[0;34m\u001b[0m\u001b[0;34m\u001b[0m\u001b[0m\n\u001b[0;32m--> 189\u001b[0;31m         \u001b[0;32mraise\u001b[0m \u001b[0mTestComparisonError\u001b[0m\u001b[0;34m(\u001b[0m\u001b[0mmessage\u001b[0m\u001b[0;34m)\u001b[0m\u001b[0;34m\u001b[0m\u001b[0;34m\u001b[0m\u001b[0m\n\u001b[0m\u001b[1;32m    190\u001b[0m \u001b[0;34m\u001b[0m\u001b[0m\n\u001b[1;32m    191\u001b[0m     \u001b[0;32mreturn\u001b[0m \u001b[0mpassfail\u001b[0m\u001b[0;34m\u001b[0m\u001b[0;34m\u001b[0m\u001b[0m\n",
      "\u001b[0;31mTestComparisonError\u001b[0m: \tSCF Energy: computed value (-74.94208691) does not match (-74.94207990) to atol=1e-06 by difference (-0.00000701)."
     ]
    }
   ],
   "source": [
    "# Set defaults\n",
    "maxiter = 40\n",
    "E_conv = 1.0e-6\n",
    "D_conv = 1.0e-3\n",
    "\n",
    "for SCF_ITER in range(1, maxiter + 1):\n",
    "\n",
    "    # Build fock matrix: [Szabo:1996] Eqn. 3.154, pp. 141\n",
    "    J = np.einsum(\"pqrs,rs->pq\", I, D)\n",
    "    K = np.einsum(\"prqs,rs->pq\", I, D)\n",
    "    mu_x\n",
    "    # Pauli-Fierz dipole-dipole matrices\n",
    "    M_xx = np.einsum(\"pq,rs,rs->pq\", lam[0] * mu_x, lam[0] * mu_x, D)\n",
    "    M_yy = np.einsum(\"pq,rs,rs->pq\", lam[1] * mu_y, lam[1] * mu_y, D)\n",
    "    M_zz = np.einsum(\"pq,rs,rs->pq\", lam[2] * mu_z, lam[2] * mu_z, D)\n",
    "\n",
    "    M_xy = np.einsum(\"pq,rs,rs->pq\", lam[0] * mu_x, lam[1] * mu_y, D)\n",
    "    M_xz = np.einsum(\"pq,rs,rs->pq\", lam[0] * mu_x, lam[2] * mu_z, D)\n",
    "    M_yz = np.einsum(\"pq,rs,rs->pq\", lam[1] * mu_y, lam[2] * mu_z, D)\n",
    "\n",
    "    # Pauli-Fierz dipole-dipole \"exchange\" terms\n",
    "    N_xx = np.einsum(\"pr,qs,rs->pq\", lam[0] * mu_x, lam[0] * mu_x, D)\n",
    "    N_yy = np.einsum(\"pr,qs,rs->pq\", lam[1] * mu_y, lam[1] * mu_y, D)\n",
    "    N_zz = np.einsum(\"pr,qs,rs->pq\", lam[2] * mu_z, lam[2] * mu_z, D)\n",
    "\n",
    "    N_xy = np.einsum(\"pr,qs,rs->pq\", lam[0] * mu_x, lam[1] * mu_y, D)\n",
    "    N_xz = np.einsum(\"pr,qs,rs->pq\", lam[0] * mu_x, lam[2] * mu_z, D)\n",
    "    N_yz = np.einsum(\"pr,qs,rs->pq\", lam[1] * mu_y, lam[2] * mu_z, D)\n",
    "\n",
    "    # Build fock matrix: [Szabo:1996] Eqn. 3.154, pp. 141 +\n",
    "    # Pauli-Fierz terms\n",
    "    F = H + J * 2 - K\n",
    "    F += lam[0] ** 2 * M_xx\n",
    "    F += lam[1] ** 2 * M_yy\n",
    "    F += lam[2] ** 2 * M_zz\n",
    "\n",
    "    F += 2 * lam[0] * lam[1] * M_xy\n",
    "    F += 2 * lam[0] * lam[2] * M_xz\n",
    "    F += 2 * lam[1] * lam[2] * M_yz\n",
    "\n",
    "    F -= 0.5 * lam[0] ** 2 * N_xx\n",
    "    F -= 0.5 * lam[1] ** 2 * N_yy\n",
    "    F -= 0.5 * lam[2] ** 2 * N_zz\n",
    "\n",
    "    F -= lam[0] * lam[1] * N_xy\n",
    "    F -= lam[0] * lam[2] * N_xz\n",
    "    F -= lam[1] * lam[2] * N_yz\n",
    "    \n",
    "    \n",
    "    diis_e = np.einsum(\"ij,jk,kl->il\", F, D, S) - np.einsum(\"ij,jk,kl->il\", S, D, F)\n",
    "    diis_e = A.dot(diis_e).dot(A)\n",
    "    dRMS = np.mean(diis_e ** 2) ** 0.5\n",
    "\n",
    "    # SCF energy and update: [Szabo:1996], Eqn. 3.184, pp. 150\n",
    "    SCF_E = np.einsum(\"pq,pq->\", F + H, D) + Enuc\n",
    "\n",
    "    print(\n",
    "        \"SCF Iteration %3d: Energy = %4.16f   dE = % 1.5E   dRMS = %1.5E\"\n",
    "        % (SCF_ITER, SCF_E, (SCF_E - Eold), dRMS)\n",
    "    )\n",
    "    if (abs(SCF_E - Eold) < E_conv) and (dRMS < D_conv):\n",
    "        break\n",
    "\n",
    "    Eold = SCF_E\n",
    "    Dold = D\n",
    "\n",
    "    # Diagonalize Fock matrix: [Szabo:1996] pp. 145\n",
    "    Fp = A.dot(F).dot(A)  # Eqn. 3.177\n",
    "    e, C2 = np.linalg.eigh(Fp)  # Solving Eqn. 1.178\n",
    "    C = A.dot(C2)  # Back transform, Eqn. 3.174\n",
    "    Cocc = C[:, :ndocc]\n",
    "    D = np.einsum(\"pi,qi->pq\", Cocc, Cocc)  # [Szabo:1996] Eqn. 3.145, pp. 139\n",
    "\n",
    "    if SCF_ITER == maxiter:\n",
    "        psi4.core.clean()\n",
    "        raise Exception(\"Maximum number of SCF cycles exceeded.\")\n",
    "\n",
    "print(\"Total time for SCF iterations: %.3f seconds \\n\" % (time.time() - t))\n",
    "\n",
    "print(\"Final SCF energy: %.8f hartree\" % SCF_E)\n",
    "\n",
    "psi4.compare_values(scf_e, SCF_E, 6, \"SCF Energy\")"
   ]
  },
  {
   "cell_type": "code",
   "execution_count": 71,
   "metadata": {},
   "outputs": [
    {
     "name": "stdout",
     "output_type": "stream",
     "text": [
      "Computed from integrals: 0.6035212529279848\n",
      "Psi4:                    0.6035213056155281\n",
      "These dipole moments are close: True\n"
     ]
    },
    {
     "name": "stderr",
     "output_type": "stream",
     "text": [
      "<ipython-input-71-70fb2822b968>:4: FutureWarning: Using scalar QCVariable `SCF DIPOLE Z` [D] instead of array `SCF DIPOLE` [e a0] is deprecated, and in 1.5 it will stop working\n",
      "\n",
      "  muz_psi4_debye = psi4.core.variable('SCF DIPOLE Z')\n"
     ]
    }
   ],
   "source": [
    "# Get the z-component of the RHF dipole moment from psi4.\n",
    "# this will be in debye, and we will want to convert it into\n",
    "# au to match those computed from dipole integrals\n",
    "muz_psi4_debye = psi4.core.variable('SCF DIPOLE Z')\n",
    "#qz_psi4_debye = psi4.core.variable('SCF QUADRUPOLE Z')\n",
    "muz_psi4_au = muz_psi4_debye/2.54174623\n",
    "\n",
    "# Get the nuclear dipole moment from psi4\n",
    "nuc_dipole = mol.nuclear_dipole()\n",
    "\n",
    "\n",
    "\n",
    "# now try to compute the dipole expectation value from the \n",
    "# dipole integrals\n",
    "ed_z = 0.\n",
    "for i in range(0, ndocc):\n",
    "    ed_z += mu_z[i,i]\n",
    "\n",
    "muz_computed = 2 * ed_z + nuc_dipole[2]    \n",
    "print(\"Computed from integrals:\",muz_computed)\n",
    "print(\"Psi4:                   \",muz_psi4_au)\n",
    "print(\"These dipole moments are close:\",np.isclose(muz_computed,muz_psi4_au))\n",
    "\n"
   ]
  },
  {
   "cell_type": "code",
   "execution_count": null,
   "metadata": {},
   "outputs": [],
   "source": []
  },
  {
   "cell_type": "code",
   "execution_count": null,
   "metadata": {},
   "outputs": [],
   "source": []
  },
  {
   "cell_type": "code",
   "execution_count": null,
   "metadata": {},
   "outputs": [],
   "source": []
  }
 ],
 "metadata": {
  "kernelspec": {
   "display_name": "Python 3",
   "language": "python",
   "name": "python3"
  },
  "language_info": {
   "codemirror_mode": {
    "name": "ipython",
    "version": 3
   },
   "file_extension": ".py",
   "mimetype": "text/x-python",
   "name": "python",
   "nbconvert_exporter": "python",
   "pygments_lexer": "ipython3",
   "version": "3.8.5"
  }
 },
 "nbformat": 4,
 "nbformat_minor": 2
}
