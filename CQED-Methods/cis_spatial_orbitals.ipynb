{
 "cells": [
  {
   "cell_type": "markdown",
   "metadata": {},
   "source": [
    "### Configuration Interaction Singles \n",
    "This tutorial is adapted from Prof. A. E. DePrince's CIS programming project [here](https://www.chem.fsu.edu/~deprince/programming_projects/cis/)\n",
    "\n",
    "Note: we use atomic units throughout this tutorial.\n",
    "\n",
    "At the Hartree-Fock level of theory, the N-electron wave function is approximated as an antisymmetrized product of N one-electron functions called molecular orbitals (MOs) (a Slater determinant). The simplest representation of an excited-state wave function would be a single Slater determinant comprised of a different set of molecular orbitals, but we can obtain a slightly better description of the excited state by expressing it as a linear combination of Slater determinants that differ by the ground-state configuration by one electron. What we are describing here is a configuration interaction with single excitations (CIS) wave function; the CIS wave function for the $n^{th}$ excited state can be expressed as\n",
    "\\begin{equation}\n",
    "|\\Psi_n\\rangle = \\sum_{ia} c_{i,a}^n |\\phi_i^a\\rangle,\n",
    "\\end{equation}\n",
    "where $|\\phi_i^a\\rangle$ represents a Slater determinant that is singly esxcited relative to the Hartree-Fock reference determinant, and the indices $i$ and $a$ denote spin orbitals that are occupied and unoccoupied in the Hartree-Fock reference, respectively.  We can apply the Hamiltonian operator to this CIS wavefunction and project it onto a particular singly-excited determinant as follows:\n",
    "\\begin{equation}\n",
    "\\sum_{ia} \\langle \\phi_j^b | \\hat{H} |\\phi_i^a \\rangle c_{i,a}^n = E_n c_{i,a}^n.\n",
    "\\end{equation}\n",
    "We can form similar epressions for each excited state of the system, leading to an eigenvalue problem of the form:\n",
    "\\begin{equation}\n",
    "{\\bf H} {\\bf c}_n = E_n {\\bf c}_n,\n",
    "\\end{equation}\n",
    "where the elements of the Hamitonian matrix elements have the form\n",
    "\\begin{equation}\n",
    "H_{ia,jb} = \\left( \\epsilon_a - \\epsilon_j \\right) \\delta_{ij} \\delta_{ab} + \\langle aj || ib \\rangle,\n",
    "\\end{equation}\n",
    "where $\\epsilon_a$ represents the energy of Hartree-Fock orbital $a$, and $\\langle aj || ib \\rangle$ denotes the antisymmetrized 2-electron integral in physicist notation:\n",
    "\\begin{equation}\n",
    "\\langle aj || ib \\rangle = \\int d1 \\: d2 \\: \\phi_a^*(1) \\phi_j^*(2) \\frac{1}{r_{12}} \\phi_i(1) \\phi_b(2)\n",
    "- \\int d1 \\: d2 \\: \\phi_a^*(1) \\phi_j^*(2) \\frac{1}{r_{12}} \\phi_b(1) \\phi_i(2).\n",
    "\\end{equation}\n",
    "Diagonalization of this Hamiltonian yields both singlet and triplet excited-states, but the excited determinants can be spin adapted as singlets as follows:\n",
    "\\begin{equation}\n",
    "|\\phi_i^a\\rangle = \\frac{1}{\\sqrt{2}} \\left(|\\phi_{i \\alpha}^{a \\alpha} \\rangle +  |\\phi_{i \\beta}^{a \\beta} \\rangle\\right),\n",
    "\\end{equation}\n",
    "which yields the following matrix elements for the spin-adapated Hamiltonian:\n",
    "\\begin{equation}\n",
    "H_{ia,jb} = \\left( \\epsilon_a - \\epsilon_j \\right) \\delta_{ij} \\delta_{ab} + 2 \\langle aj | ib \\rangle - \\langle aj | bi \\rangle.\n",
    "\\end{equation}\n",
    "In chemist's notation, these elements are \n",
    "\\begin{equation}\n",
    "H_{ia,jb} = \\left( \\epsilon_a - \\epsilon_j \\right) \\delta_{ij} \\delta_{ab} + 2 \\left( ia | jb \\right) - \\left( ij |ab \\right),\n",
    "\\end{equation}\n",
    "where\n",
    "\\begin{equation}\n",
    "\\left( ia | jb \\right) = \\int d1 \\: d2 \\: \\phi_i^*(1) \\phi_a(1) \\frac{1}{r_{12}} \\phi_j^*(2) \\phi_i(2).\n",
    "\\end{equation}\n",
    "\n",
    "We will implement CIS in the spin-adapted basis below and compare to the results directly computed by `psi4`."
   ]
  },
  {
   "cell_type": "code",
   "execution_count": 4,
   "metadata": {},
   "outputs": [],
   "source": [
    "import psi4\n",
    "import numpy as np\n",
    "from psi4.driver.procrouting.response.scf_response import tdscf_excitations"
   ]
  },
  {
   "cell_type": "markdown",
   "metadata": {},
   "source": [
    "Setup molecule and options in `psi4`"
   ]
  },
  {
   "cell_type": "code",
   "execution_count": 5,
   "metadata": {},
   "outputs": [],
   "source": [
    "mol = psi4.geometry(\"\"\"\n",
    "0 1\n",
    "O\n",
    "H 1 1.0\n",
    "H 1 1.0 2 104.5\n",
    "symmetry c1\n",
    "\"\"\")\n",
    "\n",
    "psi4.set_options({'basis':        'sto-3g',\n",
    "                  'scf_type':     'pk',\n",
    "                  'reference':    'rhf',\n",
    "                  'mp2_type':     'conv',\n",
    "                  'save_jk': True,\n",
    "                  'e_convergence': 1e-8,\n",
    "                  'd_convergence': 1e-8})"
   ]
  },
  {
   "cell_type": "markdown",
   "metadata": {},
   "source": [
    "Run `psi4` and save wavefunction for further analysis.  Also run the method `tdscf_excitations` \n",
    "with `tda=True` to get the CIS excitation energies from `psi4` itself.  "
   ]
  },
  {
   "cell_type": "code",
   "execution_count": 4,
   "metadata": {},
   "outputs": [
    {
     "name": "stdout",
     "output_type": "stream",
     "text": [
      "right vecs\n",
      "[[-6.54132445e-17 -4.04514943e-20]\n",
      " [ 1.16385438e-16  9.14720944e-18]\n",
      " [ 1.92004854e-16 -2.25584247e-16]\n",
      " [ 7.95134219e-15  8.82800261e-18]\n",
      " [ 1.00000000e+00  3.81743445e-15]]\n",
      "left vecs\n",
      "[[-6.54132445e-17 -4.04514943e-20]\n",
      " [ 1.16385438e-16  9.14720944e-18]\n",
      " [ 1.92004854e-16 -2.25584247e-16]\n",
      " [ 7.95134219e-15  8.82800261e-18]\n",
      " [ 1.00000000e+00  3.81743445e-15]]\n",
      "dipole\n",
      "[[ 0.00000000e+00  0.00000000e+00  0.00000000e+00 -5.07919296e-02\n",
      "   0.00000000e+00  0.00000000e+00  0.00000000e+00]\n",
      " [ 0.00000000e+00  0.00000000e+00  0.00000000e+00 -6.41172844e-01\n",
      "   0.00000000e+00  0.00000000e+00  0.00000000e+00]\n",
      " [ 0.00000000e+00  0.00000000e+00  0.00000000e+00  9.08620836e-18\n",
      "   0.00000000e+00  0.00000000e+00  0.00000000e+00]\n",
      " [-5.07919296e-02 -6.41172844e-01  9.08620836e-18  0.00000000e+00\n",
      "   0.00000000e+00 -2.87550614e-01 -2.87550614e-01]\n",
      " [ 0.00000000e+00  0.00000000e+00  0.00000000e+00  0.00000000e+00\n",
      "   0.00000000e+00  0.00000000e+00  0.00000000e+00]\n",
      " [ 0.00000000e+00  0.00000000e+00  0.00000000e+00 -2.87550614e-01\n",
      "   0.00000000e+00  0.00000000e+00  0.00000000e+00]\n",
      " [ 0.00000000e+00  0.00000000e+00  0.00000000e+00 -2.87550614e-01\n",
      "   0.00000000e+00  0.00000000e+00  0.00000000e+00]]\n",
      "right vecs\n",
      "[[ 2.06497509e-16 -3.35845046e-16]\n",
      " [ 9.18511860e-16  1.31016122e-16]\n",
      " [-2.48883084e-15  1.00800474e-14]\n",
      " [ 1.09110953e-14  1.17678926e-14]\n",
      " [-3.81743445e-15  1.00000000e+00]]\n",
      "left vecs\n",
      "[[ 2.06497509e-16 -3.35845046e-16]\n",
      " [ 9.18511860e-16  1.31016122e-16]\n",
      " [-2.48883084e-15  1.00800474e-14]\n",
      " [ 1.09110953e-14  1.17678926e-14]\n",
      " [-3.81743445e-15  1.00000000e+00]]\n",
      "dipole\n",
      "[[ 0.00000000e+00  0.00000000e+00  0.00000000e+00 -5.07919296e-02\n",
      "   0.00000000e+00  0.00000000e+00  0.00000000e+00]\n",
      " [ 0.00000000e+00  0.00000000e+00  0.00000000e+00 -6.41172844e-01\n",
      "   0.00000000e+00  0.00000000e+00  0.00000000e+00]\n",
      " [ 0.00000000e+00  0.00000000e+00  0.00000000e+00  9.08620836e-18\n",
      "   0.00000000e+00  0.00000000e+00  0.00000000e+00]\n",
      " [-5.07919296e-02 -6.41172844e-01  9.08620836e-18  0.00000000e+00\n",
      "   0.00000000e+00 -2.87550614e-01 -2.87550614e-01]\n",
      " [ 0.00000000e+00  0.00000000e+00  0.00000000e+00  0.00000000e+00\n",
      "   0.00000000e+00  0.00000000e+00  0.00000000e+00]\n",
      " [ 0.00000000e+00  0.00000000e+00  0.00000000e+00 -2.87550614e-01\n",
      "   0.00000000e+00  0.00000000e+00  0.00000000e+00]\n",
      " [ 0.00000000e+00  0.00000000e+00  0.00000000e+00 -2.87550614e-01\n",
      "   0.00000000e+00  0.00000000e+00  0.00000000e+00]]\n",
      "right vecs\n",
      "[[ 8.49044547e-04  7.56589378e-17]\n",
      " [ 6.08403437e-02  9.79244626e-16]\n",
      " [-7.34565672e-15  2.65229659e-01]\n",
      " [ 9.62263456e-01  1.00510346e-14]\n",
      " [-7.59847978e-15 -1.29948039e-14]]\n",
      "left vecs\n",
      "[[ 8.49044547e-04  7.56589378e-17]\n",
      " [ 6.08403437e-02  9.79244626e-16]\n",
      " [-7.34565672e-15  2.65229659e-01]\n",
      " [ 9.62263456e-01  1.00510346e-14]\n",
      " [-7.59847978e-15 -1.29948039e-14]]\n",
      "dipole\n",
      "[[ 0.00000000e+00  0.00000000e+00  0.00000000e+00 -5.07919296e-02\n",
      "   0.00000000e+00  0.00000000e+00  0.00000000e+00]\n",
      " [ 0.00000000e+00  0.00000000e+00  0.00000000e+00 -6.41172844e-01\n",
      "   0.00000000e+00  0.00000000e+00  0.00000000e+00]\n",
      " [ 0.00000000e+00  0.00000000e+00  0.00000000e+00  9.08620836e-18\n",
      "   0.00000000e+00  0.00000000e+00  0.00000000e+00]\n",
      " [-5.07919296e-02 -6.41172844e-01  9.08620836e-18  0.00000000e+00\n",
      "   0.00000000e+00 -2.87550614e-01 -2.87550614e-01]\n",
      " [ 0.00000000e+00  0.00000000e+00  0.00000000e+00  0.00000000e+00\n",
      "   0.00000000e+00  0.00000000e+00  0.00000000e+00]\n",
      " [ 0.00000000e+00  0.00000000e+00  0.00000000e+00 -2.87550614e-01\n",
      "   0.00000000e+00  0.00000000e+00  0.00000000e+00]\n",
      " [ 0.00000000e+00  0.00000000e+00  0.00000000e+00 -2.87550614e-01\n",
      "   0.00000000e+00  0.00000000e+00  0.00000000e+00]]\n",
      "right vecs\n",
      "[[ 2.72526291e-17 -1.28921349e-03]\n",
      " [-3.27362854e-16  4.46494668e-03]\n",
      " [-4.60548549e-01 -4.06296827e-15]\n",
      " [ 6.97350929e-15 -8.87622350e-01]\n",
      " [ 9.62225956e-17  9.21477210e-15]]\n",
      "left vecs\n",
      "[[ 2.72526291e-17 -1.28921349e-03]\n",
      " [-3.27362854e-16  4.46494668e-03]\n",
      " [-4.60548549e-01 -4.06296827e-15]\n",
      " [ 6.97350929e-15 -8.87622350e-01]\n",
      " [ 9.62225956e-17  9.21477210e-15]]\n",
      "dipole\n",
      "[[ 0.00000000e+00  0.00000000e+00  0.00000000e+00 -5.07919296e-02\n",
      "   0.00000000e+00  0.00000000e+00  0.00000000e+00]\n",
      " [ 0.00000000e+00  0.00000000e+00  0.00000000e+00 -6.41172844e-01\n",
      "   0.00000000e+00  0.00000000e+00  0.00000000e+00]\n",
      " [ 0.00000000e+00  0.00000000e+00  0.00000000e+00  9.08620836e-18\n",
      "   0.00000000e+00  0.00000000e+00  0.00000000e+00]\n",
      " [-5.07919296e-02 -6.41172844e-01  9.08620836e-18  0.00000000e+00\n",
      "   0.00000000e+00 -2.87550614e-01 -2.87550614e-01]\n",
      " [ 0.00000000e+00  0.00000000e+00  0.00000000e+00  0.00000000e+00\n",
      "   0.00000000e+00  0.00000000e+00  0.00000000e+00]\n",
      " [ 0.00000000e+00  0.00000000e+00  0.00000000e+00 -2.87550614e-01\n",
      "   0.00000000e+00  0.00000000e+00  0.00000000e+00]\n",
      " [ 0.00000000e+00  0.00000000e+00  0.00000000e+00 -2.87550614e-01\n",
      "   0.00000000e+00  0.00000000e+00  0.00000000e+00]]\n",
      "[{'EXCITATION ENERGY': 0.44220301791178374, 'ELECTRIC DIPOLE TRANSITION MOMENT (LEN)': array([ 1.03986362e-01, -6.26143021e-17,  9.12493038e-16]), 'OSCILLATOR STRENGTH (LEN)': 0.003187742366517453, 'ELECTRIC DIPOLE TRANSITION MOMENT (VEL)': array([ 1.36800051e-01,  6.79266220e-17, -4.31566070e-16]), 'OSCILLATOR STRENGTH (VEL)': 0.02821366823933344, 'MAGNETIC DIPOLE TRANSITION MOMENT': array([ 2.35897341e-17, -2.63099938e-01,  5.02838123e-15]), 'ROTATORY STRENGTH (LEN)': 1.8926829634477865e-17, 'ROTATORY STRENGTH (VEL)': 3.3116945471488547e-17, 'SYMMETRY': 'A', 'SPIN': 'singlet', 'RIGHT EIGENVECTOR ALPHA': <psi4.core.Matrix object at 0x7fa1f13488b0>, 'LEFT EIGENVECTOR ALPHA': <psi4.core.Matrix object at 0x7fa1f13488b0>, 'RIGHT EIGENVECTOR BETA': <psi4.core.Matrix object at 0x7fa1f13488b0>, 'LEFT EIGENVECTOR BETA': <psi4.core.Matrix object at 0x7fa1f13488b0>}, {'EXCITATION ENERGY': 0.5106075701271671, 'ELECTRIC DIPOLE TRANSITION MOMENT (LEN)': array([2.62759494e-15, 5.32075849e-15, 1.47537414e-15]), 'OSCILLATOR STRENGTH (LEN)': 1.2728239948108035e-29, 'ELECTRIC DIPOLE TRANSITION MOMENT (VEL)': array([ 2.48800265e-15, -3.35573176e-15, -2.98999207e-17]), 'OSCILLATOR STRENGTH (VEL)': 2.2785909504856228e-29, 'MAGNETIC DIPOLE TRANSITION MOMENT': array([ 5.26771676e-16, -3.23856205e-15, -3.44729093e-01]), 'ROTATORY STRENGTH (LEN)': -5.086043878830856e-16, 'ROTATORY STRENGTH (VEL)': -2.0186486003073082e-17, 'SYMMETRY': 'A', 'SPIN': 'singlet', 'RIGHT EIGENVECTOR ALPHA': <psi4.core.Matrix object at 0x7fa1f1348a40>, 'LEFT EIGENVECTOR ALPHA': <psi4.core.Matrix object at 0x7fa1f1348a40>, 'RIGHT EIGENVECTOR BETA': <psi4.core.Matrix object at 0x7fa1f1348a40>, 'LEFT EIGENVECTOR BETA': <psi4.core.Matrix object at 0x7fa1f1348a40>}, {'EXCITATION ENERGY': 0.58051528762542, 'ELECTRIC DIPOLE TRANSITION MOMENT (LEN)': array([ 1.59930103e-16, -8.66827006e-15, -4.41206645e-01]), 'OSCILLATOR STRENGTH (LEN)': 0.07533668250134216, 'ELECTRIC DIPOLE TRANSITION MOMENT (VEL)': array([1.68319440e-16, 4.95946838e-15, 3.20725937e-01]), 'OSCILLATOR STRENGTH (VEL)': 0.11813082745269977, 'MAGNETIC DIPOLE TRANSITION MOMENT': array([-2.80782200e-15, -3.99571545e-16,  4.45104308e-15]), 'ROTATORY STRENGTH (LEN)': -1.9638297849281472e-15, 'ROTATORY STRENGTH (VEL)': -2.459134142984928e-15, 'SYMMETRY': 'A', 'SPIN': 'singlet', 'RIGHT EIGENVECTOR ALPHA': <psi4.core.Matrix object at 0x7fa1f1348ea0>, 'LEFT EIGENVECTOR ALPHA': <psi4.core.Matrix object at 0x7fa1f1348ea0>, 'RIGHT EIGENVECTOR BETA': <psi4.core.Matrix object at 0x7fa1f1348ea0>, 'LEFT EIGENVECTOR BETA': <psi4.core.Matrix object at 0x7fa1f1348ea0>}, {'EXCITATION ENERGY': 0.6574278638929429, 'ELECTRIC DIPOLE TRANSITION MOMENT (LEN)': array([ 2.69624779e-17, -3.19146848e-01,  2.10822839e-15]), 'OSCILLATOR STRENGTH (LEN)': 0.04464141665041993, 'ELECTRIC DIPOLE TRANSITION MOMENT (VEL)': array([-1.05981530e-17,  1.39069610e-01, -3.20620961e-15]), 'OSCILLATOR STRENGTH (VEL)': 0.01961214547975246, 'MAGNETIC DIPOLE TRANSITION MOMENT': array([-3.60757733e-01, -7.71686104e-17, -3.60391289e-16]), 'ROTATORY STRENGTH (LEN)': 1.4901196427626854e-17, 'ROTATORY STRENGTH (VEL)': 1.050829034657931e-17, 'SYMMETRY': 'A', 'SPIN': 'singlet', 'RIGHT EIGENVECTOR ALPHA': <psi4.core.Matrix object at 0x7fa1f13480e0>, 'LEFT EIGENVECTOR ALPHA': <psi4.core.Matrix object at 0x7fa1f13480e0>, 'RIGHT EIGENVECTOR BETA': <psi4.core.Matrix object at 0x7fa1f13480e0>, 'LEFT EIGENVECTOR BETA': <psi4.core.Matrix object at 0x7fa1f13480e0>}]\n"
     ]
    }
   ],
   "source": [
    "# compute the Hartree-Fock energy and wavefunction\n",
    "scf_e, wfn = psi4.energy('SCF', return_wfn=True)\n",
    "rpa = tdscf_excitations(wfn, states=4, tda=True)\n",
    "print(rpa)\n"
   ]
  },
  {
   "cell_type": "markdown",
   "metadata": {},
   "source": [
    "Get some basic information from the `wfn` object returned by `psi4`:"
   ]
  },
  {
   "cell_type": "code",
   "execution_count": 2,
   "metadata": {},
   "outputs": [
    {
     "ename": "NameError",
     "evalue": "name 'wfn' is not defined",
     "output_type": "error",
     "traceback": [
      "\u001b[0;31m---------------------------------------------------------------------------\u001b[0m",
      "\u001b[0;31mNameError\u001b[0m                                 Traceback (most recent call last)",
      "\u001b[0;32m<ipython-input-2-e7da8654a5a9>\u001b[0m in \u001b[0;36m<module>\u001b[0;34m\u001b[0m\n\u001b[1;32m      2\u001b[0m \u001b[0;34m\u001b[0m\u001b[0m\n\u001b[1;32m      3\u001b[0m \u001b[0;31m# number of doubly occupied orbitals\u001b[0m\u001b[0;34m\u001b[0m\u001b[0;34m\u001b[0m\u001b[0;34m\u001b[0m\u001b[0m\n\u001b[0;32m----> 4\u001b[0;31m \u001b[0mndocc\u001b[0m   \u001b[0;34m=\u001b[0m \u001b[0mwfn\u001b[0m\u001b[0;34m.\u001b[0m\u001b[0mnalpha\u001b[0m\u001b[0;34m(\u001b[0m\u001b[0;34m)\u001b[0m\u001b[0;34m\u001b[0m\u001b[0;34m\u001b[0m\u001b[0m\n\u001b[0m\u001b[1;32m      5\u001b[0m \u001b[0;34m\u001b[0m\u001b[0m\n\u001b[1;32m      6\u001b[0m \u001b[0;31m# total number of orbitals\u001b[0m\u001b[0;34m\u001b[0m\u001b[0;34m\u001b[0m\u001b[0;34m\u001b[0m\u001b[0m\n",
      "\u001b[0;31mNameError\u001b[0m: name 'wfn' is not defined"
     ]
    }
   ],
   "source": [
    "# Grab data from wavfunction\n",
    "\n",
    "# number of doubly occupied orbitals\n",
    "ndocc   = wfn.nalpha()\n",
    "\n",
    "# total number of orbitals\n",
    "nmo     = wfn.nmo()\n",
    "\n",
    "# number of virtual orbitals\n",
    "nvirt   = nmo - ndocc\n",
    "\n",
    "# orbital energies\n",
    "eps     = np.asarray(wfn.epsilon_a())\n",
    "\n",
    "# occupied orbitals:\n",
    "Co = wfn.Ca_subset(\"AO\", \"OCC\")\n",
    "\n",
    "# virtual orbitals:\n",
    "Cv = wfn.Ca_subset(\"AO\", \"VIR\")\n",
    "\n",
    "C_L = wfn.Ca_subset(\"SO\", \"OCC\")\n",
    "C_R = wfn.Ca_subset(\"SO\", \"VIR\")\n"
   ]
  },
  {
   "cell_type": "markdown",
   "metadata": {},
   "source": [
    "Recall we need two types of electron repulsion integrals:\n",
    "$\\left( ia | jb \\right)$ comprise all (occupied-virtual, occupied-virtual) integrals and\n",
    "$\\left( ij | ab \\right)$ comprise all (occupied occupied, virtual virtual) integrals.\n",
    "We will use some of the Mints Helper functions to grab these specific integral blocks below.\n",
    "\n",
    "The MintsHelper class can construct tensors containing these specific classes of orbitals, provided we provide to it the corresponding definitions of the molecular orbitals (given by the `Co` and `Cv` matrices above):"
   ]
  },
  {
   "cell_type": "code",
   "execution_count": 6,
   "metadata": {},
   "outputs": [],
   "source": [
    "# use Psi4's MintsHelper to generate ERIs\n",
    "mints = psi4.core.MintsHelper(wfn.basisset())\n",
    "\n",
    "# build the (ov|ov) integrals:\n",
    "ovov = np.asarray(mints.mo_eri(Co, Cv, Co, Cv))\n",
    "\n",
    "# build the (oo|vv) integrals:\n",
    "oovv = np.asarray(mints.mo_eri(Co, Co, Cv, Cv))"
   ]
  },
  {
   "cell_type": "markdown",
   "metadata": {},
   "source": [
    "We also need the orbital energies which we obtained already using `wfn.epsilon_a()`.  We will now sort them\n",
    "into two different arrays: an array for the occupied orbital energies `eps_o` and an array for the virtual orbital energies `eps_v`."
   ]
  },
  {
   "cell_type": "code",
   "execution_count": 7,
   "metadata": {},
   "outputs": [],
   "source": [
    "# strip out occupied orbital energies, eps_o spans 0..ndocc-1\n",
    "eps_o = eps[:ndocc]\n",
    "\n",
    "# strip out virtual orbital energies, eps_v spans 0..nvirt-1\n",
    "eps_v = eps[ndocc:]\n",
    "### if you want to print these arrays, go ahead and uncomment!\n",
    "#print(oovv)\n",
    "#print(ovov)\n",
    "#print(eps_o)\n",
    "#print(eps_v)"
   ]
  },
  {
   "cell_type": "markdown",
   "metadata": {},
   "source": [
    "We will make an array for the spin-adapted CIS Hamiltonian, which is an $N \\times N$ matrix\n",
    "with $N = n_{occ} \\cdot n_{virt}$."
   ]
  },
  {
   "cell_type": "code",
   "execution_count": 8,
   "metadata": {},
   "outputs": [],
   "source": [
    "Ham = np.zeros((ndocc*nvirt,ndocc*nvirt))"
   ]
  },
  {
   "cell_type": "markdown",
   "metadata": {},
   "source": [
    "Given these tensors, you can access the element $(ij|ab)$ in Python as `oovv[i,j,a,b]`. Here, the indices $i$ and $j$ run from $0$ to $ndocc-1$, and the indices $a$ and $b$ run from $0$ to $nvirt-1$."
   ]
  },
  {
   "cell_type": "code",
   "execution_count": 3,
   "metadata": {},
   "outputs": [
    {
     "ename": "NameError",
     "evalue": "name 'ndocc' is not defined",
     "output_type": "error",
     "traceback": [
      "\u001b[0;31m---------------------------------------------------------------------------\u001b[0m",
      "\u001b[0;31mNameError\u001b[0m                                 Traceback (most recent call last)",
      "\u001b[0;32m<ipython-input-3-6523df843219>\u001b[0m in \u001b[0;36m<module>\u001b[0;34m\u001b[0m\n\u001b[0;32m----> 1\u001b[0;31m \u001b[0;32mfor\u001b[0m \u001b[0mi\u001b[0m \u001b[0;32min\u001b[0m \u001b[0mrange\u001b[0m\u001b[0;34m(\u001b[0m\u001b[0;36m0\u001b[0m\u001b[0;34m,\u001b[0m \u001b[0mndocc\u001b[0m\u001b[0;34m)\u001b[0m\u001b[0;34m:\u001b[0m\u001b[0;34m\u001b[0m\u001b[0;34m\u001b[0m\u001b[0m\n\u001b[0m\u001b[1;32m      2\u001b[0m     \u001b[0;32mfor\u001b[0m \u001b[0ma\u001b[0m \u001b[0;32min\u001b[0m \u001b[0mrange\u001b[0m\u001b[0;34m(\u001b[0m\u001b[0;36m0\u001b[0m\u001b[0;34m,\u001b[0m \u001b[0mnvirt\u001b[0m\u001b[0;34m)\u001b[0m\u001b[0;34m:\u001b[0m\u001b[0;34m\u001b[0m\u001b[0;34m\u001b[0m\u001b[0m\n\u001b[1;32m      3\u001b[0m         \u001b[0mia\u001b[0m \u001b[0;34m=\u001b[0m \u001b[0mi\u001b[0m\u001b[0;34m*\u001b[0m\u001b[0mnvirt\u001b[0m \u001b[0;34m+\u001b[0m \u001b[0ma\u001b[0m\u001b[0;34m\u001b[0m\u001b[0;34m\u001b[0m\u001b[0m\n\u001b[1;32m      4\u001b[0m         \u001b[0;32mfor\u001b[0m \u001b[0mj\u001b[0m \u001b[0;32min\u001b[0m \u001b[0mrange\u001b[0m\u001b[0;34m(\u001b[0m\u001b[0;36m0\u001b[0m\u001b[0;34m,\u001b[0m \u001b[0mndocc\u001b[0m\u001b[0;34m)\u001b[0m\u001b[0;34m:\u001b[0m\u001b[0;34m\u001b[0m\u001b[0;34m\u001b[0m\u001b[0m\n\u001b[1;32m      5\u001b[0m             \u001b[0;32mfor\u001b[0m \u001b[0mb\u001b[0m \u001b[0;32min\u001b[0m \u001b[0mrange\u001b[0m\u001b[0;34m(\u001b[0m\u001b[0;36m0\u001b[0m\u001b[0;34m,\u001b[0m \u001b[0mnvirt\u001b[0m\u001b[0;34m)\u001b[0m\u001b[0;34m:\u001b[0m\u001b[0;34m\u001b[0m\u001b[0;34m\u001b[0m\u001b[0m\n",
      "\u001b[0;31mNameError\u001b[0m: name 'ndocc' is not defined"
     ]
    }
   ],
   "source": [
    "for i in range(0, ndocc):\n",
    "    for a in range(0, nvirt):\n",
    "        ia = i*nvirt + a\n",
    "        for j in range(0, ndocc):\n",
    "            for b in range(0, nvirt):\n",
    "                jb = j*nvirt + b\n",
    "                term1 = eps_v[a] - eps_o[i]\n",
    "                term2 = 2 * ovov[i, a, j, b] - oovv[i,j,a,b]\n",
    "                ### if you want to print all the elements, uncomment below!\n",
    "                #print(ia,jb, eps_v[a], eps_o[i], i, j, a, b, term1, term2)\n",
    "                if (i==j) and (a == b):\n",
    "                    Ham[ia, jb] = term1 + term2\n",
    "                else:\n",
    "                    Ham[ia, jb] = term2\n",
    "\n"
   ]
  },
  {
   "cell_type": "code",
   "execution_count": 63,
   "metadata": {},
   "outputs": [],
   "source": [
    "### uncomment to print the Hamiltonian matrix\n",
    "#print(Ham)"
   ]
  },
  {
   "cell_type": "code",
   "execution_count": 34,
   "metadata": {},
   "outputs": [],
   "source": [
    "# diagonalize Hamiltonian\n",
    "ECIS, CCIS = np.linalg.eig(Ham)"
   ]
  },
  {
   "cell_type": "markdown",
   "metadata": {},
   "source": [
    "Validating Transition Dipole Calculations:\n",
    "\n",
    "From the `psi4` calculations for sto-3g water with $r_{OH} = 1.0$ and $r_{HOH} = 104.5^{\\circ}$, the first 4 excitation energies and transition dipole moments are as follows:\n",
    "\n",
    "| State | Ham Root | Excitation Energy | $\\mu_x$ | $\\mu_y$ | $\\mu_z$ |\n",
    "| :-: | :-: | :-: | :-: | :-: | :-: |\n",
    "| 1   | 9  |    0.442203017  | 1.03986362e-01    |-1.16181470e-16    | -7.06077139e-17 \n",
    "| 2   |  10|      0.510607570  | 2.88048995e-15    |-5.85019003e-15    | 1.48674703e-14 \n",
    "| 3   |  2 |      0.580515287  | 5.65701382e-17    |-6.45693307e-14    | 4.41206645e-01 \n",
    "| 4   |  8 |      0.657427863  | 2.37113999e-17    |3.19146848e-01    | 2.66123640e-14 \n",
    "\n",
    "Note the Ham Root column labels the eigenvalues of the CIS Hamiltonian, so that if the eigenvalues are\n",
    "all stored in `ECIS`, then \n",
    "\n",
    "`ECIS[8] -> 0.442203017`\n",
    "\n",
    "\n"
   ]
  },
  {
   "cell_type": "code",
   "execution_count": 35,
   "metadata": {},
   "outputs": [
    {
     "name": "stdout",
     "output_type": "stream",
     "text": [
      "[20.07472633  0.58051529  1.41950363  1.01646831 20.12174844  1.45023535\n",
      "  0.76058038  0.65742786  0.44220302  0.51060757]\n"
     ]
    }
   ],
   "source": [
    "print(ECIS)"
   ]
  },
  {
   "cell_type": "markdown",
   "metadata": {},
   "source": [
    "We can compute the transition dipole moments between the ground-state and a given excited state $n$ from\n",
    "the $n^{th}$ eigenvector of the CIS Hamiltonian and from the dipole integrals:\n",
    "\\begin{equation}\n",
    "{\\bf \\mu}_{g\\rightarrow n} = {\\rm Tr}\\left( {\\bf \\mu }^T \\cdot {\\bf c }_n \\right). \n",
    "\\end{equation}\n",
    "Because the elements of the ${\\bf c}_n$ vector only connect single excitations between \n",
    "occupied and virtual orbitals, we only need the dipole integrals between occupied and\n",
    "virtual MOs, ${\\bf \\mu}_{ia}$.  This can be accomplished by successive transformation of the dipole\n",
    "integrals from the AO basis to the MO basis using the occupied block and then the virtual block of the\n",
    "transformation vectors using Psi4's core function `psi4.core.triplet` as follows:\n",
    "\n",
    "`dipole = [psi4.core.triplet(Co, x, Cv, True, False, False) for x in mints.ao_dipole()]`"
   ]
  },
  {
   "cell_type": "code",
   "execution_count": 41,
   "metadata": {},
   "outputs": [
    {
     "name": "stdout",
     "output_type": "stream",
     "text": [
      "mu_x                    mu_y                    mu_z\n",
      "-8.547199589430183e-17 -2.3509567967268225e-14 -0.4412066451505032\n"
     ]
    }
   ],
   "source": [
    "# get the \\mu_ia integrals by successive transformation using the occupied and virtual tranformation vectors\n",
    "dipole = [psi4.core.triplet(Co, x, Cv, True, False, False) for x in mints.so_dipole()]\n",
    "\n",
    "### if you want to print the x-, y-, and z- components \n",
    "### of the \\mu_ia integrals, un-comment the following lines!\n",
    "# x-component of \\mu_ia\n",
    "#print(dipole[0].np) \n",
    "# y-component of \\mu_ia\n",
    "#print(dipole[1].np)\n",
    "# z-component of \\mu_ia\n",
    "#print(dipole[2].np)\n",
    "\n",
    "# define np array versions of the dipole integrals, one array for each component\n",
    "mu_x = dipole[0].np\n",
    "mu_y = dipole[1].np\n",
    "mu_z = dipole[2].np\n",
    "\n",
    "# select the CIS root you wich to compute the transition dipole moments for\n",
    "state = 1\n",
    "\n",
    "# re-shape the CIS eigenvector so that the rows ascend through the accupied indices and\n",
    "# the columns ascend through the virtual indices... e.g. if there are 2 occupied and 2 virtual orbitals,\n",
    "# the re-shaped CIS vector will look as follows\n",
    "#\n",
    "# R =  | c_1^3   c_1^4 |\n",
    "#      | c_2^3   c_2^4 |\n",
    "#    \n",
    "\n",
    "\n",
    "R = np.reshape(CCIS[:,state],(ndocc,nvirt))\n",
    "### if you want to view R, uncomment below!\n",
    "#print(R)\n",
    "\n",
    "\n",
    "edtm_x = np.sqrt(2) * np.trace(np.dot(mu_x.T, R))\n",
    "edtm_y = np.sqrt(2) * np.trace(np.dot(mu_y.T, R))\n",
    "edtm_z = np.sqrt(2) * np.trace(np.dot(mu_z.T, R))\n",
    "\n",
    "print(\"mu_x                    mu_y                    mu_z\")\n",
    "print(edtm_x, edtm_y, edtm_z)"
   ]
  }
 ],
 "metadata": {
  "kernelspec": {
   "display_name": "Python 3",
   "language": "python",
   "name": "python3"
  },
  "language_info": {
   "codemirror_mode": {
    "name": "ipython",
    "version": 3
   },
   "file_extension": ".py",
   "mimetype": "text/x-python",
   "name": "python",
   "nbconvert_exporter": "python",
   "pygments_lexer": "ipython3",
   "version": "3.8.5"
  }
 },
 "nbformat": 4,
 "nbformat_minor": 4
}
