{
 "cells": [
  {
   "cell_type": "markdown",
   "metadata": {},
   "source": [
    "### Configuration Interaction Singles \n",
    "This tutorial is adapted from Prof. A. E. DePrince's CIS programming project [here](https://www.chem.fsu.edu/~deprince/programming_projects/cis/)\n",
    "\n",
    "Note: we use atomic units throughout this tutorial.\n",
    "\n",
    "At the Hartree-Fock level of theory, the N-electron wave function is approximated as an antisymmetrized product of N one-electron functions called molecular orbitals (MOs) (a Slater determinant). The simplest representation of an excited-state wave function would be a single Slater determinant comprised of a different set of molecular orbitals, but we can obtain a slightly better description of the excited state by expressing it as a linear combination of Slater determinants that differ by the ground-state configuration by one electron. What we are describing here is a configuration interaction with single excitations (CIS) wave function; the CIS wave function for the $n^{th}$ excited state can be expressed as\n",
    "\\begin{equation}\n",
    "|\\Psi_n\\rangle = \\sum_{ia} c_{i,a}^n |\\phi_i^a\\rangle,\n",
    "\\end{equation}\n",
    "where $|\\phi_i^a\\rangle$ represents a Slater determinant that is singly esxcited relative to the Hartree-Fock reference determinant, and the indices $i$ and $a$ denote spin orbitals that are occupied and unoccoupied in the Hartree-Fock reference, respectively.  We can apply the Hamiltonian operator to this CIS wavefunction and project it onto a particular singly-excited determinant as follows:\n",
    "\\begin{equation}\n",
    "\\sum_{ia} \\langle \\phi_j^b | \\hat{H} |\\phi_i^a \\rangle c_{i,a}^n = E_n c_{i,a}^n.\n",
    "\\end{equation}\n",
    "We can form similar epressions for each excited state of the system, leading to an eigenvalue problem of the form:\n",
    "\\begin{equation}\n",
    "{\\bf H} {\\bf c}_n = E_n {\\bf c}_n,\n",
    "\\end{equation}\n",
    "where the elements of the Hamitonian matrix elements have the form\n",
    "\\begin{equation}\n",
    "H_{ia,jb} = \\left( \\epsilon_a - \\epsilon_j \\right) \\delta_{ij} \\delta_{ab} + \\langle aj || ib \\rangle,\n",
    "\\end{equation}\n",
    "where $\\epsilon_a$ represents the energy of Hartree-Fock orbital $a$, and $\\langle aj || ib \\rangle$ denotes the antisymmetrized 2-electron integral in physicist notation:\n",
    "\\begin{equation}\n",
    "\\langle aj || ib \\rangle = \\int d1 \\: d2 \\: \\phi_a^*(1) \\phi_j^*(2) \\frac{1}{r_{12}} \\phi_i(1) \\phi_b(2)\n",
    "- \\int d1 \\: d2 \\: \\phi_a^*(1) \\phi_j^*(2) \\frac{1}{r_{12}} \\phi_b(1) \\phi_i(2).\n",
    "\\end{equation}\n",
    "Diagonalization of this Hamiltonian yields both singlet and triplet excited-states, but the excited determinants can be spin adapted as singlets as follows:\n",
    "\\begin{equation}\n",
    "|\\phi_i^a\\rangle = \\frac{1}{\\sqrt{2}} \\left(|\\phi_{i \\alpha}^{a \\alpha} \\rangle +  |\\phi_{i \\beta}^{a \\beta} \\rangle\\right),\n",
    "\\end{equation}\n",
    "which yields the following matrix elements for the spin-adapated Hamiltonian:\n",
    "\\begin{equation}\n",
    "H_{ia,jb} = \\left( \\epsilon_a - \\epsilon_j \\right) \\delta_{ij} \\delta_{ab} + 2 \\langle aj | ib \\rangle - \\langle aj | bi \\rangle.\n",
    "\\end{equation}\n",
    "In chemist's notation, these elements are \n",
    "\\begin{equation}\n",
    "H_{ia,jb} = \\left( \\epsilon_a - \\epsilon_j \\right) \\delta_{ij} \\delta_{ab} + 2 \\left( ia | jb \\right) - \\left( ij |ab \\right),\n",
    "\\end{equation}\n",
    "where\n",
    "\\begin{equation}\n",
    "\\left( ia | jb \\right) = \\int d1 \\: d2 \\: \\phi_i^*(1) \\phi_a(1) \\frac{1}{r_{12}} \\phi_j^*(2) \\phi_i(2).\n",
    "\\end{equation}\n",
    "\n",
    "We will implement CIS in the spin-adapted basis below and compare to the results directly computed by `psi4`."
   ]
  },
  {
   "cell_type": "code",
   "execution_count": 31,
   "metadata": {},
   "outputs": [],
   "source": [
    "import psi4\n",
    "import numpy as np\n",
    "from psi4.driver.procrouting.response.scf_response import tdscf_excitations"
   ]
  },
  {
   "cell_type": "markdown",
   "metadata": {},
   "source": [
    "Setup molecule and options in `psi4`"
   ]
  },
  {
   "cell_type": "code",
   "execution_count": 32,
   "metadata": {},
   "outputs": [],
   "source": [
    "mol = psi4.geometry(\"\"\"\n",
    "0 1\n",
    "O\n",
    "H 1 1.0\n",
    "H 1 1.0 2 104.5\n",
    "symmetry c1\n",
    "\"\"\")\n",
    "\n",
    "psi4.set_options({'basis':        'sto-3g',\n",
    "                  'scf_type':     'pk',\n",
    "                  'reference':    'rhf',\n",
    "                  'mp2_type':     'conv',\n",
    "                  'save_jk': True,\n",
    "                  'e_convergence': 1e-8,\n",
    "                  'd_convergence': 1e-8})"
   ]
  },
  {
   "cell_type": "markdown",
   "metadata": {},
   "source": [
    "Run `psi4` and save wavefunction for further analysis.  Also run the method `tdscf_excitations` \n",
    "with `tda=True` to get the CIS excitation energies from `psi4` itself.  "
   ]
  },
  {
   "cell_type": "code",
   "execution_count": 59,
   "metadata": {},
   "outputs": [
    {
     "name": "stdout",
     "output_type": "stream",
     "text": [
      "right vecs\n",
      "[[ 1.11496908e-16 -5.29257371e-20]\n",
      " [-5.20723397e-17 -1.62756122e-17]\n",
      " [-8.97175766e-16  1.09154215e-16]\n",
      " [-1.54415002e-15  2.95588487e-17]\n",
      " [ 1.00000000e+00  4.76559551e-16]]\n",
      "left vecs\n",
      "[[ 1.11496908e-16 -5.29257371e-20]\n",
      " [-5.20723397e-17 -1.62756122e-17]\n",
      " [-8.97175766e-16  1.09154215e-16]\n",
      " [-1.54415002e-15  2.95588487e-17]\n",
      " [ 1.00000000e+00  4.76559551e-16]]\n",
      "dipole\n",
      "[[ 0.00000000e+00  0.00000000e+00  0.00000000e+00 -5.07919296e-02\n",
      "   0.00000000e+00  0.00000000e+00  0.00000000e+00]\n",
      " [ 0.00000000e+00  0.00000000e+00  0.00000000e+00 -6.41172844e-01\n",
      "   0.00000000e+00  0.00000000e+00  0.00000000e+00]\n",
      " [ 0.00000000e+00  0.00000000e+00  0.00000000e+00  9.08620836e-18\n",
      "   0.00000000e+00  0.00000000e+00  0.00000000e+00]\n",
      " [-5.07919296e-02 -6.41172844e-01  9.08620836e-18  0.00000000e+00\n",
      "   0.00000000e+00 -2.87550614e-01 -2.87550614e-01]\n",
      " [ 0.00000000e+00  0.00000000e+00  0.00000000e+00  0.00000000e+00\n",
      "   0.00000000e+00  0.00000000e+00  0.00000000e+00]\n",
      " [ 0.00000000e+00  0.00000000e+00  0.00000000e+00 -2.87550614e-01\n",
      "   0.00000000e+00  0.00000000e+00  0.00000000e+00]\n",
      " [ 0.00000000e+00  0.00000000e+00  0.00000000e+00 -2.87550614e-01\n",
      "   0.00000000e+00  0.00000000e+00  0.00000000e+00]]\n",
      "right vecs\n",
      "[[-1.06944634e-16 -3.14287683e-17]\n",
      " [-2.55852404e-15  2.57140987e-16]\n",
      " [-5.58444989e-15 -1.25795374e-14]\n",
      " [-3.83920993e-14 -1.09283104e-14]\n",
      " [ 4.76559551e-16 -1.00000000e+00]]\n",
      "left vecs\n",
      "[[-1.06944634e-16 -3.14287683e-17]\n",
      " [-2.55852404e-15  2.57140987e-16]\n",
      " [-5.58444989e-15 -1.25795374e-14]\n",
      " [-3.83920993e-14 -1.09283104e-14]\n",
      " [ 4.76559551e-16 -1.00000000e+00]]\n",
      "dipole\n",
      "[[ 0.00000000e+00  0.00000000e+00  0.00000000e+00 -5.07919296e-02\n",
      "   0.00000000e+00  0.00000000e+00  0.00000000e+00]\n",
      " [ 0.00000000e+00  0.00000000e+00  0.00000000e+00 -6.41172844e-01\n",
      "   0.00000000e+00  0.00000000e+00  0.00000000e+00]\n",
      " [ 0.00000000e+00  0.00000000e+00  0.00000000e+00  9.08620836e-18\n",
      "   0.00000000e+00  0.00000000e+00  0.00000000e+00]\n",
      " [-5.07919296e-02 -6.41172844e-01  9.08620836e-18  0.00000000e+00\n",
      "   0.00000000e+00 -2.87550614e-01 -2.87550614e-01]\n",
      " [ 0.00000000e+00  0.00000000e+00  0.00000000e+00  0.00000000e+00\n",
      "   0.00000000e+00  0.00000000e+00  0.00000000e+00]\n",
      " [ 0.00000000e+00  0.00000000e+00  0.00000000e+00 -2.87550614e-01\n",
      "   0.00000000e+00  0.00000000e+00  0.00000000e+00]\n",
      " [ 0.00000000e+00  0.00000000e+00  0.00000000e+00 -2.87550614e-01\n",
      "   0.00000000e+00  0.00000000e+00  0.00000000e+00]]\n",
      "right vecs\n",
      "[[-8.49044547e-04 -7.46569762e-17]\n",
      " [-6.08403437e-02  2.61206048e-15]\n",
      " [-1.74108237e-14 -2.65229659e-01]\n",
      " [-9.62263456e-01 -3.58775080e-14]\n",
      " [-1.46000164e-15  4.05512511e-14]]\n",
      "left vecs\n",
      "[[-8.49044547e-04 -7.46569762e-17]\n",
      " [-6.08403437e-02  2.61206048e-15]\n",
      " [-1.74108237e-14 -2.65229659e-01]\n",
      " [-9.62263456e-01 -3.58775080e-14]\n",
      " [-1.46000164e-15  4.05512511e-14]]\n",
      "dipole\n",
      "[[ 0.00000000e+00  0.00000000e+00  0.00000000e+00 -5.07919296e-02\n",
      "   0.00000000e+00  0.00000000e+00  0.00000000e+00]\n",
      " [ 0.00000000e+00  0.00000000e+00  0.00000000e+00 -6.41172844e-01\n",
      "   0.00000000e+00  0.00000000e+00  0.00000000e+00]\n",
      " [ 0.00000000e+00  0.00000000e+00  0.00000000e+00  9.08620836e-18\n",
      "   0.00000000e+00  0.00000000e+00  0.00000000e+00]\n",
      " [-5.07919296e-02 -6.41172844e-01  9.08620836e-18  0.00000000e+00\n",
      "   0.00000000e+00 -2.87550614e-01 -2.87550614e-01]\n",
      " [ 0.00000000e+00  0.00000000e+00  0.00000000e+00  0.00000000e+00\n",
      "   0.00000000e+00  0.00000000e+00  0.00000000e+00]\n",
      " [ 0.00000000e+00  0.00000000e+00  0.00000000e+00 -2.87550614e-01\n",
      "   0.00000000e+00  0.00000000e+00  0.00000000e+00]\n",
      " [ 0.00000000e+00  0.00000000e+00  0.00000000e+00 -2.87550614e-01\n",
      "   0.00000000e+00  0.00000000e+00  0.00000000e+00]]\n",
      "right vecs\n",
      "[[-3.86644021e-17  1.28921349e-03]\n",
      " [-4.27988057e-15 -4.46494668e-03]\n",
      " [ 4.60548549e-01 -1.51340508e-15]\n",
      " [-4.07404739e-14  8.87622350e-01]\n",
      " [ 3.86883301e-16 -1.22471236e-14]]\n",
      "left vecs\n",
      "[[-3.86644021e-17  1.28921349e-03]\n",
      " [-4.27988057e-15 -4.46494668e-03]\n",
      " [ 4.60548549e-01 -1.51340508e-15]\n",
      " [-4.07404739e-14  8.87622350e-01]\n",
      " [ 3.86883301e-16 -1.22471236e-14]]\n",
      "dipole\n",
      "[[ 0.00000000e+00  0.00000000e+00  0.00000000e+00 -5.07919296e-02\n",
      "   0.00000000e+00  0.00000000e+00  0.00000000e+00]\n",
      " [ 0.00000000e+00  0.00000000e+00  0.00000000e+00 -6.41172844e-01\n",
      "   0.00000000e+00  0.00000000e+00  0.00000000e+00]\n",
      " [ 0.00000000e+00  0.00000000e+00  0.00000000e+00  9.08620836e-18\n",
      "   0.00000000e+00  0.00000000e+00  0.00000000e+00]\n",
      " [-5.07919296e-02 -6.41172844e-01  9.08620836e-18  0.00000000e+00\n",
      "   0.00000000e+00 -2.87550614e-01 -2.87550614e-01]\n",
      " [ 0.00000000e+00  0.00000000e+00  0.00000000e+00  0.00000000e+00\n",
      "   0.00000000e+00  0.00000000e+00  0.00000000e+00]\n",
      " [ 0.00000000e+00  0.00000000e+00  0.00000000e+00 -2.87550614e-01\n",
      "   0.00000000e+00  0.00000000e+00  0.00000000e+00]\n",
      " [ 0.00000000e+00  0.00000000e+00  0.00000000e+00 -2.87550614e-01\n",
      "   0.00000000e+00  0.00000000e+00  0.00000000e+00]]\n",
      "[{'EXCITATION ENERGY': 0.4422030179117806, 'ELECTRIC DIPOLE TRANSITION MOMENT (LEN)': array([ 1.03986362e-01, -1.16181470e-16, -7.06077139e-17]), 'OSCILLATOR STRENGTH (LEN)': 0.003187742366517262, 'ELECTRIC DIPOLE TRANSITION MOMENT (VEL)': array([ 1.36800051e-01, -2.26083283e-16,  1.60659272e-16]), 'OSCILLATOR STRENGTH (VEL)': 0.028213668239332943, 'MAGNETIC DIPOLE TRANSITION MOMENT': array([-7.97878720e-17, -2.63099938e-01, -8.05296591e-15]), 'ROTATORY STRENGTH (LEN)': 2.2270487024408488e-17, 'ROTATORY STRENGTH (VEL)': -1.098308033465929e-16, 'SYMMETRY': 'A', 'SPIN': 'singlet', 'RIGHT EIGENVECTOR ALPHA': <psi4.core.Matrix object at 0x7f8928756590>, 'LEFT EIGENVECTOR ALPHA': <psi4.core.Matrix object at 0x7f8928756590>, 'RIGHT EIGENVECTOR BETA': <psi4.core.Matrix object at 0x7f8928756590>, 'LEFT EIGENVECTOR BETA': <psi4.core.Matrix object at 0x7f8928756590>}, {'EXCITATION ENERGY': 0.5106075701271598, 'ELECTRIC DIPOLE TRANSITION MOMENT (LEN)': array([ 2.88048995e-15, -5.85019003e-15,  1.48674703e-14]), 'OSCILLATOR STRENGTH (LEN)': 8.971838569792697e-29, 'ELECTRIC DIPOLE TRANSITION MOMENT (VEL)': array([ 3.27429040e-15,  2.91175220e-15, -1.13965528e-14]), 'OSCILLATOR STRENGTH (VEL)': 1.9464484118106381e-28, 'MAGNETIC DIPOLE TRANSITION MOMENT': array([-5.11291996e-15, -5.26195779e-15,  3.44729093e-01]), 'ROTATORY STRENGTH (LEN)': 5.1252495449720565e-15, 'ROTATORY STRENGTH (VEL)': 7.694212817794555e-15, 'SYMMETRY': 'A', 'SPIN': 'singlet', 'RIGHT EIGENVECTOR ALPHA': <psi4.core.Matrix object at 0x7f89287560e0>, 'LEFT EIGENVECTOR ALPHA': <psi4.core.Matrix object at 0x7f89287560e0>, 'RIGHT EIGENVECTOR BETA': <psi4.core.Matrix object at 0x7f89287560e0>, 'LEFT EIGENVECTOR BETA': <psi4.core.Matrix object at 0x7f89287560e0>}, {'EXCITATION ENERGY': 0.5805152876254197, 'ELECTRIC DIPOLE TRANSITION MOMENT (LEN)': array([ 5.65701382e-17, -6.45693307e-14,  4.41206645e-01]), 'OSCILLATOR STRENGTH (LEN)': 0.07533668250134323, 'ELECTRIC DIPOLE TRANSITION MOMENT (VEL)': array([ 9.16784366e-17,  3.44251789e-14, -3.20725937e-01]), 'OSCILLATOR STRENGTH (VEL)': 0.1181308274526971, 'MAGNETIC DIPOLE TRANSITION MOMENT': array([-1.95519490e-14, -1.45211208e-16, -1.40761933e-14]), 'ROTATORY STRENGTH (LEN)': -6.2105100261943165e-15, 'ROTATORY STRENGTH (VEL)': -7.776884416346285e-15, 'SYMMETRY': 'A', 'SPIN': 'singlet', 'RIGHT EIGENVECTOR ALPHA': <psi4.core.Matrix object at 0x7f8928756720>, 'LEFT EIGENVECTOR ALPHA': <psi4.core.Matrix object at 0x7f8928756720>, 'RIGHT EIGENVECTOR BETA': <psi4.core.Matrix object at 0x7f8928756720>, 'LEFT EIGENVECTOR BETA': <psi4.core.Matrix object at 0x7f8928756720>}, {'EXCITATION ENERGY': 0.65742786389294, 'ELECTRIC DIPOLE TRANSITION MOMENT (LEN)': array([2.37113999e-17, 3.19146848e-01, 2.66123640e-14]), 'OSCILLATOR STRENGTH (LEN)': 0.044641416650413934, 'ELECTRIC DIPOLE TRANSITION MOMENT (VEL)': array([-1.82287515e-17, -1.39069610e-01, -1.92695990e-14]), 'OSCILLATOR STRENGTH (VEL)': 0.019612145479748388, 'MAGNETIC DIPOLE TRANSITION MOMENT': array([ 3.60757733e-01, -6.95944393e-17,  4.88722374e-15]), 'ROTATORY STRENGTH (LEN)': -1.3656775095461605e-17, 'ROTATORY STRENGTH (VEL)': -4.718857558674119e-18, 'SYMMETRY': 'A', 'SPIN': 'singlet', 'RIGHT EIGENVECTOR ALPHA': <psi4.core.Matrix object at 0x7f89287563b0>, 'LEFT EIGENVECTOR ALPHA': <psi4.core.Matrix object at 0x7f89287563b0>, 'RIGHT EIGENVECTOR BETA': <psi4.core.Matrix object at 0x7f89287563b0>, 'LEFT EIGENVECTOR BETA': <psi4.core.Matrix object at 0x7f89287563b0>}]\n"
     ]
    }
   ],
   "source": [
    "# compute the Hartree-Fock energy and wavefunction\n",
    "scf_e, wfn = psi4.energy('SCF', return_wfn=True)\n",
    "rpa = tdscf_excitations(wfn, states=4, tda=True)\n",
    "print(rpa)"
   ]
  },
  {
   "cell_type": "markdown",
   "metadata": {},
   "source": [
    "Get some basic information from the `wfn` object returned by `psi4`:"
   ]
  },
  {
   "cell_type": "code",
   "execution_count": 41,
   "metadata": {},
   "outputs": [],
   "source": [
    "# Grab data from wavfunction\n",
    "\n",
    "# number of doubly occupied orbitals\n",
    "ndocc   = wfn.nalpha()\n",
    "\n",
    "# total number of orbitals\n",
    "nmo     = wfn.nmo()\n",
    "\n",
    "# number of virtual orbitals\n",
    "nvirt   = nmo - ndocc\n",
    "\n",
    "# orbital energies\n",
    "eps     = np.asarray(wfn.epsilon_a())\n",
    "\n",
    "# occupied orbitals:\n",
    "Co = wfn.Ca_subset(\"AO\", \"OCC\")\n",
    "\n",
    "# virtual orbitals:\n",
    "Cv = wfn.Ca_subset(\"AO\", \"VIR\")"
   ]
  },
  {
   "cell_type": "markdown",
   "metadata": {},
   "source": [
    "Recall we need two types of electron repulsion integrals:\n",
    "$\\left( ia | jb \\right)$ comprise all (occupied-virtual, occupied-virtual) integrals and\n",
    "$\\left( ij | ab \\right)$ comprise all (occupied occupied, virtual virtual) integrals.\n",
    "We will use some of the Mints Helper functions to grab these specific integral blocks below.\n",
    "\n",
    "The MintsHelper class can construct tensors containing these specific classes of orbitals, provided we provide to it the corresponding definitions of the molecular orbitals (given by the `Co` and `Cv` matrices above):"
   ]
  },
  {
   "cell_type": "code",
   "execution_count": 42,
   "metadata": {},
   "outputs": [],
   "source": [
    "# use Psi4's MintsHelper to generate ERIs\n",
    "mints = psi4.core.MintsHelper(wfn.basisset())\n",
    "\n",
    "# build the (ov|ov) integrals:\n",
    "ovov = np.asarray(mints.mo_eri(Co, Cv, Co, Cv))\n",
    "\n",
    "# build the (oo|vv) integrals:\n",
    "oovv = np.asarray(mints.mo_eri(Co, Co, Cv, Cv))"
   ]
  },
  {
   "cell_type": "markdown",
   "metadata": {},
   "source": [
    "We also need the orbital energies which we obtained already using `wfn.epsilon_a()`.  We will now sort them\n",
    "into two different arrays: an array for the occupied orbital energies `eps_o` and an array for the virtual orbital energies `eps_v`."
   ]
  },
  {
   "cell_type": "code",
   "execution_count": 60,
   "metadata": {},
   "outputs": [],
   "source": [
    "# strip out occupied orbital energies, eps_o spans 0..ndocc-1\n",
    "eps_o = eps[:ndocc]\n",
    "\n",
    "# strip out virtual orbital energies, eps_v spans 0..nvirt-1\n",
    "eps_v = eps[ndocc:]\n",
    "### if you want to print these arrays, go ahead and uncomment!\n",
    "#print(oovv)\n",
    "#print(ovov)\n",
    "#print(eps_o)\n",
    "#print(eps_v)"
   ]
  },
  {
   "cell_type": "markdown",
   "metadata": {},
   "source": [
    "We will make an array for the spin-adapted CIS Hamiltonian, which is an $N \\times N$ matrix\n",
    "with $N = n_{occ} \\cdot n_{virt}$."
   ]
  },
  {
   "cell_type": "code",
   "execution_count": 61,
   "metadata": {},
   "outputs": [],
   "source": [
    "Ham = np.zeros((ndocc*nvirt,ndocc*nvirt))"
   ]
  },
  {
   "cell_type": "markdown",
   "metadata": {},
   "source": [
    "Given these tensors, you can access the element $(ij|ab)$ in Python as `oovv[i,j,a,b]`. Here, the indices $i$ and $j$ run from $0$ to $ndocc-1$, and the indices $a$ and $b$ run from $0$ to $nvirt-1$."
   ]
  },
  {
   "cell_type": "code",
   "execution_count": 62,
   "metadata": {},
   "outputs": [],
   "source": [
    "for i in range(0, ndocc):\n",
    "    for a in range(0, nvirt):\n",
    "        ia = i*nvirt + a\n",
    "        \n",
    "        for j in range(0, ndocc):\n",
    "            for b in range(0, nvirt):\n",
    "                jb = j*nvirt + b\n",
    "                term1 = eps_v[a] - eps_o[i]\n",
    "                term2 = 2 * ovov[i, a, j, b] - oovv[i,j,a,b]\n",
    "                ### if you want to print all the elements, uncomment below!\n",
    "                #print(ia,jb, eps_v[a], eps_o[i], i, j, a, b, term1, term2)\n",
    "                if (i==j) and (a == b):\n",
    "                    Ham[ia, jb] = term1 + term2\n",
    "                else:\n",
    "                    Ham[ia, jb] = term2\n"
   ]
  },
  {
   "cell_type": "markdown",
   "metadata": {},
   "source": [
    "Note that for the water molecule in the sto-3g basis with $r_{OH} = 1.0$ and $\\theta_{HOH} = 104.5^{\\circ}$, \n",
    "you can check the Hamiltonian matrix against [this one](https://www.chem.fsu.edu/~deprince/programming_projects/cis/hamiltonian.txt):"
   ]
  },
  {
   "cell_type": "code",
   "execution_count": 63,
   "metadata": {},
   "outputs": [],
   "source": [
    "### uncomment to print the Hamiltonian matrix\n",
    "#print(Ham)"
   ]
  },
  {
   "cell_type": "code",
   "execution_count": 66,
   "metadata": {},
   "outputs": [
    {
     "name": "stdout",
     "output_type": "stream",
     "text": [
      "0.6574278638929366\n",
      "[[ 2.72302117e-17 -1.50950170e-03]\n",
      " [-3.37558504e-15  2.96952119e-15]\n",
      " [ 4.56279084e-15  2.58726225e-02]\n",
      " [ 4.59842248e-01  8.87622350e-01]\n",
      " [-9.07220946e-16 -1.67583245e-15]]\n",
      "[{'EXCITATION ENERGY': 0.4422030179117806, 'ELECTRIC DIPOLE TRANSITION MOMENT (LEN)': array([ 1.03986362e-01, -1.16181470e-16, -7.06077139e-17]), 'OSCILLATOR STRENGTH (LEN)': 0.003187742366517262, 'ELECTRIC DIPOLE TRANSITION MOMENT (VEL)': array([ 1.36800051e-01, -2.26083283e-16,  1.60659272e-16]), 'OSCILLATOR STRENGTH (VEL)': 0.028213668239332943, 'MAGNETIC DIPOLE TRANSITION MOMENT': array([-7.97878720e-17, -2.63099938e-01, -8.05296591e-15]), 'ROTATORY STRENGTH (LEN)': 2.2270487024408488e-17, 'ROTATORY STRENGTH (VEL)': -1.098308033465929e-16, 'SYMMETRY': 'A', 'SPIN': 'singlet', 'RIGHT EIGENVECTOR ALPHA': <psi4.core.Matrix object at 0x7f8928756590>, 'LEFT EIGENVECTOR ALPHA': <psi4.core.Matrix object at 0x7f8928756590>, 'RIGHT EIGENVECTOR BETA': <psi4.core.Matrix object at 0x7f8928756590>, 'LEFT EIGENVECTOR BETA': <psi4.core.Matrix object at 0x7f8928756590>}, {'EXCITATION ENERGY': 0.5106075701271598, 'ELECTRIC DIPOLE TRANSITION MOMENT (LEN)': array([ 2.88048995e-15, -5.85019003e-15,  1.48674703e-14]), 'OSCILLATOR STRENGTH (LEN)': 8.971838569792697e-29, 'ELECTRIC DIPOLE TRANSITION MOMENT (VEL)': array([ 3.27429040e-15,  2.91175220e-15, -1.13965528e-14]), 'OSCILLATOR STRENGTH (VEL)': 1.9464484118106381e-28, 'MAGNETIC DIPOLE TRANSITION MOMENT': array([-5.11291996e-15, -5.26195779e-15,  3.44729093e-01]), 'ROTATORY STRENGTH (LEN)': 5.1252495449720565e-15, 'ROTATORY STRENGTH (VEL)': 7.694212817794555e-15, 'SYMMETRY': 'A', 'SPIN': 'singlet', 'RIGHT EIGENVECTOR ALPHA': <psi4.core.Matrix object at 0x7f89287560e0>, 'LEFT EIGENVECTOR ALPHA': <psi4.core.Matrix object at 0x7f89287560e0>, 'RIGHT EIGENVECTOR BETA': <psi4.core.Matrix object at 0x7f89287560e0>, 'LEFT EIGENVECTOR BETA': <psi4.core.Matrix object at 0x7f89287560e0>}, {'EXCITATION ENERGY': 0.5805152876254197, 'ELECTRIC DIPOLE TRANSITION MOMENT (LEN)': array([ 5.65701382e-17, -6.45693307e-14,  4.41206645e-01]), 'OSCILLATOR STRENGTH (LEN)': 0.07533668250134323, 'ELECTRIC DIPOLE TRANSITION MOMENT (VEL)': array([ 9.16784366e-17,  3.44251789e-14, -3.20725937e-01]), 'OSCILLATOR STRENGTH (VEL)': 0.1181308274526971, 'MAGNETIC DIPOLE TRANSITION MOMENT': array([-1.95519490e-14, -1.45211208e-16, -1.40761933e-14]), 'ROTATORY STRENGTH (LEN)': -6.2105100261943165e-15, 'ROTATORY STRENGTH (VEL)': -7.776884416346285e-15, 'SYMMETRY': 'A', 'SPIN': 'singlet', 'RIGHT EIGENVECTOR ALPHA': <psi4.core.Matrix object at 0x7f8928756720>, 'LEFT EIGENVECTOR ALPHA': <psi4.core.Matrix object at 0x7f8928756720>, 'RIGHT EIGENVECTOR BETA': <psi4.core.Matrix object at 0x7f8928756720>, 'LEFT EIGENVECTOR BETA': <psi4.core.Matrix object at 0x7f8928756720>}, {'EXCITATION ENERGY': 0.65742786389294, 'ELECTRIC DIPOLE TRANSITION MOMENT (LEN)': array([2.37113999e-17, 3.19146848e-01, 2.66123640e-14]), 'OSCILLATOR STRENGTH (LEN)': 0.044641416650413934, 'ELECTRIC DIPOLE TRANSITION MOMENT (VEL)': array([-1.82287515e-17, -1.39069610e-01, -1.92695990e-14]), 'OSCILLATOR STRENGTH (VEL)': 0.019612145479748388, 'MAGNETIC DIPOLE TRANSITION MOMENT': array([ 3.60757733e-01, -6.95944393e-17,  4.88722374e-15]), 'ROTATORY STRENGTH (LEN)': -1.3656775095461605e-17, 'ROTATORY STRENGTH (VEL)': -4.718857558674119e-18, 'SYMMETRY': 'A', 'SPIN': 'singlet', 'RIGHT EIGENVECTOR ALPHA': <psi4.core.Matrix object at 0x7f89287563b0>, 'LEFT EIGENVECTOR ALPHA': <psi4.core.Matrix object at 0x7f89287563b0>, 'RIGHT EIGENVECTOR BETA': <psi4.core.Matrix object at 0x7f89287563b0>, 'LEFT EIGENVECTOR BETA': <psi4.core.Matrix object at 0x7f89287563b0>}]\n"
     ]
    }
   ],
   "source": [
    "# diagonalize Hamiltonian\n",
    "ECIS, CCIS = np.linalg.eig(Ham)\n",
    "print(ECIS[7])\n",
    "print(np.reshape(CCIS[7,:],(5,2)))\n",
    "print(rpa)\n",
    "#[[ 1.11496908e-16 -5.29257371e-20]\n",
    "# [-5.20723397e-17 -1.62756122e-17]\n",
    "# [-8.97175766e-16  1.09154215e-16]\n",
    "# [-1.54415002e-15  2.95588487e-17]\n",
    "# [ 1.00000000e+00  4.76559551e-16]]"
   ]
  },
  {
   "cell_type": "markdown",
   "metadata": {},
   "source": [
    "Validating Transition Dipole Calculations:\n",
    "\n",
    "From the `psi4` calculations for sto-3g water with $r_{OH} = 1.0$ and $r_{HOH} = 104.5^{\\circ}$, the first 4 excitation energies and transition dipole moments are as follows:\n",
    "\n",
    "| State | Excitation Energy | $\\mu_x$ | $\\mu_y$ | $\\mu_z$ |\n",
    "| :-: | :-: | :-: | :-: | :-: |\n",
    "| 1     |      0.442203017  | 1.03986362e-01    |-1.16181470e-16    | -7.06077139e-17 \n",
    "| 2     |      0.510607570  | 2.88048995e-15    |-5.85019003e-15    | 1.48674703e-14 \n",
    "| 3     |      0.580515287  | 5.65701382e-17    |-6.45693307e-14    | 4.41206645e-01 \n",
    "| 4     |      0.657427863  | 2.37113999e-17    |3.19146848e-01    | 2.66123640e-14 \n"
   ]
  },
  {
   "cell_type": "code",
   "execution_count": null,
   "metadata": {},
   "outputs": [],
   "source": []
  },
  {
   "cell_type": "code",
   "execution_count": null,
   "metadata": {},
   "outputs": [],
   "source": []
  }
 ],
 "metadata": {
  "kernelspec": {
   "display_name": "Python 3",
   "language": "python",
   "name": "python3"
  },
  "language_info": {
   "codemirror_mode": {
    "name": "ipython",
    "version": 3
   },
   "file_extension": ".py",
   "mimetype": "text/x-python",
   "name": "python",
   "nbconvert_exporter": "python",
   "pygments_lexer": "ipython3",
   "version": "3.8.5"
  }
 },
 "nbformat": 4,
 "nbformat_minor": 4
}
