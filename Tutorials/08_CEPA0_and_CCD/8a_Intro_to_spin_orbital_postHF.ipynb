{
 "cells": [
  {
   "cell_type": "code",
   "execution_count": 1,
   "metadata": {},
   "outputs": [],
   "source": [
    "\"\"\"Tutorial: Introduction to the Spin-Orbital Formulation of Post-HF Methods\"\"\"\n",
    "\n",
    "__author__    = \"Adam S. Abbott\"\n",
    "__credit__    = [\"Adam S. Abbott\", \"Justin M. Turney\"]\n",
    "\n",
    "__copyright__ = \"(c) 2014-2018, The Psi4NumPy Developers\"\n",
    "__license__   = \"BSD-3-Clause\"\n",
    "__date__      = \"2017-05-23\""
   ]
  },
  {
   "cell_type": "markdown",
   "metadata": {},
   "source": [
    "# Introduction to the Spin Orbital Formulation of Post-HF Methods\n",
    "## Notation\n",
    "\n",
    "Post-HF methods such as MPn, coupled cluster theory, and configuration interaction improve the accuracy of our Hartree-Fock wavefunction by including terms corresponding to excitations of electrons from occupied (i, j, k..) to virtual (a, b, c...) orbitals. This recovers some of the dynamic electron correlation previously neglected by Hartree-Fock.\n",
    "\n",
    "It is convenient to introduce new notation to succinctly express the complex mathematical expressions encountered in these methods. This tutorial will cover this notation and apply it to a spin orbital formulation of conventional MP2. This code will also serve as a starting template for other tutorials which use a spin-orbital formulation, such as CEPA0, CCD, CIS, and OMP2. \n",
    "\n",
    "\n",
    "\n",
    "### I. Physicist's Notation for Two-Electron Integrals\n",
    "Recall from previous tutorials the form for the two-electron integrals over spin orbitals ($\\chi$) and spatial orbitals ($\\phi$):\n",
    "\\begin{equation}\n",
    " [pq|rs] = [\\chi_p\\chi_q|\\chi_r\\chi_s] = \\int dx_{1}dx_2 \\space \\chi^*_p(x_1)\\chi_q(x_1)\\frac{1}{r_{12}}\\chi^*_r(x_2)\\chi_s(x_2) \\\\\n",
    "(pq|rs) = (\\phi_p\\phi_q|\\phi_r\\phi_s) = \\int dx_{1}dx_2 \\space \\phi^*_p(x_1)\\phi_q(x_1)\\frac{1}{r_{12}}\\phi^*_r(x_2)\\phi_s(x_2)\n",
    "\\end{equation}\n",
    "\n",
    "Another form of the spin orbital two electron integrals is known as physicist's notation. By grouping the complex conjugates on the left side, we may express them in Dirac (\"bra-ket\") notation:\n",
    "\\begin{equation}\n",
    "\\langle pq \\mid rs \\rangle = \\langle \\chi_p \\chi_q \\mid \\chi_r \\chi_s \\rangle = \\int dx_{1}dx_2 \\space \\chi^*_p(x_1)\\chi^*_q(x_2)\\frac{1} {r_{12}}\\chi_r(x_1)\\chi_s(x_2) \n",
    "\\end{equation}\n",
    "\n",
    "The antisymmetric form of the two-electron integrals in physcist's notation is given by\n",
    "\n",
    "\\begin{equation}\n",
    "\\langle pq \\mid\\mid rs \\rangle = \\langle pq \\mid rs \\rangle - \\langle pq \\mid sr \\rangle\n",
    "\\end{equation}\n",
    "\n",
    "\n",
    "### II. Kutzelnigg-Mukherjee Tensor Notation and the Einstein Summation Convention\n",
    "\n",
    "Kutzelnigg-Mukherjee (KM) notation provides an easy way to express and manipulate the tensors (two-electron integrals, $t$-amplitudes, CI coefficients, etc.) encountered in post-HF methods. Indices which appear in the bra are expressed as subscripts, and indices which appear in the ket are expressed as superscripts:\n",
    "\\begin{equation}\n",
    "g_{pq}^{rs} = \\langle pq \\mid rs \\rangle \\quad \\quad \\quad \\overline{g}_{pq}^{rs} = \\langle pq \\mid\\mid rs \\rangle\n",
    "\\end{equation}\n",
    "\n",
    "The upper and lower indices allow the use of the Einstein Summation convention. Under this convention, whenever an indice appears in both the upper and lower position in a product, that indice is implicitly summed over. As an example, consider the MP2 energy expression:\n",
    "\n",
    "\\begin{equation}\n",
    "E_{MP2} = \\frac{1}{4} \\sum_{i a j b} \\frac{ [ia \\mid\\mid jb] [ia \\mid\\mid jb]} {\\epsilon_i - \\epsilon_a + \\epsilon_j - \\epsilon_b}\n",
    "\\end{equation}\n",
    "Converting to physicist's notation:\n",
    "\n",
    "\\begin{equation}\n",
    "E_{MP2} = \\frac{1}{4} \\sum_{i j a b} \\frac{ \\langle ij \\mid\\mid ab \\rangle \\langle ij \\mid \\mid ab \\rangle} {\\epsilon_i - \\epsilon_a + \\epsilon_j - \\epsilon_b}\n",
    "\\end{equation}\n",
    "KM Notation, taking advantage of the permutational symmetry of $g$:\n",
    "\\begin{equation}\n",
    "E_{MP2} = \\frac{1}{4} \\overline{g}_{ab}^{ij} \\overline{g}_{ij}^{ab} (\\mathcal{E}_{ab}^{ij})^{-1}\n",
    "\\end{equation}\n",
    "\n",
    "where $\\mathcal{E}_{ab}^{ij}$ is the sum of orbital energies $\\epsilon_i - \\epsilon_a + \\epsilon_j - \\epsilon_b$. Upon collecting every possible orbital energy sum into a 4-dimensional tensor, this equation can be solved with a simple tensor-contraction, as done in our MP2 tutorial.\n",
    "\n",
    "The notation simplication here is minor, but the value of this notation becomes obvious with more complicated expressions encountered in later tutorials such as CCD. It is also worth noting that KM notation is deeply intertwined with the second quantization and diagrammatic expressions of methods in advanced electronic structure theory. For our purposes, we will shy away from the details and simply use the notation to write out readily-programmable expressions.\n",
    "\n",
    "\n",
    "### III. Coding Spin Orbital Methods Example: MP2\n",
    "\n",
    "In the MP2 tutorial, we used spatial orbitals in our two-electron integral tensor, and this appreciably decreased the computational cost. However, this code will only work when using an RHF reference wavefunction. We may generalize our MP2 code (and other post-HF methods) to work with any reference by expressing our integrals, MO coefficients, and orbital energies obtained from Hartree-Fock in a spin orbital formulation. As an example, we will code spin orbital MP2, and this will serve as a foundation for later tutorials.\n",
    "\n"
   ]
  },
  {
   "cell_type": "markdown",
   "metadata": {},
   "source": [
    "### Implementation of Spin Orbital MP2\n",
    "As usual, we import Psi4 and NumPy, and set the appropriate options. However, in this code, we will be free to choose open-shell molecules which require UHF or ROHF references. We will stick to RHF and water for now."
   ]
  },
  {
   "cell_type": "code",
   "execution_count": 2,
   "metadata": {},
   "outputs": [],
   "source": [
    "# ==> Import statements & Global Options <==\n",
    "import psi4\n",
    "import numpy as np\n",
    "\n",
    "psi4.set_memory(int(2e9))\n",
    "numpy_memory = 2\n",
    "psi4.core.set_output_file('output.dat', False)"
   ]
  },
  {
   "cell_type": "code",
   "execution_count": 3,
   "metadata": {},
   "outputs": [],
   "source": [
    "# ==> Molecule & Psi4 Options Definitions <==\n",
    "mol = psi4.geometry(\"\"\"\n",
    "0 1\n",
    "O\n",
    "H 1 1.1\n",
    "H 1 1.1 2 104\n",
    "symmetry c1\n",
    "\"\"\")\n",
    "\n",
    "psi4.set_options({'basis':        '6-31g',\n",
    "                  'scf_type':     'pk',\n",
    "                  'reference':    'rhf',\n",
    "                  'mp2_type':     'conv',\n",
    "                  'e_convergence': 1e-8,\n",
    "                  'd_convergence': 1e-8})"
   ]
  },
  {
   "cell_type": "markdown",
   "metadata": {},
   "source": [
    "For convenience, we let Psi4 take care of the Hartree-Fock procedure, and return the wavefunction object."
   ]
  },
  {
   "cell_type": "code",
   "execution_count": 4,
   "metadata": {},
   "outputs": [],
   "source": [
    "# Get the SCF wavefunction & energies\n",
    "scf_e, scf_wfn = psi4.energy('scf', return_wfn=True)"
   ]
  },
  {
   "cell_type": "markdown",
   "metadata": {},
   "source": [
    "We also need information about the basis set and orbitals, such as the number of basis functions, number of spin orbitals, number of alpha and beta electrons, the number of occupied spin orbitals, and the number of virtual spin orbitals. These can be obtained with MintsHelper and from the wavefunction."
   ]
  },
  {
   "cell_type": "code",
   "execution_count": 5,
   "metadata": {},
   "outputs": [],
   "source": [
    "mints = psi4.core.MintsHelper(scf_wfn.basisset())\n",
    "nbf = mints.nbf()\n",
    "nso = 2 * nbf\n",
    "nalpha = scf_wfn.nalpha()\n",
    "nbeta = scf_wfn.nbeta()\n",
    "nocc = nalpha + nbeta\n",
    "nvirt = 2 * nbf - nocc"
   ]
  },
  {
   "cell_type": "markdown",
   "metadata": {},
   "source": [
    "For MP2, we need the MO coefficients, the two-electron integral tensor, and the orbital energies. But, since we are using spin orbitals, we have to manipulate this data accordingly. Let's get our MO coefficients in the proper form first. Recall in restricted Hartree-Fock, we obtain one MO coefficient matrix **C**, whose columns are the molecular orbital coefficients, and each row corresponds to a different atomic orbital basis function. But, in unrestricted Hartree-Fock, we obtain separate matrices for the alpha and beta spins, **Ca** and **Cb**. We need a general way to build one **C** matrix regardless of our Hartree-Fock reference. The solution is to put alpha and beta MO coefficients into a block diagonal form:"
   ]
  },
  {
   "cell_type": "code",
   "execution_count": 6,
   "metadata": {},
   "outputs": [],
   "source": [
    "Ca = np.asarray(scf_wfn.Ca())\n",
    "Cb = np.asarray(scf_wfn.Cb())\n",
    "C = np.block([\n",
    "             [      Ca           ,   np.zeros_like(Cb) ],\n",
    "             [np.zeros_like(Ca)  ,          Cb         ]\n",
    "            ])\n",
    "\n",
    "# Result: | Ca  0 |\n",
    "#         | 0   Cb|"
   ]
  },
  {
   "cell_type": "markdown",
   "metadata": {},
   "source": [
    "It's worth noting that for RHF and ROHF, the Ca and Cb given by Psi4 are the same.\n",
    "\n",
    "Now, for this version of MP2, we also need the MO-transformed two-electron integral tensor in physicist's notation. However, Psi4's default two-electron integral tensor is in the AO-basis, is not \"spin-blocked\" (like **C**, above!), and is in chemist's notation, so we have a bit of work to do. \n",
    "\n",
    "First, we will spin-block the two electron integral tensor in the same way that we spin-blocked our MO coefficients above. Unfortunately, this transformation is impossible to visualize for a 4-dimensional array.\n",
    "\n",
    "Nevertheless, the math generalizes and can easily be achieved with NumPy's kronecker product function `np.kron`. Here, we take the 2x2 identity, and place the two electron integral array into the space of the 1's along the diagonal. Then, we transpose the result and do the same. The result doubles the size of each dimension, and we obtain a \"spin-blocked\" two electron integral array."
   ]
  },
  {
   "cell_type": "code",
   "execution_count": 7,
   "metadata": {},
   "outputs": [],
   "source": [
    "# Get the two electron integrals using MintsHelper\n",
    "I = np.asarray(mints.ao_eri())\n",
    "\n",
    "def spin_block_tei(I):\n",
    "    \"\"\"  \n",
    "    Function that spin blocks two-electron integrals\n",
    "    Using np.kron, we project I into the space of the 2x2 identity, tranpose the result\n",
    "    and project into the space of the 2x2 identity again. This doubles the size of each axis.\n",
    "    The result is our two electron integral tensor in the spin orbital form.\n",
    "    \"\"\"\n",
    "    identity = np.eye(2)\n",
    "    I = np.kron(identity, I)\n",
    "    return np.kron(identity, I.T)\n",
    "\n",
    "# Spin-block the two electron integral array\n",
    "I_spinblock = spin_block_tei(I)"
   ]
  },
  {
   "cell_type": "markdown",
   "metadata": {},
   "source": [
    "From here, converting to antisymmetrized physicists notation is simply:"
   ]
  },
  {
   "cell_type": "code",
   "execution_count": 8,
   "metadata": {},
   "outputs": [],
   "source": [
    "# Converts chemist's notation to physicist's notation, and antisymmetrize\n",
    "# (pq | rs) ---> <pr | qs>\n",
    "# Physicist's notation\n",
    "tmp = I_spinblock.transpose(0, 2, 1, 3)\n",
    "# Antisymmetrize:\n",
    "# <pr||qs> = <pr | qs> - <pr | sq>\n",
    "gao = tmp - tmp.transpose(0, 1, 3, 2)"
   ]
  },
  {
   "cell_type": "markdown",
   "metadata": {},
   "source": [
    "We also need the orbital energies, and just as with the MO coefficients, we combine alpha and beta together. We also want to ensure that the columns of **C** are sorted in the same order as the corresponding orbital energies."
   ]
  },
  {
   "cell_type": "code",
   "execution_count": 9,
   "metadata": {},
   "outputs": [],
   "source": [
    "# Get orbital energies \n",
    "eps_a = np.asarray(scf_wfn.epsilon_a())\n",
    "eps_b = np.asarray(scf_wfn.epsilon_b())\n",
    "eps = np.append(eps_a, eps_b)\n",
    "\n",
    "# Before sorting the orbital energies, we can use their current arrangement to sort the columns\n",
    "# of C. Currently, each element i of eps corresponds to the column i of C, but we want both\n",
    "# eps and columns of C to be in increasing order of orbital energies\n",
    "\n",
    "# Sort the columns of C according to the order of increasing orbital energies \n",
    "C = C[:, eps.argsort()] \n",
    "\n",
    "# Sort orbital energies in increasing order\n",
    "eps = np.sort(eps)"
   ]
  },
  {
   "cell_type": "markdown",
   "metadata": {},
   "source": [
    "Finally, we transform our two-electron integrals to the MO basis. For the sake of generalizing for other methods, instead of just transforming the MP2 relevant subsection as before:\n",
    "~~~python\n",
    "tmp = np.einsum('pi,pqrs->iqrs', Cocc, I, optimize=True)\n",
    "tmp = np.einsum('qa,iqrs->iars', Cvirt, tmp, optimize=True)\n",
    "tmp = np.einsum('iars,rj->iajs', tmp, Cocc, optimize=True)\n",
    "I_mo = np.einsum('iajs,sb->iajb', tmp, Cvirt, optimize=True)\n",
    "~~~\n",
    "\n",
    "we instead transform the full array so it can be used for terms from methods other than MP2. The nested `einsum`'s work the same way as the method above. Here, we denote the integrals as `gmo` to differentiate from the chemist's notation integrals `I_mo`."
   ]
  },
  {
   "cell_type": "code",
   "execution_count": 10,
   "metadata": {},
   "outputs": [],
   "source": [
    "# Transform gao, which is the spin-blocked 4d array of physicist's notation, \n",
    "# antisymmetric two-electron integrals, into the MO basis using MO coefficients \n",
    "gmo = np.einsum('pQRS, pP -> PQRS',\n",
    "      np.einsum('pqRS, qQ -> pQRS',\n",
    "      np.einsum('pqrS, rR -> pqRS',\n",
    "      np.einsum('pqrs, sS -> pqrS', gao, C, optimize=True), C, optimize=True), C, optimize=True), C, optimize=True)"
   ]
  },
  {
   "cell_type": "markdown",
   "metadata": {},
   "source": [
    "And just as before, construct the 4-dimensional array of orbital energy denominators. An alternative to the old method:\n",
    "~~~python\n",
    "e_ij = eps[:nocc]\n",
    "e_ab = eps[nocc:]\n",
    "e_denom = 1 / (e_ij.reshape(-1, 1, 1, 1) - e_ab.reshape(-1, 1, 1) + e_ij.reshape(-1, 1) - e_ab)\n",
    "~~~\n",
    "is the following:"
   ]
  },
  {
   "cell_type": "code",
   "execution_count": 11,
   "metadata": {},
   "outputs": [],
   "source": [
    "# Define slices, create 4 dimensional orbital energy denominator tensor\n",
    "n = np.newaxis\n",
    "o = slice(None, nocc)\n",
    "v = slice(nocc, None)\n",
    "e_abij = 1 / (-eps[v, n, n, n] - eps[n, v, n, n] + eps[n, n, o, n] + eps[n, n, n, o])"
   ]
  },
  {
   "cell_type": "markdown",
   "metadata": {},
   "source": [
    "These slices will also be used to define the occupied and virtual space of our two electron integrals. \n",
    "\n",
    "For example, $\\bar{g}_{ab}^{ij}$ can be accessed with `gmo[v, v, o, o]` "
   ]
  },
  {
   "cell_type": "markdown",
   "metadata": {},
   "source": [
    "We now have all the pieces we need to compute the MP2 correlation energy. Our energy expression in KM notation is\n",
    "\n",
    "\\begin{equation}\n",
    "E_{MP2} = \\frac{1}{4} \\bar{g}_{ab}^{ij} \\bar{g}_{ij}^{ab} (\\mathcal{E}_{ab}^{ij})^{-1}\n",
    "\\end{equation}\n",
    "\n",
    "which may be easily read-off as an einsum in NumPy. Here, for clarity, we choose to read the tensors from left to right (bra to ket). We also are sure to take the appropriate slice of the two-electron integral array:"
   ]
  },
  {
   "cell_type": "code",
   "execution_count": 12,
   "metadata": {},
   "outputs": [
    {
     "name": "stdout",
     "output_type": "stream",
     "text": [
      "MP2 correlation energy:  -0.14211984010723105\n",
      "MP2 total energy:  -76.0946488864295\n"
     ]
    }
   ],
   "source": [
    "# Compute MP2 Correlation Energy\n",
    "E_MP2_corr = (1 / 4) * np.einsum('abij, ijab, abij ->', gmo[v, v, o, o], gmo[o, o, v, v], e_abij, optimize=True)\n",
    "\n",
    "E_MP2 = E_MP2_corr + scf_e\n",
    "\n",
    "print('MP2 correlation energy: ', E_MP2_corr)\n",
    "print('MP2 total energy: ', E_MP2)"
   ]
  },
  {
   "cell_type": "markdown",
   "metadata": {},
   "source": [
    "Finally, compare our answer with Psi4:"
   ]
  },
  {
   "cell_type": "code",
   "execution_count": 13,
   "metadata": {},
   "outputs": [
    {
     "name": "stdout",
     "output_type": "stream",
     "text": [
      "    MP2 Energy........................................................PASSED\n"
     ]
    },
    {
     "data": {
      "text/plain": [
       "True"
      ]
     },
     "execution_count": 13,
     "metadata": {},
     "output_type": "execute_result"
    }
   ],
   "source": [
    "# ==> Compare to Psi4 <==\n",
    "psi4.compare_values(psi4.energy('mp2'), E_MP2, 6, 'MP2 Energy')"
   ]
  },
  {
   "cell_type": "markdown",
   "metadata": {
    "collapsed": true
   },
   "source": [
    "## References\n",
    "\n",
    "1. Notation and Symmetry of Integrals:\n",
    "    > C. David Sherill, \"Permutational Symmetries of One- and Two-Electron Integrals\" Accessed with http://vergil.chemistry.gatech.edu/notes/permsymm/permsymm.pdf\n",
    "2. Useful Notes on Kutzelnigg-Mukherjee Notation: \n",
    "    > A. V. Copan, \"Kutzelnigg-Mukherjee Tensor Notation\" Accessed with https://github.com/CCQC/chem-8950/tree/master/2017\n",
    "\n",
    "3. Original paper on MP2: \"Note on an Approximation Treatment for Many-Electron Systems\"\n",
    "\t> [[Moller:1934:618](https://journals.aps.org/pr/abstract/10.1103/PhysRev.46.618)] C. Møller and M. S. Plesset, *Phys. Rev.* **46**, 618 (1934)\n",
    "    \n"
   ]
  }
 ],
 "metadata": {
  "anaconda-cloud": {},
  "kernelspec": {
   "display_name": "Python 3",
   "language": "python",
   "name": "python3"
  },
  "language_info": {
   "codemirror_mode": {
    "name": "ipython",
    "version": 3
   },
   "file_extension": ".py",
   "mimetype": "text/x-python",
   "name": "python",
   "nbconvert_exporter": "python",
   "pygments_lexer": "ipython3",
   "version": "3.8.5"
  },
  "latex_envs": {
   "LaTeX_envs_menu_present": true,
   "bibliofile": "biblio.bib",
   "cite_by": "apalike",
   "current_citInitial": 1,
   "eqLabelWithNumbers": true,
   "eqNumInitial": 1,
   "labels_anchors": false,
   "latex_user_defs": false,
   "report_style_numbering": false,
   "user_envs_cfg": false
  }
 },
 "nbformat": 4,
 "nbformat_minor": 1
}
