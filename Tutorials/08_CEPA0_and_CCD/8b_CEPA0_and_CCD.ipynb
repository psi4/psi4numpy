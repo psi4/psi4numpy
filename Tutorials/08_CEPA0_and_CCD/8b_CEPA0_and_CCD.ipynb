{
 "cells": [
  {
   "cell_type": "code",
   "execution_count": 1,
   "metadata": {},
   "outputs": [],
   "source": [
    "\"\"\"Tutorial: CEPA0 and CCD\"\"\"\n",
    "\n",
    "__author__    = \"Adam S. Abbott\"\n",
    "__credit__    = [\"Adam S. Abbott\", \"Justin M. Turney\"]\n",
    "\n",
    "__copyright__ = \"(c) 2014-2018, The Psi4NumPy Developers\"\n",
    "__license__   = \"BSD-3-Clause\"\n",
    "__date__      = \"2017-05-23\""
   ]
  },
  {
   "cell_type": "markdown",
   "metadata": {},
   "source": [
    "# Introduction\n",
    "In this tutorial, we will implement the coupled-electron pair approximation (CEPA0) and coupled-cluster doubles (CCD) methods using our spin orbital framework covered in the [previous tutorial](8a_Intro_to_spin_orbital_postHF.ipynb).\n",
    "\n",
    "\n",
    "### I. Coupled Cluster Theory\n",
    "\n",
    "In single reference coupled cluster theory, dynamic correlation is acquired by operating an exponential operator on some reference determinant, such as a Hartree-Fock wavefunction, to obtain the coupled cluster wavefunction given by:\n",
    "\n",
    "\\begin{equation}\n",
    "\\mid \\mathrm{\\Psi_{CC}} \\rangle = \\exp(\\hat{T}) \\mid \\mathrm{\\Phi} \\rangle \n",
    "\\end{equation}\n",
    "\n",
    "where $\\hat{T} = T_1 + T_2 + ... + T_n$ is the sum of \"cluster operators\" which act on our reference wavefunction to excite electrons from occupied ($i, j, k$...) to virtual ($a, b, c$...) orbitals. In second quantization, these cluster operators are expressed as:\n",
    "\n",
    "\\begin{equation}\n",
    "T_k = \\left(\\frac{1}{k!}\\right)^2 \\sum_{\\substack{i_1 \\ldots i_k \\\\ a_1 \\ldots a_k }} t_{i_1 \\ldots i_k}^{a_1 \\ldots a_k}   a_{a_1}^{\\dagger} \\ldots a_{a_k}^{\\dagger} a_{i_k} \\ldots a_{i_1}\n",
    "\\end{equation}\n",
    "\n",
    "where $t$ is the $t$-amplitude, and $a^{\\dagger}$ and $a$ are creation and annihilation operators.\n",
    "\n",
    "### II. Coupled Cluster Doubles\n",
    "For CCD, we only include the doubles cluster operator:\n",
    "\n",
    "\\begin{equation}\n",
    "\\mid \\mathrm{\\Psi_{CCD}} \\rangle = \\exp(T_2) \\mid \\mathrm{\\Phi} \\rangle\n",
    "\\end{equation}\n",
    "\n",
    "The CCD Schr&ouml;dinger equation is\n",
    "\n",
    "\\begin{equation}\n",
    "\\hat{H} \\mid \\mathrm{\\Psi_{CCD}} \\rangle = E \\mid \\mathrm{\\Psi_{CCD}}\\rangle\n",
    "\\end{equation}\n",
    "\n",
    "The details will not be covered here, but if we project the CCD Schr&ouml;dinger equation on the left by our Hartree-Fock reference determinant $ \\langle \\mathrm{\\Phi}\\mid $, assuming intermediate normalization $\\langle \\Phi \\mid \\mathrm{\\Psi_{CCD}} \\rangle = 1$, we obtain:\n",
    "\n",
    "\\begin{equation}\n",
    " \\langle \\Phi \\mid \\hat{H} \\space \\exp(T_2) \\mid \\Phi \\rangle = E\n",
    "\\end{equation}\n",
    "\n",
    "which is most easily evaluated with a diagrammatic application of Wick's theorem. Assuming Brillouin's theorem applies (that is, our reference is a Hartree-Fock wavefunction) we obtain:\n",
    "\n",
    "\\begin{equation}\n",
    "E_{\\mathrm{CCD}} = \\tfrac{1}{4} \\bar{g}_{ij}^{ab} t_{ab}^{ij}\n",
    "\\end{equation}\n",
    "\n",
    "A somewhat more involved derivation is that of the $t$-amplitudes. These are obtained in a similar fashion to the energy expression, this time projecting the CCD Schr&ouml;dinger equation on the left by a doubly-excited reference determinant $ \\langle\\Phi_{ij}^{ab}\\mid $:\n",
    "\n",
    "\\begin{equation}\n",
    "\\langle\\Phi_{ij}^{ab}\\mid \\hat{H} \\space \\exp(T_2) \\mid \\Phi \\rangle\n",
    "\\end{equation}\n",
    "\n",
    "I will spare you the details of solving this expectation value as well. But, if one evaluates the diagrams via Wick's theorem and simplifies, the $t$-amplitudes are given by:\n",
    "\n",
    "\\begin{equation}\n",
    "t_{ab}^{ij} = (\\mathcal{E}_{ab}^{ij})^{-1} \\left( \\bar{g}_{ab}^{ij} + \\tfrac{1}{2} \\bar{g}_{ab}^{cd} t_{cd}^{ij} + \\tfrac{1}{2} \\bar{g}_{kl}^{ij} t_{ab}^{kl}  + \\hat{P}_{(a \\space / \\space b)}^{(i \\space / \\space j)} \\bar{g}_{ak}^{ic} t_{bc}^{jk} - \\tfrac{1}{2}\\hat{P}_{(a \\space / \\space b)} \\bar{g}_{kl}^{cd} t_{ac}^{ij} t_{bd}^{kl} - \\tfrac{1}{2}  \\hat{P}^{(i \\space / \\space j)} \\bar{g}_{kl}^{cd} t_{ab}^{ik} t_{cd}^{jl} + \\tfrac{1}{4} \\bar{g}_{kl}^{cd} t_{cd}^{ij} t_{ab}^{kl} +  \\hat{P}^{(i \\space / \\space j)} \\bar{g}_{kl}^{cd} t_{ac}^{ik} t_{bd}^{jl} \\right)\n",
    "\\end{equation}\n",
    "\n",
    "where $(\\mathcal{E}_{ab}^{ij})^{-1}$ is the orbital energy denominator, more familiarly known as\n",
    "\n",
    "\\begin{equation}\n",
    "(\\mathcal{E}_{ab}^{ij})^{-1} = \\frac{1}{\\epsilon_i + \\epsilon_j - \\epsilon_a - \\epsilon_b}\n",
    "\\end{equation}\n",
    "\n",
    "and $\\bar{g}_{pq}^{rs}$ is the antisymmetrized two-electron integral in physicist's notation $\\langle pq \\mid\\mid rs \\rangle$. $\\hat{P}$ is the *antisymmetric permutation operator*. This operator acts on a term to produce the sum of the permutations of the indicated indices, with an appropriate sign factor. Its effect is best illustrated by an example. Consider the fourth term, which is really four terms in one. \n",
    "\n",
    "$\\hat{P}_{(a \\space / \\space b)}^{(i \\space / \\space j)} \\bar{g}_{ak}^{ic} t_{bc}^{jk}$ produces: \n",
    "\n",
    "1. The original: $ \\quad \\bar{g}_{ak}^{ic} t_{bc}^{jk} \\\\ $\n",
    "\n",
    "2. Permuation of $a$ and $b$: $ \\quad  \\textrm{-} \\bar{g}_{bk}^{ic} t_{ac}^{jk} \\\\ $\n",
    "\n",
    "3. Permuation of $i$ and $j$: $ \\quad \\, \\, \\textrm{-} \\bar{g}_{ak}^{jc} t_{bc}^{ik} \\\\ $\n",
    "\n",
    "4. Permuation of $a$ and $b$, $i$ and $j$: $ \\quad \\bar{g}_{bk}^{jc} t_{ac}^{ik} \\\\ $\n",
    "\n",
    "\n",
    "Note that each permutation adds a sign change. This shorthand notation keeps the equation in a more manageable form. \n",
    "\n",
    "Since the $t$-amplitudes and the energy depend on $t$-amplitudes, we must iteratively solve these equations until they reach self consistency, and the energy converges to some threshold.\n",
    "\n",
    "### III. Retrieving MP2 and CEPA0 from the CCD equations\n",
    "It is interesting to note that if we only consider the first term of the expression for the doubles amplitude $t_{ab}^{ij}$ and plug it into the energy expression, we obtain the MP2 energy expression:\n",
    "\n",
    "\\begin{equation}\n",
    "t_{ab}^{ij} = (\\mathcal{E}_{ab}^{ij})^{-1} \\bar{g}_{ab}^{ij} \n",
    "\\end{equation}\n",
    "\n",
    "\\begin{equation}\n",
    "E_{\\mathrm{MP2}} = \\tfrac{1}{4}  \\bar{g}_{ij}^{ab} t_{ab}^{ij}  = \\tfrac{1}{4} \\bar{g}_{ij}^{ab} \\bar{g}_{ab}^{ij}   (\\mathcal{E}_{ab}^{ij})^{-1}\n",
    "\\end{equation}\n",
    "\n",
    "Furthermore, if we leave out the quadratic terms in the CCD amplitude equation (terms containing two $t$-amplitudes), we obtain the coupled electron-pair approximation (CEPA0):\n",
    "\\begin{equation}\n",
    "t_{ab}^{ij} = (\\mathcal{E}_{ab}^{ij})^{-1} \\left( \\bar{g}_{ab}^{ij} + \\tfrac{1}{2} \\bar{g}_{ab}^{cd} t_{cd}^{ij} + \\tfrac{1}{2} \\bar{g}_{kl}^{ij} t_{ab}^{kl}  + \\hat{P}_{(a \\space / \\space b)}^{(i \\space / \\space j)} \\bar{g}_{ak}^{ic} t_{bc}^{jk} \\right)\n",
    "\\end{equation}\n",
    "\n",
    "The CEPA0 energy expression is identical:\n",
    "\n",
    "\\begin{equation}\n",
    "E_{\\mathrm{CEPA0}} = \\tfrac{1}{4} \\bar{g}_{ij}^{ab} t_{ab}^{ij}\n",
    "\\end{equation}\n",
    "\n",
    "Using our spin orbital setup for the MO coefficients, orbital energies, and two-electron integrals used in the [previous tutorial](8a_Intro_to_spin_orbital_postHF.ipynb), we are equipped to program the expressions for the CEPA0 and CCD correlation energy."
   ]
  },
  {
   "cell_type": "markdown",
   "metadata": {},
   "source": [
    "### Implementation: CEPA0 and CCD\n",
    "As usual, we import Psi4 and NumPy, and set the appropriate options. "
   ]
  },
  {
   "cell_type": "code",
   "execution_count": 2,
   "metadata": {},
   "outputs": [],
   "source": [
    "# ==> Import statements & Global Options <==\n",
    "import psi4\n",
    "import numpy as np\n",
    "\n",
    "psi4.set_memory(int(2e9))\n",
    "numpy_memory = 2\n",
    "psi4.core.set_output_file('output.dat', False)"
   ]
  },
  {
   "cell_type": "code",
   "execution_count": 3,
   "metadata": {},
   "outputs": [],
   "source": [
    "# ==> Molecule & Psi4 Options Definitions <==\n",
    "mol = psi4.geometry(\"\"\"\n",
    "0 1\n",
    "O\n",
    "H 1 1.1\n",
    "H 1 1.1 2 104\n",
    "symmetry c1\n",
    "\"\"\")\n",
    "\n",
    "psi4.set_options({'basis':        '6-31g',\n",
    "                  'scf_type':     'pk',\n",
    "                  'reference':    'rhf',\n",
    "                  'mp2_type':     'conv',\n",
    "                  'e_convergence': 1e-8,\n",
    "                  'd_convergence': 1e-8})"
   ]
  },
  {
   "cell_type": "markdown",
   "metadata": {},
   "source": [
    "Note that since we are using a spin orbital setup, we are free to use any Hartree-Fock reference we want. Here we choose RHF. For convenience, we let Psi4 take care of the Hartree-Fock procedure, and return the wavefunction object."
   ]
  },
  {
   "cell_type": "code",
   "execution_count": 4,
   "metadata": {},
   "outputs": [],
   "source": [
    "# Get the SCF wavefunction & energies\n",
    "scf_e, scf_wfn = psi4.energy('scf', return_wfn=True)"
   ]
  },
  {
   "cell_type": "markdown",
   "metadata": {},
   "source": [
    "Load in information about the basis set and orbitals using MintsHelper and the wavefunction:"
   ]
  },
  {
   "cell_type": "code",
   "execution_count": 5,
   "metadata": {},
   "outputs": [],
   "source": [
    "mints = psi4.core.MintsHelper(scf_wfn.basisset())\n",
    "nbf = mints.nbf()           # number of basis functions\n",
    "nso = 2 * nbf               # number of spin orbitals\n",
    "nalpha = scf_wfn.nalpha()   # number of alpha electrons\n",
    "nbeta = scf_wfn.nbeta()     # number of beta electrons\n",
    "nocc = nalpha + nbeta       # number of occupied orbitals\n",
    "nvirt = 2 * nbf - nocc      # number of virtual orbitals"
   ]
  },
  {
   "cell_type": "markdown",
   "metadata": {},
   "source": [
    "Spin-block our MO coefficients and two-electron integrals, just like in the spin orbital MP2 code:"
   ]
  },
  {
   "cell_type": "code",
   "execution_count": 6,
   "metadata": {},
   "outputs": [],
   "source": [
    "Ca = np.asarray(scf_wfn.Ca())\n",
    "Cb = np.asarray(scf_wfn.Cb())\n",
    "C = np.block([\n",
    "             [      Ca           ,   np.zeros_like(Cb) ],\n",
    "             [np.zeros_like(Ca)  ,          Cb         ]\n",
    "            ])\n",
    "\n",
    "# Result: | Ca  0 |\n",
    "#         | 0   Cb|"
   ]
  },
  {
   "cell_type": "code",
   "execution_count": 7,
   "metadata": {},
   "outputs": [],
   "source": [
    "# Get the two electron integrals using MintsHelper\n",
    "I = np.asarray(mints.ao_eri())\n",
    "\n",
    "def spin_block_tei(I):\n",
    "    \"\"\"  \n",
    "    Function that spin blocks two-electron integrals\n",
    "    Using np.kron, we project I into the space of the 2x2 identity, tranpose the result\n",
    "    and project into the space of the 2x2 identity again. This doubles the size of each axis.\n",
    "    The result is our two electron integral tensor in the spin orbital form.\n",
    "    \"\"\"\n",
    "    identity = np.eye(2)\n",
    "    I = np.kron(identity, I)\n",
    "    return np.kron(identity, I.T)\n",
    "\n",
    "# Spin-block the two electron integral array\n",
    "I_spinblock = spin_block_tei(I)"
   ]
  },
  {
   "cell_type": "markdown",
   "metadata": {},
   "source": [
    "Convert two-electron integrals to antisymmetrized physicist's notation:"
   ]
  },
  {
   "cell_type": "code",
   "execution_count": 8,
   "metadata": {},
   "outputs": [],
   "source": [
    "# Converts chemist's notation to physicist's notation, and antisymmetrize\n",
    "# (pq | rs) ---> <pr | qs>\n",
    "# Physicist's notation\n",
    "tmp = I_spinblock.transpose(0, 2, 1, 3)\n",
    "# Antisymmetrize:\n",
    "# <pr||qs> = <pr | qs> - <pr | sq>\n",
    "gao = tmp - tmp.transpose(0, 1, 3, 2)"
   ]
  },
  {
   "cell_type": "markdown",
   "metadata": {},
   "source": [
    "Obtain the orbital energies, append them, and sort the columns of our MO coefficient matrix according to the increasing order of orbital energies. "
   ]
  },
  {
   "cell_type": "code",
   "execution_count": 9,
   "metadata": {},
   "outputs": [],
   "source": [
    "# Get orbital energies \n",
    "eps_a = np.asarray(scf_wfn.epsilon_a())\n",
    "eps_b = np.asarray(scf_wfn.epsilon_b())\n",
    "eps = np.append(eps_a, eps_b)\n",
    "\n",
    "# Before sorting the orbital energies, we can use their current arrangement to sort the columns\n",
    "# of C. Currently, each element i of eps corresponds to the column i of C, but we want both\n",
    "# eps and columns of C to be in increasing order of orbital energies\n",
    "\n",
    "# Sort the columns of C according to the order of increasing orbital energies \n",
    "C = C[:, eps.argsort()] \n",
    "\n",
    "# Sort orbital energies in increasing order\n",
    "eps = np.sort(eps)"
   ]
  },
  {
   "cell_type": "markdown",
   "metadata": {},
   "source": [
    "Finally, we transform our two-electron integrals to the MO basis. Here, we denote the integrals as `gmo` to differentiate from the chemist's notation integrals `I_mo`."
   ]
  },
  {
   "cell_type": "code",
   "execution_count": 10,
   "metadata": {},
   "outputs": [],
   "source": [
    "# Transform gao, which is the spin-blocked 4d array of physicist's notation, \n",
    "# antisymmetric two-electron integrals, into the MO basis using MO coefficients \n",
    "gmo = np.einsum('pQRS, pP -> PQRS',\n",
    "      np.einsum('pqRS, qQ -> pQRS',\n",
    "      np.einsum('pqrS, rR -> pqRS',\n",
    "      np.einsum('pqrs, sS -> pqrS', gao, C, optimize=True), C, optimize=True), C, optimize=True), C, optimize=True)"
   ]
  },
  {
   "cell_type": "markdown",
   "metadata": {},
   "source": [
    "Construct the 4-dimensional array of orbital energy denominators:"
   ]
  },
  {
   "cell_type": "code",
   "execution_count": 11,
   "metadata": {},
   "outputs": [],
   "source": [
    "# Define slices, create 4 dimensional orbital energy denominator tensor\n",
    "n = np.newaxis\n",
    "o = slice(None, nocc)\n",
    "v = slice(nocc, None)\n",
    "e_abij = 1 / (-eps[v, n, n, n] - eps[n, v, n, n] + eps[n, n, o, n] + eps[n, n, n, o])"
   ]
  },
  {
   "cell_type": "markdown",
   "metadata": {},
   "source": [
    "We now have everything we need to construct our $t$-amplitudes and iteratively solve for our CEPA0 and CCD energy. To build the $t$-amplitudes, we first construct an empty 4-dimensional array to store them. "
   ]
  },
  {
   "cell_type": "code",
   "execution_count": 12,
   "metadata": {},
   "outputs": [],
   "source": [
    "# Create space to store t amplitudes\n",
    "t_amp = np.zeros((nvirt, nvirt, nocc, nocc))"
   ]
  },
  {
   "cell_type": "markdown",
   "metadata": {},
   "source": [
    "# Implementation: CEPA0\n",
    "First we will program CEPA0. Recall the expression for the $t$-amplitudes:\n",
    "\n",
    "\\begin{equation}\n",
    "t_{ab}^{ij} = (\\mathcal{E}_{ab}^{ij})^{-1} \\left( \\bar{g}_{ab}^{ij} + \\tfrac{1}{2} \\bar{g}_{ab}^{cd} t_{cd}^{ij} + \\tfrac{1}{2} \\bar{g}_{kl}^{ij} t_{ab}^{kl}  + \\hat{P}_{(a \\space / \\space b)}^{(i \\space / \\space j)} \\bar{g}_{ak}^{ic} t_{bc}^{jk} \\right)\n",
    "\\end{equation}\n",
    "\n",
    "These terms translate naturally into code using NumPy's `einsum` function. To access only the occupied and virtual indices of `gmo` we use our slices defined above. The permutation operator terms can be easily obtained by transposing the original result accordingly. To construct each iteration's $t$-amplitude:  \n",
    "\n",
    "~~~python\n",
    "mp2    = gmo[v, v, o, o]\n",
    "cepa1  = (1 / 2) * np.einsum('abcd, cdij -> abij', gmo[v, v, v, v], t_amp, optimize=True)\n",
    "cepa2  = (1 / 2) * np.einsum('klij, abkl -> abij', gmo[o, o, o, o], t_amp, optimize=True)\n",
    "cepa3a = np.einsum('akic, bcjk -> abij', gmo[v, o, o, v], t_amp, optimize=True)\n",
    "cepa3b = -cepa3a.transpose(1, 0, 2, 3)\n",
    "cepa3c = -cepa3a.transpose(0, 1, 3, 2)\n",
    "cepa3d =  cepa3a.transpose(1, 0, 3, 2)\n",
    "cepa3  =  cepa3a + cepa3b + cepa3c + cepa3d\n",
    "\n",
    "t_amp_new = e_abij * (mp2 + cepa1 + cepa2 + cepa3)\n",
    "~~~\n",
    "\n",
    "To evaluate the energy, $E_{\\mathrm{CEPA0}} = \\tfrac{1}{4} \\bar{g}_{ij}^{ab} t_{ab}^{ij}$,\n",
    "\n",
    "~~~python\n",
    "E_CEPA0 = (1 / 4) * np.einsum('ijab, abij ->', gmo[o, o, v, v], t_amp_new, optimize=True)\n",
    "~~~"
   ]
  },
  {
   "cell_type": "markdown",
   "metadata": {},
   "source": [
    "Putting it all together, we initialize the energy, set the max iterations, and iterate the energy until it converges to our convergence criterion:"
   ]
  },
  {
   "cell_type": "code",
   "execution_count": 13,
   "metadata": {},
   "outputs": [
    {
     "name": "stdout",
     "output_type": "stream",
     "text": [
      "CEPA0 Iteration   0: Energy = -0.142119840107 dE = -1.42120E-01\n",
      "CEPA0 Iteration   1: Energy = -0.142244391124 dE = -1.24551E-04\n",
      "CEPA0 Iteration   2: Energy = -0.146403555808 dE = -4.15916E-03\n",
      "CEPA0 Iteration   3: Energy = -0.147737944685 dE = -1.33439E-03\n",
      "CEPA0 Iteration   4: Energy = -0.148357998476 dE = -6.20054E-04\n",
      "CEPA0 Iteration   5: Energy = -0.148640319256 dE = -2.82321E-04\n",
      "CEPA0 Iteration   6: Energy = -0.148774677462 dE = -1.34358E-04\n",
      "CEPA0 Iteration   7: Energy = -0.148840007175 dE = -6.53297E-05\n",
      "CEPA0 Iteration   8: Energy = -0.148872387868 dE = -3.23807E-05\n",
      "CEPA0 Iteration   9: Energy = -0.148888687346 dE = -1.62995E-05\n",
      "CEPA0 Iteration  10: Energy = -0.148897003346 dE = -8.31600E-06\n",
      "CEPA0 Iteration  11: Energy = -0.148901297751 dE = -4.29440E-06\n",
      "CEPA0 Iteration  12: Energy = -0.148903540226 dE = -2.24248E-06\n",
      "CEPA0 Iteration  13: Energy = -0.148904723489 dE = -1.18326E-06\n",
      "CEPA0 Iteration  14: Energy = -0.148905354026 dE = -6.30537E-07\n",
      "CEPA0 Iteration  15: Energy = -0.148905693171 dE = -3.39145E-07\n",
      "CEPA0 Iteration  16: Energy = -0.148905877194 dE = -1.84023E-07\n",
      "CEPA0 Iteration  17: Energy = -0.148905977873 dE = -1.00678E-07\n",
      "CEPA0 Iteration  18: Energy = -0.148906033377 dE = -5.55039E-08\n",
      "CEPA0 Iteration  19: Energy = -0.148906064192 dE = -3.08158E-08\n",
      "CEPA0 Iteration  20: Energy = -0.148906081412 dE = -1.72194E-08\n",
      "CEPA0 Iteration  21: Energy = -0.148906091090 dE = -9.67815E-09\n",
      "\n",
      "CEPA0 Iterations have converged!\n",
      "\n",
      "CEPA0 Correlation Energy: -0.148906091090054\n",
      "CEPA0 Total Energy: -76.101435137412324\n"
     ]
    }
   ],
   "source": [
    "# Initialize energy\n",
    "E_CEPA0 = 0.0\n",
    "\n",
    "MAXITER = 50\n",
    "\n",
    "for cc_iter in range(MAXITER + 1):\n",
    "    E_old = E_CEPA0\n",
    "    \n",
    "    # Collect terms\n",
    "    mp2    = gmo[v, v, o, o]\n",
    "    cepa1  = (1 / 2) * np.einsum('abcd, cdij -> abij', gmo[v, v, v, v], t_amp, optimize=True)\n",
    "    cepa2  = (1 / 2) * np.einsum('klij, abkl -> abij', gmo[o, o, o, o], t_amp, optimize=True)\n",
    "    cepa3a = np.einsum('akic, bcjk -> abij', gmo[v, o, o, v], t_amp, optimize=True)\n",
    "    cepa3b = -cepa3a.transpose(1, 0, 2, 3)\n",
    "    cepa3c = -cepa3a.transpose(0, 1, 3, 2)\n",
    "    cepa3d =  cepa3a.transpose(1, 0, 3, 2)\n",
    "    cepa3  =  cepa3a + cepa3b + cepa3c + cepa3d\n",
    "\n",
    "    # Update t amplitude\n",
    "    t_amp_new = e_abij * (mp2 + cepa1 + cepa2 + cepa3)\n",
    "\n",
    "    # Evaluate Energy\n",
    "    E_CEPA0 = (1 / 4) * np.einsum('ijab, abij ->', gmo[o, o, v, v], t_amp_new, optimize=True)\n",
    "    t_amp = t_amp_new\n",
    "    dE = E_CEPA0 - E_old\n",
    "    print('CEPA0 Iteration %3d: Energy = %4.12f dE = %1.5E' % (cc_iter, E_CEPA0, dE))\n",
    "\n",
    "    if abs(dE) < 1.e-8:\n",
    "        print(\"\\nCEPA0 Iterations have converged!\")\n",
    "        break\n",
    "\n",
    "    if (cc_iter == MAXITER):\n",
    "        psi4.core.clean()\n",
    "        raise Exception(\"\\nMaximum number of iterations exceeded.\")\n",
    "\n",
    "print('\\nCEPA0 Correlation Energy: %5.15f' % (E_CEPA0))\n",
    "print('CEPA0 Total Energy: %5.15f' % (E_CEPA0 + scf_e))"
   ]
  },
  {
   "cell_type": "markdown",
   "metadata": {
    "collapsed": true
   },
   "source": [
    "Since `t_amp` is initialized to zero, the very first iteration should be the MP2 correlation energy. We can check the final CEPA0 energy with Psi4. The method is called `lccd`, or linear CCD, since CEPA0 omits the terms with two cluster amplitudes."
   ]
  },
  {
   "cell_type": "code",
   "execution_count": 14,
   "metadata": {},
   "outputs": [
    {
     "name": "stdout",
     "output_type": "stream",
     "text": [
      "    CEPA0 Energy......................................................PASSED\n"
     ]
    },
    {
     "data": {
      "text/plain": [
       "True"
      ]
     },
     "execution_count": 14,
     "metadata": {},
     "output_type": "execute_result"
    }
   ],
   "source": [
    "psi4.compare_values(psi4.energy('lccd'), E_CEPA0 + scf_e, 6, 'CEPA0 Energy')"
   ]
  },
  {
   "cell_type": "markdown",
   "metadata": {},
   "source": [
    "# Implementation: CCD\n",
    "\n",
    "To code CCD, we only have to add in the last four terms in our expression for the $t$-amplitudes: \n",
    "\n",
    "\\begin{equation}\n",
    "t_{ab}^{ij} = (\\mathcal{E}_{ab}^{ij})^{-1} \\left( \\bar{g}_{ab}^{ij} + \\tfrac{1}{2} \\bar{g}_{ab}^{cd} t_{cd}^{ij} + \\tfrac{1}{2} \\bar{g}_{kl}^{ij} t_{ab}^{kl}  + \\hat{P}_{(a \\space / \\space b)}^{(i \\space / \\space j)} \\bar{g}_{ak}^{ic} t_{bc}^{jk} - \\underline{\\tfrac{1}{2}\\hat{P}_{(a \\space / \\space b)} \\bar{g}_{kl}^{cd} t_{ac}^{ij} t_{bd}^{kl} - \\tfrac{1}{2}  \\hat{P}^{(i \\space / \\space j)} \\bar{g}_{kl}^{cd} t_{ab}^{ik} t_{cd}^{jl} + \\tfrac{1}{4} \\bar{g}_{kl}^{cd} t_{cd}^{ij} t_{ab}^{kl} +  \\hat{P}^{(i \\space / \\space j)} \\bar{g}_{kl}^{cd} t_{ac}^{ik} t_{bd}^{jl}} \\right)\n",
    "\\end{equation}\n",
    "\n",
    "which we readily translate into `einsum`'s:\n",
    "\n",
    "~~~python\n",
    "ccd1a  = np.einsum('klcd, acij, bdkl -> abij', gmo[o, o, v, v], t_amp, t_amp, optimize=True)\n",
    "ccd1b  = -ccd1a.transpose(1, 0, 2, 3)\n",
    "ccd1   = -(1 / 2) * (ccd1a + ccd1b)\n",
    "\n",
    "ccd2a  = np.einsum('klcd, abik, cdjl -> abij', gmo[o, o, v, v], t_amp, t_amp, optimize=True)\n",
    "ccd2b  = -ccd2a.transpose(0, 1, 3, 2)\n",
    "ccd2   = -(1 / 2) * (ccd2a + ccd2b)\n",
    "\n",
    "ccd3   =  (1 / 4) * np.einsum('klcd, cdij, abkl -> abij', gmo[o, o, v, v], t_amp, t_amp, optimize=True)\n",
    "\n",
    "ccd4a  = np.einsum('klcd, acik, bdjl -> abij', gmo[o, o, v, v], t_amp, t_amp, optimize=True)\n",
    "ccd4b  = -ccd4a.transpose(0, 1, 3, 2)\n",
    "ccd4   = (ccd4a + ccd4b)\n",
    "~~~\n",
    "\n",
    "and the energy expression is identical to CEPA0:\n",
    "\\begin{equation}\n",
    "E_{CCD } = \\tfrac{1}{4} \\bar{g}_{ij}^{ab} t_{ab}^{ij}\n",
    "\\end{equation}\n",
    "\n",
    "Adding the above terms to our CEPA0 code will compute the CCD correlation energy (may take a minute or two to run):"
   ]
  },
  {
   "cell_type": "code",
   "execution_count": 15,
   "metadata": {},
   "outputs": [
    {
     "name": "stdout",
     "output_type": "stream",
     "text": [
      "True\n",
      "True\n",
      "True\n",
      "True\n",
      "CCD Iteration   1: Energy = -0.142119840107 dE = -1.42120E-01\n",
      "True\n",
      "True\n",
      "True\n",
      "True\n",
      "CCD Iteration   2: Energy = -0.142920457961 dE = -8.00618E-04\n",
      "True\n",
      "True\n",
      "True\n",
      "True\n",
      "CCD Iteration   3: Energy = -0.146174466311 dE = -3.25401E-03\n",
      "True\n",
      "True\n",
      "True\n",
      "True\n",
      "CCD Iteration   4: Energy = -0.147222337053 dE = -1.04787E-03\n",
      "True\n",
      "True\n",
      "True\n",
      "True\n",
      "CCD Iteration   5: Energy = -0.147660207822 dE = -4.37871E-04\n",
      "True\n",
      "True\n",
      "True\n",
      "True\n",
      "CCD Iteration   6: Energy = -0.147845022862 dE = -1.84815E-04\n",
      "True\n",
      "True\n",
      "True\n",
      "True\n",
      "CCD Iteration   7: Energy = -0.147926013534 dE = -8.09907E-05\n",
      "True\n",
      "True\n",
      "True\n",
      "True\n",
      "CCD Iteration   8: Energy = -0.147962311493 dE = -3.62980E-05\n",
      "True\n",
      "True\n",
      "True\n",
      "True\n",
      "CCD Iteration   9: Energy = -0.147978892019 dE = -1.65805E-05\n",
      "True\n",
      "True\n",
      "True\n",
      "True\n",
      "CCD Iteration  10: Energy = -0.147986584027 dE = -7.69201E-06\n",
      "True\n",
      "True\n",
      "True\n",
      "True\n",
      "CCD Iteration  11: Energy = -0.147990200750 dE = -3.61672E-06\n",
      "True\n",
      "True\n",
      "True\n",
      "True\n",
      "CCD Iteration  12: Energy = -0.147991921640 dE = -1.72089E-06\n",
      "True\n",
      "True\n",
      "True\n",
      "True\n",
      "CCD Iteration  13: Energy = -0.147992749316 dE = -8.27677E-07\n",
      "True\n",
      "True\n",
      "True\n",
      "True\n",
      "CCD Iteration  14: Energy = -0.147993151327 dE = -4.02011E-07\n",
      "True\n",
      "True\n",
      "True\n",
      "True\n",
      "CCD Iteration  15: Energy = -0.147993348360 dE = -1.97033E-07\n",
      "True\n",
      "True\n",
      "True\n",
      "True\n",
      "CCD Iteration  16: Energy = -0.147993445735 dE = -9.73748E-08\n",
      "True\n",
      "True\n",
      "True\n",
      "True\n",
      "CCD Iteration  17: Energy = -0.147993494226 dE = -4.84909E-08\n",
      "True\n",
      "True\n",
      "True\n",
      "True\n",
      "CCD Iteration  18: Energy = -0.147993518542 dE = -2.43158E-08\n",
      "True\n",
      "True\n",
      "True\n",
      "True\n",
      "CCD Iteration  19: Energy = -0.147993530812 dE = -1.22701E-08\n",
      "True\n",
      "True\n",
      "True\n",
      "True\n",
      "CCD Iteration  20: Energy = -0.147993537039 dE = -6.22685E-09\n",
      "\n",
      "CCD Iterations have converged!\n",
      "\n",
      "CCD Correlation Energy:    -0.147993537039\n",
      "CCD Total Energy:         -76.100522583361\n"
     ]
    }
   ],
   "source": [
    "# Create space to store t amplitudes\n",
    "t_amp = np.zeros((nvirt, nvirt, nocc, nocc))\n",
    "\n",
    "# Initialize energy\n",
    "E_CCD = 0.0\n",
    "\n",
    "for cc_iter in range(1, MAXITER + 1):\n",
    "    E_old = E_CCD\n",
    "\n",
    "    # Collect terms\n",
    "    mp2    = gmo[v, v, o, o]\n",
    "    cepa1  = (1 / 2) * np.einsum('abcd, cdij -> abij', gmo[v, v, v, v], t_amp, optimize=True)\n",
    "    cepa2  = (1 / 2) * np.einsum('klij, abkl -> abij', gmo[o, o, o, o], t_amp, optimize=True)\n",
    "    cepa3a = np.einsum('akic, bcjk -> abij', gmo[v, o, o, v], t_amp, optimize=True)\n",
    "    cepa3b = -cepa3a.transpose(1, 0, 2, 3)\n",
    "    cepa3c = -cepa3a.transpose(0, 1, 3, 2)\n",
    "    cepa3d =  cepa3a.transpose(1, 0, 3, 2)\n",
    "    cepa3  =  cepa3a + cepa3b + cepa3c + cepa3d\n",
    "\n",
    "    ccd1a_ref  = np.einsum('klcd, acij, bdkl -> abij', gmo[o, o, v, v], t_amp, t_amp, optimize=True)\n",
    "    ccd1a_tmp = np.einsum('klcd,bdkl->cb', gmo[o, o, v, v], t_amp, optimize=True)\n",
    "    ccd1a = np.einsum(\"cb,acij->abij\", ccd1a_tmp, t_amp, optimize=True)\n",
    "    print(np.allclose(ccd1a_ref, ccd1a))\n",
    "    \n",
    "    ccd1b  = -ccd1a.transpose(1, 0, 2, 3)\n",
    "    ccd1   = -(1 / 2) * (ccd1a + ccd1b)\n",
    "\n",
    "    ccd2a_ref  = np.einsum('klcd, abik, cdjl -> abij', gmo[o, o, v, v], t_amp, t_amp, optimize=True)\n",
    "    ccd2a_tmp = np.einsum('klcd,cdjl->jk', gmo[o, o, v, v], t_amp, optimize=True)\n",
    "    ccd2a = np.einsum(\"jk,abik->abij\", ccd2a_tmp, t_amp, optimize=True)\n",
    "    print(np.allclose(ccd2a_ref, ccd2a))\n",
    "    \n",
    "    ccd2b  = -ccd2a.transpose(0, 1, 3, 2)\n",
    "    ccd2   = -(1 / 2) * (ccd2a + ccd2b)\n",
    "\n",
    "    ccd3_ref   =  (1 / 4) * np.einsum('klcd, cdij, abkl -> abij', gmo[o, o, v, v], t_amp, t_amp, optimize=True)\n",
    "    ccd3_tmp = np.einsum(\"klcd,cdij->klij\", gmo[o, o, v, v], t_amp, optimize=True)\n",
    "    ccd3 = (1 / 4) * np.einsum(\"klij,abkl->abij\", ccd3_tmp, t_amp, optimize=True)\n",
    "    print(np.allclose(ccd3_ref, ccd3))\n",
    "\n",
    "    ccd4a_ref  = np.einsum('klcd, acik, bdjl -> abij', gmo[o, o, v, v], t_amp, t_amp, optimize=True)\n",
    "    ccd4a_tmp = np.einsum(\"klcd,acik->laid\", gmo[o, o, v, v], t_amp, optimize=True)\n",
    "    ccd4a = np.einsum(\"laid,bdjl->abij\", ccd4a_tmp, t_amp, optimize=True)\n",
    "    print(np.allclose(ccd4a_ref, ccd4a))\n",
    "    \n",
    "    ccd4b  = -ccd4a.transpose(0, 1, 3, 2)\n",
    "    ccd4   = (ccd4a + ccd4b)\n",
    "\n",
    "    # Update Amplitude\n",
    "    t_amp_new = e_abij * (mp2 + cepa1 + cepa2 + cepa3 + ccd1 + ccd2 + ccd3 + ccd4)\n",
    "\n",
    "    # Evaluate Energy\n",
    "    E_CCD = (1 / 4) * np.einsum('ijab, abij ->', gmo[o, o, v, v], t_amp_new, optimize=True)\n",
    "    t_amp = t_amp_new\n",
    "    dE = E_CCD - E_old\n",
    "    print('CCD Iteration %3d: Energy = %4.12f dE = %1.5E' % (cc_iter, E_CCD, dE))\n",
    "\n",
    "    if abs(dE) < 1.e-8:\n",
    "        print(\"\\nCCD Iterations have converged!\")\n",
    "        break\n",
    "\n",
    "    if (cc_iter == MAXITER):\n",
    "        psi4.core.clean()\n",
    "        raise Exception(\"\\nMaximum number of iterations exceeded.\")\n",
    "\n",
    "print('\\nCCD Correlation Energy:    %15.12f' % (E_CCD))\n",
    "print('CCD Total Energy:         %15.12f' % (E_CCD + scf_e))"
   ]
  },
  {
   "cell_type": "markdown",
   "metadata": {},
   "source": [
    "Unfortunately, Psi4 does not have a CCD code to compare this to. However, Psi4 does have Bruekner CCD, an orbital-optimized variant of CCD. We can qualitatively compare our energies to this energy. The Bruekner-CCD energy should be a little lower than our CCD energy due to the orbital optimization procedure."
   ]
  },
  {
   "cell_type": "code",
   "execution_count": 16,
   "metadata": {},
   "outputs": [
    {
     "name": "stdout",
     "output_type": "stream",
     "text": [
      "\n",
      "Psi4 BCCD Correlation Energy:    -0.149207663736\n",
      "Psi4 BCCD Total Energy:         -76.101736710059\n"
     ]
    }
   ],
   "source": [
    "psi4_bccd = psi4.energy('bccd', ref_wfn = scf_wfn)\n",
    "print('\\nPsi4 BCCD Correlation Energy:    %15.12f' % (psi4_bccd - scf_e))\n",
    "print('Psi4 BCCD Total Energy:         %15.12f' % psi4_bccd)"
   ]
  },
  {
   "cell_type": "markdown",
   "metadata": {
    "collapsed": true
   },
   "source": [
    "## References\n",
    "\n",
    "1. Modern review of coupled-cluster theory, included diagrammatic derivations of the CCD equations:\n",
    "\t> [[Bartlett and Musial:2007](https://journals.aps.org/rmp/abstract/10.1103/RevModPhys.79.291)] Rodney J. Bartlett and Monika Musial,  \"Coupled-cluster theory in quantum chemistry\" *Rev. Mod. Phys.* **79**, 291 (2007)\n",
    "   \n",
    "2. Background on CEPA:\n",
    "    >Kutzelnigg, Werner 1977 *Methods of Electronic Structure Theory* ed. H. F. Schaefer III (Plenum, New York), p 129\n",
    "\n",
    "3. More CEPA:\n",
    "    > [Koch and Kutzelnigg:1981](https://link.springer.com/article/10.1007/BF00553396) S. Koch and W. Kutzelnigg, *Theor. Chim. Acta* **59**, 387 (1981). \n",
    "\n",
    "4. Original CCD Paper:\n",
    "    > [Čížek:1966](http://aip.scitation.org/doi/abs/10.1063/1.1727484) Jiří Čížek, \"On the Correlation Problem in Atomic and Molecular Systems. Calculation of Wavefunction Components in Ursell‐Type Expansion Using Quantum‐Field Theoretical Methods\" *J. Chem. Phys* **45**, 4256 (1966)  \n",
    "\n",
    "5. Useful notes on diagrams applied to post-HF methods:\n",
    "    > A. V. Copan, \"Diagram notation\" accessed with https://github.com/CCQC/chem-8950/tree/master/2017\n"
   ]
  }
 ],
 "metadata": {
  "anaconda-cloud": {},
  "kernelspec": {
   "display_name": "Python 3",
   "language": "python",
   "name": "python3"
  },
  "language_info": {
   "codemirror_mode": {
    "name": "ipython",
    "version": 3
   },
   "file_extension": ".py",
   "mimetype": "text/x-python",
   "name": "python",
   "nbconvert_exporter": "python",
   "pygments_lexer": "ipython3",
   "version": "3.8.5"
  },
  "latex_envs": {
   "LaTeX_envs_menu_present": true,
   "bibliofile": "biblio.bib",
   "cite_by": "apalike",
   "current_citInitial": 1,
   "eqLabelWithNumbers": true,
   "eqNumInitial": 1,
   "labels_anchors": false,
   "latex_user_defs": false,
   "report_style_numbering": false,
   "user_envs_cfg": false
  }
 },
 "nbformat": 4,
 "nbformat_minor": 1
}
