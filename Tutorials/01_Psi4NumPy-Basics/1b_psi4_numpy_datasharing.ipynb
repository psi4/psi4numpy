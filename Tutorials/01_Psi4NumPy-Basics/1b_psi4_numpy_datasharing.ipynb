{
 "cells": [
  {
   "cell_type": "markdown",
   "metadata": {},
   "source": [
    "# Psi4-NumPy Datasharing\n",
    "\n",
    "The heart of the Psi4NumPy project its the ability to easily share and manipulate quantities in Python. While Psi4 offers the ability to manipulate most objects and perform tensor operations at the Python layer, it is often much easier to use the NumPy project as its focus is on ease of use rather than optimal performance. Fortunately, Psi4 offers seemless integration with the NumPy framework. More details on the underlying functions can be found in the Psi4 [documentation](http://psicode.org/psi4manual/master/numpy.html).\n",
    "\n",
    "As before, let us start off with importing Psi4 and NumPy while also creating a random `5 x 5` NumPy array:"
   ]
  },
  {
   "cell_type": "code",
   "execution_count": null,
   "metadata": {
    "collapsed": true
   },
   "outputs": [],
   "source": [
    "import psi4\n",
    "import numpy as np\n",
    "\n",
    "# Random number array\n",
    "array = np.random.rand(5, 5)"
   ]
  },
  {
   "cell_type": "markdown",
   "metadata": {},
   "source": [
    "Converting this to a Psi4 Matrix, which is an instance of the [`psi4.core.Matrix`](http://psicode.org/psi4manual/master/psi4api.html#psi4.core.Matrix \n",
    "\"Go to API\") class, and back again is as simple as:"
   ]
  },
  {
   "cell_type": "code",
   "execution_count": null,
   "metadata": {
    "collapsed": false
   },
   "outputs": [],
   "source": [
    "psi4_matrix = psi4.core.Matrix.from_array(array)\n",
    "new_array = np.array(psi4_matrix)\n",
    "\n",
    "print(\"Allclose new_array, array:\", np.allclose(new_array, array))"
   ]
  },
  {
   "cell_type": "markdown",
   "metadata": {
    "collapsed": true
   },
   "source": [
    "## Views\n",
    "Because both of these objects have the same in-memory data layout the conversion is accomplished through the NumPy \n",
    "[array_interface](https://docs.scipy.org/doc/numpy/reference/arrays.interface.html). This also opens the opportunity \n",
    "to manipulate the Psi4 Matrix and Vector classes directly in memory.  To do this, we employ the `.np` attribute:"
   ]
  },
  {
   "cell_type": "code",
   "execution_count": null,
   "metadata": {
    "collapsed": false
   },
   "outputs": [],
   "source": [
    "matrix = psi4.core.Matrix(3, 3)\n",
    "print(\"Zero Psi4 Matrix:\")\n",
    "print(np.array(matrix))\n",
    "\n",
    "matrix.np[:] = 1\n",
    "print(\"\\nMatrix updated to ones:\")\n",
    "print(np.array(matrix))"
   ]
  },
  {
   "cell_type": "markdown",
   "metadata": {},
   "source": [
    "The `.np` attribute effectively returns a NumPy [view](http://scipy-cookbook.readthedocs.io/items/ViewsVsCopies.html). This view can then be manipulated as a conventional NumPy array and the underlying Psi4 Matrix data will be modified.\n",
    "\n",
    "**Warning!** The following operation operation is incorrect and can potenitally lead to confusion:"
   ]
  },
  {
   "cell_type": "code",
   "execution_count": null,
   "metadata": {
    "collapsed": false
   },
   "outputs": [],
   "source": [
    "print(psi4.core.Matrix(3, 3).np)"
   ]
  },
  {
   "cell_type": "markdown",
   "metadata": {},
   "source": [
    "While the above operation works about ~90% of the time, occasisionally you will notice extremely large and small values. This is due to the fact that when you create the Psi4 Matrix and grab its view, the Psi4 Matrix it is no longer bound to anything and Python will attempt to \"garbage collect\" or remove the object. This sometimes happens *before* Python prints out the object so the NumPy view is point to a random piece of data in memory. A safe way to do this would be:"
   ]
  },
  {
   "cell_type": "code",
   "execution_count": null,
   "metadata": {
    "collapsed": false
   },
   "outputs": [],
   "source": [
    "mat = psi4.core.Matrix(3, 3)\n",
    "print(mat.np)\n",
    "\n",
    "# or\n",
    "print(np.asarray(psi4.core.Matrix(3, 3)))"
   ]
  },
  {
   "cell_type": "markdown",
   "metadata": {},
   "source": [
    "Similar to the `.np` attribute one can use `np.asarray` to create a NumPy view of a Psi4 object. Keep in mind that this is different that `np.array` which will copy the data."
   ]
  },
  {
   "cell_type": "code",
   "execution_count": null,
   "metadata": {
    "collapsed": false
   },
   "outputs": [],
   "source": [
    "mat = psi4.core.Matrix(3, 3)\n",
    "mat_view = np.asarray(mat)\n",
    "\n",
    "mat_view[:] = np.random.random(mat.shape)\n",
    "print(mat.np)"
   ]
  },
  {
   "cell_type": "markdown",
   "metadata": {},
   "source": [
    "Keep in mind that you must *update* this view using the `[]` syntax and not replace it (`=`). The following example should demonstrate the difference:"
   ]
  },
  {
   "cell_type": "code",
   "execution_count": null,
   "metadata": {
    "collapsed": false
   },
   "outputs": [],
   "source": [
    "mat_view = np.zeros((3, 3))\n",
    "\n",
    "# Mat is not updated as we replaced the mat_view with a new NumPy matrix.\n",
    "print(mat.np)"
   ]
  },
  {
   "cell_type": "markdown",
   "metadata": {},
   "source": [
    "## Vector class\n",
    "Like the Psi4 Matrix class, the [`psi4.core.Vector`](http://psicode.org/psi4manual/master/psi4api.html#psi4.core.Vector \"Go to API\")\n",
    "class has similar accessors:"
   ]
  },
  {
   "cell_type": "code",
   "execution_count": null,
   "metadata": {
    "collapsed": false
   },
   "outputs": [],
   "source": [
    "arr = np.random.rand(5)\n",
    "vec = psi4.core.Vector.from_array(arr)\n",
    "print(vec.np)"
   ]
  }
 ],
 "metadata": {
  "anaconda-cloud": {},
  "kernelspec": {
   "display_name": "Python 2",
   "language": "python",
   "name": "python2"
  },
  "language_info": {
   "codemirror_mode": {
    "name": "ipython",
    "version": 2
   },
   "file_extension": ".py",
   "mimetype": "text/x-python",
   "name": "python",
   "nbconvert_exporter": "python",
   "pygments_lexer": "ipython2",
   "version": "2.7.12"
  },
  "latex_envs": {
   "LaTeX_envs_menu_present": true,
   "bibliofile": "biblio.bib",
   "cite_by": "apalike",
   "current_citInitial": 1,
   "eqLabelWithNumbers": true,
   "eqNumInitial": 1,
   "labels_anchors": false,
   "latex_user_defs": false,
   "report_style_numbering": false,
   "user_envs_cfg": false
  }
 },
 "nbformat": 4,
 "nbformat_minor": 1
}
