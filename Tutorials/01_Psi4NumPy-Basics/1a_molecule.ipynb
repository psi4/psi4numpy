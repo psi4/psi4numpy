{
 "cells": [
  {
   "cell_type": "markdown",
   "metadata": {
    "run_control": {
     "frozen": false,
     "read_only": false
    }
   },
   "source": [
    "# Molecule Objects in <span style=\"font-variant: small-caps\"> Psi4 </span>\n",
    "\n",
    "This tutorial provides an overview on creating and manipulating molecule objects in <span style='font-variant: small-caps'> Psi4</span>, illustrated with an example parameterization of the Lennard-Jones potential for Helium dimer.  \n",
    "\n",
    "In order to use <span style=\"font-variant: small-caps\"> Psi4 </span> within a Python environment, we may import <span style=\"font-variant: small-caps\"> Psi4 </span> just as any other module: \n",
    "\n",
    "(note: the `PYTHONPATH` environment variable must be set correctly, check [here](https://github.com/dgasmith/psi4numpy/blob/master/README.md) for more details)"
   ]
  },
  {
   "cell_type": "code",
   "execution_count": null,
   "metadata": {
    "collapsed": true,
    "run_control": {
     "frozen": false,
     "read_only": false
    }
   },
   "outputs": [],
   "source": [
    "import psi4"
   ]
  },
  {
   "cell_type": "markdown",
   "metadata": {
    "run_control": {
     "frozen": false,
     "read_only": false
    }
   },
   "source": [
    "Unlike in <span style=\"font-variant: small-caps\"> Psi4 </span> input files, defining a molecule in Python is done by passing the molecular coordinates as a triple-quoted string to the [`psi4.geometry()`](http://psicode.org/psi4manual/master/api/psi4.driver.geometry.html#psi4.driver.geometry \"API Details\") function:"
   ]
  },
  {
   "cell_type": "code",
   "execution_count": null,
   "metadata": {
    "collapsed": true,
    "run_control": {
     "frozen": false,
     "read_only": false
    }
   },
   "outputs": [],
   "source": [
    "he = psi4.geometry(\"\"\"\n",
    "He\n",
    "\"\"\")"
   ]
  },
  {
   "cell_type": "markdown",
   "metadata": {
    "collapsed": true,
    "run_control": {
     "frozen": false,
     "read_only": false
    }
   },
   "source": [
    "Here, not only does the variable `he` refer to the helium molecule, but also an instance of the [`psi4.core.Molecule`](http://psicode.org/psi4manual/master/psi4api.html#psi4.core.Molecule \"Go to API\")\n",
    "class in <span style='font-variant: small-caps'> Psi4</span>; this will be discussed in more detail later.  For a more\n",
    "complicated system than an isolated atom, the coordinates can be given in Cartesian or Z-Matrix formats:"
   ]
  },
  {
   "cell_type": "code",
   "execution_count": null,
   "metadata": {
    "collapsed": true,
    "run_control": {
     "frozen": false,
     "read_only": false
    }
   },
   "outputs": [],
   "source": [
    "h2o = psi4.geometry(\"\"\"\n",
    "O\n",
    "H 1 0.96\n",
    "H 1 0.96 2 104.5\n",
    "\"\"\")"
   ]
  },
  {
   "cell_type": "markdown",
   "metadata": {
    "run_control": {
     "frozen": false,
     "read_only": false
    }
   },
   "source": [
    "Information like the molecular charge, multiplicity, and units are assumed to be 0, 1, and Angstroms, respectively, if not specified within the molecule definition.  This is done by adding one or more [molecule keywords](http://psicode.org/psi4manual/master/psithonmol.html#molecule-keywords \"Go to Documentation\") to the geometry string used to define the molecule.  Additionally, <span style=\"font-variant: small-caps\"> Psi4 </span> can detect molecular symmetry, or it can be specified manually.  For example, to define a doublet water cation in $C_{2V}$ symmetry using lengths in Bohr,"
   ]
  },
  {
   "cell_type": "code",
   "execution_count": null,
   "metadata": {
    "collapsed": true,
    "run_control": {
     "frozen": false,
     "read_only": false
    }
   },
   "outputs": [],
   "source": [
    "doublet_h2o_cation = psi4.geometry(\"\"\"\n",
    "1 2\n",
    "O\n",
    "H 1 1.814\n",
    "H 1 1.814 2 104.5\n",
    "\n",
    "units bohr\n",
    "symmetry c2v\n",
    "\"\"\")"
   ]
  },
  {
   "cell_type": "markdown",
   "metadata": {
    "run_control": {
     "frozen": false,
     "read_only": false
    }
   },
   "source": [
    "where the line `1 2` defines the charge and multiplicity, respectively.  For systems of non-bonded fragments, the coordinates of each fragment are separated by a double-hyphen `\"--\"`; this allows for one fragment to be defined with Cartesian and another to be defined with Z-Matrix.  For example, the ethylene-acetylene complex can be defined with:"
   ]
  },
  {
   "cell_type": "code",
   "execution_count": null,
   "metadata": {
    "collapsed": true,
    "run_control": {
     "frozen": false,
     "read_only": false
    }
   },
   "outputs": [],
   "source": [
    "ethene_ethyne = psi4.geometry(\"\"\"\n",
    "0 1\n",
    "C  0.000000 -0.667578  -2.124659\n",
    "C  0.000000  0.667578  -2.124659\n",
    "H  0.923621 -1.232253  -2.126185\n",
    "H -0.923621 -1.232253  -2.126185\n",
    "H -0.923621  1.232253  -2.126185\n",
    "H  0.923621  1.232253  -2.126185\n",
    "--\n",
    "0 1\n",
    "C 0.000000 0.000000 2.900503\n",
    "C 0.000000 0.000000 1.693240\n",
    "H 0.000000 0.000000 0.627352\n",
    "H 0.000000 0.000000 3.963929\n",
    "\"\"\")"
   ]
  },
  {
   "cell_type": "markdown",
   "metadata": {
    "run_control": {
     "frozen": false,
     "read_only": false
    }
   },
   "source": [
    "For non-bonded fragments, the charge and multiplicity should be given explicitly for each fragment.  If not, the \n",
    "charge and multiplicity given (or inferred) for the first fragment is assumed to be the same for all fragments.  In \n",
    "addition to defining the coordinates outright, variables can be used within the geometry specification strings:"
   ]
  },
  {
   "cell_type": "code",
   "execution_count": null,
   "metadata": {
    "collapsed": true,
    "run_control": {
     "frozen": false,
     "read_only": false
    }
   },
   "outputs": [],
   "source": [
    "ethylene = psi4.geometry(\"\"\"\n",
    "H\n",
    "C 1 HC\n",
    "H 2 HC 1 A1\n",
    "C 2 CC 3 A1 1 D1\n",
    "H 4 HC 2 A1 1 D1\n",
    "H 4 HC 2 A1 1 D2\n",
    "\n",
    "HC = 1.08\n",
    "CC = 1.4\n",
    "A1 = 120.0\n",
    "D1 = 180.0\n",
    "D2 = 0.0\n",
    "\"\"\")"
   ]
  },
  {
   "cell_type": "markdown",
   "metadata": {
    "run_control": {
     "frozen": false,
     "read_only": false
    }
   },
   "source": [
    "If we wish to define these variables after the molecule is built, as opposed to within the geometry specification \n",
    "itself, there are several ways to do so; one of which will be illustrated in the Lennard-Jones potential example \n",
    "below. \n",
    "\n",
    "When a Psi4 molecule is first built using ``psi4.geometry``, it is in an unfinished state, as a user may wish to \n",
    "tweak the molecule. This can be solved by calling [``psi4.Molecule.update_geometry()``](http://psicode.org/psi4manual/master/psi4api.html#psi4.core.Molecule.update_geometry \"Go to API\"). This will update the molecule and restore sanity \n",
    "to chemistry. "
   ]
  },
  {
   "cell_type": "code",
   "execution_count": null,
   "metadata": {
    "collapsed": false
   },
   "outputs": [],
   "source": [
    "h2cch2 = psi4.geometry(\"\"\"\n",
    "H\n",
    "C 1 HC\n",
    "H 2 HC 1 A1\n",
    "C 2 CC 3 A1 1 D1\n",
    "H 4 HC 2 A1 1 D1\n",
    "H 4 HC 2 A1 1 D2\n",
    "\n",
    "HC = 1.08\n",
    "CC = 1.4\n",
    "A1 = 120.0\n",
    "D1 = 180.0\n",
    "D2 = 0.0\n",
    "\"\"\")\n",
    "\n",
    "print(\"Ethene has %d atoms\" % h2cch2.natom())\n",
    "\n",
    "\n",
    "h2cch2.update_geometry()\n",
    "print(\"Ethene has %d atoms\" % h2cch2.natom())"
   ]
  },
  {
   "cell_type": "markdown",
   "metadata": {},
   "source": [
    "Finally, one can obtain useful information from a molecule by invoking one of several [`psi4.core.Molecule`](http://psicode.org/psi4manual/master/psi4api.html#psi4.core.Molecule \"Go to Documentation\") class methods on the molecule of interest.  For example, if we were interested in verifying that our doublet water cation from above is, in fact, a doublet, we could invoke\n",
    "~~~python\n",
    "doublet_h2o_cation.multiplicity()\n",
    "~~~\n",
    "Below, some useful Molecule class methods are tabulated; please refer to the documentation for more details.\n",
    "\n",
    "| Method | Description |\n",
    "|--------|-------------|\n",
    "| [center_of_mass()](http://psicode.org/psi4manual/master/psi4api.html#psi4.core.Molecule.center_of_mass \"Go to Documentation\") | Computes center of mass of molecule |\n",
    "| [molecular_charge()](http://psicode.org/psi4manual/master/psi4api.html#psi4.core.Molecule.molecular_charge \"Go to Documentation\") | Gets the molecular charge |\n",
    "| [multiplicity()](http://psicode.org/psi4manual/master/psi4api.html#psi4.core.Molecule.multiplicity \"Go to Documentation\") | Gets the total multiplicity | \n",
    "| [nuclear_repulsion_energy()](http://psicode.org/psi4manual/master/psi4api.html#psi4.core.Molecule.nuclear_repulsion_energy \"Go to Documentation\") | Computes the nuclear repulsion energy of the molecule |"
   ]
  },
  {
   "cell_type": "markdown",
   "metadata": {
    "run_control": {
     "frozen": false,
     "read_only": false
    }
   },
   "source": [
    "## Example: Fitting Lennard-Jones Parameters from Potential Energy Scan\n",
    "\n",
    "In this example, we will compute and fit a potential energy curve for the Helium dimer.  To begin with, let's create a string representation for our He dimer in Z-Matrix format, with the variable `**R**` representing the distance between the He atoms. The stars surrounding the ``R`` aren't any special syntax, just a convenient marker for future substitution."
   ]
  },
  {
   "cell_type": "code",
   "execution_count": null,
   "metadata": {
    "collapsed": true,
    "run_control": {
     "frozen": false,
     "read_only": false
    }
   },
   "outputs": [],
   "source": [
    "# Define He Dimer\n",
    "he_dimer = \"\"\"\n",
    "He\n",
    "--\n",
    "He 1 **R**\n",
    "\"\"\""
   ]
  },
  {
   "cell_type": "markdown",
   "metadata": {
    "run_control": {
     "frozen": false,
     "read_only": false
    }
   },
   "source": [
    "Now we can build a series of dimers with the He atoms at different separations, and compute the energy at each point:"
   ]
  },
  {
   "cell_type": "code",
   "execution_count": null,
   "metadata": {
    "collapsed": false,
    "run_control": {
     "frozen": false,
     "read_only": false
    }
   },
   "outputs": [],
   "source": [
    "distances = [2.875, 3.0, 3.125, 3.25, 3.375, 3.5, 3.75, 4.0, 4.5, 5.0, 6.0, 7.0]\n",
    "energies = []\n",
    "for d in distances:\n",
    "    # Build a new molecule at each separation\n",
    "    mol = psi4.geometry(he_dimer.replace('**R**', str(d)))\n",
    "    \n",
    "    # Compute the Counterpoise-Corrected interaction energy\n",
    "    en = psi4.energy('MP2/aug-cc-pVDZ', molecule=mol, bsse_type='cp')\n",
    "\n",
    "    # Place in a reasonable unit, Wavenumbers in this case\n",
    "    en *= psi4.constants.hartree2wavenumbers\n",
    "    \n",
    "    # Append the value to our list\n",
    "    energies.append(en)\n",
    "\n",
    "print(\"Finished computing the potential!\")"
   ]
  },
  {
   "cell_type": "markdown",
   "metadata": {
    "run_control": {
     "frozen": false,
     "read_only": false
    }
   },
   "source": [
    "Next, we can use the [NumPy](http://www.numpy.org/) library to fit a curve to these points along the potential scan.  In this case, we will fit a Lennard-Jones potential."
   ]
  },
  {
   "cell_type": "code",
   "execution_count": null,
   "metadata": {
    "collapsed": true,
    "run_control": {
     "frozen": false,
     "read_only": false
    }
   },
   "outputs": [],
   "source": [
    "import numpy as np"
   ]
  },
  {
   "cell_type": "code",
   "execution_count": null,
   "metadata": {
    "collapsed": true,
    "run_control": {
     "frozen": false,
     "read_only": false
    }
   },
   "outputs": [],
   "source": [
    "# Fit data in least-squares way to a -12, -6 polynomial\n",
    "powers = [-12, -6]\n",
    "x = np.power(np.array(distances).reshape(-1, 1), powers)\n",
    "coeffs = np.linalg.lstsq(x, energies)[0]\n",
    "\n",
    "# Build list of points\n",
    "fpoints = np.linspace(2, 7, 50).reshape(-1, 1)\n",
    "fdata = np.power(fpoints, powers)\n",
    "\n",
    "fit_energies = np.dot(fdata, coeffs)"
   ]
  },
  {
   "cell_type": "markdown",
   "metadata": {
    "run_control": {
     "frozen": false,
     "read_only": false
    }
   },
   "source": [
    "To visualize our results, we can use the [Matplotlib](http://matplotlib.org/) library.  Since we're working in a Jupyter notebook, we can also use the `%matplotlib inline` \"magic\" command so that the graphs will show up in the notebook itself (check [here](https://ipython.org/ipython-doc/3/interactive/magics.html) for a comprehensive list of magic commands)."
   ]
  },
  {
   "cell_type": "code",
   "execution_count": null,
   "metadata": {
    "collapsed": false,
    "run_control": {
     "frozen": false,
     "read_only": false
    }
   },
   "outputs": [],
   "source": [
    "import matplotlib.pyplot as plt\n",
    "%matplotlib inline"
   ]
  },
  {
   "cell_type": "code",
   "execution_count": null,
   "metadata": {
    "collapsed": false,
    "run_control": {
     "frozen": false,
     "read_only": false
    }
   },
   "outputs": [],
   "source": [
    "plt.xlim((2, 7))  # X limits\n",
    "plt.ylim((-7, 2))  # Y limits\n",
    "plt.scatter(distances, energies)  # Scatter plot of the distances/energies\n",
    "plt.plot(fpoints, fit_energies)  # Fit data\n",
    "plt.plot([0,10], [0,0], 'k-')  # Make a line at 0"
   ]
  }
 ],
 "metadata": {
  "anaconda-cloud": {},
  "kernelspec": {
   "display_name": "Python 2",
   "language": "python",
   "name": "python2"
  },
  "language_info": {
   "codemirror_mode": {
    "name": "ipython",
    "version": 2
   },
   "file_extension": ".py",
   "mimetype": "text/x-python",
   "name": "python",
   "nbconvert_exporter": "python",
   "pygments_lexer": "ipython2",
   "version": "2.7.12"
  },
  "latex_envs": {
   "LaTeX_envs_menu_present": true,
   "bibliofile": "biblio.bib",
   "cite_by": "apalike",
   "current_citInitial": 1,
   "eqLabelWithNumbers": true,
   "eqNumInitial": 1,
   "labels_anchors": false,
   "latex_user_defs": false,
   "report_style_numbering": false,
   "user_envs_cfg": false
  }
 },
 "nbformat": 4,
 "nbformat_minor": 1
}
