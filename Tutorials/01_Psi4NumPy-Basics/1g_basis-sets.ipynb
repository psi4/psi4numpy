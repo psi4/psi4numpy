{
 "cells": [
  {
   "cell_type": "markdown",
   "metadata": {},
   "source": [
    "# Basis Sets "
   ]
  },
  {
   "cell_type": "code",
   "execution_count": null,
   "metadata": {
    "collapsed": false,
    "run_control": {
     "frozen": false,
     "read_only": false
    }
   },
   "outputs": [],
   "source": [
    "import psi4\n",
    "import numpy as np"
   ]
  },
  {
   "cell_type": "code",
   "execution_count": null,
   "metadata": {
    "collapsed": true,
    "run_control": {
     "frozen": false,
     "read_only": false
    }
   },
   "outputs": [],
   "source": [
    "# ==> Set Basic Psi4 Options <==\n",
    "# Memory specification\n",
    "psi4.set_memory(int(5e8))\n",
    "numpy_memory = 2\n",
    "\n",
    "# Set output file\n",
    "psi4.core.set_output_file('output.dat', False)"
   ]
  },
  {
   "cell_type": "markdown",
   "metadata": {
    "run_control": {
     "frozen": false,
     "read_only": false
    }
   },
   "source": [
    "Thus far you've used a uniform single basis set from [Psi4's basis set library](https://github.com/psi4/psi4/tree/master/psi4/share/psi4/basis) where you've specified the orbital basis (*e.g.*, `psi4.set_options({'basis': '6-31G*'})` and allowed Psi4 to select any necessary auxiliary basis sets to fulfill your requested algorithm. In this tutorial, we'll learn how to construct custom orbital and auxiliary basis set and get information from the psi4.core.BasisSet object"
   ]
  },
  {
   "cell_type": "markdown",
   "metadata": {
    "run_control": {
     "frozen": false,
     "read_only": false
    }
   },
   "source": [
    "One distinction that's important to make early on is that a \"BasisSet object\" is always tailored to a Molecule --- there are no shells assigned to carbon in a cc-pVDZ BasisSet associated with water. In contrast, a \"basis set definition\" is a set of rules for applying shells to many Molecules (not _any_ Molecule-s because the definition mightn't include uranium, for instance) on the basis of elemental composition and atom labeling. There's nothing stopping you from assigning carbon-parametrized shells to carbon _and_ oxygen in a basis set definition. When the basis set definition is applied to water, the resulting BasisSet object will have carbon-parametrized shells assigned to oxygen but no shells assigned to carbon. Keep this distinction in mind since a basis set like `cc-pVDZ` is commonly used in both roles interchangeably."
   ]
  },
  {
   "cell_type": "code",
   "execution_count": null,
   "metadata": {
    "collapsed": false,
    "run_control": {
     "frozen": false,
     "read_only": false
    }
   },
   "outputs": [],
   "source": [
    "from pkg_resources import parse_version\n",
    "if parse_version(psi4.__version__) >= parse_version('1.3a1'):\n",
    "    refnuc =  204.01995818060678\n",
    "    refscf = -228.95763005900784\n",
    "else:\n",
    "    refnuc =  204.01995737868003\n",
    "    refscf = -228.95763005849557\n",
    "\n",
    "bzb = psi4.geometry(\"\"\"\n",
    "    X\n",
    "    X   1  RXX\n",
    "    X   2  RXX  1  90.0\n",
    "    C   3  RCC  2  90.0  1   0.0\n",
    "    C   3  RCC  2  90.0  1  60.0\n",
    "    C1  3  RCC  2  90.0  1 120.0\n",
    "    C   3  RCC  2  90.0  1 180.0\n",
    "    C1  3  RCC  2  90.0  1 240.0\n",
    "    C   3  RCC  2  90.0  1 300.0\n",
    "    H1  3  RCH  2  90.0  1   0.0\n",
    "    H   3  RCH  2  90.0  1  60.0\n",
    "    H   3  RCH  2  90.0  1 120.0\n",
    "    H1  3  RCH  2  90.0  1 180.0\n",
    "    H   3  RCH  2  90.0  1 240.0\n",
    "    H   3  RCH  2  90.0  1 300.0\n",
    "    RCC  = 1.3915\n",
    "    RCH  = 2.4715\n",
    "    RXX  = 1.00\n",
    "\"\"\")\n",
    "psi4.core.IO.set_default_namespace(\"bzb\")\n",
    "\n",
    "def basisspec_psi4_yo__anonymous775(mol, role):\n",
    "    basstrings = {}\n",
    "    mol.set_basis_all_atoms(\"DZ\", role=role)\n",
    "    mol.set_basis_by_symbol(\"C\", \"my3-21G\", role=role)\n",
    "    mol.set_basis_by_label(\"H1\", \"sto-3g\", role=role)\n",
    "    mol.set_basis_by_label(\"C1\", \"sto-3g\", role=role)\n",
    "    basstrings['my3-21g'] = \"\"\"\n",
    "cartesian\n",
    "****\n",
    "H     0\n",
    "S   2   1.00\n",
    "5.4471780              0.1562850\n",
    "0.8245470              0.9046910\n",
    "S   1   1.00\n",
    "0.1831920              1.0000000\n",
    "****\n",
    "C     0\n",
    "S   3   1.00\n",
    "172.2560000              0.0617669\n",
    "25.9109000              0.3587940\n",
    "5.5333500              0.7007130\n",
    "SP   2   1.00\n",
    "3.6649800             -0.3958970              0.2364600\n",
    "0.7705450              1.2158400              0.8606190\n",
    "SP   1   1.00\n",
    "0.1958570              1.0000000              1.0000000\n",
    "****\n",
    "\"\"\"\n",
    "    basstrings['dz'] = \"\"\"\n",
    "spherical\n",
    "****\n",
    "H     0\n",
    "S   3   1.00\n",
    "19.2406000              0.0328280\n",
    "2.8992000              0.2312080\n",
    "0.6534000              0.8172380\n",
    "S   1   1.00\n",
    "0.1776000              1.0000000\n",
    "****\n",
    "\"\"\"\n",
    "    return basstrings\n",
    "\n",
    "psi4.qcdb.libmintsbasisset.basishorde['ANONYMOUS775'] = basisspec_psi4_yo__anonymous775\n",
    "\n",
    "psi4.set_options({'basis': 'anonymous775',\n",
    "                  'scf_type': 'pk',\n",
    "                  'e_convergence': 11,\n",
    "                  'd_convergence': 11})\n",
    "\n",
    "eb, wb = psi4.energy('scf', return_wfn=True)\n",
    "psi4.compare_strings(\"c2v\", bzb.schoenflies_symbol(), \"Point group\")                       \n",
    "psi4.compare_values(refnuc, bzb.nuclear_repulsion_energy(), 10, \"Nuclear repulsion energy\")\n",
    "psi4.compare_values(refscf, eb, 10, \"SCF Energy\")                                  "
   ]
  },
  {
   "cell_type": "code",
   "execution_count": null,
   "metadata": {
    "collapsed": false,
    "run_control": {
     "frozen": false,
     "read_only": false
    }
   },
   "outputs": [],
   "source": [
    "psi4.core.set_output_file('output.dat', True)\n",
    "\n",
    "bsb = wb.get_basisset('ORBITAL')\n",
    "bsb.print_detail_out()\n",
    "bsb.print_out()"
   ]
  },
  {
   "cell_type": "code",
   "execution_count": null,
   "metadata": {
    "collapsed": false,
    "run_control": {
     "frozen": false,
     "read_only": false
    }
   },
   "outputs": [],
   "source": [
    "#           cc-pvdz                 aug-cc-pvdz\n",
    "# BASIS     H  5/ 5   C  14/15      H +4/ 4   C  +9/10\n",
    "# RIFIT     H 14/15   C  56/66      H +9/10   C +16/20\n",
    "# JKFIT     H 23/25   C  70/81      H +9/10   C +16/20\n",
    "\n",
    "mymol = psi4.qcdb.Molecule(\"\"\"\n",
    "C    0.0  0.0 0.0\n",
    "O    1.4  0.0 0.0\n",
    "H_r -0.5 -0.7 0.0\n",
    "H_l -0.5  0.7 0.0\n",
    "\"\"\")\n",
    "\n",
    "print('[1]    <<<  uniform cc-pVDZ  >>>')\n",
    "wert = psi4.qcdb.BasisSet.pyconstruct(mymol, 'BASIS', 'cc-pvdz')\n",
    "psi4.compare_integers(38, wert.nbf(), 'nbf()')\n",
    "psi4.compare_integers(40, wert.nao(), 'nao()')\n",
    "psi4.compare_strings('c2v', mymol.schoenflies_symbol(), 'symm')\n",
    "mymol.print_out()\n",
    "\n",
    "\n",
    "print('[2]        <<<  RIFIT (default)  >>>')\n",
    "wert = psi4.qcdb.BasisSet.pyconstruct(mymol, 'DF_BASIS_MP2', '', 'RIFIT', 'cc-pvdz')\n",
    "psi4.compare_integers(140, wert.nbf(), 'nbf()')\n",
    "psi4.compare_integers(162, wert.nao(), 'nao()')\n",
    "psi4.compare_strings('c2v', mymol.schoenflies_symbol(), 'symm')\n",
    "mymol.print_out()\n",
    "\n",
    "\n",
    "print('[3]    <<<  cc-pVDZ w/ aug-cc-pVDZ on C  >>>')\n",
    "def basisspec_psi4_yo__anonymous775(mol, role):\n",
    "    basstrings = {}\n",
    "    mol.set_basis_all_atoms(\"DZ\", role=role)\n",
    "    mol.set_basis_by_symbol(\"C\", \"my3-21G\", role=role)\n",
    "\n",
    "def basis__dz_PLUS(mol, role):\n",
    "    mol.set_basis_all_atoms(\"cc-pvdz\", role=role)\n",
    "    mol.set_basis_by_symbol(\"C\", \"aug-cc-pvdz\")\n",
    "    return {}\n",
    "\n",
    "wert = psi4.qcdb.BasisSet.pyconstruct(mymol, 'BASIS', basis__dz_PLUS)\n",
    "psi4.compare_integers(47, wert.nbf(), 'nbf()')\n",
    "psi4.compare_integers(50, wert.nao(), 'nao()')\n",
    "psi4.compare_strings('c2v', mymol.schoenflies_symbol(), 'symm')\n",
    "mymol.print_out()\n"
   ]
  }
 ],
 "metadata": {
  "anaconda-cloud": {},
  "kernelspec": {
   "display_name": "Python 2",
   "language": "python",
   "name": "python2"
  },
  "language_info": {
   "codemirror_mode": {
    "name": "ipython",
    "version": 2
   },
   "file_extension": ".py",
   "mimetype": "text/x-python",
   "name": "python",
   "nbconvert_exporter": "python",
   "pygments_lexer": "ipython2",
   "version": "2.7.12"
  },
  "latex_envs": {
   "LaTeX_envs_menu_present": true,
   "bibliofile": "biblio.bib",
   "cite_by": "apalike",
   "current_citInitial": 1,
   "eqLabelWithNumbers": true,
   "eqNumInitial": 1,
   "labels_anchors": false,
   "latex_user_defs": false,
   "report_style_numbering": false,
   "user_envs_cfg": false
  }
 },
 "nbformat": 4,
 "nbformat_minor": 0
}
