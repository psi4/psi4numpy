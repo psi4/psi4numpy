{
 "cells": [
  {
   "cell_type": "markdown",
   "metadata": {
    "run_control": {
     "frozen": false,
     "read_only": false
    }
   },
   "source": [
    "# Wavefunctions in <span style='font-variant: small-caps'> Psi4 </span>\n",
    "\n",
    "One very advantageous feature of <span style='font-variant: small-caps'> Psi4 </span> is the\n",
    "ability to generate, return, and manipulate wavefunctions both from computations and as independent entities.\n",
    "This is particularly useful because of the depth of information carried by a wavefunction -- which is formally\n",
    "an instance of the [`psi4.core.Wavefunction`](http://psicode.org/psi4manual/master/psi4api.html#psi4.core.Wavefunction\n",
    "\"Go to API\") class.  This tutorial introduces these objects\n",
    "and provides an overview of their capabilities that will be leveraged in future tutorials.\n",
    "\n",
    "Let's begin our discussion by importing <span style='font-variant: small-caps'> Psi4 </span> and NumPy, and setting\n",
    "some basic options for <span style='font-variant: small-caps'> Psi4</span>, like the memory, to direct output to a file\n",
    "named `output.dat`, and options to be used when performing a computation."
   ]
  },
  {
   "cell_type": "code",
   "execution_count": null,
   "metadata": {
    "collapsed": true,
    "run_control": {
     "frozen": false,
     "read_only": false
    }
   },
   "outputs": [],
   "source": [
    "# ==> Basic Options <==\n",
    "import psi4\n",
    "import numpy as np\n",
    "\n",
    "# Memory & Output File\n",
    "psi4.set_memory(int(2e9))\n",
    "psi4.core.set_output_file('output.dat', False)\n",
    "\n",
    "# Computation options\n",
    "psi4.set_options({'basis': 'aug-cc-pvdz',\n",
    "                  'scf_type': 'df',\n",
    "                  'e_convergence': 1e-8,\n",
    "                  'd_convergence': 1e-8})"
   ]
  },
  {
   "cell_type": "markdown",
   "metadata": {
    "run_control": {
     "frozen": false,
     "read_only": false
    }
   },
   "source": [
    "Now that we've set the basics, let's use what we learned in the Molecule tutorial to define a water molecule, in Z-matrix\n",
    "format, specifying that we want $C_1$ symmetry (instead of letting <span style='font-variant: small-caps'> Psi4\n",
    "</span> detect the real symmetry $C_{\\text{2v}}$):"
   ]
  },
  {
   "cell_type": "code",
   "execution_count": null,
   "metadata": {
    "collapsed": true,
    "run_control": {
     "frozen": false,
     "read_only": false
    }
   },
   "outputs": [],
   "source": [
    "# ==> Define C_1 Water Molecule <==\n",
    "h2o = psi4.geometry(\"\"\"\n",
    "O\n",
    "H 1 0.96\n",
    "H 1 0.96 2 104.5\n",
    "symmetry c1\n",
    "\"\"\")"
   ]
  },
  {
   "cell_type": "markdown",
   "metadata": {
    "run_control": {
     "frozen": false,
     "read_only": false
    }
   },
   "source": [
    "Other than molecules, of course, the quintessential object within quantum chemistry (and arguably **the**\n",
    "quintessential object in all of quantum mechanics) is the _wavefunction_.  Every method in quantum mechanics seeks to\n",
    "find the wavefunction which describes the state of the system of interest.  So, how can we create these objects with\n",
    "<span style='font-variant: small-caps'> Psi4</span>?  If we simply wish to perform a computation (e.g., Hartree–Fock \n",
    "or MP2), all we need to do is to define the molecule, call [``psi4.energy()``](http://psicode.org/psi4manual/master/api/psi4.driver.energy.html#psi4.driver.energy \"Go to API\"), and <span style='font-variant: small-\n",
    "caps'> Psi4 </span> will do the rest.  What about if we need a wavefunction _before_ performing a computation, or in\n",
    "order to implement a method?  Fortunately, the class method [`Wavefunction.build()`](http://psicode.org/psi4manual\n",
    "/master/psi4api.html#psi4.core.Wavefunction.build \"Go to Documentation\") allows us to build one from scratch, given\n",
    "a molecule and a basis set.  In the cell below, we've illustrated how to invoke this function:"
   ]
  },
  {
   "cell_type": "code",
   "execution_count": null,
   "metadata": {
    "collapsed": true,
    "run_control": {
     "frozen": false,
     "read_only": false
    }
   },
   "outputs": [],
   "source": [
    "# ==> Build wavefunction for H2O from scratch with Wavefunction.build() <==\n",
    "h2o_wfn = psi4.core.Wavefunction.build(h2o, psi4.core.get_global_option('basis'))"
   ]
  },
  {
   "cell_type": "markdown",
   "metadata": {
    "run_control": {
     "frozen": false,
     "read_only": false
    }
   },
   "source": [
    "Notice that we have passed the variable `h2o` (itself an instance of the `psi4.core.Molecule` class) and the AO basis\n",
    "set we wish to use to construct the wavefunction for this molecule.  We could have just as easily passed the string\n",
    "`'aug-cc-pvdz'` as an argument, but then we would have to remember to change the argument if we ever changed the\n",
    "<span style='font-variant: small-caps'> Psi4 </span> option in the `psi4.set_options()` block above. Generally, when \n",
    "creating something like a wavefunction or a basis <span style='font-variant: small-caps'> Psi4</span>-side, the class \n",
    "instances themselves are what is used to do so.  (Don't worry too much about creating basis sets yet, we'll cover\n",
    "these in more detail later.) \n",
    "\n",
    "Now that we have built an instance of the `Wavefunction` class, we can access our wavefunction's information by \n",
    "calling any of the member functions of the `Wavefunction` class on our object.  For instance, the number of spin-up\n",
    "($\\alpha$) electrons in our wavefuntion can be found using the [`Wavefunction.nalpha()`](http://psicode.org/psi4manual\n",
    "/master/psi4api.html#psi4.core.Wavefunction.nalpha \"Go to Documentation\") function:  \n",
    "~~~python\n",
    "wfn.nalpha()\n",
    "~~~\n",
    "Since the water molecule\n",
    "above was defined to be a neutral singlet, we expect that the total number of electrons in our wavefunction should\n",
    "be $\\alpha + \\beta = 2\\alpha$.  Let's check:"
   ]
  },
  {
   "cell_type": "code",
   "execution_count": 17,
   "metadata": {
    "collapsed": false
   },
   "outputs": [
    {
     "name": "stdout",
     "output_type": "stream",
     "text": [
      "Water has 10 electrons, according to our wavefunction.\n"
     ]
    }
   ],
   "source": [
    "# Compute the number of electrons in water \n",
    "print('Water has %d electrons, according to our wavefunction.' % (int(2 * h2o_wfn.nalpha())))"
   ]
  },
  {
   "cell_type": "markdown",
   "metadata": {
    "run_control": {
     "frozen": false,
     "read_only": false
    }
   },
   "source": [
    "Good, <span style='font-variant: small-caps'> Psi4 </span> and every General Chemistry textbook on the planet agree.\n",
    "What other information can be gleaned from our wavefunction object? For now, not a whole lot.  Since we have built our wavefunction from our molecule and choice of basis set but haven't yet computed anything, the wavefunction doesn't have the orbitals, electron density, energy, or Psi variables attributes set.  Once a computation has been performed,\n",
    "however, all this information may be accessed.  This may be accomplised by _returning the wavefunction_ from a\n",
    "successful computation, a concept referred to in <span style='font-variant: small-caps'> Psi4</span>-lingo as \n",
    "_wavefunction passing_.  To run a computation with <span style='font-variant: small-caps'> Psi4</span>, the function\n",
    "[`psi4.energy()`](http://psicode.org/psi4manual/master/api/psi4.driver.energy.html#psi4.driver.energy \"Go to \n",
    "Documentation\") is invoked with a particular quantum chemical method, like `'scf'`, `'mp2'`, or `'ccsd(t)`'.  To\n",
    "return the wavefunction from that method, the additional argument `return_wfn=True` can be specified:\n",
    "~~~python\n",
    "# Returning a CCSD(T) wavefunction\n",
    "energy, wfn = psi4.energy('ccsd(t)', return_wfn=True)\n",
    "~~~\n",
    "Then, both the energy and the wavefunction are returned.  Give it a try yourself, for the Hartree–Fock computation\n",
    "in the cell below:"
   ]
  },
  {
   "cell_type": "code",
   "execution_count": null,
   "metadata": {
    "collapsed": false,
    "run_control": {
     "frozen": false,
     "read_only": false
    }
   },
   "outputs": [],
   "source": [
    "# Get the SCF wavefunction & energies for H2O\n",
    "scf_e, scf_wfn = psi4.energy('scf', return_wfn=True)\n",
    "print(\"A float and a Wavefunction object returned:\", scf_e, scf_wfn)"
   ]
  },
  {
   "cell_type": "markdown",
   "metadata": {
    "collapsed": true,
    "run_control": {
     "frozen": false,
     "read_only": false
    }
   },
   "source": [
    "Now, we can access information you would expect a wavefunction to carry — basically everything we couldn't before.\n",
    "Below is summarized several quantities which will be used throughout the modules and tutorials to come.  All these  wavefunction attributes are available after a Hartree–Fock computation; make sure to try them out on our `scf_wfn`!\n",
    "\n",
    "| Quantity | Function(s) | Description |\n",
    "|----------|-------------|-------------|\n",
    "| Orbital Coefficients, **C** | [wfn.Ca()](http://psicode.org/psi4manual/master/psi4api.html#psi4.core.Wavefunction.Ca \"Go to Documentation\"), [wfn.Cb()](http://psicode.org/psi4manual/master/psi4api.html#psi4.core.Wavefunction.Cb \"Go to Documentation\") | Returns orbital coefficient matrix for $\\alpha$ (Ca) or $\\beta$ (Cb) orbitals. (Identical for restricted orbitals) |\n",
    "| Electron Density, **D** | [wfn.Da()](http://psicode.org/psi4manual/master/psi4api.html#psi4.core.Wavefunction.Da \"Go to Documentation\"), [wfn.Db()](http://psicode.org/psi4manual/master/psi4api.html#psi4.core.Wavefunction.Db \"Go to Documentation\") | One-particle density matrices for $\\alpha$ (Da) and $\\beta$ (Db) electrons. (Identical for restricted orbitals) |\n",
    "| Fock Matrix, **F** | [wfn.Fa()](http://psicode.org/psi4manual/master/psi4api.html#psi4.core.Wavefunction.Fa \"Go to Documentation\"), [wfn.Fa()](http://psicode.org/psi4manual/master/psi4api.html#psi4.core.Wavefunction.Fb \"Go to Documentation\") | Returns the Fock matrix. For wavefunction with unrestricted orbitals, distinct Fock matrices $F^{\\alpha}$ and $F^{\\beta}$ for $\\alpha$ and $\\beta$ orbitals, respectively, are created.|\n",
    "| Basis Set | [wfn.basisset()](http://psicode.org/psi4manual/master/psi4api.html#psi4.core.Wavefunction.basisset \"Go to Documentation\") | Returns basis set associated with the wavefunction. |\n",
    "| $\\alpha$ ($\\beta$) electrons | [wfn.nalpha()](http://psicode.org/psi4manual/master/psi4api.html#psi4.core.Wavefunction.nalpha \"Go to Documentation\"), [wfn.nbeta()](http://psicode.org/psi4manual/master/psi4api.html#psi4.core.Wavefunction.nbeta \"Go to Documentation\") | Returns number of $\\alpha$ ($\\beta$) electrons of the wavefunction. |\n",
    "| Irreducible Representations | [wfn.nirrep()](http://psicode.org/psi4manual/master/psi4api.html#psi4.core.Wavefunction.nirrep \"Go to Documentation\") | Returns number of irreducible representations (number of symmetry elements). Several objects can utilize molecular symmetry in the wavefunction. |\n",
    "| Occupied Orbitals | [wfn.ndoccpi()](http://psicode.org/psi4manual/master/psi4api.html#psi4.core.Wavefunction.ndoccpi \"Go to Documentation\") | Returns number of doubly occupied orbitals per irrep in the wavefunction. |\n",
    "| Psi Variables | [wfn.variables()](http://psicode.org/psi4manual/master/psi4api.html#psi4.core.Wavefunction.variables \"Go to Documentation\") | Returns all Psi variables associated with the method which computed the wavefunction. |\n",
    "| Energy   | [wfn.energy()](http://psicode.org/psi4manual/master/psi4api.html#psi4.core.Wavefunction.energy \"Go to Documentation\") | Returns current energy of the wavefunction. |\n",
    "| Orbital Energies, $\\boldsymbol{\\epsilon}$ | [wfn.epsilon_a()](http://psicode.org/psi4manual/master/psi4api.html#psi4.core.Wavefunction.epsilon_a \"Go to Documentation\"), [wfn.epsilon_b()](http://psicode.org/psi4manual/master/psi4api.html#psi4.core.Wavefunction.epsilon_b \"Go to Documentation\") | Returns $\\alpha$ (a) and $\\beta$ (b) orbital energies. (Identical for restricted orbitals) |\n",
    "\n",
    "Note: The functions returning any of the matrices mentioned above (**C**, **D**, $\\boldsymbol{\\epsilon}$), actually\n",
    "return instances of the `psi4.core.Matrix` class (noticing a pattern here?) and not viewable arrays.  Fortunately,\n",
    "the previous tutorial introduced how to modify these arrays Python-side, using NumPy views created through `np.asarray()`\n",
    "or `.np`.\n",
    "\n",
    "The full list is quite extensive; however, this likely comprises the most utilized functions. It should be noted that the \"a\" stands for alpha and conversely the beta quantities can be accessed with the letter \"b\". For now let's ensure that all computations have C1 symmetry; molecular symmetry can be utilized in Psi4NumPy computations but adds significant complexity to the code."
   ]
  },
  {
   "cell_type": "code",
   "execution_count": null,
   "metadata": {
    "collapsed": true,
    "run_control": {
     "frozen": false,
     "read_only": false
    }
   },
   "outputs": [],
   "source": [
    "# Try out the wavefunction class member functions!"
   ]
  }
 ],
 "metadata": {
  "kernelspec": {
   "display_name": "Python 2",
   "language": "python",
   "name": "python2"
  },
  "language_info": {
   "codemirror_mode": {
    "name": "ipython",
    "version": 2
   },
   "file_extension": ".py",
   "mimetype": "text/x-python",
   "name": "python",
   "nbconvert_exporter": "python",
   "pygments_lexer": "ipython2",
   "version": "2.7.12"
  },
  "latex_envs": {
   "LaTeX_envs_menu_present": true,
   "bibliofile": "biblio.bib",
   "cite_by": "apalike",
   "current_citInitial": 1,
   "eqLabelWithNumbers": true,
   "eqNumInitial": 1,
   "labels_anchors": false,
   "latex_user_defs": false,
   "report_style_numbering": false,
   "user_envs_cfg": false
  }
 },
 "nbformat": 4,
 "nbformat_minor": 0
}
