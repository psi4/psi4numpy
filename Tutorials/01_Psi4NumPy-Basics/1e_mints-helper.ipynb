{
 "cells": [
  {
   "cell_type": "markdown",
   "metadata": {},
   "source": [
    "# MintsHelper: Generating 1- and 2-electron Integrals with <span style='font-variant: small-caps'> Psi4 </span>\n",
    "\n",
    "In all of quantum chemistry, one process which is common to nearly every method is the evaluation of one-\n",
    "and two-electron integrals.  Fortunately, we can leverage infrastructure in <span style='font-variant: small-caps'> \n",
    "Psi4 </span> to perform this task for us.  This tutorial will discuss the [``psi4.core.MintsHelper``](http://psicode.org/psi4manual/master/psi4api.html#psi4.core.MintsHelper \"Go to API\") class, which is an\n",
    "interface for the powerful Psi4 ``libmints`` library which wraps the `libint` library, where these integrals are actually computed.  \n",
    "\n",
    "## MintsHelper Overview\n",
    "In order to compute 1- and 2-electron integrals, we first need a molecule and basis set with which to work.  So, \n",
    "before diving into `MintsHelper`, we need to build these objects.  In the cell below, we have imported\n",
    "<span style='font-variant: small-caps'> Psi4 </span> and NumPy, defined a water molecule, and set the basis to\n",
    "cc-pVDZ.  We've also set the memory available to <span style='font-variant: small-caps'> Psi4</span>, as well as\n",
    "defined a variable `numpy_memory` which we will discuss later."
   ]
  },
  {
   "cell_type": "code",
   "execution_count": null,
   "metadata": {
    "collapsed": true
   },
   "outputs": [],
   "source": [
    "# ==> Setup <==\n",
    "# Import statements\n",
    "import psi4\n",
    "import numpy as np\n",
    "\n",
    "# Memory & Output file\n",
    "psi4.set_memory(int(2e9))\n",
    "numpy_memory = 2\n",
    "psi4.core.set_output_file('output.dat', False)\n",
    "\n",
    "# Molecule definition\n",
    "h2o = psi4.geometry(\"\"\"\n",
    "O\n",
    "H 1 0.96\n",
    "H 1 0.96 2 104.5\n",
    "\"\"\")\n",
    "\n",
    "# Basis Set\n",
    "psi4.set_options({'basis': 'cc-pvdz'})"
   ]
  },
  {
   "cell_type": "markdown",
   "metadata": {},
   "source": [
    "Now, we are ready to create an instance of the `MintsHelper` class.  To do this, we need to pass a `BasisSet`\n",
    "object to the `MintsHelper` initializer.  Fortunately, from the previous tutorial on the `Wavefunction` class, we know\n",
    "that we can obtain such an object from an existing wavefunction.  So, let's build a new wavefunction for our molecule,\n",
    "get the basis set object, and build an instance of `MintsHelper`:"
   ]
  },
  {
   "cell_type": "code",
   "execution_count": null,
   "metadata": {
    "collapsed": true
   },
   "outputs": [],
   "source": [
    "# ==> Build MintsHelper Instance <==\n",
    "# Build new wavefunction\n",
    "wfn = psi4.core.Wavefunction.build(h2o, psi4.core.get_global_option('basis'))\n",
    "\n",
    "# Initialize MintsHelper with wavefunction's basis set\n",
    "mints = psi4.core.MintsHelper(wfn.basisset())"
   ]
  },
  {
   "cell_type": "markdown",
   "metadata": {},
   "source": [
    "Below are summarized several commonly computed quantities and how to obtain them using a `MintsHelper` class method:\n",
    "\n",
    "| Quantity | Function | Description |\n",
    "|----------|----------|-------------|\n",
    "| AO Overlap integrals | [mints.ao_overlap()](http://psicode.org/psi4manual/master/psi4api.html#psi4.core.MintsHelper.ao_overlap \"Go to Documentation\") | Returns AO overlap matrix as a `psi4.core.Matrix` object |\n",
    "| AO Kinetic Energy | [mints.ao_kinetic()](http://psicode.org/psi4manual/master/psi4api.html#psi4.core.MintsHelper.ao_kinetic \"Go to Documentation\") | Returns AO kinetic energy matrix as a `psi4.core.Matrix` object |\n",
    "| AO Potential Energy | [mints.ao_potential()](http://psicode.org/psi4manual/master/psi4api.html#psi4.core.MintsHelper.ao_potential \"Go to Documentation\") | Returns AO potential energy matrix as a `psi4.core.Matrix` object |\n",
    "| AO Electron Repulsion Integrals | [mints.ao_eri()](http://psicode.org/psi4manual/master/psi4api.html#psi4.core.MintsHelper.ao_eri \"Go to Documentation\") | Returns rank-4 electron repulsion integral tensor in AO basis |\n",
    "\n",
    "In addition to these methods, another which is worth mentioning is the [`MintsHelper.mo_eri()`](http://psicode.org\n",
    "/psi4manual/master/psi4api.html#psi4.core.MintsHelper.mo_eri \"Go to Documentation\") function, which can transform \n",
    "the four-index, two-electron repulsion integrals from the atomic orbital (AO) to the molecular orbital (MO) basis,\n",
    "which will be important in MP2 theory.  \n",
    "\n",
    "## Memory Considerations\n",
    "\n",
    "Before moving forward to computing any 1- or 2-electron integrals, we must first discuss the memory requirements of\n",
    "these objects.  Whenever these quantities are computed, they are stored directly in memory (a.k.a. RAM,\n",
    "*not* on the hard drive) which, for a typical laptop or personal computer, usually tops out at around 16 GB of \n",
    "space.  The storage space required by the two-index AO overlap integrals and four-index ERIs scales as ${\\cal\n",
    "O}(N^2)$ and ${\\cal O}(N^4)$, respectively, where $N$ is the number of AO basis functions.  This means that for a\n",
    "system with 500 AO basis functions, while the AO overlap integrals will only require 1 MB of memory to store,\n",
    "the ERIs will require a staggering **500 GB** of memory!! This can be reduced to **62.5 GB** of memory if integral permutational symmetry is used. For this reason, as well as the steep computational \n",
    "scaling of many of the methods demonstrated here, we limit ourselves to small systems ($\\sim50$ basis functions)\n",
    "which should not require such egregious amounts of memory.  Additionally, we will employ a \"memory check\" to catch\n",
    "any case which could potentially try to use more memory than is available:\n",
    "~~~python\n",
    "# Memory check for ERI tensor\n",
    "I_size = (nbf**4) * 8.e-9\n",
    "print('Size of the ERI tensor will be %4.2f GB.' % (I_size))\n",
    "memory_footprint = I_size * 1.5\n",
    "if I_size > numpy_memory:\n",
    "    psi4.core.clean()\n",
    "    raise Exception(\"Estimated memory utilization (%4.2f GB) exceeds allotted memory \\\n",
    "                     limit of %4.2f GB.\" % (memory_footprint, numpy_memory))\n",
    "~~~\n",
    "Using the `numpy_memory` variable, we are able to control whether the ERIs will be computed, based on the amount of\n",
    "memory required to store them. \n",
    "\n",
    "<font color=\"red\">**NOTE: DO NOT EXCEED YOUR SYSTEM'S MEMORY.  THIS MAY RESULT IN YOUR PROGRAM AND/OR COMPUTER CRASHING!**</font>\n",
    "\n",
    "## Examples: AO Overlap, AO ERIs, Core Hamiltonian\n",
    "The cell below demonstrates obtaining the AO overlap integrals, conducting the\n",
    "above memory check, and computing the ERIs and core Hamiltonian matrix for our water molecule."
   ]
  },
  {
   "cell_type": "code",
   "execution_count": null,
   "metadata": {
    "collapsed": false
   },
   "outputs": [],
   "source": [
    "# ==> Integrals galore! <==\n",
    "# AO Overlap\n",
    "S = np.asarray(mints.ao_overlap())\n",
    "\n",
    "# Number of basis functions\n",
    "nbf = S.shape[0]\n",
    "\n",
    "# Memory check\n",
    "I_size = (nbf ** 4) * 8.e-9\n",
    "print('Size of the ERI tensor will be %4.2f GB.' % (I_size))\n",
    "memory_footprint = I_size * 1.5\n",
    "if I_size > numpy_memory:\n",
    "    psi4.core.clean()\n",
    "    raise Exception(\"Estimated memory utilization (%4.2f GB) exceeds allotted memory \\\n",
    "                     limit of %4.2f GB.\" % (memory_footprint, numpy_memory))\n",
    "\n",
    "# Compute AO-basis ERIs\n",
    "I = mints.ao_eri()\n",
    "\n",
    "# Compute AO Core Hamiltonian\n",
    "T = np.asarray(mints.ao_kinetic())\n",
    "V = np.asarray(mints.ao_potential())\n",
    "H = T + V"
   ]
  }
 ],
 "metadata": {
  "anaconda-cloud": {},
  "kernelspec": {
   "display_name": "Python 2",
   "language": "python",
   "name": "python2"
  },
  "language_info": {
   "codemirror_mode": {
    "name": "ipython",
    "version": 2
   },
   "file_extension": ".py",
   "mimetype": "text/x-python",
   "name": "python",
   "nbconvert_exporter": "python",
   "pygments_lexer": "ipython2",
   "version": "2.7.12"
  },
  "latex_envs": {
   "LaTeX_envs_menu_present": true,
   "bibliofile": "biblio.bib",
   "cite_by": "apalike",
   "current_citInitial": 1,
   "eqLabelWithNumbers": true,
   "eqNumInitial": 1,
   "labels_anchors": false,
   "latex_user_defs": false,
   "report_style_numbering": false,
   "user_envs_cfg": false
  }
 },
 "nbformat": 4,
 "nbformat_minor": 0
}
