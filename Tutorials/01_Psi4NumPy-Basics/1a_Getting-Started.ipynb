{
 "cells": [
  {
   "cell_type": "markdown",
   "metadata": {},
   "source": [
    "# <span style=\"font-family: Optima, sans-serif; color: #273896;\">P<span style=\"font-size: 82%;\">SI</span>4</span> Acquisition"
   ]
  },
  {
   "cell_type": "markdown",
   "metadata": {},
   "source": [
    "### Easy choice: clone and compile\n",
    "\n",
    "* Clone from [GitHub](https://github.com/psi4/psi4)\n",
    "* Compile via [CMake](https://github.com/psi4/psi4/blob/master/CMakeLists.txt#L16-L123)\n",
    "* Build FAQ and guide [here](http://psicode.org/psi4manual/master/build_faq.html)"
   ]
  },
  {
   "cell_type": "markdown",
   "metadata": {},
   "source": [
    "### Easier choice: conda\n",
    "\n",
    "0. Get [miniconda](https://conda.io/miniconda.html) or [anaconda](https://www.continuum.io/downloads) installer or script\n",
    "0. Run the installer or \"bash\" the script on the command line, accepting its license and allowing it to add its installation directory to your `PATH` environment variable: _e.g._, ``bash Anaconda3-4.3.0-Linux-x86_64.sh``\n",
    "0. Create a <span style=\"font-family: Optima, sans-serif; color: #273896;\">P<span style=\"font-size: 82%;\">SI</span>4</span> environment named \"p4env\". Until the 1.1 release, instructions may be found [at the end of this thread](https://github.com/psi4/psi4/issues/466#issuecomment-272589229)\n",
    "0. Activate the environment: ``source activate p4env``\n",
    "0. See [guide](http://psicode.org/psi4manual/master/build_planning.html#faq-runordinarymodule) for any configuration trouble"
   ]
  },
  {
   "cell_type": "markdown",
   "metadata": {},
   "source": [
    "### Easiest choice: conda installer\n",
    "\n",
    "* **Not available until 1.1 release**\n",
    "* ~~Get Psi4+miniconda installer script from [psicode](http://psicode.org/downloads.html) and follow its directions~~"
   ]
  },
  {
   "cell_type": "markdown",
   "metadata": {},
   "source": [
    "### Online choice: binder button\n",
    "* **Not available until 1.1 release**"
   ]
  },
  {
   "cell_type": "markdown",
   "metadata": {},
   "source": [
    "# <span style=\"font-family: Optima, sans-serif; color: #273896;\">P<span style=\"font-size: 82%;\">SI</span>4</span> Boilerplate\n",
    "\n"
   ]
  },
  {
   "cell_type": "markdown",
   "metadata": {},
   "source": [
    "### Eponymous Python module imports"
   ]
  },
  {
   "cell_type": "code",
   "execution_count": null,
   "metadata": {
    "collapsed": false
   },
   "outputs": [],
   "source": [
    "import psi4\n",
    "import numpy as np"
   ]
  },
  {
   "cell_type": "markdown",
   "metadata": {},
   "source": [
    "### Direct output and scratch\n",
    "\n",
    "* Output goes to file ``output.dat``\n",
    "* Boolean directs overwriting (`True`) rather than appending (`False`).\n",
    "* Optionally, redirect scratch away from ``/tmp`` to existing, writable directory"
   ]
  },
  {
   "cell_type": "code",
   "execution_count": null,
   "metadata": {
    "collapsed": true
   },
   "outputs": [],
   "source": [
    "psi4.set_output_file(\"output.dat\", True)\n",
    "\n",
    "# optional\n",
    "psi4.core.IOManager.shared_object().set_default_path(\"/scratch\")"
   ]
  },
  {
   "cell_type": "markdown",
   "metadata": {},
   "source": [
    "### Set memory limits\n",
    "\n",
    "* Give 500 Mb of memory to <span style=\"font-family: Optima, sans-serif; color: #273896;\">P<span style=\"font-size: 82%;\">SI</span>4</span>\n",
    "* Give 2 Gb of memory for NumPy arrays (quantity for Psi4NumPy project, *not* passed to NumPy)\n",
    "* Sum of these two should nowhere approach the RAM of your computer"
   ]
  },
  {
   "cell_type": "code",
   "execution_count": null,
   "metadata": {
    "collapsed": true
   },
   "outputs": [],
   "source": [
    "psi4.set_memory(int(5e8))\n",
    "numpy_memory = 2"
   ]
  },
  {
   "cell_type": "markdown",
   "metadata": {},
   "source": [
    "### Molecule and Basis\n",
    "\n",
    "* Covered in detail in subsequent tutorials. This is the quick reference\n",
    "* Running _without_ symmetry recommended in Psi4NumPy for simplest expressions"
   ]
  },
  {
   "cell_type": "code",
   "execution_count": null,
   "metadata": {
    "collapsed": true
   },
   "outputs": [],
   "source": [
    "psi4.geometry(\"\"\"\n",
    "O 0.0 0.0 0.0 \n",
    "H 1.0 0.0 0.0\n",
    "H 0.0 1.0 0.0\n",
    "symmetry c1\n",
    "\"\"\")\n",
    "\n",
    "psi4.set_options({'basis': 'cc-pvdz'})"
   ]
  }
 ],
 "metadata": {
  "kernelspec": {
   "display_name": "Python [Root]",
   "language": "python",
   "name": "Python [Root]"
  },
  "language_info": {
   "codemirror_mode": {
    "name": "ipython",
    "version": 2
   },
   "file_extension": ".py",
   "mimetype": "text/x-python",
   "name": "python",
   "nbconvert_exporter": "python",
   "pygments_lexer": "ipython2",
   "version": "2.7.12"
  }
 },
 "nbformat": 4,
 "nbformat_minor": 0
}
