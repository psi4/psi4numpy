{
 "cells": [
  {
   "cell_type": "markdown",
   "metadata": {},
   "source": [
    "# The Hessian\n",
    "### This tutorial covers the guessing and transformations of the Hessian in geometry optimizations.\n",
    "\n",
    "Newton-Raphson and Newton-Raphson-like optimization methods require an energy second derivative (called the \"Hessian\").  If internal coordinates are used, then the starting Hessian in internal coordinates is either estimated or produced by transformation of a Cartesian Hessian.  The Cartesian Hessian is computed via analytic second derivative methods, or by finite differences of gradients or energies.  To reduce computational expense, this Cartesian Hessian may be computed at a lower level of theory than that at which the optimization is being performed.\n",
    "\n",
    "However, the common empirical formulas for \"guessing\" the stretch, bend, and torsion force constants generally are sufficient.  In fact, for ordinary bonding situations initial computation of the Hessian results in little reduction in the number of geometry steps to convergence.  Each internal coordinate type has a method used to guess its own force constant using a variety of published methods, here we use the default 'SIMPLE' method.  Lets see what a \"simple\" guess Hessian for water looks like. "
   ]
  },
  {
   "cell_type": "code",
   "execution_count": null,
   "metadata": {
    "collapsed": false
   },
   "outputs": [],
   "source": [
    "import psi4\n",
    "from psi4 import *\n",
    "from psi4.core import *\n",
    "import numpy as np\n",
    "import os\n",
    "sys.path.append('os.getcwd()')\n",
    "from opt_helper import stre, bend, tors, intcosMisc, linearAlgebra"
   ]
  },
  {
   "cell_type": "code",
   "execution_count": null,
   "metadata": {
    "collapsed": false
   },
   "outputs": [],
   "source": [
    "mol = psi4.geometry(\"\"\"\n",
    "O\n",
    "H 1 0.9\n",
    "H 1 0.9 2 104\n",
    "\"\"\")\n",
    "mol.update_geometry()\n",
    "Natom = mol.natom()\n",
    "Z = [int(mol.Z(i)) for i in range(Natom)]\n",
    "xyz = np.array(mol.geometry())\n",
    "\n",
    "# Manually create a list including both O-H stretches and \n",
    "# the H-O-H bend.\n",
    "intcos = [stre.STRE(0,1), stre.STRE(0,2), bend.BEND(1,0,2)]\n",
    "Nintco = len(intcos)\n",
    "print(\"Internal Coordinates\")\n",
    "for intco in intcos: \n",
    "    print(intco) \n",
    "\n",
    "# Build a diagonal guess Hessian from a simple, empirical rule.\n",
    "H = np.zeros((Nintco,Nintco), float)\n",
    "for i,intco in enumerate(intcos):\n",
    "    H[i,i] = intco.diagonalHessianGuess(xyz, Z, guessType=\"SIMPLE\")\n",
    "print(\"\\nSimple Guess Hessian for Water (in au)\")\n",
    "print(H)"
   ]
  },
  {
   "cell_type": "markdown",
   "metadata": {},
   "source": [
    "You can see that the very simple rule is 0.5 au for bond stretches and 0.2 au for angles (also, 0.1 au for dihedrals).  For many molecular configurations, this Hessian works nearly as well in optimizations as one determined by a second derivative computation!  However, there are commonly used atomic number- and geometry- dependent formulas that are generally more effective and have better asymptotic behavior (e.g., at long distances).  Here are the corresponding guesses using the formulae from Schlegel [_Theor. Chim. Acta_, 66, 333 (1984)] and from Fischer and Almlof [_J. Phys. Chem._, 96, 9770 (1992)].\n",
    "\n",
    "The off-diagonal elements, being difficult to estimate, are typically set at zero.  Some have advocated a small non-zero value for them, but in any event, the Hessian update schemes (see other tutorial) will change them."
   ]
  },
  {
   "cell_type": "code",
   "execution_count": null,
   "metadata": {
    "collapsed": false
   },
   "outputs": [],
   "source": [
    "for i,intco in enumerate(intcos):\n",
    "    H[i,i] = intco.diagonalHessianGuess(xyz, Z, guessType=\"SCHLEGEL\")\n",
    "print(\"Schlegel Guess Hessian for Water (in au)\")\n",
    "print(H)\n",
    "\n",
    "for i,intco in enumerate(intcos):\n",
    "    H[i,i] = intco.diagonalHessianGuess(xyz, Z, guessType=\"FISCHER\")\n",
    "print(\"\\nFischer Guess Hessian for Water (in au)\")\n",
    "print(H)"
   ]
  },
  {
   "cell_type": "markdown",
   "metadata": {
    "collapsed": true,
    "scrolled": false
   },
   "source": [
    "Psi4 and other quantum chemistry programs can compute Cartesian Hessians using either analytic second derivatives, or finite differences of first derivatives (or energies).  Here, we assume the program has provided the Hessian in Cartesian coordinates.  Assuming we wish to carry out our optimization in internal coordinates, then we need to transform this Hessian into internal coordinates for use in our Newton-Raphson like algorithm.  \n",
    "\n",
    "Starting with the definition of the hessian in Cartesian coordinates\n",
    "$$ \\textbf H_{ab} = \\frac{\\partial ^2 E}{\\partial x_a\\partial x_b}$$\n",
    "\n",
    "we use the B-matrix elements and the chain rule\n",
    "\\begin{align}\n",
    "\\textbf H_{ab} &= \\frac{\\partial}{\\partial x_a}\\Big( \\frac{\\partial E}{\\partial q_i}\\frac{\\partial q_i}{\\partial x_b}\\Big ) \\\\\n",
    " &= \\frac{\\partial ^2 E}{\\partial x_a \\partial q_i} \\frac{\\partial q_i}{\\partial x_b} + \\frac{\\partial E}{\\partial q_i}\\frac{\\partial ^2 q_i}{\\partial x_a \\partial x_b} \\\\\n",
    " &= \\Big(\\frac{\\partial}{\\partial x_a} \\cdot \\frac{\\partial E}{\\partial q_i}\\Big) \\frac{\\partial q_i}{\\partial x_b} + \\frac{\\partial E}{\\partial q_i}\\frac{\\partial ^2 q_i}{\\partial x_a \\partial x_b}\\\\\n",
    " &= \\Big(\\frac{\\partial q_j}{\\partial x_a} \\cdot \\frac{\\partial}{\\partial q_j} \\cdot \\frac{\\partial E}{\\partial q_i}\\Big) \\frac{\\partial q_i}{\\partial x_b} + \\frac{\\partial E}{\\partial q_i}\\frac{\\partial ^2 q_i}{\\partial x_a \\partial x_b}\\\\\n",
    " &= \\frac{\\partial q_j}{\\partial x_a}\\frac{\\partial ^2 E}{\\partial q_j \\partial q_i} \\frac{ \\partial q_i}{\\partial x_b} + \\frac{\\partial E }{\\partial q_i} \\frac {\\partial ^2 q_i}{\\partial x_a \\partial x_b}\\\\\n",
    "\\end{align}\n",
    "\n",
    "With the introduction of the derivative B-matrix for internal coordinate $i$ as $\\textbf B^i$, we can write the above equation in matrix form for the transformation of the internal coordinate Hessian into Cartesian coordinates.\n",
    "\n",
    "$$ \\textbf{H}_{\\rm{cart}} = \\textbf{B}^T \\textbf{H}_{\\rm{int}} \\textbf{B} + g_i \\textbf{B}^i$$\n",
    "\n",
    "At stationary points where the gradient is zero, the second term vanishes. The contribution of this term is generally small, and it may not be worth the expense of computing when generating Hessians for stationary point searches.\n",
    "\n",
    "We still need to derive the formula for the inverse transformation.  See the first tutorial for the introduction of the $\\mathbf A^T$ matrix, the generalized left-inverse of $ \\mathbf{B}^T $, where \n",
    "\n",
    "$$ \\textbf A^T = (\\textbf{B} \\textbf{u} \\textbf {B}^T)^{-1} \\textbf {B} \\textbf{u}$$\n",
    "\n",
    "so that \n",
    "\n",
    "$$ \\textbf {A}^T \\textbf{H}_{\\rm{cart}} \\textbf {A} = \\textbf{A}^T \\textbf{B}^T \\textbf{H}_{\\rm{int}} \\textbf{BA} + \\textbf {A}^T g_i \\textbf{B}^i \\textbf A$$\n",
    "\n",
    "and\n",
    "\n",
    "$$ \\textbf{H}_{\\rm{int}} = \\textbf A^T \\textbf {H}_{\\mathrm{cart}} \\textbf A - \\textbf A^T  g_i \\textbf {B}^i \\textbf A $$\n",
    "\n",
    "We can factor the terms to get the following:\n",
    "\n",
    "$$ \\textbf{H}_{\\rm{int}} = \\textbf A^T ( \\textbf {H}_{\\mathrm{cart}} - g_i \\textbf {B}^i ) \\textbf A $$\n",
    "\n",
    "Now lets convert a Psi4 Cartesian Hessian into internals!"
   ]
  },
  {
   "cell_type": "code",
   "execution_count": null,
   "metadata": {
    "collapsed": false
   },
   "outputs": [],
   "source": [
    "# Compute B and A matrices.\n",
    "B = intcosMisc.Bmat(intcos, xyz)\n",
    "G = np.dot(B, B.T)\n",
    "Ginv = linearAlgebra.symmMatInv(G)\n",
    "Atranspose = np.dot(Ginv, B)\n",
    "\n",
    "# We'll use cc-pVDZ RHF.\n",
    "psi4.set_options({\"basis\": \"cc-pvdz\"})\n",
    "\n",
    "# Get gradient in cartesian coordinates, then convert to internals.\n",
    "g_x = np.reshape( np.array( psi4.gradient('scf')), (3*Natom))\n",
    "g_q = np.dot(Atranspose, g_x)\n",
    "\n",
    "print(\"Gradient in internal coordinates\")\n",
    "print(g_q)\n",
    "\n",
    "# Get Hessian in Cartesian coordinates.\n",
    "H_cart = np.array( psi4.hessian('scf') )\n",
    "# print(\"Hessian in Cartesian coordinates\")\n",
    "# print(H_cart)"
   ]
  },
  {
   "cell_type": "code",
   "execution_count": null,
   "metadata": {
    "collapsed": false
   },
   "outputs": [],
   "source": [
    "# Convert Cartesian Hessian to internals.\n",
    "# A^t (Hxy - Kxy) A;    K_xy = sum_q ( grad_q[I] d^2(q_I)/(dx dy) )\n",
    "Ncart = 3 * mol.natom()\n",
    "H_int = np.zeros( (Nintco,Nintco), float)\n",
    "dq2dx2 = np.zeros((Ncart,Ncart), float)\n",
    "\n",
    "for I, q in enumerate(intcos):\n",
    "    dq2dx2[:] = 0\n",
    "    q.Dq2Dx2(xyz, dq2dx2)   # d^2(q_I)/ dx_i dx_j\n",
    "\n",
    "    for a in range(Ncart):\n",
    "        for b in range(Ncart):\n",
    "            H_cart[a,b] -= g_q[I] * dq2dx2[a,b]\n",
    "\n",
    "H_int = np.dot(Atranspose, np.dot(H_cart, Atranspose.T))\n",
    "print(\"Hessian in internal coordinates\")\n",
    "print(H_int)"
   ]
  },
  {
   "cell_type": "markdown",
   "metadata": {},
   "source": [
    "This result may be compared with the guess Hessians from the formulas above.  It is verified that in these intuitive coordinates (stretches, bends, etc.) the Hessian is strongly diagonal, and it also may be readily estimated.\n",
    "\n",
    "During the course of the optimization, the Hessian may be re-calculated at each step (or every fixed number of steps).  However, the computation of the Hessian is computationally costly, even when possible.  In most cases, updating the Hessian with first derivative information works nearly as well as recomputing the Hessian and requires no additional computation.  For Hessian updating, see another tutorial."
   ]
  }
 ],
 "metadata": {
  "kernelspec": {
   "display_name": "Python 3",
   "language": "python",
   "name": "python3"
  },
  "language_info": {
   "codemirror_mode": {
    "name": "ipython",
    "version": 3
   },
   "file_extension": ".py",
   "mimetype": "text/x-python",
   "name": "python",
   "nbconvert_exporter": "python",
   "pygments_lexer": "ipython3",
   "version": "3.6.4"
  }
 },
 "nbformat": 4,
 "nbformat_minor": 2
}
