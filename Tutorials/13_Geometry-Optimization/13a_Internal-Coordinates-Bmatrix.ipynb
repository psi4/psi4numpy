{
 "cells": [
  {
   "cell_type": "markdown",
   "metadata": {},
   "source": [
    "# Internal Coordinates and the B-matrix\n",
    "## Defining bonds\n",
    "Assuming a reasonable initial geometrical input, the identification of which atoms are bonded may, in most cases, be simply achieved using standard covalent radii.  Here we do this for ammonium."
   ]
  },
  {
   "cell_type": "code",
   "execution_count": null,
   "metadata": {
    "collapsed": false
   },
   "outputs": [],
   "source": [
    "import psi4\n",
    "import numpy as np\n",
    "import sys,os\n",
    "from itertools import combinations, permutations\n",
    "from math import sqrt\n",
    "sys.path.append('os.getcwd()')\n",
    "from opt_helper import covRadii, v3d, stre, bend, intcosMisc"
   ]
  },
  {
   "cell_type": "code",
   "execution_count": null,
   "metadata": {
    "collapsed": false
   },
   "outputs": [],
   "source": [
    "mol = psi4.geometry(\"\"\"\n",
    " 1 1\n",
    " N  0.000000  0.0       0.0 \n",
    " H  1.584222  0.0       1.12022\n",
    " H  0.0      -1.58422  -1.12022\n",
    " H -1.584222  0.0       1.12022\n",
    " H  0.0       1.58422  -1.12022\n",
    " unit au\n",
    "\"\"\")\n",
    "mol.update_geometry()\n",
    "xyzGeom = np.array(mol.geometry())\n",
    "print(\"Starting Geometry for Ammonium\")\n",
    "print(xyzGeom) \n",
    "\n",
    "# Get atomic numbers and covalent radii\n",
    "Natom = mol.natom()\n",
    "Z = [int(mol.Z(i)) for i in range(Natom)]\n",
    "\n",
    "# Connectivity matrix indicates which atoms are bonded.\n",
    "C = np.zeros( (Natom, Natom), bool )\n",
    "for i,j in combinations( range(Natom), 2):\n",
    "  R = v3d.dist( xyzGeom[i], xyzGeom[j])\n",
    "  Rcov = (covRadii.R[Z[i]] + covRadii.R[Z[j]])/0.52917720859\n",
    "  if R < 1.3 * Rcov:\n",
    "    C[i,j] = C[j,i] = True\n",
    "\n",
    "print(\"Connectivity matrix for Ammonium\")\n",
    "print(C)"
   ]
  },
  {
   "cell_type": "markdown",
   "metadata": {},
   "source": [
    "In practice, the factor 1.3 may be increased as necessary to ensure bonds connect all the atoms together.  This is done in so-called 'supermolecule' approaches, even when multiple molecules are present."
   ]
  },
  {
   "cell_type": "markdown",
   "metadata": {},
   "source": [
    "## Determining internal coordinates automatically\n",
    "Once the connectivity is determined, the chemically relevant bonds, angles, and dihedral angles can be determined from the connected atoms.  A stretching coordinate is added for every two bonded atoms, and a bending coordinate is added for all unique A-B-C sequences of connected atoms. For this example of ammonium, there are no dihedral angles.  However, if present, any bonded sequence A-B-C-D is taken to define a dihedral coordinate that is added to the set of optimization coordinates.  (If linear or near-linear bends are present, then 2 orthogonal bends are used to describe the situation, and dihedral coordinates which contain these linear bends must be avoided.  This complication is not further explored here.)"
   ]
  },
  {
   "cell_type": "code",
   "execution_count": null,
   "metadata": {
    "collapsed": false
   },
   "outputs": [],
   "source": [
    "intcos = []\n",
    "# Add stretches by connectivity.\n",
    "for i,j in combinations( range(Natom), 2 ):\n",
    "  if C[i,j]:\n",
    "    s = stre.STRE(i, j)\n",
    "    if s not in intcos:\n",
    "      intcos.append(s)\n",
    "\n",
    "# Add bends by connectivity.\n",
    "for i,j in permutations( range(Natom), 2):\n",
    "  if C[i,j]:\n",
    "    for k in range(i+1,Natom):  # make i<k\n",
    "      if C[j,k]:\n",
    "        (check, val) = v3d.angle(xyzGeom[i], xyzGeom[j], xyzGeom[k])\n",
    "        if not check: continue\n",
    "        b = bend.BEND(i, j, k)\n",
    "        if b not in intcos:\n",
    "          intcos.append(b)\n",
    "          \n",
    "# print our internal coordinate set with values\n",
    "for i in intcos:\n",
    "    print(\"%10s = %10.5f\" % (i, i.q(xyzGeom)))"
   ]
  },
  {
   "cell_type": "markdown",
   "metadata": {},
   "source": [
    "## Redundant Coordinates\n",
    "These simple internal coordinates have many advantages. They tend to produce a strongly diagonal energy second derivative matrix (Hessian), and they have force constants which are readily guessable, i.e., transferable from one molecule to another. In these two respects, they are vastly superior to Cartesian coordinates.\n",
    "\n",
    "For many years, the primary difficulty was that the simple procedure demonstrated here generates too many coordinates. Non-linear molecules have $3N-6$ internal degrees of freedom (where $N$ is the number of atoms), but including all the internal coordinates defined by the bond connectivity will generally produce more than that.\n",
    "\n",
    "For ammonium, we see that we have 10 coordinates, while the ion has only 9 internal degrees of freedom. Various alternative coordinate systems were explored, for example \"delocalized coordinates\" [J.Baker, A. Kessi, and B. Delley, _J. Chem. Phys._, 105, 192 (1996)], and \"natural internal coordinates\" [G. Fogarasi, X. Zhou, P.W. Taylor, and P. Pulay, _J. Am. Chem. Soc._, 114, 8191 (1992)].  However, an elegant and robust solution turned out to be simply to work with a redundant set and to make the necessary mathematical adjustments.  This approach was advanced by P. Pulay and G. Fogarasi [_J. Chem. Phys._, 96, 2856 (1992)]."
   ]
  },
  {
   "cell_type": "markdown",
   "metadata": {},
   "source": [
    "## The B matrix and coordinate transformations\n",
    "\n",
    "The Wilson __B__-matrix [see the classic text by E.B. Wilson, J.C. Decius, and P.C. Cross, _Molecular Vibrations_, Dover (1955)] is the key to transformations between internal and Cartesian coordinates.  A __B__-matrix element is defined as the derivative of an internal coordinate value with respect to a Cartesian coordinate.\n",
    "\n",
    "$$\\textbf {B}_{ij} = \\frac{\\delta q_i}{\\delta x_j}$$\n",
    "\n",
    "The __B__-matrix therefore has dimensions of (Number of internals) by (Number of Cartesians).  A row of the __B__-matrix (corresponding to a particular internal coordinate) may also be interpreted as the collection of Cartesian unit vectors for each atom along which displacing would result in a maximal increase in the value of the internal coordinate.  (These unit vectors are sometimes called \"_s_-vectors\".)  Formulas for these __B__-matrix components as well as their derivatives are provided in a 2002 paper of V. Bakken and T. Helgaker [_J. Chem. Phys._, 117, 9160 (2002)], albeit not without some errors in the dihedral derivative __B__-matrix formulas.\n",
    "\n",
    "Lets take a look at the first row of the __B__-matrix for ammonium:"
   ]
  },
  {
   "cell_type": "code",
   "execution_count": null,
   "metadata": {
    "collapsed": false
   },
   "outputs": [],
   "source": [
    "Bmat = intcosMisc.Bmat(intcos, xyzGeom)\n",
    "print('B matrix - first row')\n",
    "print(Bmat[0])"
   ]
  },
  {
   "cell_type": "markdown",
   "metadata": {},
   "source": [
    "Notice that only the first 6 elements corresponding to the Cartesian coordinates of the first two atoms are non-zero. Since the first internal is R(1,2), only the first 2 atoms are relevant to its definition.  The B-matrix, therefore, is tremendously sparse, when the internal coordinates are restricted to stretches, bends, and dihedrals. (For Cartesian coordinates themselves, the __B__-matrix is simply the unit matrix.)\n",
    "\n",
    "For a diatomic, the __B__-matrix consists of a single row, and the components are simply two vectors pointing outward as shown below."
   ]
  },
  {
   "cell_type": "code",
   "execution_count": null,
   "metadata": {
    "collapsed": false
   },
   "outputs": [],
   "source": [
    "H2mol = psi4.geometry(\"\"\"\n",
    "H\n",
    "H 1 0.8\n",
    "\"\"\")\n",
    "H2intcos = [ stre.STRE(0,1) ]\n",
    "H2mol.update_geometry()\n",
    "H2xyzGeom = np.array(H2mol.geometry())\n",
    "H2Bmat = intcosMisc.Bmat(H2intcos, H2xyzGeom)\n",
    "print(\"B matrix for hydrogen molecule:\")\n",
    "print(H2Bmat)\n"
   ]
  },
  {
   "cell_type": "markdown",
   "metadata": {},
   "source": [
    "The __B__-matrix is immediately useful for transforming small displacements in Cartesian coordinates into displacements in internal coordinates.\n",
    "\n",
    "$$\\textbf {B}_{ij} \\delta x_j = \\delta q_i$$\n",
    "\n",
    "or in matrix-vector form\n",
    "\n",
    "$$\\textbf {B} \\Delta x = \\Delta q $$\n",
    "\n",
    "However, since the __B__-matrix depends upon the geometry, this transformation is exact only for infinitesimal displacements."
   ]
  },
  {
   "cell_type": "markdown",
   "metadata": {},
   "source": [
    "## Transformations between internal and Cartesian forces\n",
    "The __B__-matrix readily facilitates the transformation of the energy gradient into Cartesian coordinates from internal coordinates.\n",
    "\n",
    "$$ \\frac{\\delta E}{\\delta q_i} \\frac{\\delta q_i}{\\delta x_j} = \\frac{\\delta E}{\\delta x_j}$$\n",
    "or\n",
    "$$ \\textbf{B}^T g_q = g_x $$ "
   ]
  },
  {
   "cell_type": "markdown",
   "metadata": {},
   "source": [
    "The reverse transformation is of equal practical importance. Quantum chemistry codes typically provide an energy gradient in Cartesian coordinates.  This gradient must be transformed into internal coordinates, in preparation for whatever step-determining algorithm (Newton-Raphson, etc.) will be used. This transformation is more complicated because 1) we need to invert the non-square B-matrix; and 2) the B-matrix is often redundant, i.e., the rows are linearly dependent.\n",
    "\n",
    "The left, generalized inverse of $\\textbf {B}^T$ we will call the $\\textbf A^T$ matrix.  $\\textbf A$ has dimension (Num. of Cartesians) by (Num. of internals) and is defined by\n",
    "\n",
    "$$ \\textbf A^T = (\\textbf{B} \\textbf{u} \\textbf {B}^T)^{-1} \\textbf {B} \\textbf{u}$$\n",
    "\n",
    "where __u__ is an arbitrary matrix of dimension (Num. of Cartesians) by (Num. of Cartesians).\n",
    "\n",
    "That $\\textbf A^T$ is the left inverse of $\\textbf {B}^T$ may be readily seen by the following:\n",
    "\n",
    "\\begin{align}\n",
    " \\textbf{B}^T g_q &= g_x \\\\\n",
    " \\textbf{A}^T \\textbf{B}^T g_q &= \\textbf{A}^T g_x \\\\\n",
    " [ (\\textbf{B} \\textbf{u} \\textbf{B}^T )^{-1} \\textbf{B} \\textbf{u} ] \\textbf{B}^T g_q &= \\textbf{A}^T g_x  \\\\\n",
    "(\\textbf{B} \\textbf{u} \\textbf{B}^T )^{-1} ( \\textbf{B} \\textbf{u} \\textbf{B}^T ) g_q &= \\textbf{A}^T g_x  \\\\\n",
    " g_q  &= (\\textbf{B} \\textbf{u} \\textbf{B}^T )^{-1} \\textbf{B} \\textbf{u} g_x  \n",
    "\\end{align}\n",
    "\n",
    "\n"
   ]
  },
  {
   "cell_type": "markdown",
   "metadata": {},
   "source": [
    "The first step in geometry optimization after the internal coordinates have been determined and a Cartesian energy derivative has been computed is to use this expression to compute the gradient in internal coordinates.  (One can instead think in terms of \"forces\" - the only difference is a minus sign.)  \n",
    "\n",
    "For transforming energy derivatives, the choice of $\\textbf{u}$ is irrelevant.  In some spectroscopic applications, it is comprised of inverse atomic masses on its diagonal.  For a thorough exposition on geometric derivative transformaions see the paper by W.D. Allen and A.G. Csaszar [_J. Chem. Phys._, 98, 2983 (1993)]."
   ]
  },
  {
   "cell_type": "markdown",
   "metadata": {
    "collapsed": true
   },
   "source": [
    "If $\\textbf{u}$ is chosen to be the unit matrix, then the transformation reduces to\n",
    "\n",
    "$$ g_q  = (\\textbf{B} \\textbf{B}^T )^{-1} \\textbf{B} g_x $$\n",
    "\n",
    "The matrix $\\textbf{B} \\textbf{B}^T$ will be symmetric.  If redundant coordinates are present, then the generalized inverse (or pseudo-inverse) must be computed.  The matrix is diagonalized, then the non-zero eigenvalues on the diagonal are inverted, and the matrix is transformed back. Below is an example of the transformation of the gradient from Cartesians to internals for ammonium.  The symmMatInv() function shows how this generalized inverse can be performed."
   ]
  },
  {
   "cell_type": "code",
   "execution_count": null,
   "metadata": {
    "collapsed": false
   },
   "outputs": [],
   "source": [
    "mol = psi4.geometry(\"\"\"\n",
    "1 1\n",
    " N  0.000000  0.0       0.0 \n",
    " H  1.584222  0.0       1.12022\n",
    " H  0.0      -1.58422  -1.12022\n",
    " H -1.584222  0.0       1.12022\n",
    " H  0.0       1.58422  -1.12022\n",
    " unit au\n",
    "\"\"\")\n",
    "\n",
    "mol.update_geometry()\n",
    "psi4.set_options({'basis': 'dz'})\n",
    "psi4gradientMatrix = psi4.gradient('scf')\n",
    "gx = np.reshape( np.array(psi4gradientMatrix), (3*Natom))\n",
    "# Removing some noise\n",
    "gx[:] = [0 if abs(x) < 1.0e-16 else x for x in gx]\n",
    "print(\"Gradient in Cartesian coordinates\")\n",
    "print(gx)\n",
    "\n",
    "# Function to return a generalized inverse\n",
    "def symmMatInv(A):\n",
    "    dim = A.shape[0]\n",
    "    det = 1.0\n",
    "\n",
    "    evals, evects = np.linalg.eigh(A)\n",
    "    evects = evects.T\n",
    "    for i in range(dim):\n",
    "        det *= evals[i]\n",
    "\n",
    "    diagInv = np.zeros( (dim,dim), float)\n",
    "    for i in range(dim):\n",
    "        if abs(evals[i]) > 1.0e-10:\n",
    "            diagInv[i,i] = 1.0/evals[i]\n",
    "            \n",
    "    # A^-1 = P^t D^-1 P\n",
    "    tmpMat = np.dot(diagInv, evects)\n",
    "    AInv = np.dot(evects.T, tmpMat)\n",
    "    return AInv\n",
    "\n",
    "B = intcosMisc.Bmat(intcos, xyzGeom)\n",
    "temp_arr = np.dot(B,gx.T)\n",
    "G    = np.dot(B, B.T)\n",
    "Ginv = symmMatInv(G)\n",
    "gq = np.dot(Ginv,temp_arr.T)\n",
    "\n",
    "print(\"Gradient in Internal coordinates.\")\n",
    "print(gq )"
   ]
  },
  {
   "cell_type": "markdown",
   "metadata": {
    "collapsed": true
   },
   "source": [
    "Lets try the reverse transformation and see if we return to the original gradient."
   ]
  },
  {
   "cell_type": "code",
   "execution_count": null,
   "metadata": {
    "collapsed": false
   },
   "outputs": [],
   "source": [
    "gx2 = np.dot(B.T,gq)\n",
    "print(\"Gradient in Cartesian coordinates (from internals).\")\n",
    "# Removing some noise\n",
    "gx2[:] = [0 if abs(x) < 1.0e-16 else x for x in gx2]\n",
    "print(gx2)"
   ]
  },
  {
   "cell_type": "markdown",
   "metadata": {},
   "source": [
    "For information on the transformations of energy second derivatives, see the separate tutorial file on Hessians."
   ]
  }
 ],
 "metadata": {
  "kernelspec": {
   "display_name": "Python 3",
   "language": "python",
   "name": "python3"
  },
  "language_info": {
   "codemirror_mode": {
    "name": "ipython",
    "version": 3
   },
   "file_extension": ".py",
   "mimetype": "text/x-python",
   "name": "python",
   "nbconvert_exporter": "python",
   "pygments_lexer": "ipython3",
   "version": "3.6.4"
  }
 },
 "nbformat": 4,
 "nbformat_minor": 2
}
