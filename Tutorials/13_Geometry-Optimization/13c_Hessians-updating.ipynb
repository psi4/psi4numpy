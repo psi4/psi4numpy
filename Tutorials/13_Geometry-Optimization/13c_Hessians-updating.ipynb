{
 "cells": [
  {
   "cell_type": "markdown",
   "metadata": {},
   "source": [
    "# Updating Hessians\n",
    "The most common Hessian update formula is the BFGS update.  This formula results in a positive-definite Hessian matrix with all real eigenvalues, so it is unsuitable for transition-state optimizations.  For the formulae for BFGS, Powell, MS, and other update schemes see J.M. Bofill, _J. Comp. Chem._, 15, 1 (1994), or V. Bakken and T. Helgaker, _J. Chem. Phys._, 117, 9160 (2002).\n",
    "\n",
    "Below, we will take a geometry optimization step, to obtain internal coordinate values and forces at two different points on the potential energy surface.  We will use the BFGS update to update the Hessian matrix.  \n",
    "\n",
    "First, we create a molecule and guess an initial Hessian."
   ]
  },
  {
   "cell_type": "code",
   "execution_count": null,
   "metadata": {
    "collapsed": true
   },
   "outputs": [],
   "source": [
    "import psi4\n",
    "from psi4 import *\n",
    "from psi4.core import *\n",
    "import numpy as np\n",
    "import os\n",
    "sys.path.append('os.getcwd()')\n",
    "from opt_helper import stre, bend, intcosMisc, linearAlgebra, displace"
   ]
  },
  {
   "cell_type": "code",
   "execution_count": null,
   "metadata": {
    "collapsed": false
   },
   "outputs": [],
   "source": [
    "mol = psi4.geometry(\"\"\"\n",
    "O\n",
    "H 1 0.9\n",
    "H 1 0.9 2 104\n",
    "\"\"\")\n",
    "# We'll use cc-pVDZ RHF.\n",
    "psi4.set_options({\"basis\": \"cc-pvdz\"})\n",
    "mol.update_geometry()\n",
    "\n",
    "# Generate the internal coordinates manually.\n",
    "intcos = [stre.STRE(0,1), stre.STRE(0,2), bend.BEND(1,0,2)]\n",
    "for intco in intcos: \n",
    "    print(intco) \n",
    "\n",
    "# Handy variables for later.\n",
    "Natom = mol.natom()\n",
    "Nintco = len(intcos)\n",
    "Ncart = 3*Natom\n",
    "Z = [int(mol.Z(i)) for i in range(Natom)]\n",
    "\n",
    "# Compute initial guess Hessian.\n",
    "xyz = np.array(mol.geometry())\n",
    "\n",
    "H = np.zeros((Nintco,Nintco), float)\n",
    "for i,intco in enumerate(intcos):\n",
    "    H[i,i] = intco.diagonalHessianGuess(xyz, Z, guessType=\"SCHLEGEL\")\n",
    "\n",
    "print(\"\\n Schlegel Guess Hessian for Water (in au)\")\n",
    "print(H)"
   ]
  },
  {
   "cell_type": "markdown",
   "metadata": {},
   "source": [
    "Next, we compute the internal coordinate values and forces at this point.  A separate tutorial shows how the transformation from Cartesians is accomplished."
   ]
  },
  {
   "cell_type": "code",
   "execution_count": null,
   "metadata": {
    "collapsed": false
   },
   "outputs": [],
   "source": [
    "x_1 = xyz.copy()\n",
    "\n",
    "# Compute internal coordinate values at current geometry.\n",
    "q_1 = intcosMisc.qValues(intcos, x_1)\n",
    "\n",
    "# Compute Cartesian gradient and transform to internals.\n",
    "# The forces are simply -1 * the gradient.  The qForces function\n",
    "# includes this sign change.\n",
    "g_x1 = np.reshape( np.array( psi4.gradient('scf')), (3*Natom))\n",
    "f_q1 = intcosMisc.qForces(intcos, xyz, g_x1)\n",
    "E_1 = psi4.energy('scf')"
   ]
  },
  {
   "cell_type": "markdown",
   "metadata": {},
   "source": [
    "We now take a simple Newton_Raphson step.  For more details on taking more complicated steps, see a separate tutorial.  After we take the step, we compute the internal coordinate forces at the new point."
   ]
  },
  {
   "cell_type": "code",
   "execution_count": null,
   "metadata": {
    "collapsed": false
   },
   "outputs": [],
   "source": [
    "Hinv = linearAlgebra.symmMatInv(H, redundant=True)\n",
    "dq = np.dot(Hinv, f_q1)\n",
    "fq_aJ = intcosMisc.qShowForces(intcos, f_q1) # this is only used for printing.\n",
    "displace.displace(intcos, xyz, dq, fq_aJ)"
   ]
  },
  {
   "cell_type": "markdown",
   "metadata": {},
   "source": [
    "Compute forces at new coordinates."
   ]
  },
  {
   "cell_type": "code",
   "execution_count": null,
   "metadata": {
    "collapsed": false
   },
   "outputs": [],
   "source": [
    "x_2 = xyz\n",
    "q_2 = intcosMisc.qValues(intcos, x_2)\n",
    "\n",
    "# Put new geometry into place and compute Cartesian gradient and internal forces.\n",
    "mol.set_geometry( core.Matrix.from_array(x_2) )\n",
    "mol.update_geometry()\n",
    "\n",
    "g_x2 = np.reshape( np.array( psi4.gradient('scf')), (3*Natom))\n",
    "f_q2 = intcosMisc.qForces(intcos, x_2, g_x2) # again, includes -1"
   ]
  },
  {
   "cell_type": "markdown",
   "metadata": {},
   "source": [
    "OK, lets take a look at what we have in internal coordinates."
   ]
  },
  {
   "cell_type": "code",
   "execution_count": null,
   "metadata": {
    "collapsed": false
   },
   "outputs": [],
   "source": [
    "print(\"Internal Values first step\")\n",
    "print(q_1)\n",
    "print(\"Internal Values second step\")\n",
    "print(q_2)\n",
    "\n",
    "print(\"Internal Forces first step\")\n",
    "print(f_q1)\n",
    "print(\"Internal Forces second step\")\n",
    "print(f_q2)"
   ]
  },
  {
   "cell_type": "markdown",
   "metadata": {},
   "source": [
    "We can see at a glance that the forces have been much reduced by the N-R step.  Also, that this step turned out to be somewhat too large, as the sign of all three forces in internal coordinates has changed.\n",
    "\n",
    "Finally, we show how to use the gradients in internal coordinates to update the Hessian using the BFGS formula.  The vectors below should be read as rows.\n",
    "\n",
    "   $$ \\textbf{H}_{\\rm{new}} = \\textbf{H} + \\frac{\\delta g^T \\delta g}{\\delta q \\delta g^T} - \\frac{ \\textbf{H} \\delta q^T \\big( \\textbf{H} \\delta q^T \\big)^T }{ \\delta q \\textbf{H} \\delta q^T} $$"
   ]
  },
  {
   "cell_type": "code",
   "execution_count": null,
   "metadata": {
    "collapsed": false
   },
   "outputs": [],
   "source": [
    "H_new = np.zeros( (Nintco,Nintco) , float)\n",
    "dg = np.zeros(Nintco, float)\n",
    "\n",
    "dq[:] = q_2 - q_1    # Change in internal values.\n",
    "dg[:] = f_q1 - f_q2  # Change in gradient values (not forces).\n",
    "\n",
    "gq = np.dot(dq, dg)  # A useful intermediate.\n",
    "\n",
    "for i in range(Nintco):\n",
    "    for j in range(Nintco):\n",
    "        H_new[i,j] = H[i,j] + dg[i] * dg[j] / gq\n",
    "\n",
    "Hdq = np.dot(H, dq)\n",
    "dqHdq = np.dot(dq, Hdq)\n",
    "\n",
    "for i in range(Nintco):\n",
    "    for j in range(Nintco):\n",
    "        H_new[i,j] -=  Hdq[i] * Hdq[j] / dqHdq\n",
    "        \n",
    "print(\"Updated Hessian with BFGS\")\n",
    "print(H_new)"
   ]
  },
  {
   "cell_type": "markdown",
   "metadata": {
    "collapsed": true
   },
   "source": [
    "We see that the Hessian in this case was not much changed by the update.  The first diagonal (stretching) element changes from 0.707 -> 0.714, while the bend changes from 0.16 -> 0.17.  However, if one repeats this demonstration with an initial Hessian guess set to \"SIMPLE\", then the initial Hessian guess is poorer (0.50 for the stretch), and the changes made by the first update (e.g., to 0.59 for the stretch) are more substantial.\n",
    "\n",
    "Although many other Hessian update schemes have been proposed, for minimum-energy searches the BFGS method remains the method of choice.  In practice, there are some additional complications.  First, the denominators should be checked to see if they are too small.  They will become so if the change in the internal coordinate values or forces is very small (notice how the \"gq\" intermediate is computed).  In such cases, the update should not be performed.\n",
    "\n",
    "The Hessian update may be carried out repeatedly using the current point and several (or all) past points in the optimization.  Using more than 1 previous point slightly improves average performance, but in some cases information from distant parts of the potential surface is not relevant or helpful.  This is certainly a parameter to try varying for problematic optimizations."
   ]
  }
 ],
 "metadata": {
  "kernelspec": {
   "display_name": "Python 3",
   "language": "python",
   "name": "python3"
  },
  "language_info": {
   "codemirror_mode": {
    "name": "ipython",
    "version": 3
   },
   "file_extension": ".py",
   "mimetype": "text/x-python",
   "name": "python",
   "nbconvert_exporter": "python",
   "pygments_lexer": "ipython3",
   "version": "3.6.4"
  }
 },
 "nbformat": 4,
 "nbformat_minor": 2
}
