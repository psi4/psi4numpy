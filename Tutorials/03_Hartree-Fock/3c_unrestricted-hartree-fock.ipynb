{
 "cells": [
  {
   "cell_type": "markdown",
   "metadata": {},
   "source": [
    "# Unrestricted Open-Shell Hartree-Fock\n",
    "\n",
    "In the first two tutorials in this module, we wrote programs which implement a closed-shell formulation of Hartree-Fock theory using restricted orbitals, aptly named Restricted Hartree-Fock (RHF).  In this tutorial, we will abandon strictly closed-shell systems and the notion of restricted orbitals, in favor of a more general theory known as Unrestricted Hartree-Fock (UHF) which can accommodate more diverse molecules.  In UHF, the orbitals occupied by spin up ($\\alpha$) electrons and those occupied by spin down ($\\beta$) electrons no longer have the same spatial component, e.g., \n",
    "\n",
    "$$\\chi_i({\\bf x}) = \\begin{cases}\\psi^{\\alpha}_j({\\bf r})\\alpha(\\omega) \\\\ \\psi^{\\beta}_j({\\bf r})\\beta(\\omega)\\end{cases},$$\n",
    "\n",
    "meaning that they will not have the same orbital energy.  This relaxation of orbital constraints allows for more variational flexibility, which leads to UHF always being able to find a lower total energy solution than RHF.  \n",
    "\n",
    "## I. Theoretical Overview\n",
    "In UHF, we seek to solve the coupled equations\n",
    "\n",
    "\\begin{align}\n",
    "{\\bf F}^{\\alpha}{\\bf C}^{\\alpha} &= {\\bf SC}^{\\alpha}{\\bf\\epsilon}^{\\alpha} \\\\\n",
    "{\\bf F}^{\\beta}{\\bf C}^{\\beta} &= {\\bf SC}^{\\beta}{\\bf\\epsilon}^{\\beta},\n",
    "\\end{align}\n",
    "\n",
    "which are the unrestricted generalizations of the restricted Roothan equations, called the Pople-Nesbitt equations.  Here, the one-electron Fock matrices are given by\n",
    "\n",
    "\\begin{align}\n",
    "F_{\\mu\\nu}^{\\alpha} &= H_{\\mu\\nu} + (\\mu\\,\\nu\\mid\\lambda\\,\\sigma)[D_{\\lambda\\sigma}^{\\alpha} + D_{\\lambda\\sigma}^{\\beta}] - (\\mu\\,\\lambda\\,\\mid\\nu\\,\\sigma)D_{\\lambda\\sigma}^{\\beta}\\\\\n",
    "F_{\\mu\\nu}^{\\beta} &= H_{\\mu\\nu} + (\\mu\\,\\nu\\mid\\,\\lambda\\,\\sigma)[D_{\\lambda\\sigma}^{\\alpha} + D_{\\lambda\\sigma}^{\\beta}] - (\\mu\\,\\lambda\\,\\mid\\nu\\,\\sigma)D_{\\lambda\\sigma}^{\\alpha},\n",
    "\\end{align}\n",
    "\n",
    "where the density matrices $D_{\\lambda\\sigma}^{\\alpha}$ and $D_{\\lambda\\sigma}^{\\beta}$ are given by\n",
    "\n",
    "\\begin{align}\n",
    "D_{\\lambda\\sigma}^{\\alpha} &= C_{\\sigma i}^{\\alpha}C_{\\lambda i}^{\\alpha}\\\\\n",
    "D_{\\lambda\\sigma}^{\\beta} &= C_{\\sigma i}^{\\beta}C_{\\lambda i}^{\\beta}.\n",
    "\\end{align}\n",
    "\n",
    "Unlike for RHF, the orbital coefficient matrices ${\\bf C}^{\\alpha}$ and ${\\bf C}^{\\beta}$ are of dimension $M\\times N^{\\alpha}$ and $M\\times N^{\\beta}$, where $M$ is the number of AO basis functions and $N^{\\alpha}$ ($N^{\\beta}$) is the number of $\\alpha$ ($\\beta$) electrons.  The total UHF energy is given by\n",
    "\n",
    "\\begin{align}\n",
    "E^{\\rm UHF}_{\\rm total} &= E^{\\rm UHF}_{\\rm elec} + E^{\\rm BO}_{\\rm nuc},\\;\\;{\\rm with}\\\\\n",
    "E^{\\rm UHF}_{\\rm elec} &= \\frac{1}{2}[({\\bf D}^{\\alpha} + {\\bf D}^{\\beta}){\\bf H} + \n",
    "{\\bf D}^{\\alpha}{\\bf F}^{\\alpha} + {\\bf D}^{\\beta}{\\bf F}^{\\beta}].\n",
    "\\end{align}\n",
    "\n",
    "## II. Implementation\n",
    "\n",
    "In any SCF program, there will be several common elements which can be abstracted from the program itself into separate modules, classes, or functions to 'clean up' the code that will need to be written explicitly; examples of this concept can be seen throughout the Psi4NumPy reference implementations.  For the purposes of this tutorial, we can achieve some degree of code cleanup without sacrificing readabilitiy and clarity by focusing on abstracting only the parts of the code which are both \n",
    "- Lengthy subroutines, and \n",
    "- Used repeatedly.  \n",
    "\n",
    "In our UHF program, let's use what we've learned in the last tutorial by also implementing DIIS convergence accelleration for our SCF iterations.  With this in mind, two subroutines in particular would benefit from abstraction are\n",
    "\n",
    "1. Orthogonalize & diagonalize Fock matrix\n",
    "2. Extrapolate previous trial vectors for new DIIS solution vector\n",
    "\n",
    "Before we start writing our UHF program, let's try to write functions which can perform the above tasks so that we can use them in our implementation of UHF.  Recall that defining functions in Python has the following syntax:\n",
    "~~~python\n",
    "def function_name(*args **kwargs):\n",
    "    # function block\n",
    "    return return_values\n",
    "~~~\n",
    "A thorough discussion of defining functions in Python can be found [here](https://docs.python.org/2/tutorial/controlflow.html#defining-functions \"Go to Python docs\").  First, let's write a function which can diagonalize the Fock matrix and return the orbital coefficient matrix **C** and the density matrix **D**.  From our RHF tutorial, this subroutine is executed with:\n",
    "~~~python\n",
    "F_p =  A.dot(F).dot(A)\n",
    "e, C_p = np.linalg.eigh(F_p)\n",
    "C = A.dot(C_p)\n",
    "C_occ = C[:, :ndocc]\n",
    "D = np.einsum('pi,qi->pq', C_occ, C_occ, optimize=True)\n",
    "~~~\n",
    "Examining this code block, there are three quantities which must be specified beforehand:\n",
    "- Fock matrix, **F**\n",
    "- Orthogonalization matrix, ${\\bf A} = {\\bf S}^{-1/2}$\n",
    "- Number of doubly occupied orbitals, `ndocc`\n",
    "\n",
    "However, since the orthogonalization matrix **A** is a static quantity (only built once, then left alone) we may choose to leave **A** as a *global* quantity, instead of an argument to our function.  In the cell below, using the code snippet given above, write a function `diag_F()` which takes **F** and the number of orbitals `norb` as arguments, and returns **C** and **D**:"
   ]
  },
  {
   "cell_type": "code",
   "execution_count": 1,
   "metadata": {},
   "outputs": [],
   "source": [
    "# ==> Define function to diagonalize F <==\n",
    "def diag_F(F, norb):\n",
    "    F_p = A.dot(F).dot(A)\n",
    "    e, C_p = np.linalg.eigh(F_p)\n",
    "    C = A.dot(C_p)\n",
    "    C_occ = C[:, :norb]\n",
    "    D = np.einsum('pi,qi->pq', C_occ, C_occ, optimize=True)\n",
    "    return (C, D)"
   ]
  },
  {
   "cell_type": "markdown",
   "metadata": {},
   "source": [
    "Next, let's write a function to perform DIIS extrapolation and generate a new solution vector.  Recall that the DIIS-accellerated SCF algorithm is:\n",
    "#### Algorithm 1: DIIS within a generic SCF Iteration\n",
    "1. Compute **F**, append to list of previous trial vectors\n",
    "2. Compute AO orbital gradient **r**, append to list of previous residual vectors\n",
    "3. Compute RHF energy\n",
    "3. Check convergence criteria\n",
    "    - If RMSD of **r** sufficiently small, and\n",
    "    - If change in SCF energy sufficiently small, break\n",
    "4. Build **B** matrix from previous AO gradient vectors\n",
    "5. Solve Pulay equation for coefficients $\\{c_i\\}$\n",
    "6. Compute DIIS solution vector **F_DIIS** from $\\{c_i\\}$ and previous trial vectors\n",
    "7. Compute new orbital guess with **F_DIIS**\n",
    "\n",
    "In our function, we will perform steps 4-6 of the above algorithm.  What information will we need to provide our function in order to do so?  To build **B** (step 4 above) in the previous tutorial, we used:\n",
    "~~~python\n",
    "# Build B matrix\n",
    "B_dim = len(F_list) + 1\n",
    "B = np.empty((B_dim, B_dim))\n",
    "B[-1, :] = -1\n",
    "B[:, -1] = -1\n",
    "B[-1, -1] = 0\n",
    "for i in xrange(len(F_list)):\n",
    "    for j in xrange(len(F_list)):\n",
    "        B[i, j] = np.einsum('ij,ij->', DIIS_RESID[i], DIIS_RESID[j], optimize=True)\n",
    "~~~\n",
    "Here, we see that we must have all previous DIIS residual vectors (`DIIS_RESID`), as well as knowledge about how many previous trial vectors there are (for the dimension of **B**).  To solve the Pulay equation (step 5 above):\n",
    "~~~python\n",
    "# Build RHS of Pulay equation \n",
    "rhs = np.zeros((B_dim))\n",
    "rhs[-1] = -1\n",
    "      \n",
    "# Solve Pulay equation for c_i's with NumPy\n",
    "coeff = np.linalg.solve(B, rhs)\n",
    "~~~\n",
    "For this step, we only need the dimension of **B** (which we computed in step 4 above) and a NumPy routine, so this step doesn't require any additional arguments.  Finally, to build the DIIS Fock matrix (step 6):\n",
    "~~~python\n",
    "# Build DIIS Fock matrix\n",
    "F = np.zeros_like(F_list[0])\n",
    "for x in xrange(coeff.shape[0] - 1):\n",
    "    F += coeff[x] * F_list[x]\n",
    "~~~\n",
    "Clearly, for this step, we need to know all the previous trial vectors (`F_list`) and the coefficients we generated in the previous step.  In the cell below, write a funciton `diis_xtrap()` according to Algorithm 1 steps 4-6, using the above code snippets, which takes a list of previous trial vectors `F_list` and residual vectors `DIIS_RESID` as arguments and returns the new DIIS solution vector `F_DIIS`:"
   ]
  },
  {
   "cell_type": "code",
   "execution_count": 2,
   "metadata": {},
   "outputs": [],
   "source": [
    "# ==> Build DIIS Extrapolation Function <==\n",
    "def diis_xtrap(F_list, DIIS_RESID):\n",
    "    # Build B matrix\n",
    "    B_dim = len(F_list) + 1\n",
    "    B = np.empty((B_dim, B_dim))\n",
    "    B[-1, :] = -1\n",
    "    B[:, -1] = -1\n",
    "    B[-1, -1] = 0\n",
    "    for i in range(len(F_list)):\n",
    "        for j in range(len(F_list)):\n",
    "            B[i, j] = np.einsum('ij,ij->', DIIS_RESID[i], DIIS_RESID[j], optimize=True)\n",
    "\n",
    "    # Build RHS of Pulay equation \n",
    "    rhs = np.zeros((B_dim))\n",
    "    rhs[-1] = -1\n",
    "      \n",
    "    # Solve Pulay equation for c_i's with NumPy\n",
    "    coeff = np.linalg.solve(B, rhs)\n",
    "      \n",
    "    # Build DIIS Fock matrix\n",
    "    F_DIIS = np.zeros_like(F_list[0])\n",
    "    for x in range(coeff.shape[0] - 1):\n",
    "        F_DIIS += coeff[x] * F_list[x]\n",
    "    \n",
    "    return F_DIIS"
   ]
  },
  {
   "cell_type": "markdown",
   "metadata": {},
   "source": [
    "We are now ready to begin writing our UHF program!  Let's begin by importing <span style='font-variant: small-caps'> Psi4 </span> and NumPy, and defining our molecule & basic options:"
   ]
  },
  {
   "cell_type": "code",
   "execution_count": 3,
   "metadata": {},
   "outputs": [],
   "source": [
    "# ==> Import Psi4 & NumPy <==\n",
    "import psi4\n",
    "import numpy as np"
   ]
  },
  {
   "cell_type": "code",
   "execution_count": 4,
   "metadata": {},
   "outputs": [],
   "source": [
    "# ==> Set Basic Psi4 Options <==\n",
    "# Memory specification\n",
    "psi4.set_memory(int(5e8))\n",
    "numpy_memory = 2\n",
    "\n",
    "# Set output file\n",
    "psi4.core.set_output_file('output.dat', False)\n",
    "\n",
    "# Define Physicist's water -- don't forget C1 symmetry!\n",
    "mol = psi4.geometry(\"\"\"\n",
    "O\n",
    "H 1 1.1\n",
    "H 1 1.1 2 104\n",
    "symmetry c1\n",
    "\"\"\")\n",
    "\n",
    "# Set computation options\n",
    "psi4.set_options({'guess': 'core',\n",
    "                  'basis': 'cc-pvdz',\n",
    "                  'scf_type': 'pk',\n",
    "                  'e_convergence': 1e-8,\n",
    "                  'reference': 'uhf'})"
   ]
  },
  {
   "cell_type": "markdown",
   "metadata": {},
   "source": [
    "You may notice that in the above `psi4.set_options()` block, there are two additional options -- namely, `'guess': 'core'` and `'reference': 'uhf'`.  These options make sure that when we ultimately check our program against <span style='font-variant: small-caps'> Psi4</span>, the options <span style='font-variant: small-caps'> Psi4 </span> uses are identical to our implementation.  Next, let's define the options for our UHF program; we can borrow these options from our RHF implementation with DIIS accelleration that we completed in our last tutorial."
   ]
  },
  {
   "cell_type": "code",
   "execution_count": 5,
   "metadata": {},
   "outputs": [],
   "source": [
    "# ==> Set default program options <==\n",
    "# Maximum SCF iterations\n",
    "MAXITER = 40\n",
    "# Energy convergence criterion\n",
    "E_conv = 1.0e-6\n",
    "D_conv = 1.0e-3"
   ]
  },
  {
   "cell_type": "markdown",
   "metadata": {},
   "source": [
    "Static quantities like the ERI tensor, core Hamiltonian, and orthogonalization matrix have exactly the same form in UHF as in RHF.  Unlike in RHF, however, we will need the number of $\\alpha$ and $\\beta$ electrons.  Fortunately, both these values are available through querying the Wavefunction object.  In the cell below, generate these static objects and compute each of the following:\n",
    "- Number of basis functions, `nbf`\n",
    "- Number of alpha electrons, `nalpha`\n",
    "- Number of beta electrons, `nbeta`\n",
    "- Number of doubly occupied orbitals, `ndocc` (Hint: In UHF, there can be unpaired electrons!)"
   ]
  },
  {
   "cell_type": "code",
   "execution_count": 6,
   "metadata": {},
   "outputs": [
    {
     "name": "stdout",
     "output_type": "stream",
     "text": [
      "Number of basis functions: 24\n",
      "Number of singly occupied orbitals: 0\n",
      "Number of doubly occupied orbitals: 5\n",
      "\n",
      "Size of the ERI tensor will be 0.00 GB.\n"
     ]
    }
   ],
   "source": [
    "# ==> Compute static 1e- and 2e- quantities with Psi4 <==\n",
    "# Class instantiation\n",
    "wfn = psi4.core.Wavefunction.build(mol, psi4.core.get_global_option('basis'))\n",
    "mints = psi4.core.MintsHelper(wfn.basisset())\n",
    "\n",
    "# Overlap matrix\n",
    "S = np.asarray(mints.ao_overlap())\n",
    "\n",
    "# Number of basis Functions, alpha & beta orbitals, and # doubly occupied orbitals\n",
    "nbf = wfn.nso()\n",
    "nalpha = wfn.nalpha()\n",
    "nbeta = wfn.nbeta()\n",
    "ndocc = min(nalpha, nbeta)\n",
    "\n",
    "print('Number of basis functions: %d' % (nbf))\n",
    "print('Number of singly occupied orbitals: %d' % (abs(nalpha - nbeta)))\n",
    "print('Number of doubly occupied orbitals: %d' % (ndocc))\n",
    "\n",
    "# Memory check for ERI tensor\n",
    "I_size = (nbf**4) * 8.e-9\n",
    "print('\\nSize of the ERI tensor will be {:4.2f} GB.'.format(I_size))\n",
    "if I_size > numpy_memory:\n",
    "    psi4.core.clean()\n",
    "    raise Exception(\"Estimated memory utilization (%4.2f GB) exceeds allotted memory \\\n",
    "                     limit of %4.2f GB.\" % (I_size, numpy_memory))\n",
    "\n",
    "# Build ERI Tensor\n",
    "I = np.asarray(mints.ao_eri())\n",
    "\n",
    "# Build core Hamiltonian\n",
    "T = np.asarray(mints.ao_kinetic())\n",
    "V = np.asarray(mints.ao_potential())\n",
    "H = T + V\n",
    "\n",
    "# Construct AO orthogonalization matrix A\n",
    "A = mints.ao_overlap()\n",
    "A.power(-0.5, 1.e-16)\n",
    "A = np.asarray(A)"
   ]
  },
  {
   "cell_type": "markdown",
   "metadata": {},
   "source": [
    "Unlike the static quantities above, the CORE guess in UHF is slightly different than in RHF.  Since the $\\alpha$ and $\\beta$ electrons do not share spatial orbitals, we must construct a guess for *each* of the $\\alpha$ and $\\beta$ orbitals and densities.  In the cell below, using the function `diag_F()`, construct the CORE guesses and compute the nuclear repulsion energy:\n",
    "\n",
    "(Hint: The number of $\\alpha$ orbitals is the same as the number of $\\alpha$ electrons!)"
   ]
  },
  {
   "cell_type": "code",
   "execution_count": 7,
   "metadata": {},
   "outputs": [],
   "source": [
    "# ==> Build alpha & beta CORE guess <==\n",
    "Ca, Da = diag_F(H, nalpha)\n",
    "Cb, Db = diag_F(H, nbeta)\n",
    "\n",
    "# Get nuclear repulsion energy\n",
    "E_nuc = mol.nuclear_repulsion_energy()"
   ]
  },
  {
   "cell_type": "markdown",
   "metadata": {},
   "source": [
    "We are almost ready to perform our SCF iterations; beforehand, however, we must initiate variables for the current & previous SCF energies, and the lists to hold previous residual vectors and trial vectors for the DIIS procedure.  Since, in UHF, there are Fock matrices ${\\bf F}^{\\alpha}$ and ${\\bf F}^{\\beta}$ for both $\\alpha$ and $\\beta$ orbitals, we must apply DIIS to each of these matrices separately.  In the cell below, define empty lists to hold previous Fock matrices and residual vectors for both $\\alpha$ and $\\beta$ orbitals:"
   ]
  },
  {
   "cell_type": "code",
   "execution_count": 8,
   "metadata": {},
   "outputs": [],
   "source": [
    "# ==> Pre-Iteration Setup <==\n",
    "# SCF & Previous Energy\n",
    "SCF_E = 0.0\n",
    "E_old = 0.0"
   ]
  },
  {
   "cell_type": "markdown",
   "metadata": {},
   "source": [
    "We are now ready to write the SCF iterations.  The algorithm for UHF-SCF iteration, with DIIS convergence accelleration, is:\n",
    "#### Algorithm 2: DIIS within UHF-SCF Iteration\n",
    "1. Build ${\\bf F}^{\\alpha}$ and ${\\bf F}^{\\beta}$, append to trial vector lists\n",
    "2. Compute the DIIS residual for $\\alpha$ and $\\beta$, append to residual vector lists\n",
    "3. Compute UHF energy\n",
    "4. Convergence check\n",
    "    - If average of RMSD of $\\alpha$ and $\\beta$ residual sufficiently small, and\n",
    "    - If change in UHF energy sufficiently small, break\n",
    "5. DIIS extrapolation of ${\\bf F}^{\\alpha}$ and ${\\bf F}^{\\beta}$ to form new solution vector\n",
    "6. Compute new ${\\alpha}$ and ${\\beta}$ orbital & density guesses\n",
    "\n",
    "In the cell below, write the UHF-SCF iteration according to Algorithm 2:\n",
    "\n",
    "(Hint: Use your functions `diis_xtrap()` and `diag_F` for Algorithm 2 steps 5 & 6, respectively)"
   ]
  },
  {
   "cell_type": "code",
   "execution_count": 9,
   "metadata": {},
   "outputs": [
    {
     "name": "stdout",
     "output_type": "stream",
     "text": [
      "==> Starting SCF Iterations <==\n",
      "\n",
      "SCF Iteration   0: Energy = -68.9800327333871337 dE = -6.89800E+01 dRMS = 1.16551E-01\n",
      "SCF Iteration   1: Energy = -69.6472544393141675 dE = -6.67222E-01 dRMS = 1.07430E-01\n",
      "SCF Iteration   2: Energy = -72.8403031079928667 dE = -3.19305E+00 dRMS = 1.03959E-01\n",
      "SCF Iteration   3: Energy = -75.7279773794242033 dE = -2.88767E+00 dRMS = 3.28422E-02\n",
      "SCF Iteration   4: Energy = -75.9858651566443655 dE = -2.57888E-01 dRMS = 4.05758E-03\n",
      "SCF Iteration   5: Energy = -75.9894173631280410 dE = -3.55221E-03 dRMS = 1.14648E-03\n",
      "SCF Iteration   6: Energy = -75.9897793050353130 dE = -3.61942E-04 dRMS = 1.84785E-04\n",
      "SCF Iteration   7: Energy = -75.9897954286870174 dE = -1.61237E-05 dRMS = 2.57274E-05\n",
      "SCF Iteration   8: Energy = -75.9897957793742762 dE = -3.50687E-07 dRMS = 3.67191E-06\n",
      "\n",
      "SCF converged.\n",
      "Final UHF Energy: -75.98979578 [Eh]\n"
     ]
    }
   ],
   "source": [
    "# Trial & Residual Vector Lists -- one each for alpha & beta\n",
    "F_list_a = []\n",
    "F_list_b = []\n",
    "R_list_a = []\n",
    "R_list_b = []\n",
    "\n",
    "# ==> UHF-SCF Iterations <==\n",
    "print('==> Starting SCF Iterations <==\\n')\n",
    "\n",
    "# Begin Iterations\n",
    "for scf_iter in range(1, MAXITER+1):\n",
    "    # Build Fa & Fb matrices\n",
    "    Ja = np.einsum('pqrs,rs->pq', I, Da, optimize=True)\n",
    "    Jb = np.einsum('pqrs,rs->pq', I, Db, optimize=True)\n",
    "    Ka = np.einsum('prqs,rs->pq', I, Da, optimize=True)\n",
    "    Kb = np.einsum('prqs,rs->pq', I, Db, optimize=True)\n",
    "    Fa = H + (Ja + Jb) - Ka\n",
    "    Fb = H + (Ja + Jb) - Kb\n",
    "    \n",
    "    # Compute DIIS residual for Fa & Fb\n",
    "    diis_r_a = A.dot(Fa.dot(Da).dot(S) - S.dot(Da).dot(Fa)).dot(A)\n",
    "    diis_r_b = A.dot(Fb.dot(Db).dot(S) - S.dot(Db).dot(Fb)).dot(A)\n",
    "    \n",
    "    # Append trial & residual vectors to lists\n",
    "    F_list_a.append(Fa)\n",
    "    F_list_b.append(Fb)\n",
    "    R_list_a.append(diis_r_a)\n",
    "    R_list_b.append(diis_r_b)\n",
    "    \n",
    "    # Compute UHF Energy\n",
    "    SCF_E = np.einsum('pq,pq->', (Da + Db), H, optimize=True)\n",
    "    SCF_E += np.einsum('pq,pq->', Da, Fa, optimize=True)\n",
    "    SCF_E += np.einsum('pq,pq->', Db, Fb, optimize=True)\n",
    "    SCF_E *= 0.5\n",
    "    SCF_E += E_nuc\n",
    "    \n",
    "    dE = SCF_E - E_old\n",
    "    dRMS = 0.5 * (np.mean(diis_r_a**2)**0.5 + np.mean(diis_r_b**2)**0.5)\n",
    "    print('SCF Iteration %3d: Energy = %4.16f dE = % 1.5E dRMS = %1.5E' % (scf_iter, SCF_E, dE, dRMS))\n",
    "    \n",
    "    # Convergence Check\n",
    "    if (abs(dE) < E_conv) and (dRMS < D_conv):\n",
    "        break\n",
    "    E_old = SCF_E\n",
    "    \n",
    "    # DIIS Extrapolation\n",
    "    if scf_iter >= 2:\n",
    "        Fa = diis_xtrap(F_list_a, R_list_a)\n",
    "        Fb = diis_xtrap(F_list_b, R_list_b)\n",
    "    \n",
    "    # Compute new orbital guess\n",
    "    Ca, Da = diag_F(Fa, nalpha)\n",
    "    Cb, Db = diag_F(Fb, nbeta)\n",
    "    \n",
    "    # MAXITER exceeded?\n",
    "    if (scf_iter == MAXITER):\n",
    "        psi4.core.clean()\n",
    "        raise Exception(\"Maximum number of SCF iterations exceeded.\")\n",
    "\n",
    "# Post iterations\n",
    "print('\\nSCF converged.')\n",
    "print('Final UHF Energy: %.8f [Eh]' % SCF_E)"
   ]
  },
  {
   "cell_type": "markdown",
   "metadata": {},
   "source": [
    "Congratulations! You've written your very own Unrestricted Hartree-Fock program with DIIS convergence accelleration!  Finally, let's check your final UHF energy against <span style='font-variant: small-caps'> Psi4</span>:"
   ]
  },
  {
   "cell_type": "code",
   "execution_count": 10,
   "metadata": {},
   "outputs": [
    {
     "name": "stdout",
     "output_type": "stream",
     "text": [
      "\tSCF Energy........................................................PASSED\n"
     ]
    },
    {
     "data": {
      "text/plain": [
       "True"
      ]
     },
     "execution_count": 10,
     "metadata": {},
     "output_type": "execute_result"
    }
   ],
   "source": [
    "# Compare to Psi4\n",
    "SCF_E_psi = psi4.energy('SCF')\n",
    "psi4.compare_values(SCF_E_psi, SCF_E, 6, 'SCF Energy')"
   ]
  },
  {
   "cell_type": "markdown",
   "metadata": {},
   "source": [
    "## References\n",
    "1. A. Szabo and N. S. Ostlund, *Modern Quantum Chemistry*, Introduction to Advanced Electronic Structure Theory. Courier Corporation, 1996.\n",
    "2. I. N. Levine, *Quantum Chemistry*. Prentice-Hall, New Jersey, 5th edition, 2000.\n",
    "3. T. Helgaker, P. Jorgensen, and J. Olsen, *Molecular Electronic Structure Theory*, John Wiley & Sons Inc, 2000."
   ]
  }
 ],
 "metadata": {
  "anaconda-cloud": {},
  "kernelspec": {
   "display_name": "Python 3",
   "language": "python",
   "name": "python3"
  },
  "language_info": {
   "codemirror_mode": {
    "name": "ipython",
    "version": 3
   },
   "file_extension": ".py",
   "mimetype": "text/x-python",
   "name": "python",
   "nbconvert_exporter": "python",
   "pygments_lexer": "ipython3",
   "version": "3.7.10"
  },
  "latex_envs": {
   "LaTeX_envs_menu_present": true,
   "bibliofile": "biblio.bib",
   "cite_by": "apalike",
   "current_citInitial": 1,
   "eqLabelWithNumbers": true,
   "eqNumInitial": 1,
   "labels_anchors": false,
   "latex_user_defs": false,
   "report_style_numbering": false,
   "user_envs_cfg": false
  }
 },
 "nbformat": 4,
 "nbformat_minor": 1
}
