{
 "cells": [
  {
   "cell_type": "markdown",
   "metadata": {},
   "source": [
    "# Density Fitting\n",
    "\n",
    "Density fitting is an extremely useful tool to reduce the computational scaling of many quantum chemical methods.  \n",
    "Density fitting works by approximating the four-index electron repulsion integral (ERI) tensors from Hartree-Fock \n",
    "theory, $g_{\\mu\\nu\\lambda\\sigma} = (\\mu\\nu|\\lambda\\sigma)$, by\n",
    "\n",
    "$$(\\mu\\nu|\\lambda\\sigma) \\approx \\widetilde{(\\mu\\nu|P)}[J^{-1}]_{PQ}\\widetilde{(Q|\\lambda\\sigma)}$$\n",
    "\n",
    "where the Coulomb metric $[J]_{PQ}$ and the three-index integral $\\widetilde{(Q|\\lambda\\sigma)}$ are defined as\n",
    "\n",
    "\\begin{align}\n",
    "[J]_{PQ} &= \\int P(r_1)\\frac{1}{r_{12}}Q(r_2){\\rm d}^3r_1{\\rm d}^3r_2\\\\\n",
    "\\widetilde{(Q|\\lambda\\sigma)} &= \\int Q(r_1)\\frac{1}{r_{12}}\\lambda(r_2)\\sigma(r_2){\\rm d}^3r_1{\\rm d}^3r_2\n",
    "\\end{align}\n",
    "\n",
    "To simplify the density fitting notation, the inverse Coulomb metric is typically folded into the three-index tensor:\n",
    "\n",
    "\\begin{align}\n",
    "(P|\\lambda\\sigma) &= [J^{-\\frac{1}{2}}]_{PQ}\\widetilde{(Q|\\lambda\\sigma)}\\\\\n",
    "g_{\\mu\\nu\\lambda\\sigma} &\\approx (\\mu\\nu|P)(P|\\lambda\\sigma)\n",
    "\\end{align}\n",
    "\n",
    "These transformed three-index tensors can then be used to compute various quantities, including the four-index ERIs, \n",
    "as well as Coulomb (J) and exchange (K) matrices, and therefore the Fock matrix (F).  Before we go any further, let's\n",
    "see how to generate these transformed tensors using <span style='font-variant: small-caps'> Psi4</span>.  \n",
    "\n",
    "First, let's import <span style='font-variant: small-caps'> Psi4</span> and set up some global options, as well as\n",
    "define a molecule and initial wavefunction:"
   ]
  },
  {
   "cell_type": "code",
   "execution_count": null,
   "metadata": {
    "collapsed": false
   },
   "outputs": [],
   "source": [
    "# ==> Psi4 & NumPy options, Geometry Definition <==\n",
    "import numpy as np\n",
    "import psi4\n",
    "\n",
    "# Set numpy defaults\n",
    "np.set_printoptions(precision=5, linewidth=200, suppress=True)\n",
    "\n",
    "# Set Psi4 memory & output options\n",
    "psi4.set_memory(int(2e9))\n",
    "psi4.core.set_output_file('output.dat', False)\n",
    "\n",
    "# Geometry specification\n",
    "mol = psi4.geometry(\"\"\"\n",
    "O\n",
    "H 1 0.96\n",
    "H 1 0.96 2 104.5\n",
    "symmetry c1\n",
    "\"\"\")\n",
    "\n",
    "# Psi4 options\n",
    "psi4.set_options({'basis': 'aug-cc-pvdz',\n",
    "                  'scf_type': 'df',\n",
    "                  'e_convergence': 1e-10,\n",
    "                  'd_convergence': 1e-10})\n",
    "\n",
    "wfn = psi4.core.Wavefunction.build(mol, psi4.core.get_global_option('basis'))"
   ]
  },
  {
   "cell_type": "markdown",
   "metadata": {},
   "source": [
    "## Building the Auxiliary Basis Set\n",
    "\n",
    "One component of our density-fitted tensors $g_{\\mu\\nu\\lambda\\sigma} \\approx (\\mu\\nu|P)(P|\\lambda\\sigma)$ which\n",
    "is unique from their exact, canonical counterparts $(\\mu\\nu|\\lambda\\sigma)$ is the additional \"auxiliary\" index, $P$.\n",
    "This index corresponds to inserting a resolution of the identity, which is expanded in an auxiliary basis set $\\{P\\}$.\n",
    "In order to build our density-fitted integrals, we first need to generate this auxiliary basis set.  Fortunately,\n",
    "we can do this with the `psi4.core.BasisSet` object:\n",
    "~~~python\n",
    "# Build auxiliary basis set\n",
    "aux = psi4.core.BasisSet.build(mol, \"DF_BASIS_SCF\", \"\", \"JKFIT\", \"aug-cc-pVDZ\")\n",
    "~~~\n",
    "\n",
    "There are special fitting basis sets that are optimal for a given orbital basis. As we will be building J and K \n",
    "objects we want the `JKFIT` basis associated with the orbital `aug-cc-pVDZ` basis. This basis is straightfowardly \n",
    "named `aug-cc-pVDZ-jkfit`."
   ]
  },
  {
   "cell_type": "code",
   "execution_count": null,
   "metadata": {
    "collapsed": false
   },
   "outputs": [],
   "source": [
    "# Build auxiliary basis set\n",
    "aux = psi4.core.BasisSet.build(mol, \"DF_BASIS_SCF\", \"\", \"JKFIT\", \"aug-cc-pVDZ\")"
   ]
  },
  {
   "cell_type": "markdown",
   "metadata": {},
   "source": [
    "## Building Density-Fitted ERIs\n",
    "Now, we can use our orbital and auxiliary basis sets to construct the `Qpq` object with the inverted metric. As the \n",
    "tensors are very similar to full ERI's we can use the same computer for both with the aid of a \"zero basis\". If we \n",
    "think carefully about the $\\widetilde{(Q|\\lambda\\sigma)}$ and $(\\mu\\nu|\\lambda\\sigma)$ we should note that on the \n",
    "right and left hand sides the two gaussian basis functions are contracted to a single density.\n",
    "\n",
    "Specifically, for $\\widetilde{(Q|\\lambda\\sigma)}$ the right hand side is a single basis function without being \n",
    "multiplied by another, so we can \"trick\" the MintsHelper object into computing these quanties if we have a \"basis \n",
    "set\" which effectively does not act on another. This is, effectively, what a \"zero basis\" does.\n",
    "\n",
    "The $[J^{-\\frac{1}{2}}]_{PQ}$ object can be built in a similar way where we use the Psi4 Matrix's built in `power` \n",
    "function to raise this to the $-\\frac{1}{2}$ power. The call `Matrix.power(-0.5, 1.e-14)` will invert the Matrix to \n",
    "the $-\\frac{1}{2}$ while guarding against values smaller than 1.e-14. Recall that machine epsilon is ~1.e-16, when \n",
    "these small values are taken to a negative fractional power they could become very large and dominate the resulting \n",
    "matrix even though they are effectively noise before the inversion.\n",
    "\n",
    "~~~python\n",
    "orb = wfn.basisset()\n",
    "zero_bas = psi4.core.BasisSet.zero_ao_basis_set()\n",
    "\n",
    "# Build MintsHelper Instance\n",
    "mints = psi4.core.MintsHelper(orb)\n",
    "\n",
    "# Build (P|pq) raw 3-index ERIs, dimension (1, Naux, nbf, nbf)\n",
    "Ppq = mints.ao_eri(zero_bas, aux, orb, orb)\n",
    "\n",
    "# Build and invert the metric\n",
    "metric = psi4.core.ao_eri(zero_bas, aux, zero_bas, aux)\n",
    "metric.power(-0.5, 1.e-14)\n",
    "\n",
    "# Remove the excess dimensions of Ppq & metric\n",
    "Ppq = np.squeeze(Ppq)\n",
    "metric = np.squeeze(metric)\n",
    "\n",
    "# Contract Ppq & Metric to build Qso\n",
    "Qso = np.einsum('QP,Ppq->Qpq', metric, Ppq)\n",
    "~~~"
   ]
  },
  {
   "cell_type": "code",
   "execution_count": null,
   "metadata": {
    "code_folding": [],
    "collapsed": false
   },
   "outputs": [],
   "source": [
    "# ==> Build Density-Fitted Integrals <==\n",
    "# Get orbital basis & build zero basis\n",
    "orb = wfn.basisset()\n",
    "zero_bas = psi4.core.BasisSet.zero_ao_basis_set()\n",
    "\n",
    "# Build instance of MintsHelper\n",
    "mints = psi4.core.MintsHelper(orb)\n",
    "\n",
    "# Build (P|pq) raw 3-index ERIs, dimension (1, Naux, nbf, nbf)\n",
    "Ppq = mints.ao_eri(zero_bas, aux, orb, orb)\n",
    "\n",
    "# Build & invert Coulomb metric, dimension (1, Naux, 1, Naux)\n",
    "metric = mints.ao_eri(zero_bas, aux, zero_bas, aux)\n",
    "metric.power(-0.5, 1.e-14)\n",
    "\n",
    "# Remove excess dimensions of Ppq, & metric\n",
    "Ppq = np.squeeze(Ppq)\n",
    "metric = np.squeeze(metric)\n",
    "\n",
    "# Build the Qso object\n",
    "Qpq = np.einsum('QP,Ppq->Qpq', metric, Ppq)"
   ]
  },
  {
   "cell_type": "markdown",
   "metadata": {},
   "source": [
    "## Example: Building a Density-Fitted Fock Matrix\n",
    "Now that we've obtained our `Qpq` tensors, we may use them to build the Fock matrix.  To do so, since we aren't \n",
    "implementing a fully density-fitted RHF program, we'll first need to get a density matrix and one-electron Hamiltonian \n",
    "from somewhere. Let's get them from a converged HF wavefunction, so we can check our work later:"
   ]
  },
  {
   "cell_type": "code",
   "execution_count": null,
   "metadata": {
    "collapsed": false
   },
   "outputs": [],
   "source": [
    "# ==> Compute SCF Wavefunction, Density Matrix, & 1-electron H <==\n",
    "scf_e, scf_wfn = psi4.energy('scf', return_wfn=True)\n",
    "D = scf_wfn.Da()\n",
    "H = scf_wfn.H()"
   ]
  },
  {
   "cell_type": "markdown",
   "metadata": {},
   "source": [
    "Now that we have our density-fitted integrals and a density matrix, we can build a Fock matrix.  There are several \n",
    "different algorithms which we can successfully use to do so; for now, we'll use a simple algorithm and `np.einsum()` \n",
    "to illustrate how to perform contractions with these density fitted tensors and leave a detailed discussion of those \n",
    "algorithms/different tensor contraction methods elsewhere.  Recall that the Fock matrix, $F$, is given by\n",
    "\n",
    "$$F = H + 2J - K,$$\n",
    "\n",
    "where $H$ is the one-electron Hamiltonian matrix, $J$ is the Coulomb matrix, and $K$ is the exchange matrix.  The \n",
    "Coulomb and Exchange matrices have elements guven by\n",
    "\n",
    "\\begin{align}\n",
    "J[D_{\\lambda\\sigma}]_{\\mu\\nu} &= (\\mu\\nu|\\lambda\\sigma)D_{\\lambda\\sigma}\\\\\n",
    "K[D_{\\lambda\\sigma}]_{\\mu\\nu} &= (\\mu\\lambda|\\nu\\sigma)D_{\\lambda\\sigma}.\n",
    "\\end{align}\n",
    "\n",
    "When employing conventional 4-index ERI tensors, computing both $J$ and $K$ involves contracting over four unique\n",
    "indices, which involves four distinct loops -- one over each unique index in the contraction.  Therefore, the \n",
    "scaling of this procedure is $\\mathcal{O}(N^4)$, where $N$ is the number of iterations in each loop (one for each \n",
    "basis function).  The above expressions can be coded using `np.einsum()` to handle the tensor contractions:\n",
    "\n",
    "~~~python\n",
    "J = np.einsum('pqrs,rs->pq', I_pqrs, D)\n",
    "K = np.einsum('prqs,rs->pq', I_pqrs, D)\n",
    "~~~\n",
    "\n",
    "for exact ERIs `I_pqrs`.  If we employ density fitting, however, we can reduce this scaling by reducing the number \n",
    "of unique indices involved in the contractions.  Substituting in the density-fitted $(P|\\lambda\\sigma)$ tensors into \n",
    "the above expressions, we obtain the following:\n",
    "\n",
    "\\begin{align}\n",
    "J[D_{\\lambda\\sigma}]_{\\mu\\nu} &= (\\mu\\nu|P)(P|\\lambda\\sigma)D_{\\lambda\\sigma}\\\\\n",
    "K[D_{\\lambda\\sigma}]_{\\mu\\nu} &= (\\mu\\lambda|P)(P|\\nu\\sigma)D_{\\lambda\\sigma}.\n",
    "\\end{align}\n",
    "\n",
    "Naively, this seems like we have actually *increased* the scaling of our algorithm, because we have added the $P$ \n",
    "index to the expression, bringing the total to five unique indices, meaning this would scale like .  We've actually \n",
    "made our lives easier, however: with three different tensors to contract, we can perform one contraction at a time!  \n",
    "\n",
    "For $J$, this works out to the following two-step procedure:\n",
    "\n",
    "\\begin{align}\n",
    "\\chi_P &= (P|\\lambda\\sigma)D_{\\lambda\\sigma} \\\\\n",
    "J[D_{\\lambda\\sigma}]_{\\mu\\nu} &= (\\mu\\nu|P)\\chi_P\n",
    "\\end{align}\n",
    "\n",
    "\n",
    "In the cell below, using `np.einsum()` and our `Qpq` tensor, try to construct `J`:"
   ]
  },
  {
   "cell_type": "code",
   "execution_count": null,
   "metadata": {
    "collapsed": true
   },
   "outputs": [],
   "source": [
    "# Two-step build of J with Qpq and D\n",
    "X_Q = np.einsum('Qpq,pq->Q', Qpq, D)\n",
    "J = np.einsum('Qpq,Q->pq', Qpq, X_Q)"
   ]
  },
  {
   "cell_type": "markdown",
   "metadata": {},
   "source": [
    "Each of the above contractions, first constructing the `X_Q` intermediate and finally the full Coulomb matrix `J`, only involve three unique indices.  Therefore, the Coulomb matrix build above scales as $\\mathcal{O}(N_{\\rm aux}N^2)$.  Notice that we have distinguished the number of auxiliary ($N_{\\rm aux}$) and orbital ($N$) basis functions; this is because auxiliary basis sets are usually around double the size of their corresponding orbital counterparts.  \n",
    "\n",
    "We can play the same intermediate trick for building the Exchange matrix $K$:\n",
    "\n",
    "\\begin{align}\n",
    "\\zeta_{P\\nu\\lambda} &= (P|\\nu\\sigma)D_{\\lambda\\sigma} \\\\\n",
    "K[D_{\\lambda\\sigma}]_{\\mu\\nu} &= (\\mu\\lambda|P)\\zeta_{P\\nu\\lambda}\n",
    "\\end{align}\n",
    "\n",
    "Just like with $J$, try building $K$ in the cell below:"
   ]
  },
  {
   "cell_type": "code",
   "execution_count": null,
   "metadata": {
    "collapsed": false
   },
   "outputs": [],
   "source": [
    "# Two-step build of K with Qpq and D\n",
    "Z_Qqr = np.einsum('Qrs,sq->Qrq', Qpq, D)\n",
    "K = np.einsum('Qpq,Qrq->pr', Qpq, Z_Qqr)"
   ]
  },
  {
   "cell_type": "markdown",
   "metadata": {},
   "source": [
    "Unfortunately, our two-step $K$ build does not incur a reduction in the overall scaling of the algorithm, with each contraction above scaling as $\\mathcal{O}(N^3N_{\\rm aux})$. The major benefit of density fitting for $K$ builds comes in the form of the small storage overhead of the three-index `Qpq` tensors compared to the full four-index `I_pqrs` tensors.  Even when exploiting the full eight-fold symmetry of the $(\\mu\\nu|\\lambda\\sigma)$ integrals, storing `I_pqrs` for a system with 3000 AO basis functions will require 81 TB of space, compared to a mere 216 GB to store the full `Qpq` object when exploiting the twofold symmetry of $(P|\\lambda\\sigma)$.  \n",
    "\n",
    "Now that we've built density-fitted versions of the $J$ and $K$ matrices, let's check our work by comparing a Fock matrix built using our $J$ and $K$ with the fully converged Fock matrix from our original SCF/aug-cc-pVDZ computation.  \n",
    "\n",
    "Below, build F using the one-electron Hamiltonian from the converged SCF wavefuntion and our $J$ and $K$ matrices.  Then, get the converged $F$ from the SCF wavefunction:"
   ]
  },
  {
   "cell_type": "code",
   "execution_count": null,
   "metadata": {
    "collapsed": false
   },
   "outputs": [],
   "source": [
    "# Build F from SCF 1 e- Hamiltonian and our density-fitted J & K\n",
    "F = H + 2 * J - K\n",
    "# Get converged Fock matrix from converged SCF wavefunction\n",
    "scf_F = scf_wfn.Fa()"
   ]
  },
  {
   "cell_type": "markdown",
   "metadata": {},
   "source": [
    "Feeling lucky? Execute the next cell to see if you've computed $J$, $K$, and $F$ correctly:"
   ]
  },
  {
   "cell_type": "code",
   "execution_count": null,
   "metadata": {
    "collapsed": false
   },
   "outputs": [],
   "source": [
    "if np.allclose(F, scf_F):\n",
    "    print(\"Nicely done!! Your density-fitted Fock matrix matches Psi4!\")\n",
    "else:\n",
    "    print(\"Whoops...something went wrong.  Try again!\")"
   ]
  },
  {
   "cell_type": "markdown",
   "metadata": {},
   "source": [
    "Finally, we can remember the identity of the $D$ matrix for SCF which will be $D_{\\lambda\\sigma} = C_{\\lambda i} C_{\\sigma i}$, where $i$ is the occupied index. We can factor our $K$ build once more:\n",
    "\\begin{align}\n",
    "D_{\\lambda\\sigma} &= C_{\\lambda i} C_{\\sigma i} \\\\\n",
    "\\zeta_{P\\nu i} &= (P|\\nu\\sigma)C_{\\sigma i} \\\\\n",
    "K[D_{\\lambda\\sigma}]_{\\mu\\nu} &= \\zeta_{P\\nu i}\\zeta_{P\\mu i}\n",
    "\\end{align}\n",
    "\n",
    "Consider the ratio between the number of basis functions and the size of the occupied index. Why would the above be beneficial?"
   ]
  },
  {
   "cell_type": "code",
   "execution_count": null,
   "metadata": {
    "collapsed": true
   },
   "outputs": [],
   "source": []
  },
  {
   "cell_type": "markdown",
   "metadata": {},
   "source": [
    "## References\n",
    "1. F. Weigend, Phys. Chem. Chem. Phys. 4, 4285 (2002).\n",
    "2. O. Vahtras, J. Alml ̈of, and M. W. Feyereisen, Chem. Phys. Lett. 213, 514 (1993).\n",
    "3. B. I. Dunlap, J. W. D. Connolly, and J. R. Sabin, J. Chem. Phys. 71, 3396 (1979).\n",
    "4. J. L. Whitten, J. Chem. Phys. 58, 4496 (1973)."
   ]
  },
  {
   "cell_type": "code",
   "execution_count": null,
   "metadata": {
    "collapsed": true
   },
   "outputs": [],
   "source": []
  }
 ],
 "metadata": {
  "anaconda-cloud": {},
  "kernelspec": {
   "display_name": "Python 2",
   "language": "python",
   "name": "python2"
  },
  "language_info": {
   "codemirror_mode": {
    "name": "ipython",
    "version": 2
   },
   "file_extension": ".py",
   "mimetype": "text/x-python",
   "name": "python",
   "nbconvert_exporter": "python",
   "pygments_lexer": "ipython2",
   "version": "2.7.12"
  },
  "latex_envs": {
   "LaTeX_envs_menu_present": true,
   "bibliofile": "biblio.bib",
   "cite_by": "apalike",
   "current_citInitial": 1,
   "eqLabelWithNumbers": true,
   "eqNumInitial": 1,
   "labels_anchors": false,
   "latex_user_defs": false,
   "report_style_numbering": false,
   "user_envs_cfg": false
  }
 },
 "nbformat": 4,
 "nbformat_minor": 0
}
