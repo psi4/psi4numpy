{
 "cells": [
  {
   "cell_type": "markdown",
   "metadata": {
    "collapsed": true
   },
   "source": [
    "# Hartree-Fock Self-Consistent Field Theory"
   ]
  },
  {
   "cell_type": "code",
   "execution_count": null,
   "metadata": {},
   "outputs": [],
   "source": [
    "\"\"\"Tutorial implementing a basic Hartree--Fock SCF program.\"\"\"\n",
    "\n",
    "__authors__ = \"J. McTague and J. J. Foley IV\"\n",
    "__credits__ = \"J. McTague and J. J. Foley IV\"\n",
    "__email__   = \"foleyj10@wpunj.com\"\n",
    "\n",
    "__copyright__ = \"(c) 2014-2018, The Psi4NumPy Developers\"\n",
    "__license__   = \"BSD-3-Clause\"\n",
    "__date__      = \"06/08/2021\""
   ]
  },
  {
   "cell_type": "markdown",
   "metadata": {},
   "source": [
    "## I. Theoretical Overview\n",
    "In this tutorial, we will seek to introduce the theory and implementation of the quantum chemical method known as Hartree-Fock Self-Consistent Field Theory (HF-SCF) with restricted orbitals and closed-shell systems (RHF).  This theory seeks to solve the pseudo-eigenvalue matrix equation \n",
    "\n",
    "$$\\sum_{\\nu} F_{\\mu\\nu}C_{\\nu i} = \\epsilon_i\\sum_{\\nu}S_{\\mu\\nu}C_{\\nu i}$$\n",
    "$${\\bf FC} = {\\bf SC\\epsilon},$$\n",
    "\n",
    "called the Roothan equations, which can be solved self-consistently for the orbital coefficient matrix **C** to and the orbital energy eigenvalues $\\epsilon_i$.  The Fock matrix, **F**, has elements $F_{\\mu\\nu}$ given (in the atomic orbital basis) as\n",
    "\n",
    "$$F_{\\mu\\nu} = H_{\\mu\\nu} + \\frac{1}{2}\\lambda^2 Q^{zz}_{\\mu \\nu} + \n",
    "2(\\mu\\,\\nu\\left|\\,\\lambda\\,\\sigma)D_{\\lambda\\sigma} \n",
    "+ \\lambda^2 \\mu_{\\mu \\nu}^z \\mu_{\\lambda \\sigma}^z D_{\\lambda\\sigma}\n",
    "- (\\mu\\,\\lambda\\,\\right|\\nu\\,\\sigma)D_{\\lambda\\sigma}\n",
    "- \\frac{1}{2}\\lambda^2 \\mu_{\\mu \\lambda}^z \\mu_{\\nu \\sigma}^z D_{\\lambda\\sigma}$$\n",
    "\n",
    "where $D_{\\lambda\\sigma}$ is an element of the one-particle density matrix **D**, constructed from the orbital coefficient matrix **C**:\n",
    "\n",
    "$$D_{\\lambda\\sigma} = C_{\\sigma i}C_{\\lambda i}$$\n",
    "\n",
    "Formally, the orbital coefficient matrix **C** is a $N\\times M$ matrix, where $N$ is the number of atomic basis functions, and $M$ is the total number of molecular orbitals.  Physically, this matrix describes the contribution of every atomic basis function (columns) to a particular molecular orbital (e.g., the $i^{\\rm th}$ row).  The density matrix **D** is a square matrix describing the electron density contained in each orbital.  In the molecular orbital basis, the density matrix has elements\n",
    "\n",
    "$$D_{pq} = \\left\\{\n",
    "\\begin{array}{ll}\n",
    "2\\delta_{pq} & p\\; {\\rm occupied} \\\\\n",
    "0 & p\\; {\\rm virtual} \\\\\n",
    "\\end{array}\\right .$$\n",
    "\n",
    "The total RHF energy is given by\n",
    "\n",
    "$$E^{\\rm RHF}_{\\rm total} = E^{\\rm RHF}_{\\rm elec} + E^{\\rm BO}_{\\rm nuc},$$\n",
    "\n",
    "where $E^{\\rm RHF}_{\\rm elec}$ is the final electronic RHF energy, and $E^{\\rm BO}_{\\rm nuc}$ is the total nuclear repulsion energy within the Born-Oppenheimer approximation.  To compute the electronic energy, we may use the density matrix in the AO basis:\n",
    "\n",
    "$$E^{\\rm RHF}_{\\rm elec} = (F_{\\mu\\nu} + H_{\\mu\\nu})D_{\\mu\\nu},$$\n",
    "\n",
    "and the nuclear repulsion energy is simply\n",
    "\n",
    "$$E^{\\rm BO}_{\\rm nuc} = \\sum_{A>B}\\frac{Z_AZ_B}{r_{AB}}$$\n",
    "\n",
    "where $Z_A$ is the nuclear charge of atom $A$, and the sum runs over all unique nuclear pairs."
   ]
  },
  {
   "cell_type": "markdown",
   "metadata": {},
   "source": [
    "## II. Implementation\n",
    "\n",
    "Using the above overview, let's write a RHF program using <span style=\"font-variant: small-caps\"> Psi4 </span> and NumPy.  First, we need to import these Python modules: "
   ]
  },
  {
   "cell_type": "code",
   "execution_count": 11,
   "metadata": {},
   "outputs": [],
   "source": [
    "# ==> Import Psi4 & NumPy <==\n",
    "import psi4\n",
    "import numpy as np"
   ]
  },
  {
   "cell_type": "markdown",
   "metadata": {},
   "source": [
    "Next, using what you learned in the previous tutorial module, set the following <span style=\"font-variant: small-caps\"> Psi4 </span> and molecule options.\n",
    "\n",
    "Memory & Output specifications:\n",
    "- Give 500 Mb of memory to Psi4\n",
    "- Set Psi4 output file to \"output.dat\"\n",
    "- Set a variable `numpy_memory` to an acceptable amount of available memory for the working computer to use for storing tensors\n",
    "\n",
    "Molecule definition:\n",
    "- Define the \"physicist's water molecule\" (O-H bond length = 1.1 Angstroms, HOH bond angle = 104 degrees)\n",
    "- Molecular symmetry C1\n",
    "\n",
    "Computation options:\n",
    "- basis set cc-pVDZ\n",
    "- SCF type PK\n",
    "- Energy convergence criterion to 0.00000001\n"
   ]
  },
  {
   "cell_type": "code",
   "execution_count": 12,
   "metadata": {},
   "outputs": [],
   "source": [
    "# ==> Set Basic Psi4 Options <==\n",
    "# Memory specification\n",
    "psi4.set_memory(int(5e8))\n",
    "numpy_memory = 2\n",
    "\n",
    "# Set output file\n",
    "psi4.core.set_output_file('output.dat', False)\n",
    "\n",
    "# Define Physicist's water -- don't forget C1 symmetry!\n",
    "#mol = psi4.geometry(\"\"\"\n",
    "#O\n",
    "#H 1 1.0\n",
    "#H 1 1.0 2 104.5\n",
    "#symmetry c1\n",
    "#\"\"\")\n",
    "mol = psi4.geometry(\"\"\"\n",
    "N\n",
    "N 1 1.2\n",
    "symmetry c1\n",
    "\"\"\")\n",
    "\n",
    "# Set computation options\n",
    "psi4.set_options({'basis': 'sto-3g',\n",
    "                  'scf_type': 'pk',\n",
    "                  'e_convergence': 1e-8})"
   ]
  },
  {
   "cell_type": "markdown",
   "metadata": {},
   "source": [
    "Since we will be writing our own, iterative RHF procedure, we will need to define options that we can use to tweak our convergence behavior.  For example, if something goes wrong and our SCF doesn't converge, we don't want to spiral into an infinite loop.  Instead, we can specify the maximum number of iterations allowed, and store this value in a variable called `maxiter`.  Here are some good default options for our program:\n",
    "~~~python\n",
    "MAXITER = 40\n",
    "E_conv = 1.0e-6\n",
    "~~~\n",
    "These are by no means the only possible values for these options, and it's encouraged to try different values and see for yourself how different choices affect the performance of our program.  For now, let's use the above as our default."
   ]
  },
  {
   "cell_type": "code",
   "execution_count": 13,
   "metadata": {},
   "outputs": [],
   "source": [
    "# ==> Set default program options <==\n",
    "# Maximum SCF iterations\n",
    "MAXITER = 40\n",
    "# Energy convergence criterion\n",
    "E_conv = 1.0e-6"
   ]
  },
  {
   "cell_type": "markdown",
   "metadata": {},
   "source": [
    "Before we can build our Fock matrix, we'll need to compute the following static one- and two-electron quantities:\n",
    "\n",
    "- Electron repulsion integrals (ERIs) **I** between our AOs\n",
    "- Overlap matrix **S**\n",
    "- Core Hamiltonian matrix **H**\n",
    "\n",
    "Fortunately for us, we can do this using the machinery in <span style='font-variant: small-caps'> Psi4</span>.  In the first module, you learned about `psi4.core.Wavefunction` and `psi4.core.MintsHelper` classes.  In the cell below, use these classes to perform the following:\n",
    "\n",
    "1. Create Class Instances\n",
    "\n",
    "    a. Build a wavefunction for our molecule and basis set\n",
    "    \n",
    "    b. Create an instance of the `MintsHelper` class with the basis set for the wavefunction\n",
    "\n",
    "2. Build overlap matrix, **S**\n",
    "\n",
    "    a. Get the AO overlap matrix from `MintsHelper`, and cast it into a NumPy array\n",
    "    \n",
    "    b. Get the number of AO basis functions and number of doubly occupied orbitals from S and the wavefunciton\n",
    "\n",
    "3. Compute ERI Tensor, **I**\n",
    "\n",
    "    a. Get ERI tensor from `MintsHelper`, and cast it into a NumPy array\n",
    "\n",
    "4. Build core Hamiltonian, **H**\n",
    "\n",
    "    a. Get AO kinetic energy matrix from `MintsHelper`, and cast it into a NumPy array\n",
    "\n",
    "    b. Get AO potential energy matrix from `MintsHelper`, and cast it into a NumPy array\n",
    "\n",
    "    c. Build core Hamiltonian from kinetic & potential energy matrices"
   ]
  },
  {
   "cell_type": "code",
   "execution_count": 14,
   "metadata": {},
   "outputs": [
    {
     "name": "stdout",
     "output_type": "stream",
     "text": [
      "Mu_z\n",
      "[[ 1.13383568e+00  2.66494203e-01 -5.79342758e-02  0.00000000e+00\n",
      "   0.00000000e+00  0.00000000e+00  3.98602765e-02 -6.60892439e-02\n",
      "   0.00000000e+00  0.00000000e+00]\n",
      " [ 2.66494203e-01  1.13383568e+00 -7.39814829e-01  0.00000000e+00\n",
      "   0.00000000e+00 -3.98602765e-02  0.00000000e+00 -2.08460869e-01\n",
      "   0.00000000e+00  0.00000000e+00]\n",
      " [-5.79342758e-02 -7.39814829e-01  1.13383568e+00  0.00000000e+00\n",
      "   0.00000000e+00 -6.60892439e-02 -2.08460869e-01  3.12250226e-17\n",
      "   0.00000000e+00  0.00000000e+00]\n",
      " [ 0.00000000e+00  0.00000000e+00  0.00000000e+00  1.13383568e+00\n",
      "   0.00000000e+00  0.00000000e+00  0.00000000e+00  0.00000000e+00\n",
      "   1.38777878e-17  0.00000000e+00]\n",
      " [ 0.00000000e+00  0.00000000e+00  0.00000000e+00  0.00000000e+00\n",
      "   1.13383568e+00  0.00000000e+00  0.00000000e+00  0.00000000e+00\n",
      "   0.00000000e+00  1.38777878e-17]\n",
      " [ 0.00000000e+00 -3.98602765e-02 -6.60892439e-02  0.00000000e+00\n",
      "   0.00000000e+00 -1.13383568e+00 -2.66494203e-01 -5.79342758e-02\n",
      "   0.00000000e+00  0.00000000e+00]\n",
      " [ 3.98602765e-02  0.00000000e+00 -2.08460869e-01  0.00000000e+00\n",
      "   0.00000000e+00 -2.66494203e-01 -1.13383568e+00 -7.39814829e-01\n",
      "   0.00000000e+00  0.00000000e+00]\n",
      " [-6.60892439e-02 -2.08460869e-01 -3.12250226e-17  0.00000000e+00\n",
      "   0.00000000e+00 -5.79342758e-02 -7.39814829e-01 -1.13383568e+00\n",
      "   0.00000000e+00  0.00000000e+00]\n",
      " [ 0.00000000e+00  0.00000000e+00  0.00000000e+00 -1.38777878e-17\n",
      "   0.00000000e+00  0.00000000e+00  0.00000000e+00  0.00000000e+00\n",
      "  -1.13383568e+00  0.00000000e+00]\n",
      " [ 0.00000000e+00  0.00000000e+00  0.00000000e+00  0.00000000e+00\n",
      "  -1.38777878e-17  0.00000000e+00  0.00000000e+00  0.00000000e+00\n",
      "   0.00000000e+00 -1.13383568e+00]]\n",
      "Q_z\n",
      "[[ 0.          0.          0.          0.06568795  0.          0.\n",
      "   0.          0.          0.00211879  0.        ]\n",
      " [ 0.          0.          0.          0.83882845  0.          0.\n",
      "   0.          0.         -0.04685539  0.        ]\n",
      " [ 0.          0.          0.         -0.39553492  0.          0.\n",
      "   0.          0.         -0.16570444  0.        ]\n",
      " [ 0.06568795  0.83882845 -0.39553492  0.          0.         -0.00211879\n",
      "   0.04685539 -0.16570444  0.          0.        ]\n",
      " [ 0.          0.          0.          0.          0.          0.\n",
      "   0.          0.          0.          0.        ]\n",
      " [ 0.          0.          0.         -0.00211879  0.          0.\n",
      "   0.          0.         -0.06568795  0.        ]\n",
      " [ 0.          0.          0.          0.04685539  0.          0.\n",
      "   0.          0.         -0.83882845  0.        ]\n",
      " [ 0.          0.          0.         -0.16570444  0.          0.\n",
      "   0.          0.         -0.39553492  0.        ]\n",
      " [ 0.00211879 -0.04685539 -0.16570444  0.          0.         -0.06568795\n",
      "  -0.83882845 -0.39553492  0.          0.        ]\n",
      " [ 0.          0.          0.          0.          0.          0.\n",
      "   0.          0.          0.          0.        ]]\n",
      "Number of occupied orbitals:   7\n",
      "Number of basis functions:  10\n",
      "\n",
      "Size of the ERI tensor will be 0.00 GB.\n",
      "difference between ordinary H_core and H_pf_Core\n",
      "[[0. 0. 0. 0. 0. 0. 0. 0. 0. 0.]\n",
      " [0. 0. 0. 0. 0. 0. 0. 0. 0. 0.]\n",
      " [0. 0. 0. 0. 0. 0. 0. 0. 0. 0.]\n",
      " [0. 0. 0. 0. 0. 0. 0. 0. 0. 0.]\n",
      " [0. 0. 0. 0. 0. 0. 0. 0. 0. 0.]\n",
      " [0. 0. 0. 0. 0. 0. 0. 0. 0. 0.]\n",
      " [0. 0. 0. 0. 0. 0. 0. 0. 0. 0.]\n",
      " [0. 0. 0. 0. 0. 0. 0. 0. 0. 0.]\n",
      " [0. 0. 0. 0. 0. 0. 0. 0. 0. 0.]\n",
      " [0. 0. 0. 0. 0. 0. 0. 0. 0. 0.]]\n"
     ]
    }
   ],
   "source": [
    "# ==> Compute static 1e- and 2e- quantities with Psi4 <==\n",
    "# Class instantiation\n",
    "wfn = psi4.core.Wavefunction.build(mol, psi4.core.get_global_option('basis'))\n",
    "mints = psi4.core.MintsHelper(wfn.basisset())\n",
    "\n",
    "# z-component of electric field\n",
    "lam_z = 0.003\n",
    "# Overlap matrix\n",
    "S = np.asarray(mints.ao_overlap())\n",
    "\n",
    "# z-component of Dipole matrix\n",
    "mu_z = np.asarray(mints.ao_dipole()[2])\n",
    "print(\"Mu_z\")\n",
    "print(mu_z)\n",
    "\n",
    "# z-component of quadrupole matrix\n",
    "Q_z = np.asarray(mints.ao_quadrupole()[2])\n",
    "print(\"Q_z\")\n",
    "print(Q_z)\n",
    "\n",
    "# Number of basis Functions & doubly occupied orbitals\n",
    "nbf = S.shape[0]\n",
    "ndocc = wfn.nalpha()\n",
    "\n",
    "print('Number of occupied orbitals: %3d' % (ndocc))\n",
    "print('Number of basis functions: %3d' % (nbf))\n",
    "\n",
    "# Memory check for ERI tensor\n",
    "I_size = (nbf**4) * 8.e-9\n",
    "print('\\nSize of the ERI tensor will be {:4.2f} GB.'.format(I_size))\n",
    "memory_footprint = I_size * 1.5\n",
    "if I_size > numpy_memory:\n",
    "    psi4.core.clean()\n",
    "    raise Exception(\"Estimated memory utilization (%4.2f GB) exceeds allotted memory \\\n",
    "                     limit of %4.2f GB.\" % (memory_footprint, numpy_memory))\n",
    "\n",
    "# Build ERI Tensor\n",
    "I = np.asarray(mints.ao_eri())\n",
    "\n",
    "# Build Pauli-Fierz core Hamiltonian\n",
    "T = np.asarray(mints.ao_kinetic())\n",
    "V = np.asarray(mints.ao_potential())\n",
    "H = T + V \n",
    "H_pf = T + V #+ 0.5 * lam_z**2 * Q_z\n",
    "print(\"difference between ordinary H_core and H_pf_Core\")\n",
    "print(H-H_pf)"
   ]
  },
  {
   "cell_type": "markdown",
   "metadata": {},
   "source": [
    "Test if the molecular dipole integrals contain the nuclear contribution or not.  I"
   ]
  },
  {
   "cell_type": "markdown",
   "metadata": {},
   "source": [
    "The Roothan equations\n",
    "\n",
    "$${\\bf FC} = {\\bf SC\\epsilon}$$\n",
    "\n",
    "are only *pseudo*-eigenvalue equations due to the presence of the overlap matrix **S** on the right hand side of the equation.  Normally, the AO basis set will not be orthonormal, so the overlap matrix **S** will not be unity and therefore cannot be ignored.  Let's check to see whether our AO basis is orthonormal:"
   ]
  },
  {
   "cell_type": "code",
   "execution_count": 15,
   "metadata": {},
   "outputs": [
    {
     "name": "stdout",
     "output_type": "stream",
     "text": [
      "\n",
      "Do we have any hope that our AO basis is orthonormal? False!\n"
     ]
    }
   ],
   "source": [
    "# ==> Inspecting S for AO orthonormality <==\n",
    "hope = np.allclose(S, np.eye(S.shape[0]))\n",
    "print('\\nDo we have any hope that our AO basis is orthonormal? %s!' % (hope))"
   ]
  },
  {
   "cell_type": "markdown",
   "metadata": {},
   "source": [
    "Just as we'd expected -- looks like we can't ignore the AO overlap matrix.  Therefore, the Fock matrix **F** cannot simply be diagonalized to solve for the orbital coefficient matrix **C**.  There is still hope, however!  We can overcome this issue by transforming the AO basis so that all of our basis functions are orthonormal.  In other words, we seek a matrix **A** such that the transformation \n",
    "\n",
    "$${\\bf A}^{\\dagger}{\\bf SA} = {\\bf 1}$$\n",
    "\n",
    "One method of doing this is called *symmetric orthogonalization*, which lets ${\\bf A} = {\\bf S}^{-1/2}$.  Then, \n",
    "\n",
    "$${\\bf A}^{\\dagger}{\\bf SA} = {\\bf S}^{-1/2}{\\bf SS}^{-1/2} = {\\bf S}^{-1/2}{\\bf S}^{1/2} = {\\bf S}^0 = {\\bf 1},$$\n",
    "\n",
    "and we see that this choice for **A** does in fact yield an orthonormal AO basis.  In the cell below, construct this transformation matrix using <span style='font-variant: small-caps'> Psi4</span>'s built-in `Matrix` class member function `power()` just like the following:\n",
    "~~~python\n",
    "A = mints.ao_overlap()\n",
    "A.power(-0.5, 1.e-16)\n",
    "A = np.asarray(A)\n",
    "~~~"
   ]
  },
  {
   "cell_type": "code",
   "execution_count": 16,
   "metadata": {},
   "outputs": [
    {
     "name": "stdout",
     "output_type": "stream",
     "text": [
      "[[ 1.02334447e+00 -1.38894174e-01 -1.59554707e-02  6.61375133e-17\n",
      "   0.00000000e+00 -1.00312373e-03  2.78151136e-02 -1.49475770e-02\n",
      "  -6.06828855e-17  0.00000000e+00]\n",
      " [-1.38894174e-01  1.24505598e+00  2.03637015e-01  3.76129841e-18\n",
      "   0.00000000e+00  2.78151136e-02 -3.48347487e-01  3.38649749e-01\n",
      "  -3.40046764e-17  0.00000000e+00]\n",
      " [-1.59554707e-02  2.03637015e-01  1.18709198e+00 -1.54865004e-17\n",
      "   0.00000000e+00  1.49475770e-02 -3.38649749e-01  2.88670373e-01\n",
      "   5.52420218e-17  0.00000000e+00]\n",
      " [ 6.61375133e-17  3.76129841e-18 -1.54865004e-17  1.02040673e+00\n",
      "   0.00000000e+00 -1.96490459e-17 -2.13457127e-17  6.42487641e-19\n",
      "  -1.18281971e-01  0.00000000e+00]\n",
      " [ 0.00000000e+00  0.00000000e+00  0.00000000e+00  0.00000000e+00\n",
      "   1.02040673e+00  0.00000000e+00  0.00000000e+00  0.00000000e+00\n",
      "   0.00000000e+00 -1.18281971e-01]\n",
      " [-1.00312373e-03  2.78151136e-02  1.49475770e-02 -1.96490459e-17\n",
      "   0.00000000e+00  1.02334447e+00 -1.38894174e-01  1.59554707e-02\n",
      "   2.03655562e-16  0.00000000e+00]\n",
      " [ 2.78151136e-02 -3.48347487e-01 -3.38649749e-01 -2.13457127e-17\n",
      "   0.00000000e+00 -1.38894174e-01  1.24505598e+00 -2.03637015e-01\n",
      "  -6.11371820e-18  0.00000000e+00]\n",
      " [-1.49475770e-02  3.38649749e-01  2.88670373e-01  6.42487641e-19\n",
      "   0.00000000e+00  1.59554707e-02 -2.03637015e-01  1.18709198e+00\n",
      "   4.98645035e-19  0.00000000e+00]\n",
      " [-6.06828855e-17 -3.40046764e-17  5.52420218e-17 -1.18281971e-01\n",
      "   0.00000000e+00  2.03655562e-16 -6.11371820e-18  4.98645035e-19\n",
      "   1.02040673e+00  0.00000000e+00]\n",
      " [ 0.00000000e+00  0.00000000e+00  0.00000000e+00  0.00000000e+00\n",
      "  -1.18281971e-01  0.00000000e+00  0.00000000e+00  0.00000000e+00\n",
      "   0.00000000e+00  1.02040673e+00]]\n",
      "There is a new hope for diagonalization!\n"
     ]
    }
   ],
   "source": [
    "# ==> Construct AO orthogonalization matrix A <==\n",
    "A = mints.ao_overlap()\n",
    "A.power(-0.5, 1.e-16)\n",
    "A = np.asarray(A)\n",
    "\n",
    "print(A)\n",
    "# Check orthonormality\n",
    "S_p = A.dot(S).dot(A)\n",
    "new_hope = np.allclose(S_p, np.eye(S.shape[0]))\n",
    "\n",
    "if new_hope:\n",
    "    print('There is a new hope for diagonalization!')\n",
    "else:\n",
    "    print(\"Whoops...something went wrong. Check that you've correctly built the transformation matrix.\")"
   ]
  },
  {
   "cell_type": "markdown",
   "metadata": {},
   "source": [
    "The drawback of this scheme is that we would now have to either re-compute the ERI and core Hamiltonian tensors in the newly orthogonal AO basis, or transform them using our **A** matrix (both would be overly costly, especially transforming **I**).  On the other hand, substitute ${\\bf C} = {\\bf AC}'$ into the Roothan equations:\n",
    "\n",
    "\\begin{align}\n",
    "{\\bf FAC'} &= {\\bf SAC}'{\\bf \\epsilon}\\\\\n",
    "{\\bf A}^{\\dagger}({\\bf FAC}')&= {\\bf A}^{\\dagger}({\\bf SAC}'){\\bf \\epsilon}\\\\\n",
    "({\\bf A}^{\\dagger}{\\bf FA}){\\bf C}'&= ({\\bf A}^{\\dagger}{\\bf SA}){\\bf C}'{\\bf \\epsilon}\\\\\n",
    "{\\bf F}'{\\bf C}' &= {\\bf 1C}'{\\bf \\epsilon}\\\\\n",
    "{\\bf F}'{\\bf C}' &= {\\bf C}'{\\bf \\epsilon}\\\\\n",
    "\\end{align}\n",
    "\n",
    "Clearly, we have arrived at a canonical eigenvalue equation.  This equation can be solved directly for the transformed orbital coefficient matrix ${\\bf C}'$ by diagonalizing the transformed Fock matrix, ${\\bf F}'$, before transforming ${\\bf C}'$ back into the original AO basis with ${\\bf C} = {\\bf AC}'$.  \n",
    "\n",
    "Before we can get down to the business of using the Fock matrix **F** to compute the RHF energy, we first need to compute the orbital coefficient **C** matrix.  But, before we compute the **C** matrix, we first need to build **F**.  Wait...hold on a second.  Which comes first, **C** or **F**?  Looking at the Roothan equations more closely, we see that that both sides depend on the **C** matrix, since **F** is a function of the orbitals:\n",
    "\n",
    "\n",
    "$${\\bf F}({\\bf C}){\\bf C} = {\\bf SC\\epsilon}\\,;\\;\\;F_{\\mu\\nu} = H_{\\mu\\nu} + 2(\\mu\\,\\nu\\mid\\lambda\\,\\sigma)C_{\\sigma i}C_{\\lambda i} - (\\mu\\,\\lambda\\,\\mid\\nu\\,\\sigma)C_{\\sigma i}C_{\\lambda i}.$$\n",
    "\n",
    "Therefore technically, *neither* **F** nor **C** can come first!  In order to proceed, we instead begin with a *guess* for the Fock matrix, from which we obtain a guess at the **C** matrix.  Without orbital coefficients (and therefore without electron densities), the most logical starting point for obtaining a guess at the Fock matrix is to begin with the only component of **F** that does *not* involve densities: the core Hamiltonian, **H**.  Below, using the NumPy `np.linalg.eigh()` function, obtain coefficient and density matrices using the core guess:\n",
    "\n",
    "1. Obtain ${\\bf F}'$ by transforming the core Hamiltonian with the ${\\bf A}$ matrix\n",
    "2. Diagonalize the transformed Fock matrix for $\\epsilon$ and ${\\bf C}'$\n",
    "3. Use doubly-occupied slice of coefficient matrix to build density matrix"
   ]
  },
  {
   "cell_type": "code",
   "execution_count": 17,
   "metadata": {},
   "outputs": [
    {
     "name": "stdout",
     "output_type": "stream",
     "text": [
      "[[ 1.04746536e+00 -2.51098040e-01 -1.94544006e-01  2.07499082e-16\n",
      "   4.61105540e-16 -1.50821409e-02  1.59988037e-01 -9.78351389e-02\n",
      "  -2.98969693e-16 -4.10108422e-16]\n",
      " [-2.51098040e-01  1.49491629e+00  1.14923399e+00 -8.65114382e-16\n",
      "  -2.58659548e-15  1.59988037e-01 -1.25157604e+00  8.59102777e-01\n",
      "   1.24769110e-15  2.04598772e-15]\n",
      " [-1.94544006e-01  1.14923399e+00  9.07349707e-01 -2.22862906e-15\n",
      "   3.07153085e-16  9.78351389e-02 -8.59102777e-01  5.61287945e-01\n",
      "   1.94460491e-15 -5.66631292e-16]\n",
      " [ 2.07499082e-16 -8.65114382e-16 -2.22862906e-15  5.96810334e-01\n",
      "  -2.95042651e-01 -7.10330447e-16  3.00546678e-15 -6.78215612e-16\n",
      "   2.17018748e-01  2.95042651e-01]\n",
      " [ 4.61105540e-16 -2.58659548e-15  3.07153085e-16 -2.95042651e-01\n",
      "   8.65324728e-01  3.08960000e-16 -7.04509388e-16 -2.83960987e-15\n",
      "   2.95042651e-01 -5.14956463e-02]\n",
      " [-1.50821409e-02  1.59988037e-01  9.78351389e-02 -7.10330447e-16\n",
      "   3.08960000e-16  1.04746536e+00 -2.51098040e-01  1.94544006e-01\n",
      "   9.14200405e-16  1.59695200e-16]\n",
      " [ 1.59988037e-01 -1.25157604e+00 -8.59102777e-01  3.00546678e-15\n",
      "  -7.04509388e-16 -2.51098040e-01  1.49491629e+00 -1.14923399e+00\n",
      "  -2.53316556e-15 -7.68967707e-16]\n",
      " [-9.78351389e-02  8.59102777e-01  5.61287945e-01 -6.78215612e-16\n",
      "  -2.83960987e-15  1.94544006e-01 -1.14923399e+00  9.07349707e-01\n",
      "   1.16757439e-15  7.97302210e-16]\n",
      " [-2.98969693e-16  1.24769110e-15  1.94460491e-15  2.17018748e-01\n",
      "   2.95042651e-01  9.14200405e-16 -2.53316556e-15  1.16757439e-15\n",
      "   5.96810334e-01 -2.95042651e-01]\n",
      " [-4.10108422e-16  2.04598772e-15 -5.66631292e-16  2.95042651e-01\n",
      "  -5.14956463e-02  1.59695200e-16 -7.68967707e-16  7.97302210e-16\n",
      "  -2.95042651e-01  8.65324728e-01]]\n"
     ]
    }
   ],
   "source": [
    "# ==> Compute C & D matrices with CORE guess <==\n",
    "# Transformed Fock matrix\n",
    "F_p = A.dot(H).dot(A)\n",
    "\n",
    "# Diagonalize F_p for eigenvalues & eigenvectors with NumPy\n",
    "e, C_p = np.linalg.eigh(F_p)\n",
    "\n",
    "\n",
    "# Transform C_p back into AO basis\n",
    "C = A.dot(C_p)\n",
    "#print(C)\n",
    "# Grab occupied orbitals\n",
    "C_occ = C[:, :ndocc]\n",
    "\n",
    "# Build density matrix from occupied orbitals\n",
    "D = np.einsum('pi,qi->pq', C_occ, C_occ, optimize=True)\n",
    "print(D)"
   ]
  },
  {
   "cell_type": "markdown",
   "metadata": {},
   "source": [
    "The final quantity we need to compute before we can proceed with our implementation of the SCF procedure is the Born-Oppenheimer nuclear repulsion energy, $E^{\\rm BO}_{\\rm nuc}$.  We could use the expression given above in $\\S$1, however we can also obtain this value directly from <span style='font-variant: small-caps'> Psi4</span>'s `Molecule` class.  In the cell below, compute the nuclear repulsion energy using either method. "
   ]
  },
  {
   "cell_type": "code",
   "execution_count": 18,
   "metadata": {},
   "outputs": [],
   "source": [
    "# ==> Nuclear Repulsion Energy <==\n",
    "E_nuc = mol.nuclear_repulsion_energy()"
   ]
  },
  {
   "cell_type": "markdown",
   "metadata": {},
   "source": [
    "Within each SCF iteration, we'll have to perform a number of tensor contractions when building the Fock matrix, computing the total RHF energy, and performing several transformations.  Since the computationl expense of this process is related to the number of unique indices, the most intensive step of computing the total electronic energy will be performing the four-index contractions corresponding to building Coulomb and Exchange matrices **J** and **K**, with elements\n",
    "\n",
    "\\begin{align}\n",
    "J[D_{\\lambda\\sigma}]_{\\mu\\nu} &= (\\mu\\,\\nu\\mid\\lambda\\,\\sigma)D_{\\lambda\\sigma}\\\\\n",
    "K[D_{\\lambda\\sigma}]_{\\mu\\nu} &= (\\mu\\,\\lambda\\mid\\nu\\,\\sigma)D_{\\lambda\\sigma},\n",
    "\\end{align}\n",
    "\n",
    "when building the Fock matrix.  Fortunately, once **J** and **K** have been built, the Fock matrix may be computed as a simple matrix addition, instead of element-wise:\n",
    "\n",
    "$$ {\\bf F} = {\\bf H} + 2{\\bf J} - {\\bf K}.$$\n",
    "\n",
    "Formation of the **J** and **K** matrices will be the most expensive step of the RHF procedure, scaling with respect to the number of AOs as ${\\cal O}(N^4)$.  Strategies for building these marices efficiently, as well as different methods for handling these tensor contractions, will be discussed in greater detail in tutorials 2c and 2d in this module, respectively. \n",
    "\n",
    "Let's now write our SCF iterations according to the following algorithm:\n",
    "\n",
    "#### Algorithm 1: SCF Iteration\n",
    "for scf_iter less than MAXITER, do:\n",
    "1. Build Fock matrix\n",
    "    - Build the Coulomb matrix **J** \n",
    "    - Build the Exchange matrix **K** \n",
    "    - Form the Fock matrix\n",
    "2. RHF Energy\n",
    "    - Compute total RHF energy   \n",
    "    - If change in RHF energy less than E_conv, break    \n",
    "    - Save latest RHF energy as E_old\n",
    "3. Compute new orbital guess\n",
    "    - Transform Fock matrix to orthonormal AO basis    \n",
    "    - Diagonalize ${\\bf F}'$ for $\\epsilon$ and ${\\bf C}'$    \n",
    "    - Back transform ${\\bf C}'$ to AO basis    \n",
    "    - Form **D** from occupied orbital slice of **C**\n"
   ]
  },
  {
   "cell_type": "code",
   "execution_count": 19,
   "metadata": {},
   "outputs": [
    {
     "name": "stdout",
     "output_type": "stream",
     "text": [
      "==> Starting SCF Iterations <==\n",
      "\n",
      "SCF Iteration   1: Energy = -104.5262281210222852 dE = -1.04526E+02\n",
      "SCF Iteration   2: Energy = -106.8578024368877664 dE = -2.33157E+00\n",
      "SCF Iteration   3: Energy = -106.8808499632226585 dE = -2.30475E-02\n",
      "SCF Iteration   4: Energy = -106.8815432793280706 dE = -6.93316E-04\n",
      "SCF Iteration   5: Energy = -106.8815692129482500 dE = -2.59336E-05\n",
      "SCF Iteration   6: Energy = -106.8815707498616803 dE = -1.53691E-06\n",
      "SCF Iteration   7: Energy = -106.8815708894910017 dE = -1.39629E-07\n",
      "\n",
      "SCF converged.\n",
      "Final RHF Energy: -106.88157089 [Eh]\n"
     ]
    }
   ],
   "source": [
    "# ==> SCF Iterations <==\n",
    "# Pre-iteration energy declarations\n",
    "SCF_E = 0.0\n",
    "E_old = 0.0\n",
    "\n",
    "print('==> Starting SCF Iterations <==\\n')\n",
    "\n",
    "# Begin Iterations\n",
    "for scf_iter in range(1, MAXITER + 1):\n",
    "    # Build Fock matrix\n",
    "    # Canonical HF J and K matrices\n",
    "    J = np.einsum('pqrs,rs->pq', I, D, optimize=True)\n",
    "    K = np.einsum('prqs,rs->pq', I, D, optimize=True)\n",
    "    # Pauli-Fierz dipole-dipole matrices\n",
    "    # M = mu_uv,ls * D_ls\n",
    "    M = np.einsum('pq,rs,rs->pq', mu_z, mu_z, D)\n",
    "    # N = mu_ul,vs * D_ls\n",
    "    N = np.einsum('pr,qs,rs->pq', mu_z, mu_z, D)\n",
    "    F = H + 2*J - K #+ lam_z**2 * M - 0.5 * lam_z**2 * N\n",
    "    \n",
    "    # Compute RHF energy\n",
    "    SCF_E = np.einsum('pq,pq->', (H + F), D, optimize=True) + E_nuc\n",
    "    print('SCF Iteration %3d: Energy = %4.16f dE = % 1.5E' % (scf_iter, SCF_E, SCF_E - E_old))\n",
    "    \n",
    "    # SCF Converged?\n",
    "    if (abs(SCF_E - E_old) < E_conv):\n",
    "        break\n",
    "    E_old = SCF_E\n",
    "    \n",
    "    # Compute new orbital guess\n",
    "    F_p =  A.dot(F).dot(A)\n",
    "    e, C_p = np.linalg.eigh(F_p)\n",
    "    C = A.dot(C_p)\n",
    "    C_occ = C[:, :ndocc]\n",
    "    D = np.einsum('pi,qi->pq', C_occ, C_occ, optimize=True)\n",
    "    \n",
    "    # MAXITER exceeded?\n",
    "    if (scf_iter == MAXITER):\n",
    "        psi4.core.clean()\n",
    "        raise Exception(\"Maximum number of SCF iterations exceeded.\")\n",
    "\n",
    "# Post iterations\n",
    "print('\\nSCF converged.')\n",
    "print('Final RHF Energy: %.8f [Eh]' % (SCF_E))"
   ]
  },
  {
   "cell_type": "markdown",
   "metadata": {},
   "source": [
    "Congratulations! You've written your very own Restricted Hartree-Fock program!  Finally, let's check your final RHF energy against <span style='font-variant: small-caps'> Psi4</span>:"
   ]
  },
  {
   "cell_type": "code",
   "execution_count": 20,
   "metadata": {},
   "outputs": [
    {
     "name": "stdout",
     "output_type": "stream",
     "text": [
      " Normal SCF Energy -107.48778392783979\n",
      " Pauli-Fierz SCF Energy -106.881570889491\n",
      "    SCF Energy............................................................................FAILED\n"
     ]
    },
    {
     "ename": "TestComparisonError",
     "evalue": "\tSCF Energy: computed value (-106.8815709) does not match (-107.4877839) to atol=1e-05 by difference (0.6062130).",
     "output_type": "error",
     "traceback": [
      "\u001b[0;31m---------------------------------------------------------------------------\u001b[0m",
      "\u001b[0;31mTestComparisonError\u001b[0m                       Traceback (most recent call last)",
      "\u001b[0;32m<ipython-input-20-e11dc216594e>\u001b[0m in \u001b[0;36m<module>\u001b[0;34m\u001b[0m\n\u001b[1;32m      3\u001b[0m \u001b[0mprint\u001b[0m\u001b[0;34m(\u001b[0m\u001b[0;34m\" Normal SCF Energy\"\u001b[0m\u001b[0;34m,\u001b[0m \u001b[0mSCF_E_psi\u001b[0m\u001b[0;34m)\u001b[0m\u001b[0;34m\u001b[0m\u001b[0;34m\u001b[0m\u001b[0m\n\u001b[1;32m      4\u001b[0m \u001b[0mprint\u001b[0m\u001b[0;34m(\u001b[0m\u001b[0;34m\" Pauli-Fierz SCF Energy\"\u001b[0m\u001b[0;34m,\u001b[0m \u001b[0mSCF_E\u001b[0m\u001b[0;34m)\u001b[0m\u001b[0;34m\u001b[0m\u001b[0;34m\u001b[0m\u001b[0m\n\u001b[0;32m----> 5\u001b[0;31m \u001b[0mpsi4\u001b[0m\u001b[0;34m.\u001b[0m\u001b[0mcompare_values\u001b[0m\u001b[0;34m(\u001b[0m\u001b[0mSCF_E_psi\u001b[0m\u001b[0;34m,\u001b[0m \u001b[0mSCF_E\u001b[0m\u001b[0;34m,\u001b[0m \u001b[0;36m5\u001b[0m\u001b[0;34m,\u001b[0m \u001b[0;34m'SCF Energy'\u001b[0m\u001b[0;34m)\u001b[0m\u001b[0;34m\u001b[0m\u001b[0;34m\u001b[0m\u001b[0m\n\u001b[0m",
      "\u001b[0;32m/opt/anaconda3/lib/python3.8/site-packages/psi4/driver/qcdb/testing.py\u001b[0m in \u001b[0;36m_mergedapis_compare_values\u001b[0;34m(expected, computed, *args, **kwargs)\u001b[0m\n\u001b[1;32m    102\u001b[0m \u001b[0;34m\u001b[0m\u001b[0m\n\u001b[1;32m    103\u001b[0m     \u001b[0m_merge_psi4_qcel_apis\u001b[0m\u001b[0;34m(\u001b[0m\u001b[0margs\u001b[0m\u001b[0;34m,\u001b[0m \u001b[0mkwargs\u001b[0m\u001b[0;34m)\u001b[0m\u001b[0;34m\u001b[0m\u001b[0;34m\u001b[0m\u001b[0m\n\u001b[0;32m--> 104\u001b[0;31m     \u001b[0;32mreturn\u001b[0m \u001b[0mqcel\u001b[0m\u001b[0;34m.\u001b[0m\u001b[0mtesting\u001b[0m\u001b[0;34m.\u001b[0m\u001b[0mcompare_values\u001b[0m\u001b[0;34m(\u001b[0m\u001b[0mexpected\u001b[0m\u001b[0;34m,\u001b[0m \u001b[0mcomputed\u001b[0m\u001b[0;34m,\u001b[0m \u001b[0;34m**\u001b[0m\u001b[0mkwargs\u001b[0m\u001b[0;34m)\u001b[0m\u001b[0;34m\u001b[0m\u001b[0;34m\u001b[0m\u001b[0m\n\u001b[0m\u001b[1;32m    105\u001b[0m \u001b[0;34m\u001b[0m\u001b[0m\n\u001b[1;32m    106\u001b[0m \u001b[0;34m\u001b[0m\u001b[0m\n",
      "\u001b[0;32m/opt/anaconda3/lib/python3.8/site-packages/qcelemental/testing.py\u001b[0m in \u001b[0;36mcompare_values\u001b[0;34m(expected, computed, label, atol, rtol, equal_nan, equal_phase, passnone, quiet, return_message, return_handler)\u001b[0m\n\u001b[1;32m    169\u001b[0m             )\n\u001b[1;32m    170\u001b[0m \u001b[0;34m\u001b[0m\u001b[0m\n\u001b[0;32m--> 171\u001b[0;31m     \u001b[0;32mreturn\u001b[0m \u001b[0mreturn_handler\u001b[0m\u001b[0;34m(\u001b[0m\u001b[0mallclose\u001b[0m\u001b[0;34m,\u001b[0m \u001b[0mlabel\u001b[0m\u001b[0;34m,\u001b[0m \u001b[0mmessage\u001b[0m\u001b[0;34m,\u001b[0m \u001b[0mreturn_message\u001b[0m\u001b[0;34m,\u001b[0m \u001b[0mquiet\u001b[0m\u001b[0;34m)\u001b[0m\u001b[0;34m\u001b[0m\u001b[0;34m\u001b[0m\u001b[0m\n\u001b[0m\u001b[1;32m    172\u001b[0m \u001b[0;34m\u001b[0m\u001b[0m\n\u001b[1;32m    173\u001b[0m \u001b[0;34m\u001b[0m\u001b[0m\n",
      "\u001b[0;32m/opt/anaconda3/lib/python3.8/site-packages/psi4/driver/p4util/testing.py\u001b[0m in \u001b[0;36m_psi4_true_raise_handler\u001b[0;34m(passfail, label, message, return_message, quiet)\u001b[0m\n\u001b[1;32m    187\u001b[0m         \u001b[0mprint\u001b[0m\u001b[0;34m(\u001b[0m\u001b[0;34mf'    {label:.<{width}}FAILED'\u001b[0m\u001b[0;34m)\u001b[0m\u001b[0;34m\u001b[0m\u001b[0;34m\u001b[0m\u001b[0m\n\u001b[1;32m    188\u001b[0m         \u001b[0msys\u001b[0m\u001b[0;34m.\u001b[0m\u001b[0mstdout\u001b[0m\u001b[0;34m.\u001b[0m\u001b[0mflush\u001b[0m\u001b[0;34m(\u001b[0m\u001b[0;34m)\u001b[0m\u001b[0;34m\u001b[0m\u001b[0;34m\u001b[0m\u001b[0m\n\u001b[0;32m--> 189\u001b[0;31m         \u001b[0;32mraise\u001b[0m \u001b[0mTestComparisonError\u001b[0m\u001b[0;34m(\u001b[0m\u001b[0mmessage\u001b[0m\u001b[0;34m)\u001b[0m\u001b[0;34m\u001b[0m\u001b[0;34m\u001b[0m\u001b[0m\n\u001b[0m\u001b[1;32m    190\u001b[0m \u001b[0;34m\u001b[0m\u001b[0m\n\u001b[1;32m    191\u001b[0m     \u001b[0;32mreturn\u001b[0m \u001b[0mpassfail\u001b[0m\u001b[0;34m\u001b[0m\u001b[0;34m\u001b[0m\u001b[0m\n",
      "\u001b[0;31mTestComparisonError\u001b[0m: \tSCF Energy: computed value (-106.8815709) does not match (-107.4877839) to atol=1e-05 by difference (0.6062130)."
     ]
    }
   ],
   "source": [
    "# Compare to Psi4\n",
    "SCF_E_psi = psi4.energy('SCF')\n",
    "print(\" Normal SCF Energy\", SCF_E_psi)\n",
    "print(\" Pauli-Fierz SCF Energy\", SCF_E)\n",
    "psi4.compare_values(SCF_E_psi, SCF_E, 5, 'SCF Energy')"
   ]
  },
  {
   "cell_type": "markdown",
   "metadata": {},
   "source": [
    "## References\n",
    "1. [[Szabo:1996](http://store.doverpublications.com/0486691861.html)] A. Szabo and N. S. Ostlund, *Modern Quantum Chemistry*, Introduction to Advanced Electronic Structure Theory. Courier Corporation, 1996.\n",
    "2. [[Levine:2000](https://books.google.com/books?id=80RpQgAACAAJ&dq=levine%20quantum%20chemistry%205th%20edition&source=gbs_book_other_versions)] I. N. Levine, *Quantum Chemistry*. Prentice-Hall, New Jersey, 5th edition, 2000.\n",
    "3. [[Helgaker:2000](https://books.google.com/books?id=lNVLBAAAQBAJ&pg=PT1067&dq=helgaker+molecular+electronic+structure+theory&hl=en&sa=X&ved=0ahUKEwj37I7MkofUAhWG5SYKHaoPAAkQ6AEIKDAA#v=onepage&q=helgaker%20molecular%20electronic%20structure%20theory&f=false)] T. Helgaker, P. Jorgensen, and J. Olsen, *Molecular Electronic Structure Theory*, John Wiley & Sons Inc, 2000."
   ]
  }
 ],
 "metadata": {
  "kernelspec": {
   "display_name": "Python 3",
   "language": "python",
   "name": "python3"
  },
  "language_info": {
   "codemirror_mode": {
    "name": "ipython",
    "version": 3
   },
   "file_extension": ".py",
   "mimetype": "text/x-python",
   "name": "python",
   "nbconvert_exporter": "python",
   "pygments_lexer": "ipython3",
   "version": "3.8.5"
  },
  "latex_envs": {
   "LaTeX_envs_menu_present": true,
   "bibliofile": "biblio.bib",
   "cite_by": "apalike",
   "current_citInitial": 1,
   "eqLabelWithNumbers": true,
   "eqNumInitial": 1,
   "labels_anchors": false,
   "latex_user_defs": false,
   "report_style_numbering": false,
   "user_envs_cfg": false
  }
 },
 "nbformat": 4,
 "nbformat_minor": 1
}
